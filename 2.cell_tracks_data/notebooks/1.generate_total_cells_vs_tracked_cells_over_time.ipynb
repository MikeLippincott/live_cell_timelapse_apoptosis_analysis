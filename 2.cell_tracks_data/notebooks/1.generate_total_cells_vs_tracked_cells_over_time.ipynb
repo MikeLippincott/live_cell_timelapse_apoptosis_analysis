{
 "cells": [
  {
   "cell_type": "code",
   "execution_count": 1,
   "metadata": {},
   "outputs": [],
   "source": [
    "import pathlib\n",
    "\n",
    "import pandas as pd"
   ]
  },
  {
   "cell_type": "code",
   "execution_count": 2,
   "metadata": {},
   "outputs": [
    {
     "name": "stdout",
     "output_type": "stream",
     "text": [
      "(1560, 4)\n"
     ]
    },
    {
     "data": {
      "text/html": [
       "<div>\n",
       "<style scoped>\n",
       "    .dataframe tbody tr th:only-of-type {\n",
       "        vertical-align: middle;\n",
       "    }\n",
       "\n",
       "    .dataframe tbody tr th {\n",
       "        vertical-align: top;\n",
       "    }\n",
       "\n",
       "    .dataframe thead th {\n",
       "        text-align: right;\n",
       "    }\n",
       "</style>\n",
       "<table border=\"1\" class=\"dataframe\">\n",
       "  <thead>\n",
       "    <tr style=\"text-align: right;\">\n",
       "      <th></th>\n",
       "      <th>Metadata_time</th>\n",
       "      <th>well_fov</th>\n",
       "      <th>total_CP_cells</th>\n",
       "      <th>total_annotated_cells</th>\n",
       "    </tr>\n",
       "  </thead>\n",
       "  <tbody>\n",
       "    <tr>\n",
       "      <th>0</th>\n",
       "      <td>0.0</td>\n",
       "      <td>C-02_F0001</td>\n",
       "      <td>180</td>\n",
       "      <td>30</td>\n",
       "    </tr>\n",
       "    <tr>\n",
       "      <th>1</th>\n",
       "      <td>1.0</td>\n",
       "      <td>C-02_F0001</td>\n",
       "      <td>178</td>\n",
       "      <td>134</td>\n",
       "    </tr>\n",
       "    <tr>\n",
       "      <th>2</th>\n",
       "      <td>2.0</td>\n",
       "      <td>C-02_F0001</td>\n",
       "      <td>176</td>\n",
       "      <td>144</td>\n",
       "    </tr>\n",
       "    <tr>\n",
       "      <th>3</th>\n",
       "      <td>3.0</td>\n",
       "      <td>C-02_F0001</td>\n",
       "      <td>175</td>\n",
       "      <td>139</td>\n",
       "    </tr>\n",
       "    <tr>\n",
       "      <th>4</th>\n",
       "      <td>4.0</td>\n",
       "      <td>C-02_F0001</td>\n",
       "      <td>174</td>\n",
       "      <td>135</td>\n",
       "    </tr>\n",
       "  </tbody>\n",
       "</table>\n",
       "</div>"
      ],
      "text/plain": [
       "   Metadata_time    well_fov  total_CP_cells  total_annotated_cells\n",
       "0            0.0  C-02_F0001             180                     30\n",
       "1            1.0  C-02_F0001             178                    134\n",
       "2            2.0  C-02_F0001             176                    144\n",
       "3            3.0  C-02_F0001             175                    139\n",
       "4            4.0  C-02_F0001             174                    135"
      ]
     },
     "execution_count": 2,
     "metadata": {},
     "output_type": "execute_result"
    }
   ],
   "source": [
    "stats_path = pathlib.Path(\"../../data/cell_tracks_data\").resolve(strict=True)\n",
    "output_combined_stats_file_path = pathlib.Path(\n",
    "    \"../data/combined_stats.parquet\"\n",
    ").resolve()\n",
    "output_combined_stats_file_path.parent.mkdir(parents=True, exist_ok=True)\n",
    "# get the list of all files in the directory\n",
    "files = sorted(stats_path.glob(\"*_stats.parquet\"))\n",
    "stats_df = pd.concat([pd.read_parquet(f) for f in files], ignore_index=True)\n",
    "stats_df.to_parquet(output_combined_stats_file_path, index=False)\n",
    "print(stats_df.shape)\n",
    "stats_df.head()"
   ]
  }
 ],
 "metadata": {
  "kernelspec": {
   "display_name": "timelapse_analaysis_env",
   "language": "python",
   "name": "python3"
  },
  "language_info": {
   "codemirror_mode": {
    "name": "ipython",
    "version": 3
   },
   "file_extension": ".py",
   "mimetype": "text/x-python",
   "name": "python",
   "nbconvert_exporter": "python",
   "pygments_lexer": "ipython3",
   "version": "3.11.11"
  }
 },
 "nbformat": 4,
 "nbformat_minor": 2
}
