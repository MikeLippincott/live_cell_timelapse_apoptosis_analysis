{
 "cells": [
  {
   "cell_type": "code",
   "execution_count": 1,
   "metadata": {
    "vscode": {
     "languageId": "r"
    }
   },
   "outputs": [],
   "source": [
    "suppressPackageStartupMessages(suppressWarnings({\n",
    "    library(\"ggplot2\")\n",
    "    library(dplyr)\n",
    "    library(tidyr)\n",
    "    library(ComplexHeatmap)\n",
    "    library(tibble)\n",
    "    library(RColorBrewer)\n",
    "    library(circlize)\n",
    "}))\n"
   ]
  },
  {
   "cell_type": "code",
   "execution_count": 2,
   "metadata": {
    "vscode": {
     "languageId": "r"
    }
   },
   "outputs": [],
   "source": [
    "# show all columns\n",
    "options(repr.matrix.max.cols=200, repr.matrix.max.rows=100)"
   ]
  },
  {
   "cell_type": "code",
   "execution_count": 3,
   "metadata": {
    "vscode": {
     "languageId": "r"
    }
   },
   "outputs": [
    {
     "data": {
      "text/html": [
       "<table class=\"dataframe\">\n",
       "<caption>A tibble: 1 × 36</caption>\n",
       "<thead>\n",
       "\t<tr><th scope=col>Metadata_plate</th><th scope=col>Metadata_Well</th><th scope=col>Metadata_number_of_singlecells</th><th scope=col>Metadata_compound</th><th scope=col>Metadata_dose</th><th scope=col>Metadata_control</th><th scope=col>Metadata_ImageNumber</th><th scope=col>Metadata_FOV</th><th scope=col>Metadata_Time</th><th scope=col>Metadata_Cells_Number_Object_Number</th><th scope=col>Metadata_Cytoplasm_Parent_Cells</th><th scope=col>Metadata_Cytoplasm_Parent_Nuclei</th><th scope=col>Metadata_ImageNumber_1</th><th scope=col>Metadata_ImageNumber_2</th><th scope=col>Metadata_ImageNumber_3</th><th scope=col>Metadata_Nuclei_Number_Object_Number</th><th scope=col>Metadata_Image_FileName_CL_488_1</th><th scope=col>Metadata_Image_FileName_CL_488_2</th><th scope=col>Metadata_Image_FileName_CL_561</th><th scope=col>Metadata_Image_FileName_DNA</th><th scope=col>Metadata_Image_PathName_CL_488_2</th><th scope=col>Metadata_Image_PathName_CL_561</th><th scope=col>Metadata_Nuclei_Location_Center_X</th><th scope=col>Metadata_Nuclei_Location_Center_Y</th><th scope=col>Metadata_coordinates_x</th><th scope=col>Metadata_track_id</th><th scope=col>Metadata_t</th><th scope=col>Metadata_y</th><th scope=col>Metadata_x</th><th scope=col>Metadata_id</th><th scope=col>Metadata_parent_track_id</th><th scope=col>Metadata_parent_id</th><th scope=col>Metadata_coordinates_y</th><th scope=col>Metadata_distance</th><th scope=col>Metadata_image_path</th><th scope=col>unique_cell</th></tr>\n",
       "\t<tr><th scope=col>&lt;int&gt;</th><th scope=col>&lt;chr&gt;</th><th scope=col>&lt;int&gt;</th><th scope=col>&lt;chr&gt;</th><th scope=col>&lt;chr&gt;</th><th scope=col>&lt;chr&gt;</th><th scope=col>&lt;chr&gt;</th><th scope=col>&lt;chr&gt;</th><th scope=col>&lt;chr&gt;</th><th scope=col>&lt;int&gt;</th><th scope=col>&lt;int&gt;</th><th scope=col>&lt;int&gt;</th><th scope=col>&lt;int&gt;</th><th scope=col>&lt;int&gt;</th><th scope=col>&lt;dbl&gt;</th><th scope=col>&lt;chr&gt;</th><th scope=col>&lt;chr&gt;</th><th scope=col>&lt;chr&gt;</th><th scope=col>&lt;chr&gt;</th><th scope=col>&lt;chr&gt;</th><th scope=col>&lt;chr&gt;</th><th scope=col>&lt;chr&gt;</th><th scope=col>&lt;dbl&gt;</th><th scope=col>&lt;dbl&gt;</th><th scope=col>&lt;list&lt;double&gt;&gt;</th><th scope=col>&lt;int&gt;</th><th scope=col>&lt;dbl&gt;</th><th scope=col>&lt;dbl&gt;</th><th scope=col>&lt;dbl&gt;</th><th scope=col>&lt;dbl&gt;</th><th scope=col>&lt;int&gt;</th><th scope=col>&lt;dbl&gt;</th><th scope=col>&lt;list&lt;double&gt;&gt;</th><th scope=col>&lt;dbl&gt;</th><th scope=col>&lt;chr&gt;</th><th scope=col>&lt;chr&gt;</th></tr>\n",
       "</thead>\n",
       "<tbody>\n",
       "\t<tr><td>1</td><td>C-02</td><td>180</td><td>Staurosporine</td><td>0.0</td><td>negative</td><td>1</td><td>0001</td><td>0.0</td><td>101</td><td>101</td><td>100</td><td>1</td><td>1</td><td>1</td><td>100.0</td><td>C-02_F0001_T0001_Z0001_C02_illumcorrect.tiff</td><td>C-02_F0001_T0001_Z0001_C03_illumcorrect.tiff</td><td>C-02_F0001_T0001_Z0001_C04_illumcorrect.tiff</td><td>C-02_F0001_T0001_Z0001_C01_illumcorrect.tiff</td><td>/gpfs/alpine1/scratch/mlippincott@xsede.org/live_cell_timelapse_apoptosis/2.cellprofiler_ic_processing/illum_directory/timelapse/20231017ChromaLive_6hr_4ch_MaxIP_C-02_F0001</td><td>/gpfs/alpine1/scratch/mlippincott@xsede.org/live_cell_timelapse_apoptosis/2.cellprofiler_ic_processing/illum_directory/timelapse/20231017ChromaLive_6hr_4ch_MaxIP_C-02_F0001</td><td>1583.286</td><td>1078.899</td><td>1583.286, 1078.899</td><td>17</td><td>0</td><td>1079</td><td>1583</td><td>1000096</td><td>-1</td><td>-1</td><td>1583, 1079</td><td>0.3037024</td><td>../0.pre-process_images/data/processed_images/sc_crops/C-02_F0001_time_0.0_image_number_1_cell_number_100.0/C-02_F0001_T0001_Z0001_C01_illumcorrectimage_number_1_cell_number_100.0_crop.tiff</td><td>17_C-02_0001_0.0</td></tr>\n",
       "</tbody>\n",
       "</table>\n"
      ],
      "text/latex": [
       "A tibble: 1 × 36\n",
       "\\begin{tabular}{llllllllllllllllllllllllllllllllllll}\n",
       " Metadata\\_plate & Metadata\\_Well & Metadata\\_number\\_of\\_singlecells & Metadata\\_compound & Metadata\\_dose & Metadata\\_control & Metadata\\_ImageNumber & Metadata\\_FOV & Metadata\\_Time & Metadata\\_Cells\\_Number\\_Object\\_Number & Metadata\\_Cytoplasm\\_Parent\\_Cells & Metadata\\_Cytoplasm\\_Parent\\_Nuclei & Metadata\\_ImageNumber\\_1 & Metadata\\_ImageNumber\\_2 & Metadata\\_ImageNumber\\_3 & Metadata\\_Nuclei\\_Number\\_Object\\_Number & Metadata\\_Image\\_FileName\\_CL\\_488\\_1 & Metadata\\_Image\\_FileName\\_CL\\_488\\_2 & Metadata\\_Image\\_FileName\\_CL\\_561 & Metadata\\_Image\\_FileName\\_DNA & Metadata\\_Image\\_PathName\\_CL\\_488\\_2 & Metadata\\_Image\\_PathName\\_CL\\_561 & Metadata\\_Nuclei\\_Location\\_Center\\_X & Metadata\\_Nuclei\\_Location\\_Center\\_Y & Metadata\\_coordinates\\_x & Metadata\\_track\\_id & Metadata\\_t & Metadata\\_y & Metadata\\_x & Metadata\\_id & Metadata\\_parent\\_track\\_id & Metadata\\_parent\\_id & Metadata\\_coordinates\\_y & Metadata\\_distance & Metadata\\_image\\_path & unique\\_cell\\\\\n",
       " <int> & <chr> & <int> & <chr> & <chr> & <chr> & <chr> & <chr> & <chr> & <int> & <int> & <int> & <int> & <int> & <dbl> & <chr> & <chr> & <chr> & <chr> & <chr> & <chr> & <chr> & <dbl> & <dbl> & <list<double>> & <int> & <dbl> & <dbl> & <dbl> & <dbl> & <int> & <dbl> & <list<double>> & <dbl> & <chr> & <chr>\\\\\n",
       "\\hline\n",
       "\t 1 & C-02 & 180 & Staurosporine & 0.0 & negative & 1 & 0001 & 0.0 & 101 & 101 & 100 & 1 & 1 & 1 & 100.0 & C-02\\_F0001\\_T0001\\_Z0001\\_C02\\_illumcorrect.tiff & C-02\\_F0001\\_T0001\\_Z0001\\_C03\\_illumcorrect.tiff & C-02\\_F0001\\_T0001\\_Z0001\\_C04\\_illumcorrect.tiff & C-02\\_F0001\\_T0001\\_Z0001\\_C01\\_illumcorrect.tiff & /gpfs/alpine1/scratch/mlippincott@xsede.org/live\\_cell\\_timelapse\\_apoptosis/2.cellprofiler\\_ic\\_processing/illum\\_directory/timelapse/20231017ChromaLive\\_6hr\\_4ch\\_MaxIP\\_C-02\\_F0001 & /gpfs/alpine1/scratch/mlippincott@xsede.org/live\\_cell\\_timelapse\\_apoptosis/2.cellprofiler\\_ic\\_processing/illum\\_directory/timelapse/20231017ChromaLive\\_6hr\\_4ch\\_MaxIP\\_C-02\\_F0001 & 1583.286 & 1078.899 & 1583.286, 1078.899 & 17 & 0 & 1079 & 1583 & 1000096 & -1 & -1 & 1583, 1079 & 0.3037024 & ../0.pre-process\\_images/data/processed\\_images/sc\\_crops/C-02\\_F0001\\_time\\_0.0\\_image\\_number\\_1\\_cell\\_number\\_100.0/C-02\\_F0001\\_T0001\\_Z0001\\_C01\\_illumcorrectimage\\_number\\_1\\_cell\\_number\\_100.0\\_crop.tiff & 17\\_C-02\\_0001\\_0.0\\\\\n",
       "\\end{tabular}\n"
      ],
      "text/markdown": [
       "\n",
       "A tibble: 1 × 36\n",
       "\n",
       "| Metadata_plate &lt;int&gt; | Metadata_Well &lt;chr&gt; | Metadata_number_of_singlecells &lt;int&gt; | Metadata_compound &lt;chr&gt; | Metadata_dose &lt;chr&gt; | Metadata_control &lt;chr&gt; | Metadata_ImageNumber &lt;chr&gt; | Metadata_FOV &lt;chr&gt; | Metadata_Time &lt;chr&gt; | Metadata_Cells_Number_Object_Number &lt;int&gt; | Metadata_Cytoplasm_Parent_Cells &lt;int&gt; | Metadata_Cytoplasm_Parent_Nuclei &lt;int&gt; | Metadata_ImageNumber_1 &lt;int&gt; | Metadata_ImageNumber_2 &lt;int&gt; | Metadata_ImageNumber_3 &lt;dbl&gt; | Metadata_Nuclei_Number_Object_Number &lt;chr&gt; | Metadata_Image_FileName_CL_488_1 &lt;chr&gt; | Metadata_Image_FileName_CL_488_2 &lt;chr&gt; | Metadata_Image_FileName_CL_561 &lt;chr&gt; | Metadata_Image_FileName_DNA &lt;chr&gt; | Metadata_Image_PathName_CL_488_2 &lt;chr&gt; | Metadata_Image_PathName_CL_561 &lt;chr&gt; | Metadata_Nuclei_Location_Center_X &lt;dbl&gt; | Metadata_Nuclei_Location_Center_Y &lt;dbl&gt; | Metadata_coordinates_x &lt;list&lt;double&gt;&gt; | Metadata_track_id &lt;int&gt; | Metadata_t &lt;dbl&gt; | Metadata_y &lt;dbl&gt; | Metadata_x &lt;dbl&gt; | Metadata_id &lt;dbl&gt; | Metadata_parent_track_id &lt;int&gt; | Metadata_parent_id &lt;dbl&gt; | Metadata_coordinates_y &lt;list&lt;double&gt;&gt; | Metadata_distance &lt;dbl&gt; | Metadata_image_path &lt;chr&gt; | unique_cell &lt;chr&gt; |\n",
       "|---|---|---|---|---|---|---|---|---|---|---|---|---|---|---|---|---|---|---|---|---|---|---|---|---|---|---|---|---|---|---|---|---|---|---|---|\n",
       "| 1 | C-02 | 180 | Staurosporine | 0.0 | negative | 1 | 0001 | 0.0 | 101 | 101 | 100 | 1 | 1 | 1 | 100.0 | C-02_F0001_T0001_Z0001_C02_illumcorrect.tiff | C-02_F0001_T0001_Z0001_C03_illumcorrect.tiff | C-02_F0001_T0001_Z0001_C04_illumcorrect.tiff | C-02_F0001_T0001_Z0001_C01_illumcorrect.tiff | /gpfs/alpine1/scratch/mlippincott@xsede.org/live_cell_timelapse_apoptosis/2.cellprofiler_ic_processing/illum_directory/timelapse/20231017ChromaLive_6hr_4ch_MaxIP_C-02_F0001 | /gpfs/alpine1/scratch/mlippincott@xsede.org/live_cell_timelapse_apoptosis/2.cellprofiler_ic_processing/illum_directory/timelapse/20231017ChromaLive_6hr_4ch_MaxIP_C-02_F0001 | 1583.286 | 1078.899 | 1583.286, 1078.899 | 17 | 0 | 1079 | 1583 | 1000096 | -1 | -1 | 1583, 1079 | 0.3037024 | ../0.pre-process_images/data/processed_images/sc_crops/C-02_F0001_time_0.0_image_number_1_cell_number_100.0/C-02_F0001_T0001_Z0001_C01_illumcorrectimage_number_1_cell_number_100.0_crop.tiff | 17_C-02_0001_0.0 |\n",
       "\n"
      ],
      "text/plain": [
       "  Metadata_plate Metadata_Well Metadata_number_of_singlecells Metadata_compound\n",
       "1 1              C-02          180                            Staurosporine    \n",
       "  Metadata_dose Metadata_control Metadata_ImageNumber Metadata_FOV\n",
       "1 0.0           negative         1                    0001        \n",
       "  Metadata_Time Metadata_Cells_Number_Object_Number\n",
       "1 0.0           101                                \n",
       "  Metadata_Cytoplasm_Parent_Cells Metadata_Cytoplasm_Parent_Nuclei\n",
       "1 101                             100                             \n",
       "  Metadata_ImageNumber_1 Metadata_ImageNumber_2 Metadata_ImageNumber_3\n",
       "1 1                      1                      1                     \n",
       "  Metadata_Nuclei_Number_Object_Number\n",
       "1 100.0                               \n",
       "  Metadata_Image_FileName_CL_488_1            \n",
       "1 C-02_F0001_T0001_Z0001_C02_illumcorrect.tiff\n",
       "  Metadata_Image_FileName_CL_488_2            \n",
       "1 C-02_F0001_T0001_Z0001_C03_illumcorrect.tiff\n",
       "  Metadata_Image_FileName_CL_561              \n",
       "1 C-02_F0001_T0001_Z0001_C04_illumcorrect.tiff\n",
       "  Metadata_Image_FileName_DNA                 \n",
       "1 C-02_F0001_T0001_Z0001_C01_illumcorrect.tiff\n",
       "  Metadata_Image_PathName_CL_488_2                                                                                                                                            \n",
       "1 /gpfs/alpine1/scratch/mlippincott@xsede.org/live_cell_timelapse_apoptosis/2.cellprofiler_ic_processing/illum_directory/timelapse/20231017ChromaLive_6hr_4ch_MaxIP_C-02_F0001\n",
       "  Metadata_Image_PathName_CL_561                                                                                                                                              \n",
       "1 /gpfs/alpine1/scratch/mlippincott@xsede.org/live_cell_timelapse_apoptosis/2.cellprofiler_ic_processing/illum_directory/timelapse/20231017ChromaLive_6hr_4ch_MaxIP_C-02_F0001\n",
       "  Metadata_Nuclei_Location_Center_X Metadata_Nuclei_Location_Center_Y\n",
       "1 1583.286                          1078.899                         \n",
       "  Metadata_coordinates_x Metadata_track_id Metadata_t Metadata_y Metadata_x\n",
       "1 1583.286, 1078.899     17                0          1079       1583      \n",
       "  Metadata_id Metadata_parent_track_id Metadata_parent_id\n",
       "1 1000096     -1                       -1                \n",
       "  Metadata_coordinates_y Metadata_distance\n",
       "1 1583, 1079             0.3037024        \n",
       "  Metadata_image_path                                                                                                                                                                          \n",
       "1 ../0.pre-process_images/data/processed_images/sc_crops/C-02_F0001_time_0.0_image_number_1_cell_number_100.0/C-02_F0001_T0001_Z0001_C01_illumcorrectimage_number_1_cell_number_100.0_crop.tiff\n",
       "  unique_cell     \n",
       "1 17_C-02_0001_0.0"
      ]
     },
     "metadata": {},
     "output_type": "display_data"
    }
   ],
   "source": [
    "profile_path <- file.path(\"../../data/CP_scDINO_features/combined_CP_scDINO_norm_fs.parquet\")\n",
    "figure_path <- file.path(\"../figures/\")\n",
    "if (!dir.exists(figure_path)) {\n",
    "    dir.create(figure_path, recursive = TRUE)\n",
    "}\n",
    "df <- arrow::read_parquet(profile_path)\n",
    "# get the metadata columns only \n",
    "metadata_df <- df %>% \n",
    "  select(contains(\"Metadata\"))\n",
    "\n",
    "metadata_df$unique_cell <- paste0(\n",
    "    metadata_df$Metadata_track_id, \"_\", \n",
    "\n",
    "    metadata_df$Metadata_Well, \"_\", \n",
    "    metadata_df$Metadata_FOV, \"_\", \n",
    "    metadata_df$Metadata_dose\n",
    "    )\n",
    "# sort by Metadata_Well\n",
    "metadata_df <- metadata_df %>% \n",
    "  arrange(Metadata_Well, Metadata_FOV, Metadata_dose)\n",
    "head(metadata_df,1)"
   ]
  },
  {
   "cell_type": "code",
   "execution_count": 4,
   "metadata": {
    "vscode": {
     "languageId": "r"
    }
   },
   "outputs": [],
   "source": [
    "plotting_df <- metadata_df %>% \n",
    "  select(c(\n",
    "    \"Metadata_Time\", \n",
    "    \"Metadata_dose\", \n",
    "    \"unique_cell\"\n",
    "    ))\n",
    "plotting_df$values <- 1\n",
    "plotting_df <- plotting_df %>% \n",
    "  select(-Metadata_dose)\n",
    "# pivot wide such that the Metadata_id in the columns\n",
    "plotting_df <- plotting_df %>% \n",
    "  pivot_wider(\n",
    "    names_from = unique_cell,\n",
    "    values_from = values\n",
    "  )"
   ]
  },
  {
   "cell_type": "code",
   "execution_count": 5,
   "metadata": {
    "vscode": {
     "languageId": "r"
    }
   },
   "outputs": [],
   "source": [
    "# get the well names by splitting the column names by _\n",
    "well_names <- plotting_df %>% \n",
    "  select(-Metadata_Time) %>% \n",
    "  colnames() %>% \n",
    "  strsplit(\"_\") %>% \n",
    "  sapply(function(x) x[2]) %>%\n",
    "  as.data.frame() %>%\n",
    "  rename(Metadata_Well = \".\") \n",
    "well_dose <- df %>% \n",
    "  select(c(\"Metadata_dose\", \"Metadata_Well\")) %>%\n",
    "  distinct() \n",
    "well_names <- well_names %>%\n",
    "    left_join(well_dose, by = \"Metadata_Well\") %>% \n",
    "    select(-Metadata_Well)\n",
    "well_names$Metadata_dose <- factor(\n",
    "    well_names$Metadata_dose, \n",
    "    levels = c(\n",
    "        \"0\", \"0.61\", \"1.22\", \"2.44\", \"4.88\", \n",
    "        \"9.76\", \"19.53\", \"39.06\", \"78.13\", \"156.25\"\n",
    "    )\n",
    ")\n",
    "row_ha <- rowAnnotation(\n",
    "    Dose = well_names$Metadata_dose,\n",
    "    \n",
    "    annotation_legend_param = list(\n",
    "        title_position = \"topcenter\", \n",
    "        title_gp = gpar(fontsize = 16, angle = 0, fontface = \"bold\", hjust = 0.5),\n",
    "        labels_gp = gpar(fontsize = 16, \n",
    "        # make annotation bar text bigger\n",
    "        legend = gpar(fontsize = 16),\n",
    "        annotation_name = gpar(fontsize = 16),\n",
    "        legend_height = unit(20, \"cm\"),\n",
    "        legend_width = unit(1, \"cm\"),\n",
    "        # make legend taller\n",
    "        legend_height = unit(10, \"cm\"),\n",
    "        legend_width = unit(1, \"cm\"),\n",
    "        legend_key = gpar(fontsize = 16)\n",
    "        )\n",
    "    ),\n",
    "\n",
    "    col = list(\n",
    "        Dose = c(\n",
    "            \"0\" = \"#57F2F2\",\n",
    "            \"0.61\" = \"#63D6D6\",\n",
    "            \"1.22\" = \"#65BABA\",\n",
    "            \"2.44\" = \"#68A3A3\",\n",
    "            \"4.88\" = \"#668A8A\",\n",
    "            \"9.76\" = \"#5E7070\",\n",
    "            \"19.53\" = \"#4B5757\",\n",
    "            \"39.06\" = \"#2F3D3D\",\n",
    "            \"78.13\" = \"#182424\",\n",
    "            \"156.25\" = \"#030A0A\"\n",
    "        )\n",
    "    ),\n",
    "\n",
    "\n",
    "        \n",
    "    annotation_name_side = \"bottom\",\n",
    "    # make font size bigger\n",
    "    annotation_name_gp = gpar(fontsize = 16)\n",
    "    \n",
    ")"
   ]
  },
  {
   "cell_type": "code",
   "execution_count": 6,
   "metadata": {
    "vscode": {
     "languageId": "r"
    }
   },
   "outputs": [],
   "source": [
    "# replace NA with 0\n",
    "plotting_df[is.na(plotting_df)] <- 0 \n",
    "# turn the values into characters\n",
    "plotting_df <- plotting_df %>% \n",
    "  mutate(across(where(is.numeric), as.character))"
   ]
  },
  {
   "cell_type": "code",
   "execution_count": 7,
   "metadata": {
    "vscode": {
     "languageId": "r"
    }
   },
   "outputs": [],
   "source": [
    "# remove the Metadata_Time column\n",
    "mat <- t(as.matrix(plotting_df))\n",
    "colnames(mat) <- plotting_df$Metadata_Time\n",
    "# drop the first row\n",
    "mat <- mat[-1,]\n"
   ]
  },
  {
   "cell_type": "code",
   "execution_count": 8,
   "metadata": {
    "vscode": {
     "languageId": "r"
    }
   },
   "outputs": [],
   "source": [
    "# add another column that is the sum of the columns\n",
    "mat <- as.data.frame(mat)\n",
    "# convert from character to numeric\n",
    "mat <- mat %>% \n",
    "  mutate(across(where(is.character), as.numeric))\n",
    "# add a column that is the sum of the columns\n",
    "mat$sum <- rowSums(mat)\n",
    "# remove the last column\n",
    "# sort the matrix by the sum column\n",
    "mat <- mat %>% \n",
    "  arrange(desc(sum))\n",
    "# remove the last column\n",
    "mat <- mat %>% \n",
    "  select(-c(\"sum\"))\n",
    "# make the values character\n",
    "mat <- mat %>% \n",
    "  mutate(across(where(is.numeric), as.character))\n",
    "# convert to a matrix\n",
    "mat <- as.matrix(mat)\n"
   ]
  },
  {
   "cell_type": "code",
   "execution_count": 9,
   "metadata": {
    "vscode": {
     "languageId": "r"
    }
   },
   "outputs": [],
   "source": [
    "\n",
    "# make 0 in the matrix Cell Absent and 1 Cell Present but not in the row names or column names\n",
    "mat[mat == 0] <- \"Cell Absent\"\n",
    "mat[mat == 1] <- \"Cell Present\"\n",
    "\n",
    "colors = structure(\n",
    "    c(\"#c8c8c8\",\"#2a2a2a\"), \n",
    "    names = c(\"Cell Absent\", \"Cell Present\")\n",
    ")"
   ]
  },
  {
   "cell_type": "code",
   "execution_count": 10,
   "metadata": {
    "vscode": {
     "languageId": "r"
    }
   },
   "outputs": [
    {
     "data": {
      "text/html": [
       "<strong>png:</strong> 2"
      ],
      "text/latex": [
       "\\textbf{png:} 2"
      ],
      "text/markdown": [
       "**png:** 2"
      ],
      "text/plain": [
       "png \n",
       "  2 "
      ]
     },
     "metadata": {},
     "output_type": "display_data"
    },
    {
     "data": {
      "image/png": "[encoded data removed]",
      "text/plain": [
       "plot without title"
      ]
     },
     "metadata": {
      "image/png": {
       "height": 600,
       "width": 600
      }
     },
     "output_type": "display_data"
    }
   ],
   "source": [
    "width <- 10\n",
    "height <- 10\n",
    "options(repr.plot.width=width, repr.plot.height=height)\n",
    "ht_opt$message = FALSE\n",
    "heatmap <- Heatmap(\n",
    "    mat, \n",
    "        cluster_rows = TRUE,    # Cluster rows\n",
    "        cluster_columns = TRUE, # Cluster columns\n",
    "        show_row_names = FALSE,  # Show row names\n",
    "        show_column_names = TRUE, # Show column names\n",
    "        column_names_gp = gpar(fontsize = 16), # Column name label formatting\n",
    "        row_names_gp = gpar(fontsize = 14),    # Row name label formatting\n",
    "        right_annotation = row_ha,\n",
    "    \n",
    "    heatmap_legend_param = list(\n",
    "                title = \"Track\\nBoolean\",\n",
    "                title_position = \"topcenter\", \n",
    "                title_gp = gpar(fontsize = 16, angle = 0, fontface = \"bold\", hjust = 0.5),\n",
    "                labels_gp = gpar(fontsize = 16),\n",
    "                legend_height = unit(6.6, \"cm\")\n",
    "                ),\n",
    "        column_dend_height = unit(4, \"cm\"), \n",
    "        row_dend_width = unit(4, \"cm\"),\n",
    "        # set color for 0 and 1\n",
    "        col = colors,\n",
    "    \n",
    ")\n",
    "\n",
    "png(filename = paste0(figure_path, \"cell_tracks_over_time_heatmap.png\"), width = width, height = height, units = \"in\", res = 600)\n",
    "heatmap\n",
    "dev.off()\n",
    "heatmap"
   ]
  }
 ],
 "metadata": {
  "kernelspec": {
   "display_name": "R",
   "language": "R",
   "name": "ir"
  },
  "language_info": {
   "codemirror_mode": "r",
   "file_extension": ".r",
   "mimetype": "text/x-r-source",
   "name": "R",
   "pygments_lexer": "r",
   "version": "4.3.1"
  }
 },
 "nbformat": 4,
 "nbformat_minor": 2
}
