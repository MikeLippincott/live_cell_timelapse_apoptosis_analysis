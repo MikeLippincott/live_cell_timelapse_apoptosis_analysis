{
 "cells": [
  {
   "cell_type": "code",
   "execution_count": 1,
   "metadata": {},
   "outputs": [],
   "source": [
    "import logging\n",
    "import pathlib\n",
    "import pprint\n",
    "import sys\n",
    "\n",
    "import joblib\n",
    "import numpy as np\n",
    "import pandas as pd\n",
    "import toml\n",
    "import torch\n",
    "\n",
    "sys.path.append(\"../ML_utils/\")\n",
    "\n",
    "from parameter_set import parameter_set\n",
    "from parameters import Parameters\n",
    "from train_optimized_model import train_optimized_model\n",
    "\n",
    "try:\n",
    "    cfg = get_ipython().config\n",
    "    in_notebook = True\n",
    "except NameError:\n",
    "    in_notebook = False\n",
    "if in_notebook:\n",
    "    from tqdm.notebook import tqdm\n",
    "else:\n",
    "    from tqdm import tqdm"
   ]
  },
  {
   "cell_type": "code",
   "execution_count": 2,
   "metadata": {},
   "outputs": [
    {
     "name": "stdout",
     "output_type": "stream",
     "text": [
      "sc_profile shape: (182804, 2376)\n",
      "sc_endpoint_profile shape: (11340, 368)\n",
      "data_split_df shape: (14926, 3)\n"
     ]
    },
    {
     "data": {
      "text/html": [
       "<div>\n",
       "<style scoped>\n",
       "    .dataframe tbody tr th:only-of-type {\n",
       "        vertical-align: middle;\n",
       "    }\n",
       "\n",
       "    .dataframe tbody tr th {\n",
       "        vertical-align: top;\n",
       "    }\n",
       "\n",
       "    .dataframe thead th {\n",
       "        text-align: right;\n",
       "    }\n",
       "</style>\n",
       "<table border=\"1\" class=\"dataframe\">\n",
       "  <thead>\n",
       "    <tr style=\"text-align: right;\">\n",
       "      <th></th>\n",
       "      <th>index</th>\n",
       "      <th>data_split</th>\n",
       "      <th>data_x_or_y</th>\n",
       "    </tr>\n",
       "  </thead>\n",
       "  <tbody>\n",
       "    <tr>\n",
       "      <th>0</th>\n",
       "      <td>7440</td>\n",
       "      <td>train_gt</td>\n",
       "      <td>X</td>\n",
       "    </tr>\n",
       "    <tr>\n",
       "      <th>1</th>\n",
       "      <td>7461</td>\n",
       "      <td>train_gt</td>\n",
       "      <td>X</td>\n",
       "    </tr>\n",
       "    <tr>\n",
       "      <th>2</th>\n",
       "      <td>7463</td>\n",
       "      <td>train_gt</td>\n",
       "      <td>X</td>\n",
       "    </tr>\n",
       "    <tr>\n",
       "      <th>3</th>\n",
       "      <td>7468</td>\n",
       "      <td>train_gt</td>\n",
       "      <td>X</td>\n",
       "    </tr>\n",
       "    <tr>\n",
       "      <th>4</th>\n",
       "      <td>7479</td>\n",
       "      <td>train_gt</td>\n",
       "      <td>X</td>\n",
       "    </tr>\n",
       "  </tbody>\n",
       "</table>\n",
       "</div>"
      ],
      "text/plain": [
       "   index data_split data_x_or_y\n",
       "0   7440   train_gt           X\n",
       "1   7461   train_gt           X\n",
       "2   7463   train_gt           X\n",
       "3   7468   train_gt           X\n",
       "4   7479   train_gt           X"
      ]
     },
     "execution_count": 2,
     "metadata": {},
     "output_type": "execute_result"
    }
   ],
   "source": [
    "model_name = \"Cells_Intensity_MeanIntensityEdge_AnnexinV\"\n",
    "trained_model_path = pathlib.Path(\n",
    "    \"../trained_models/model_save_states/Regression/Cells_Intensity_MeanIntensityEdge_AnnexinV.pt\"\n",
    ").resolve(strict=True)\n",
    "# read in the data\n",
    "sc_file_path = pathlib.Path(\"../results/cleaned_sc_profile.parquet\").resolve(\n",
    "    strict=True\n",
    ")\n",
    "sc_endpoint_file_path = pathlib.Path(\n",
    "    \"../results/cleaned_endpoint_sc_profile.parquet\"\n",
    ").resolve(strict=True)\n",
    "\n",
    "data_split_file_path = pathlib.Path(\"../results/data_splits.parquet\").resolve(\n",
    "    strict=True\n",
    ")\n",
    "\n",
    "sc_profile = pd.read_parquet(sc_file_path)\n",
    "sc_endpoint_profile = pd.read_parquet(sc_endpoint_file_path)\n",
    "data_split_df = pd.read_parquet(data_split_file_path)\n",
    "print(f\"sc_profile shape: {sc_profile.shape}\")\n",
    "print(f\"sc_endpoint_profile shape: {sc_endpoint_profile.shape}\")\n",
    "print(f\"data_split_df shape: {data_split_df.shape}\")\n",
    "data_split_df.head()"
   ]
  },
  {
   "cell_type": "code",
   "execution_count": 3,
   "metadata": {},
   "outputs": [
    {
     "name": "stdout",
     "output_type": "stream",
     "text": [
      "sc_profile shape after dropping NaN: (14237, 2376)\n",
      "sc_endpoint_profile shape after dropping NaN: (11136, 368)\n",
      "sc_endpoint_profile shape after selecting features: (11136, 26)\n"
     ]
    }
   ],
   "source": [
    "# keep only the last timepoint\n",
    "sc_profile[\"Metadata_Time\"] = sc_profile[\"Metadata_Time\"].astype(\"float64\")\n",
    "sc_profile = sc_profile[\n",
    "    sc_profile[\"Metadata_Time\"] == sc_profile[\"Metadata_Time\"].max()\n",
    "]\n",
    "# drop Na values\n",
    "sc_profile.dropna(inplace=True)\n",
    "print(f\"sc_profile shape after dropping NaN: {sc_profile.shape}\")\n",
    "sc_endpoint_profile.dropna(inplace=True)\n",
    "print(f\"sc_endpoint_profile shape after dropping NaN: {sc_endpoint_profile.shape}\")\n",
    "# hardcode the features that should exist in the y data\n",
    "# this will be replaced in the future by an arg or config passed through\n",
    "selected_y_features = [\"Cells_Intensity_MeanIntensityEdge_AnnexinV\"]\n",
    "metadata_y_features = [x for x in sc_endpoint_profile.columns if \"Metadata_\" in x]\n",
    "sc_endpoint_profile = sc_endpoint_profile[metadata_y_features + selected_y_features]\n",
    "print(\n",
    "    f\"sc_endpoint_profile shape after selecting features: {sc_endpoint_profile.shape}\"\n",
    ")"
   ]
  },
  {
   "cell_type": "code",
   "execution_count": 4,
   "metadata": {},
   "outputs": [],
   "source": [
    "profile_data_splits_df = data_split_df.loc[data_split_df[\"data_x_or_y\"] == \"X\"]\n",
    "profile_data_splits_df\n",
    "endpoint_data_splits_df = data_split_df.loc[data_split_df[\"data_x_or_y\"] == \"y\"]\n",
    "endpoint_data_splits_df\n",
    "# replace the index with the index column\n",
    "profile_data_splits_df = profile_data_splits_df.set_index(\n",
    "    \"index\", drop=True, verify_integrity=True\n",
    ")\n",
    "endpoint_data_splits_df = endpoint_data_splits_df.set_index(\n",
    "    \"index\", drop=True, verify_integrity=True\n",
    ")\n",
    "# remove the index name from profile_data_splits_df\n",
    "profile_data_splits_df.index.name = None\n",
    "# remove the index name from endpoint_data_splits_df\n",
    "endpoint_data_splits_df.index.name = None"
   ]
  },
  {
   "cell_type": "code",
   "execution_count": 5,
   "metadata": {},
   "outputs": [],
   "source": [
    "# get only indexes from sc_profile that are in the train_gt split\n",
    "train_gt_X = sc_profile.loc[\n",
    "    sc_profile.index.isin(\n",
    "        profile_data_splits_df.loc[\n",
    "            profile_data_splits_df[\"data_split\"] == \"train_gt\"\n",
    "        ].index\n",
    "    )\n",
    "]\n",
    "val_gt_X = sc_profile.loc[\n",
    "    sc_profile.index.isin(\n",
    "        profile_data_splits_df.loc[\n",
    "            profile_data_splits_df[\"data_split\"] == \"val_gt\"\n",
    "        ].index\n",
    "    )\n",
    "]\n",
    "train_gt_y = sc_endpoint_profile.loc[\n",
    "    sc_endpoint_profile.index.isin(\n",
    "        endpoint_data_splits_df.loc[\n",
    "            endpoint_data_splits_df[\"data_split\"] == \"train_gt\"\n",
    "        ].index\n",
    "    )\n",
    "]\n",
    "val_gt_y = sc_endpoint_profile.loc[\n",
    "    sc_endpoint_profile.index.isin(\n",
    "        endpoint_data_splits_df.loc[\n",
    "            endpoint_data_splits_df[\"data_split\"] == \"val_gt\"\n",
    "        ].index\n",
    "    )\n",
    "]\n",
    "test_gt_X = sc_profile.loc[\n",
    "    sc_profile.index.isin(\n",
    "        profile_data_splits_df.loc[\n",
    "            profile_data_splits_df[\"data_split\"] == \"test_gt\"\n",
    "        ].index\n",
    "    )\n",
    "]\n",
    "test_gt_y = sc_endpoint_profile.loc[\n",
    "    sc_endpoint_profile.index.isin(\n",
    "        endpoint_data_splits_df.loc[\n",
    "            endpoint_data_splits_df[\"data_split\"] == \"test_gt\"\n",
    "        ].index\n",
    "    )\n",
    "]\n",
    "holdout_gt_X = sc_profile.loc[\n",
    "    sc_profile.index.isin(\n",
    "        profile_data_splits_df.loc[\n",
    "            profile_data_splits_df[\"data_split\"] == \"holdout_gt\"\n",
    "        ].index\n",
    "    )\n",
    "]\n",
    "holdout_gt_y = sc_endpoint_profile.loc[\n",
    "    sc_endpoint_profile.index.isin(\n",
    "        endpoint_data_splits_df.loc[\n",
    "            endpoint_data_splits_df[\"data_split\"] == \"holdout_gt\"\n",
    "        ].index\n",
    "    )\n",
    "]\n",
    "\n",
    "\n",
    "test_no_gt_X = sc_profile.loc[\n",
    "    sc_profile.index.isin(\n",
    "        profile_data_splits_df.loc[\n",
    "            profile_data_splits_df[\"data_split\"] == \"test_wo_gt\"\n",
    "        ].index\n",
    "    )\n",
    "]\n",
    "\n",
    "holdout_no_gt_X = sc_profile.loc[\n",
    "    sc_profile.index.isin(\n",
    "        profile_data_splits_df.loc[\n",
    "            profile_data_splits_df[\"data_split\"] == \"holdout_wo_gt\"\n",
    "        ].index\n",
    "    )\n",
    "]\n",
    "\n",
    "\n",
    "# assertion checks\n",
    "assert train_gt_X.shape[0] == train_gt_y.shape[0]\n",
    "assert val_gt_X.shape[0] == val_gt_y.shape[0]\n",
    "assert train_gt_X.shape[1] == val_gt_X.shape[1]\n",
    "assert train_gt_y.shape[1] == val_gt_y.shape[1]\n",
    "assert test_gt_X.shape[0] == test_gt_y.shape[0]\n",
    "assert holdout_gt_X.shape[0] == holdout_gt_y.shape[0]\n",
    "\n",
    "\n",
    "assert train_gt_X.shape[0] > 0\n",
    "assert val_gt_X.shape[0] > 0\n",
    "assert train_gt_y.shape[0] > 0\n",
    "assert val_gt_y.shape[0] > 0\n",
    "assert test_gt_X.shape[0] > 0\n",
    "assert test_gt_y.shape[0] > 0\n",
    "assert holdout_gt_X.shape[0] > 0\n",
    "assert holdout_gt_y.shape[0] > 0\n",
    "assert test_no_gt_X.shape[0] > 0\n",
    "assert holdout_no_gt_X.shape[0] > 0"
   ]
  },
  {
   "cell_type": "code",
   "execution_count": 6,
   "metadata": {},
   "outputs": [
    {
     "name": "stderr",
     "output_type": "stream",
     "text": [
      "/tmp/ipykernel_1278339/2951086784.py:7: SettingWithCopyWarning: \n",
      "A value is trying to be set on a copy of a slice from a DataFrame\n",
      "\n",
      "See the caveats in the documentation: https://pandas.pydata.org/pandas-docs/stable/user_guide/indexing.html#returning-a-view-versus-a-copy\n",
      "  train_gt_X.drop(columns=metadata_X_cols, inplace=True)\n",
      "/tmp/ipykernel_1278339/2951086784.py:9: SettingWithCopyWarning: \n",
      "A value is trying to be set on a copy of a slice from a DataFrame\n",
      "\n",
      "See the caveats in the documentation: https://pandas.pydata.org/pandas-docs/stable/user_guide/indexing.html#returning-a-view-versus-a-copy\n",
      "  train_gt_y.drop(columns=metadata_y_cols, inplace=True)\n",
      "/tmp/ipykernel_1278339/2951086784.py:11: SettingWithCopyWarning: \n",
      "A value is trying to be set on a copy of a slice from a DataFrame\n",
      "\n",
      "See the caveats in the documentation: https://pandas.pydata.org/pandas-docs/stable/user_guide/indexing.html#returning-a-view-versus-a-copy\n",
      "  val_gt_X.drop(columns=metadata_X_cols, inplace=True)\n",
      "/tmp/ipykernel_1278339/2951086784.py:13: SettingWithCopyWarning: \n",
      "A value is trying to be set on a copy of a slice from a DataFrame\n",
      "\n",
      "See the caveats in the documentation: https://pandas.pydata.org/pandas-docs/stable/user_guide/indexing.html#returning-a-view-versus-a-copy\n",
      "  val_gt_y.drop(columns=metadata_y_cols, inplace=True)\n",
      "/tmp/ipykernel_1278339/2951086784.py:15: SettingWithCopyWarning: \n",
      "A value is trying to be set on a copy of a slice from a DataFrame\n",
      "\n",
      "See the caveats in the documentation: https://pandas.pydata.org/pandas-docs/stable/user_guide/indexing.html#returning-a-view-versus-a-copy\n",
      "  test_gt_X.drop(columns=metadata_X_cols, inplace=True)\n",
      "/tmp/ipykernel_1278339/2951086784.py:17: SettingWithCopyWarning: \n",
      "A value is trying to be set on a copy of a slice from a DataFrame\n",
      "\n",
      "See the caveats in the documentation: https://pandas.pydata.org/pandas-docs/stable/user_guide/indexing.html#returning-a-view-versus-a-copy\n",
      "  test_gt_y.drop(columns=metadata_y_cols, inplace=True)\n",
      "/tmp/ipykernel_1278339/2951086784.py:19: SettingWithCopyWarning: \n",
      "A value is trying to be set on a copy of a slice from a DataFrame\n",
      "\n",
      "See the caveats in the documentation: https://pandas.pydata.org/pandas-docs/stable/user_guide/indexing.html#returning-a-view-versus-a-copy\n",
      "  holdout_gt_X.drop(columns=metadata_X_cols, inplace=True)\n",
      "/tmp/ipykernel_1278339/2951086784.py:21: SettingWithCopyWarning: \n",
      "A value is trying to be set on a copy of a slice from a DataFrame\n",
      "\n",
      "See the caveats in the documentation: https://pandas.pydata.org/pandas-docs/stable/user_guide/indexing.html#returning-a-view-versus-a-copy\n",
      "  holdout_gt_y.drop(columns=metadata_y_cols, inplace=True)\n",
      "/tmp/ipykernel_1278339/2951086784.py:25: SettingWithCopyWarning: \n",
      "A value is trying to be set on a copy of a slice from a DataFrame\n",
      "\n",
      "See the caveats in the documentation: https://pandas.pydata.org/pandas-docs/stable/user_guide/indexing.html#returning-a-view-versus-a-copy\n",
      "  test_no_gt_X.drop(columns=metadata_X_cols, inplace=True)\n",
      "/tmp/ipykernel_1278339/2951086784.py:27: SettingWithCopyWarning: \n",
      "A value is trying to be set on a copy of a slice from a DataFrame\n",
      "\n",
      "See the caveats in the documentation: https://pandas.pydata.org/pandas-docs/stable/user_guide/indexing.html#returning-a-view-versus-a-copy\n",
      "  holdout_no_gt_X.drop(columns=metadata_X_cols, inplace=True)\n"
     ]
    }
   ],
   "source": [
    "# get metadata\n",
    "metadata_X_cols = [x for x in train_gt_X.columns if \"Metadata_\" in x]\n",
    "metadata_y_cols = [x for x in train_gt_y.columns if \"Metadata_\" in x]\n",
    "\n",
    "\n",
    "train_gt_X_metadata = train_gt_X[metadata_X_cols]\n",
    "train_gt_X.drop(columns=metadata_X_cols, inplace=True)\n",
    "train_gt_y_metadata = train_gt_y[metadata_y_cols]\n",
    "train_gt_y.drop(columns=metadata_y_cols, inplace=True)\n",
    "val_gt_X_metadata = val_gt_X[metadata_X_cols]\n",
    "val_gt_X.drop(columns=metadata_X_cols, inplace=True)\n",
    "val_gt_y_metadata = val_gt_y[metadata_y_cols]\n",
    "val_gt_y.drop(columns=metadata_y_cols, inplace=True)\n",
    "test_gt_X_metadata = test_gt_X[metadata_X_cols]\n",
    "test_gt_X.drop(columns=metadata_X_cols, inplace=True)\n",
    "test_gt_y_metadata = test_gt_y[metadata_y_cols]\n",
    "test_gt_y.drop(columns=metadata_y_cols, inplace=True)\n",
    "holdout_gt_X_metadata = holdout_gt_X[metadata_X_cols]\n",
    "holdout_gt_X.drop(columns=metadata_X_cols, inplace=True)\n",
    "holdout_gt_y_metadata = holdout_gt_y[metadata_y_cols]\n",
    "holdout_gt_y.drop(columns=metadata_y_cols, inplace=True)\n",
    "\n",
    "\n",
    "test_not_gt_X_metadata = test_no_gt_X[metadata_X_cols]\n",
    "test_no_gt_X.drop(columns=metadata_X_cols, inplace=True)\n",
    "holdout_no_gt_X_metadata = holdout_no_gt_X[metadata_X_cols]\n",
    "holdout_no_gt_X.drop(columns=metadata_X_cols, inplace=True)"
   ]
  },
  {
   "cell_type": "code",
   "execution_count": 7,
   "metadata": {},
   "outputs": [],
   "source": [
    "# shuffle the data\n",
    "shuffled_train_gt_X = train_gt_X.copy()\n",
    "for col in shuffled_train_gt_X.columns:\n",
    "    if col.startswith(\"Metadata_\"):\n",
    "        continue\n",
    "    shuffled_train_gt_X[col] = np.random.permutation(shuffled_train_gt_X[col].values)\n",
    "shuffled_val_gt_X = val_gt_X.copy()\n",
    "for col in shuffled_val_gt_X.columns:\n",
    "    if col.startswith(\"Metadata_\"):\n",
    "        continue\n",
    "    shuffled_val_gt_X[col] = np.random.permutation(shuffled_val_gt_X[col].values)\n",
    "shuffled_test_gt_X = test_gt_X.copy()\n",
    "for col in shuffled_test_gt_X.columns:\n",
    "    if col.startswith(\"Metadata_\"):\n",
    "        continue\n",
    "    shuffled_test_gt_X[col] = np.random.permutation(shuffled_test_gt_X[col].values)\n",
    "shuffled_holdout_gt_X = holdout_gt_X.copy()\n",
    "for col in shuffled_holdout_gt_X.columns:\n",
    "    if col.startswith(\"Metadata_\"):\n",
    "        continue\n",
    "    shuffled_holdout_gt_X[col] = np.random.permutation(\n",
    "        shuffled_holdout_gt_X[col].values\n",
    "    )\n",
    "shuffled_test_no_gt_X = test_no_gt_X.copy()\n",
    "for col in shuffled_test_no_gt_X.columns:\n",
    "    if col.startswith(\"Metadata_\"):\n",
    "        continue\n",
    "    shuffled_test_no_gt_X[col] = np.random.permutation(\n",
    "        shuffled_test_no_gt_X[col].values\n",
    "    )\n",
    "shuffled_holdout_no_gt_X = holdout_no_gt_X.copy()\n",
    "for col in shuffled_holdout_no_gt_X.columns:\n",
    "    if col.startswith(\"Metadata_\"):\n",
    "        continue\n",
    "    shuffled_holdout_no_gt_X[col] = np.random.permutation(\n",
    "        shuffled_holdout_no_gt_X[col].values\n",
    "    )"
   ]
  },
  {
   "cell_type": "code",
   "execution_count": 8,
   "metadata": {},
   "outputs": [
    {
     "name": "stdout",
     "output_type": "stream",
     "text": [
      "n_features: 2338\n",
      "n_outputs: 1\n",
      "n_metadata_features: 38\n"
     ]
    }
   ],
   "source": [
    "# number of input features\n",
    "n_features = train_gt_X.shape[1]\n",
    "# number of output features\n",
    "n_outputs = train_gt_y.shape[1]\n",
    "# number of metadata features\n",
    "n_metadata_features = train_gt_X_metadata.shape[1]\n",
    "\n",
    "print(f\"n_features: {n_features}\")\n",
    "print(f\"n_outputs: {n_outputs}\")\n",
    "print(f\"n_metadata_features: {n_metadata_features}\")"
   ]
  },
  {
   "cell_type": "code",
   "execution_count": 9,
   "metadata": {},
   "outputs": [],
   "source": [
    "params = Parameters()\n",
    "ml_configs = toml.load(\"../ML_utils/regression_class_config.toml\")\n",
    "mlp_params = parameter_set(params, ml_configs)\n",
    "mlp_params.IN_FEATURES = n_features\n",
    "mlp_params.OUT_FEATURES = n_outputs"
   ]
  },
  {
   "cell_type": "code",
   "execution_count": 10,
   "metadata": {},
   "outputs": [
    {
     "name": "stdout",
     "output_type": "stream",
     "text": [
      "(367, 2338) (367, 1)\n",
      "(49, 2338) (49, 1)\n",
      "(49, 2338) (49, 1)\n",
      "(237, 2338) (237, 1)\n",
      "(9137, 2338)\n",
      "(4385, 2338)\n"
     ]
    }
   ],
   "source": [
    "print(train_gt_X.shape, train_gt_y.shape)\n",
    "print(val_gt_X.shape, val_gt_y.shape)\n",
    "print(test_gt_X.shape, test_gt_y.shape)\n",
    "print(holdout_gt_X.shape, holdout_gt_y.shape)\n",
    "print(test_no_gt_X.shape)\n",
    "print(holdout_no_gt_X.shape)"
   ]
  },
  {
   "cell_type": "code",
   "execution_count": 11,
   "metadata": {},
   "outputs": [],
   "source": [
    "X_train = torch.tensor(train_gt_X.values, dtype=torch.float32)\n",
    "y_train = torch.tensor(train_gt_y.values, dtype=torch.float32)\n",
    "X_val = torch.tensor(val_gt_X.values, dtype=torch.float32)\n",
    "y_val = torch.tensor(val_gt_y.values, dtype=torch.float32)\n",
    "X_test = torch.tensor(test_gt_X.values, dtype=torch.float32)\n",
    "y_test = torch.tensor(test_gt_y.values, dtype=torch.float32)\n",
    "X_holdout = torch.tensor(holdout_gt_X.values, dtype=torch.float32)\n",
    "y_holdout = torch.tensor(holdout_gt_y.values, dtype=torch.float32)\n",
    "\n",
    "X_test_no_gt = torch.tensor(test_no_gt_X.values, dtype=torch.float32)\n",
    "X_holdout_no_gt = torch.tensor(holdout_no_gt_X.values, dtype=torch.float32)"
   ]
  },
  {
   "cell_type": "code",
   "execution_count": 12,
   "metadata": {},
   "outputs": [
    {
     "name": "stdout",
     "output_type": "stream",
     "text": [
      "X_train dtypes: torch.float32\n",
      "y_train dtypes: torch.float32\n",
      "X_val dtypes: torch.float32\n",
      "y_val dtypes: torch.float32\n",
      "X_test dtypes: torch.float32\n",
      "y_test dtypes: torch.float32\n",
      "X_holdout dtypes: torch.float32\n",
      "y_holdout dtypes: torch.float32\n",
      "X_test_no_gt dtypes: torch.float32\n",
      "X_holdout_no_gt dtypes: torch.float32\n"
     ]
    }
   ],
   "source": [
    "# get the dtypes of the data\n",
    "print(f\"X_train dtypes: {X_train.dtype}\")\n",
    "print(f\"y_train dtypes: {y_train.dtype}\")\n",
    "print(f\"X_val dtypes: {X_val.dtype}\")\n",
    "print(f\"y_val dtypes: {y_val.dtype}\")\n",
    "print(f\"X_test dtypes: {X_test.dtype}\")\n",
    "print(f\"y_test dtypes: {y_test.dtype}\")\n",
    "print(f\"X_holdout dtypes: {X_holdout.dtype}\")\n",
    "print(f\"y_holdout dtypes: {y_holdout.dtype}\")\n",
    "print(f\"X_test_no_gt dtypes: {X_test_no_gt.dtype}\")\n",
    "print(f\"X_holdout_no_gt dtypes: {X_holdout_no_gt.dtype}\")"
   ]
  },
  {
   "cell_type": "code",
   "execution_count": 13,
   "metadata": {},
   "outputs": [],
   "source": [
    "# produce data objects for train, val and test datasets\n",
    "train_data = torch.utils.data.TensorDataset(X_train, y_train)\n",
    "val_data = torch.utils.data.TensorDataset(X_val, y_val)\n",
    "\n",
    "\n",
    "# convert data class into a dataloader to be compatible with pytorch\n",
    "train_loader = torch.utils.data.DataLoader(\n",
    "    dataset=train_data, batch_size=mlp_params.HYPERPARAMETER_BATCH_SIZE, shuffle=True\n",
    ")\n",
    "valid_loader = torch.utils.data.DataLoader(\n",
    "    dataset=val_data, batch_size=mlp_params.HYPERPARAMETER_BATCH_SIZE, shuffle=False\n",
    ")\n",
    "test_loader = torch.utils.data.DataLoader(\n",
    "    dataset=val_data, batch_size=mlp_params.HYPERPARAMETER_BATCH_SIZE, shuffle=False\n",
    ")\n",
    "holdout_loader = torch.utils.data.DataLoader(\n",
    "    dataset=val_data, batch_size=mlp_params.HYPERPARAMETER_BATCH_SIZE, shuffle=False\n",
    ")\n",
    "test_no_gt_loader = torch.utils.data.DataLoader(\n",
    "    dataset=val_data, batch_size=mlp_params.HYPERPARAMETER_BATCH_SIZE, shuffle=False\n",
    ")\n",
    "holdout_no_gt_loader = torch.utils.data.DataLoader(\n",
    "    dataset=val_data, batch_size=mlp_params.HYPERPARAMETER_BATCH_SIZE, shuffle=False\n",
    ")"
   ]
  },
  {
   "cell_type": "code",
   "execution_count": 18,
   "metadata": {},
   "outputs": [],
   "source": [
    "from create_optimized_model import optimized_model_create\n",
    "\n",
    "model, parameter_dict = optimized_model_create(params, model_name)"
   ]
  },
  {
   "cell_type": "code",
   "execution_count": 19,
   "metadata": {},
   "outputs": [],
   "source": [
    "from test_optimized_model import test_optimized_model"
   ]
  },
  {
   "cell_type": "code",
   "execution_count": 57,
   "metadata": {},
   "outputs": [
    {
     "name": "stdout",
     "output_type": "stream",
     "text": [
      "Cells_Intensity_MeanIntensityEdge_AnnexinV\n"
     ]
    }
   ],
   "source": [
    "y_pred_list, Y_test_list = test_optimized_model(\n",
    "    model,\n",
    "    train_loader,\n",
    "    mlp_params,\n",
    "    model_name=\"Cells_Intensity_MeanIntensityEdge_AnnexinV\",\n",
    "    shuffle=False,\n",
    ")"
   ]
  },
  {
   "cell_type": "code",
   "execution_count": 58,
   "metadata": {},
   "outputs": [
    {
     "name": "stdout",
     "output_type": "stream",
     "text": [
      "Mean Absolute Errors: [0.7142975330352783]\n",
      "Mean Squared Errors: [1.0875264406204224]\n",
      "R2 Scores: [-0.0001246929168701172]\n"
     ]
    }
   ],
   "source": [
    "# calculate the mean squared error for the predictions\n",
    "from sklearn.metrics import mean_absolute_error, mean_squared_error, r2_score\n",
    "\n",
    "mean_absolute_errors = []\n",
    "mean_squared_errors = []\n",
    "r2_scores = []\n",
    "for i in range(len(y_pred_list)):\n",
    "    y_pred = y_pred_list[i]\n",
    "    y_test = Y_test_list[i]\n",
    "    mean_absolute_errors.append(mean_absolute_error(y_test, y_pred))\n",
    "    mean_squared_errors.append(mean_squared_error(y_test, y_pred))\n",
    "    r2_scores.append(r2_score(y_test, y_pred))\n",
    "print(f\"Mean Absolute Errors: {mean_absolute_errors}\")\n",
    "print(f\"Mean Squared Errors: {mean_squared_errors}\")\n",
    "print(f\"R2 Scores: {r2_scores}\")"
   ]
  },
  {
   "cell_type": "code",
   "execution_count": 81,
   "metadata": {},
   "outputs": [],
   "source": [
    "import itertools"
   ]
  },
  {
   "cell_type": "code",
   "execution_count": 95,
   "metadata": {},
   "outputs": [],
   "source": [
    "def nested_array_to_list(nested_array):\n",
    "    \"\"\"\n",
    "    A recursive function to fully flatten and convert a nested array or list to a Python list.\n",
    "    \"\"\"\n",
    "    if isinstance(nested_array, (np.ndarray, list)):\n",
    "        # Recursively flatten each element\n",
    "        return [\n",
    "            nested_array_to_list(item)\n",
    "            for sublist in nested_array\n",
    "            for item in (\n",
    "                list(itertools.chain.from_iterable(sublist))\n",
    "                if isinstance(sublist, (list, np.ndarray))\n",
    "                else [sublist]\n",
    "            )\n",
    "        ]\n",
    "    else:\n",
    "        return nested_array"
   ]
  },
  {
   "cell_type": "code",
   "execution_count": 97,
   "metadata": {},
   "outputs": [],
   "source": [
    "# flatten the list of lists via itertools\n",
    "y_pred_flat = list(itertools.chain.from_iterable(y_pred_list))\n",
    "y_test_flat = nested_array_to_list(Y_test_list)"
   ]
  },
  {
   "cell_type": "code",
   "execution_count": 98,
   "metadata": {},
   "outputs": [
    {
     "name": "stdout",
     "output_type": "stream",
     "text": [
      "y_pred_flat shape: 367\n",
      "y_test_flat shape: 367\n"
     ]
    }
   ],
   "source": [
    "print(f\"y_pred_flat shape: {len(y_pred_flat)}\")\n",
    "print(f\"y_test_flat shape: {len(y_test_flat)}\")"
   ]
  },
  {
   "cell_type": "code",
   "execution_count": 103,
   "metadata": {},
   "outputs": [
    {
     "data": {
      "image/png": "[encoded data removed]",
      "text/plain": [
       "<Figure size 1000x1000 with 1 Axes>"
      ]
     },
     "metadata": {},
     "output_type": "display_data"
    }
   ],
   "source": [
    "# plot the actual vs predicted values\n",
    "import matplotlib.pyplot as plt\n",
    "import seaborn as sns\n",
    "\n",
    "plt.figure(figsize=(10, 10))\n",
    "plt.title(\"Actual vs Predicted values\")\n",
    "plt.xlabel(\"Actual values\")\n",
    "plt.ylabel(\"Predicted values\")\n",
    "sns.scatterplot(x=y_test_flat, y=y_pred_flat)\n",
    "# plt.xlim(y_pred_flat.min(), y_test_flat.max())\n",
    "# plt.ylim(y_pred_flat.min(), y_test_flat.max())\n",
    "plt.show()"
   ]
  }
 ],
 "metadata": {
  "kernelspec": {
   "display_name": "timelapse_analysis_env",
   "language": "python",
   "name": "python3"
  },
  "language_info": {
   "codemirror_mode": {
    "name": "ipython",
    "version": 3
   },
   "file_extension": ".py",
   "mimetype": "text/x-python",
   "name": "python",
   "nbconvert_exporter": "python",
   "pygments_lexer": "ipython3",
   "version": "3.11.12"
  }
 },
 "nbformat": 4,
 "nbformat_minor": 2
}
