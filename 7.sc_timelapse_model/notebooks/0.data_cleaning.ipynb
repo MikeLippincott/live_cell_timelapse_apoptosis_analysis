{
 "cells": [
  {
   "cell_type": "code",
   "execution_count": 1,
   "metadata": {},
   "outputs": [],
   "source": [
    "import pathlib\n",
    "import time\n",
    "\n",
    "import numpy as np\n",
    "import pandas as pd\n",
    "from scipy.spatial.distance import euclidean\n",
    "\n",
    "try:\n",
    "    cfg = get_ipython().config\n",
    "    in_notebook = True\n",
    "except NameError:\n",
    "    in_notebook = False\n",
    "if in_notebook:\n",
    "    from tqdm.notebook import tqdm\n",
    "else:\n",
    "    from tqdm import tqdm"
   ]
  },
  {
   "cell_type": "code",
   "execution_count": 2,
   "metadata": {},
   "outputs": [
    {
     "name": "stdout",
     "output_type": "stream",
     "text": [
      "(144324, 367)\n",
      "(182804, 2375)\n"
     ]
    },
    {
     "data": {
      "text/html": [
       "<div>\n",
       "<style scoped>\n",
       "    .dataframe tbody tr th:only-of-type {\n",
       "        vertical-align: middle;\n",
       "    }\n",
       "\n",
       "    .dataframe tbody tr th {\n",
       "        vertical-align: top;\n",
       "    }\n",
       "\n",
       "    .dataframe thead th {\n",
       "        text-align: right;\n",
       "    }\n",
       "</style>\n",
       "<table border=\"1\" class=\"dataframe\">\n",
       "  <thead>\n",
       "    <tr style=\"text-align: right;\">\n",
       "      <th></th>\n",
       "      <th>Metadata_plate</th>\n",
       "      <th>Metadata_Well</th>\n",
       "      <th>Metadata_number_of_singlecells</th>\n",
       "      <th>Metadata_compound</th>\n",
       "      <th>Metadata_dose</th>\n",
       "      <th>Metadata_control</th>\n",
       "      <th>Metadata_ImageNumber</th>\n",
       "      <th>Metadata_FOV</th>\n",
       "      <th>Metadata_Time</th>\n",
       "      <th>Metadata_Cells_Number_Object_Number</th>\n",
       "      <th>...</th>\n",
       "      <th>channel_DNA_cls_feature_93_scDINO</th>\n",
       "      <th>channel_DNA_cls_feature_94_scDINO</th>\n",
       "      <th>channel_DNA_cls_feature_95_scDINO</th>\n",
       "      <th>channel_DNA_cls_feature_96_scDINO</th>\n",
       "      <th>channel_DNA_cls_feature_97_scDINO</th>\n",
       "      <th>channel_DNA_cls_feature_98_scDINO</th>\n",
       "      <th>channel_DNA_cls_feature_99_scDINO</th>\n",
       "      <th>channel_DNA_cls_feature_9_scDINO</th>\n",
       "      <th>Metadata_sc_unique_track_id</th>\n",
       "      <th>Metadata_Well_FOV</th>\n",
       "    </tr>\n",
       "  </thead>\n",
       "  <tbody>\n",
       "    <tr>\n",
       "      <th>0</th>\n",
       "      <td>1</td>\n",
       "      <td>C-02</td>\n",
       "      <td>180</td>\n",
       "      <td>Staurosporine</td>\n",
       "      <td>0.0</td>\n",
       "      <td>negative</td>\n",
       "      <td>1</td>\n",
       "      <td>0001</td>\n",
       "      <td>0.0</td>\n",
       "      <td>101</td>\n",
       "      <td>...</td>\n",
       "      <td>1.589703</td>\n",
       "      <td>0.313944</td>\n",
       "      <td>1.126927</td>\n",
       "      <td>-0.143103</td>\n",
       "      <td>0.241127</td>\n",
       "      <td>-0.293259</td>\n",
       "      <td>-0.283715</td>\n",
       "      <td>1.434163</td>\n",
       "      <td>C-02_0001_17</td>\n",
       "      <td>C-02_0001</td>\n",
       "    </tr>\n",
       "    <tr>\n",
       "      <th>1</th>\n",
       "      <td>1</td>\n",
       "      <td>C-02</td>\n",
       "      <td>180</td>\n",
       "      <td>Staurosporine</td>\n",
       "      <td>0.0</td>\n",
       "      <td>negative</td>\n",
       "      <td>1</td>\n",
       "      <td>0001</td>\n",
       "      <td>0.0</td>\n",
       "      <td>111</td>\n",
       "      <td>...</td>\n",
       "      <td>-1.208776</td>\n",
       "      <td>0.102750</td>\n",
       "      <td>0.845704</td>\n",
       "      <td>0.083930</td>\n",
       "      <td>-1.990931</td>\n",
       "      <td>-0.030848</td>\n",
       "      <td>-1.033722</td>\n",
       "      <td>-0.942127</td>\n",
       "      <td>C-02_0001_18</td>\n",
       "      <td>C-02_0001</td>\n",
       "    </tr>\n",
       "    <tr>\n",
       "      <th>2</th>\n",
       "      <td>1</td>\n",
       "      <td>C-02</td>\n",
       "      <td>180</td>\n",
       "      <td>Staurosporine</td>\n",
       "      <td>0.0</td>\n",
       "      <td>negative</td>\n",
       "      <td>1</td>\n",
       "      <td>0001</td>\n",
       "      <td>0.0</td>\n",
       "      <td>11</td>\n",
       "      <td>...</td>\n",
       "      <td>-0.075728</td>\n",
       "      <td>0.810937</td>\n",
       "      <td>0.300940</td>\n",
       "      <td>-0.228780</td>\n",
       "      <td>1.782329</td>\n",
       "      <td>0.153739</td>\n",
       "      <td>-0.763335</td>\n",
       "      <td>0.725093</td>\n",
       "      <td>C-02_0001_5</td>\n",
       "      <td>C-02_0001</td>\n",
       "    </tr>\n",
       "    <tr>\n",
       "      <th>3</th>\n",
       "      <td>1</td>\n",
       "      <td>C-02</td>\n",
       "      <td>180</td>\n",
       "      <td>Staurosporine</td>\n",
       "      <td>0.0</td>\n",
       "      <td>negative</td>\n",
       "      <td>1</td>\n",
       "      <td>0001</td>\n",
       "      <td>0.0</td>\n",
       "      <td>128</td>\n",
       "      <td>...</td>\n",
       "      <td>0.509754</td>\n",
       "      <td>-0.711263</td>\n",
       "      <td>0.067196</td>\n",
       "      <td>-0.149771</td>\n",
       "      <td>1.405650</td>\n",
       "      <td>0.063245</td>\n",
       "      <td>2.162110</td>\n",
       "      <td>3.187469</td>\n",
       "      <td>C-02_0001_19</td>\n",
       "      <td>C-02_0001</td>\n",
       "    </tr>\n",
       "    <tr>\n",
       "      <th>4</th>\n",
       "      <td>1</td>\n",
       "      <td>C-02</td>\n",
       "      <td>180</td>\n",
       "      <td>Staurosporine</td>\n",
       "      <td>0.0</td>\n",
       "      <td>negative</td>\n",
       "      <td>1</td>\n",
       "      <td>0001</td>\n",
       "      <td>0.0</td>\n",
       "      <td>132</td>\n",
       "      <td>...</td>\n",
       "      <td>0.344723</td>\n",
       "      <td>-0.251130</td>\n",
       "      <td>-1.851114</td>\n",
       "      <td>0.669517</td>\n",
       "      <td>-0.439855</td>\n",
       "      <td>1.576201</td>\n",
       "      <td>0.747753</td>\n",
       "      <td>0.895601</td>\n",
       "      <td>C-02_0001_20</td>\n",
       "      <td>C-02_0001</td>\n",
       "    </tr>\n",
       "  </tbody>\n",
       "</table>\n",
       "<p>5 rows × 2375 columns</p>\n",
       "</div>"
      ],
      "text/plain": [
       "   Metadata_plate Metadata_Well  Metadata_number_of_singlecells  \\\n",
       "0               1          C-02                             180   \n",
       "1               1          C-02                             180   \n",
       "2               1          C-02                             180   \n",
       "3               1          C-02                             180   \n",
       "4               1          C-02                             180   \n",
       "\n",
       "  Metadata_compound Metadata_dose Metadata_control Metadata_ImageNumber  \\\n",
       "0     Staurosporine           0.0         negative                    1   \n",
       "1     Staurosporine           0.0         negative                    1   \n",
       "2     Staurosporine           0.0         negative                    1   \n",
       "3     Staurosporine           0.0         negative                    1   \n",
       "4     Staurosporine           0.0         negative                    1   \n",
       "\n",
       "  Metadata_FOV Metadata_Time  Metadata_Cells_Number_Object_Number  ...  \\\n",
       "0         0001           0.0                                  101  ...   \n",
       "1         0001           0.0                                  111  ...   \n",
       "2         0001           0.0                                   11  ...   \n",
       "3         0001           0.0                                  128  ...   \n",
       "4         0001           0.0                                  132  ...   \n",
       "\n",
       "   channel_DNA_cls_feature_93_scDINO  channel_DNA_cls_feature_94_scDINO  \\\n",
       "0                           1.589703                           0.313944   \n",
       "1                          -1.208776                           0.102750   \n",
       "2                          -0.075728                           0.810937   \n",
       "3                           0.509754                          -0.711263   \n",
       "4                           0.344723                          -0.251130   \n",
       "\n",
       "   channel_DNA_cls_feature_95_scDINO  channel_DNA_cls_feature_96_scDINO  \\\n",
       "0                           1.126927                          -0.143103   \n",
       "1                           0.845704                           0.083930   \n",
       "2                           0.300940                          -0.228780   \n",
       "3                           0.067196                          -0.149771   \n",
       "4                          -1.851114                           0.669517   \n",
       "\n",
       "   channel_DNA_cls_feature_97_scDINO channel_DNA_cls_feature_98_scDINO  \\\n",
       "0                           0.241127                         -0.293259   \n",
       "1                          -1.990931                         -0.030848   \n",
       "2                           1.782329                          0.153739   \n",
       "3                           1.405650                          0.063245   \n",
       "4                          -0.439855                          1.576201   \n",
       "\n",
       "  channel_DNA_cls_feature_99_scDINO channel_DNA_cls_feature_9_scDINO  \\\n",
       "0                         -0.283715                         1.434163   \n",
       "1                         -1.033722                        -0.942127   \n",
       "2                         -0.763335                         0.725093   \n",
       "3                          2.162110                         3.187469   \n",
       "4                          0.747753                         0.895601   \n",
       "\n",
       "  Metadata_sc_unique_track_id Metadata_Well_FOV  \n",
       "0                C-02_0001_17         C-02_0001  \n",
       "1                C-02_0001_18         C-02_0001  \n",
       "2                 C-02_0001_5         C-02_0001  \n",
       "3                C-02_0001_19         C-02_0001  \n",
       "4                C-02_0001_20         C-02_0001  \n",
       "\n",
       "[5 rows x 2375 columns]"
      ]
     },
     "execution_count": 2,
     "metadata": {},
     "output_type": "execute_result"
    }
   ],
   "source": [
    "sc_profile_file_path = pathlib.Path(\n",
    "    \"../../data/CP_scDINO_features/combined_CP_scDINO_norm_fs.parquet\"\n",
    ").resolve(strict=True)\n",
    "endpoint_sc_profile_file_path = pathlib.Path(\n",
    "    \"../../data/CP_feature_select/endpoints/features_selected_profile.parquet\"\n",
    ").resolve(strict=True)\n",
    "sc_profile_df = pd.read_parquet(sc_profile_file_path)\n",
    "endpoint_sc_profile_df = pd.read_parquet(endpoint_sc_profile_file_path)\n",
    "endpoint_sc_profile_df[\"Metadata_Well_FOV\"] = (\n",
    "    endpoint_sc_profile_df[\"Metadata_Well\"].astype(str)\n",
    "    + \"_\"\n",
    "    + endpoint_sc_profile_df[\"Metadata_FOV\"].astype(str)\n",
    ")\n",
    "print(endpoint_sc_profile_df.shape)\n",
    "sc_profile_df[\"Metadata_sc_unique_track_id\"] = (\n",
    "    sc_profile_df[\"Metadata_Well\"].astype(str)\n",
    "    + \"_\"\n",
    "    + sc_profile_df[\"Metadata_FOV\"].astype(str)\n",
    "    + \"_\"\n",
    "    + sc_profile_df[\"Metadata_track_id\"].astype(str)\n",
    ")\n",
    "sc_profile_df[\"Metadata_Well_FOV\"] = (\n",
    "    sc_profile_df[\"Metadata_Well\"].astype(str)\n",
    "    + \"_\"\n",
    "    + sc_profile_df[\"Metadata_FOV\"].astype(str)\n",
    ")\n",
    "print(sc_profile_df.shape)\n",
    "sc_profile_df.head()"
   ]
  },
  {
   "cell_type": "code",
   "execution_count": 3,
   "metadata": {},
   "outputs": [],
   "source": [
    "# drop all nan values in the location columns\n",
    "endpoint_sc_profile_df = endpoint_sc_profile_df.dropna(\n",
    "    subset=[\"Metadata_Nuclei_Location_Center_X\", \"Metadata_Nuclei_Location_Center_Y\"]\n",
    ")"
   ]
  },
  {
   "cell_type": "code",
   "execution_count": 4,
   "metadata": {},
   "outputs": [],
   "source": [
    "last_time_point_df = sc_profile_df.loc[\n",
    "    sc_profile_df[\"Metadata_Well_FOV\"].isin(\n",
    "        endpoint_sc_profile_df[\"Metadata_Well_FOV\"].unique()\n",
    "    )\n",
    "]"
   ]
  },
  {
   "cell_type": "code",
   "execution_count": 5,
   "metadata": {},
   "outputs": [
    {
     "name": "stdout",
     "output_type": "stream",
     "text": [
      "80\n",
      "80\n"
     ]
    }
   ],
   "source": [
    "print(len(last_time_point_df[\"Metadata_Well_FOV\"].unique()))\n",
    "print(len(endpoint_sc_profile_df[\"Metadata_Well_FOV\"].unique()))"
   ]
  },
  {
   "cell_type": "code",
   "execution_count": 6,
   "metadata": {},
   "outputs": [],
   "source": [
    "dict_of_sc_well_fovs = {}\n",
    "for well_fov in last_time_point_df[\"Metadata_Well_FOV\"].unique():\n",
    "    dict_of_sc_well_fovs[well_fov] = last_time_point_df[\n",
    "        last_time_point_df[\"Metadata_Well_FOV\"] == well_fov\n",
    "    ].copy()\n",
    "    # get only the last timepoint of the track\n",
    "\n",
    "    dict_of_sc_well_fovs[well_fov].reset_index(drop=True, inplace=True)\n",
    "dict_of_sc_well_fovs_endpoint = {}\n",
    "for well_fov in endpoint_sc_profile_df[\"Metadata_Well_FOV\"].unique():\n",
    "    dict_of_sc_well_fovs_endpoint[well_fov] = endpoint_sc_profile_df[\n",
    "        endpoint_sc_profile_df[\"Metadata_Well_FOV\"] == well_fov\n",
    "    ].copy()\n",
    "    dict_of_sc_well_fovs_endpoint[well_fov].reset_index(drop=True, inplace=True)"
   ]
  },
  {
   "cell_type": "code",
   "execution_count": 7,
   "metadata": {},
   "outputs": [],
   "source": [
    "start_time = time.time()"
   ]
  },
  {
   "cell_type": "code",
   "execution_count": 8,
   "metadata": {},
   "outputs": [
    {
     "data": {
      "application/vnd.jupyter.widget-view+json": {
       "model_id": "900656fc55e24396be85a0a31273db23",
       "version_major": 2,
       "version_minor": 0
      },
      "text/plain": [
       "Processing Well-FOVs:   0%|          | 0/80 [00:00<?, ?it/s]"
      ]
     },
     "metadata": {},
     "output_type": "display_data"
    },
    {
     "data": {
      "application/vnd.jupyter.widget-view+json": {
       "model_id": "f46487a7e5fc4d6a89006dc1e444647a",
       "version_major": 2,
       "version_minor": 0
      },
      "text/plain": [
       "Outer Loop:   0%|          | 0/1421 [00:00<?, ?it/s]"
      ]
     },
     "metadata": {},
     "output_type": "display_data"
    },
    {
     "data": {
      "application/vnd.jupyter.widget-view+json": {
       "model_id": "4923e22f59a540d4acca732568170315",
       "version_major": 2,
       "version_minor": 0
      },
      "text/plain": [
       "Outer Loop:   0%|          | 0/1687 [00:00<?, ?it/s]"
      ]
     },
     "metadata": {},
     "output_type": "display_data"
    },
    {
     "data": {
      "application/vnd.jupyter.widget-view+json": {
       "model_id": "f8c89da1f57b478fbc372449dc29039a",
       "version_major": 2,
       "version_minor": 0
      },
      "text/plain": [
       "Outer Loop:   0%|          | 0/1588 [00:00<?, ?it/s]"
      ]
     },
     "metadata": {},
     "output_type": "display_data"
    },
    {
     "data": {
      "application/vnd.jupyter.widget-view+json": {
       "model_id": "a3dbbd0aade94e1590669bdaec4206e5",
       "version_major": 2,
       "version_minor": 0
      },
      "text/plain": [
       "Outer Loop:   0%|          | 0/1182 [00:00<?, ?it/s]"
      ]
     },
     "metadata": {},
     "output_type": "display_data"
    },
    {
     "data": {
      "application/vnd.jupyter.widget-view+json": {
       "model_id": "d6f8270264c94d52863feaf6901514a6",
       "version_major": 2,
       "version_minor": 0
      },
      "text/plain": [
       "Outer Loop:   0%|          | 0/1692 [00:00<?, ?it/s]"
      ]
     },
     "metadata": {},
     "output_type": "display_data"
    },
    {
     "data": {
      "application/vnd.jupyter.widget-view+json": {
       "model_id": "57f345f94c02476bac1eb164d96eedc3",
       "version_major": 2,
       "version_minor": 0
      },
      "text/plain": [
       "Outer Loop:   0%|          | 0/1628 [00:00<?, ?it/s]"
      ]
     },
     "metadata": {},
     "output_type": "display_data"
    },
    {
     "data": {
      "application/vnd.jupyter.widget-view+json": {
       "model_id": "27a638478fef4530b80958e8277d1d6d",
       "version_major": 2,
       "version_minor": 0
      },
      "text/plain": [
       "Outer Loop:   0%|          | 0/1481 [00:00<?, ?it/s]"
      ]
     },
     "metadata": {},
     "output_type": "display_data"
    },
    {
     "data": {
      "application/vnd.jupyter.widget-view+json": {
       "model_id": "d4207a6f9db6438faf71142c33a60383",
       "version_major": 2,
       "version_minor": 0
      },
      "text/plain": [
       "Outer Loop:   0%|          | 0/1682 [00:00<?, ?it/s]"
      ]
     },
     "metadata": {},
     "output_type": "display_data"
    },
    {
     "data": {
      "application/vnd.jupyter.widget-view+json": {
       "model_id": "3abd5292efdd4eb8a7c2d632e7027673",
       "version_major": 2,
       "version_minor": 0
      },
      "text/plain": [
       "Outer Loop:   0%|          | 0/1582 [00:00<?, ?it/s]"
      ]
     },
     "metadata": {},
     "output_type": "display_data"
    },
    {
     "data": {
      "application/vnd.jupyter.widget-view+json": {
       "model_id": "7e70099eee81474da5b7acd88a566294",
       "version_major": 2,
       "version_minor": 0
      },
      "text/plain": [
       "Outer Loop:   0%|          | 0/1566 [00:00<?, ?it/s]"
      ]
     },
     "metadata": {},
     "output_type": "display_data"
    },
    {
     "data": {
      "application/vnd.jupyter.widget-view+json": {
       "model_id": "617305226eb24835860993c1371ebb68",
       "version_major": 2,
       "version_minor": 0
      },
      "text/plain": [
       "Outer Loop:   0%|          | 0/1464 [00:00<?, ?it/s]"
      ]
     },
     "metadata": {},
     "output_type": "display_data"
    },
    {
     "data": {
      "application/vnd.jupyter.widget-view+json": {
       "model_id": "221ae68094454edc8f333fce75cad5b7",
       "version_major": 2,
       "version_minor": 0
      },
      "text/plain": [
       "Outer Loop:   0%|          | 0/1427 [00:00<?, ?it/s]"
      ]
     },
     "metadata": {},
     "output_type": "display_data"
    },
    {
     "data": {
      "application/vnd.jupyter.widget-view+json": {
       "model_id": "f6f9384953734bbbbc6fe39ac9d26dd8",
       "version_major": 2,
       "version_minor": 0
      },
      "text/plain": [
       "Outer Loop:   0%|          | 0/1217 [00:00<?, ?it/s]"
      ]
     },
     "metadata": {},
     "output_type": "display_data"
    },
    {
     "data": {
      "application/vnd.jupyter.widget-view+json": {
       "model_id": "a653a32e6cc349399f7b3c6df1d4344a",
       "version_major": 2,
       "version_minor": 0
      },
      "text/plain": [
       "Outer Loop:   0%|          | 0/1581 [00:00<?, ?it/s]"
      ]
     },
     "metadata": {},
     "output_type": "display_data"
    },
    {
     "data": {
      "application/vnd.jupyter.widget-view+json": {
       "model_id": "6e5f59d00a4344c78405b86c284c6bdc",
       "version_major": 2,
       "version_minor": 0
      },
      "text/plain": [
       "Outer Loop:   0%|          | 0/1452 [00:00<?, ?it/s]"
      ]
     },
     "metadata": {},
     "output_type": "display_data"
    },
    {
     "data": {
      "application/vnd.jupyter.widget-view+json": {
       "model_id": "15407f114ca24e31a47bbad33eecf678",
       "version_major": 2,
       "version_minor": 0
      },
      "text/plain": [
       "Outer Loop:   0%|          | 0/1631 [00:00<?, ?it/s]"
      ]
     },
     "metadata": {},
     "output_type": "display_data"
    },
    {
     "data": {
      "application/vnd.jupyter.widget-view+json": {
       "model_id": "c11d77d42854457db28ebd7687f0e681",
       "version_major": 2,
       "version_minor": 0
      },
      "text/plain": [
       "Outer Loop:   0%|          | 0/1462 [00:00<?, ?it/s]"
      ]
     },
     "metadata": {},
     "output_type": "display_data"
    },
    {
     "data": {
      "application/vnd.jupyter.widget-view+json": {
       "model_id": "1606a8e22adc455598f3fe1d6f339953",
       "version_major": 2,
       "version_minor": 0
      },
      "text/plain": [
       "Outer Loop:   0%|          | 0/1434 [00:00<?, ?it/s]"
      ]
     },
     "metadata": {},
     "output_type": "display_data"
    },
    {
     "data": {
      "application/vnd.jupyter.widget-view+json": {
       "model_id": "965995e48d044289ae65416213e97947",
       "version_major": 2,
       "version_minor": 0
      },
      "text/plain": [
       "Outer Loop:   0%|          | 0/1584 [00:00<?, ?it/s]"
      ]
     },
     "metadata": {},
     "output_type": "display_data"
    },
    {
     "data": {
      "application/vnd.jupyter.widget-view+json": {
       "model_id": "d34029db5bc64b04935ad75e7ce74090",
       "version_major": 2,
       "version_minor": 0
      },
      "text/plain": [
       "Outer Loop:   0%|          | 0/1369 [00:00<?, ?it/s]"
      ]
     },
     "metadata": {},
     "output_type": "display_data"
    },
    {
     "data": {
      "application/vnd.jupyter.widget-view+json": {
       "model_id": "27985ca2033449438593f8e01ce262e9",
       "version_major": 2,
       "version_minor": 0
      },
      "text/plain": [
       "Outer Loop:   0%|          | 0/1610 [00:00<?, ?it/s]"
      ]
     },
     "metadata": {},
     "output_type": "display_data"
    },
    {
     "data": {
      "application/vnd.jupyter.widget-view+json": {
       "model_id": "8354e818f0ca4475a8e705f541ebdc85",
       "version_major": 2,
       "version_minor": 0
      },
      "text/plain": [
       "Outer Loop:   0%|          | 0/1657 [00:00<?, ?it/s]"
      ]
     },
     "metadata": {},
     "output_type": "display_data"
    },
    {
     "data": {
      "application/vnd.jupyter.widget-view+json": {
       "model_id": "055995289ed444fd8c64104b00d7209e",
       "version_major": 2,
       "version_minor": 0
      },
      "text/plain": [
       "Outer Loop:   0%|          | 0/1623 [00:00<?, ?it/s]"
      ]
     },
     "metadata": {},
     "output_type": "display_data"
    },
    {
     "data": {
      "application/vnd.jupyter.widget-view+json": {
       "model_id": "f1f3e077c19f46ac9ac5e6bcc76bc839",
       "version_major": 2,
       "version_minor": 0
      },
      "text/plain": [
       "Outer Loop:   0%|          | 0/1852 [00:00<?, ?it/s]"
      ]
     },
     "metadata": {},
     "output_type": "display_data"
    },
    {
     "data": {
      "application/vnd.jupyter.widget-view+json": {
       "model_id": "a63b1bbb037545258258c674747469a3",
       "version_major": 2,
       "version_minor": 0
      },
      "text/plain": [
       "Outer Loop:   0%|          | 0/1244 [00:00<?, ?it/s]"
      ]
     },
     "metadata": {},
     "output_type": "display_data"
    },
    {
     "data": {
      "application/vnd.jupyter.widget-view+json": {
       "model_id": "b6c6ee40b6f440ed9adafcde67b71774",
       "version_major": 2,
       "version_minor": 0
      },
      "text/plain": [
       "Outer Loop:   0%|          | 0/1616 [00:00<?, ?it/s]"
      ]
     },
     "metadata": {},
     "output_type": "display_data"
    },
    {
     "data": {
      "application/vnd.jupyter.widget-view+json": {
       "model_id": "727acc25854d4c9bb1d519bafd87abf7",
       "version_major": 2,
       "version_minor": 0
      },
      "text/plain": [
       "Outer Loop:   0%|          | 0/1202 [00:00<?, ?it/s]"
      ]
     },
     "metadata": {},
     "output_type": "display_data"
    },
    {
     "data": {
      "application/vnd.jupyter.widget-view+json": {
       "model_id": "ddd5c0b5824a436e98a1cb0ffd7fd5e7",
       "version_major": 2,
       "version_minor": 0
      },
      "text/plain": [
       "Outer Loop:   0%|          | 0/1613 [00:00<?, ?it/s]"
      ]
     },
     "metadata": {},
     "output_type": "display_data"
    },
    {
     "data": {
      "application/vnd.jupyter.widget-view+json": {
       "model_id": "b667b9adf52042c49e7b8911d95380a8",
       "version_major": 2,
       "version_minor": 0
      },
      "text/plain": [
       "Outer Loop:   0%|          | 0/1674 [00:00<?, ?it/s]"
      ]
     },
     "metadata": {},
     "output_type": "display_data"
    },
    {
     "data": {
      "application/vnd.jupyter.widget-view+json": {
       "model_id": "5e7df45feb0f4b8195cf267b67748cf3",
       "version_major": 2,
       "version_minor": 0
      },
      "text/plain": [
       "Outer Loop:   0%|          | 0/1370 [00:00<?, ?it/s]"
      ]
     },
     "metadata": {},
     "output_type": "display_data"
    },
    {
     "data": {
      "application/vnd.jupyter.widget-view+json": {
       "model_id": "591d88b9cb5e47568cfcce16660f421f",
       "version_major": 2,
       "version_minor": 0
      },
      "text/plain": [
       "Outer Loop:   0%|          | 0/1819 [00:00<?, ?it/s]"
      ]
     },
     "metadata": {},
     "output_type": "display_data"
    },
    {
     "data": {
      "application/vnd.jupyter.widget-view+json": {
       "model_id": "eb12e87bab3d4392a78946dd65b933af",
       "version_major": 2,
       "version_minor": 0
      },
      "text/plain": [
       "Outer Loop:   0%|          | 0/1549 [00:00<?, ?it/s]"
      ]
     },
     "metadata": {},
     "output_type": "display_data"
    },
    {
     "data": {
      "application/vnd.jupyter.widget-view+json": {
       "model_id": "f749254e381a4bdea7339040dc0f334e",
       "version_major": 2,
       "version_minor": 0
      },
      "text/plain": [
       "Outer Loop:   0%|          | 0/1615 [00:00<?, ?it/s]"
      ]
     },
     "metadata": {},
     "output_type": "display_data"
    },
    {
     "data": {
      "application/vnd.jupyter.widget-view+json": {
       "model_id": "fa308a17f7534a4e8a6fced045e6a349",
       "version_major": 2,
       "version_minor": 0
      },
      "text/plain": [
       "Outer Loop:   0%|          | 0/1339 [00:00<?, ?it/s]"
      ]
     },
     "metadata": {},
     "output_type": "display_data"
    },
    {
     "data": {
      "application/vnd.jupyter.widget-view+json": {
       "model_id": "283e770ab5a34fd48c1eb039dede4ed7",
       "version_major": 2,
       "version_minor": 0
      },
      "text/plain": [
       "Outer Loop:   0%|          | 0/1481 [00:00<?, ?it/s]"
      ]
     },
     "metadata": {},
     "output_type": "display_data"
    },
    {
     "data": {
      "application/vnd.jupyter.widget-view+json": {
       "model_id": "f3819a05d94d4941bcc1eef314ad2ae7",
       "version_major": 2,
       "version_minor": 0
      },
      "text/plain": [
       "Outer Loop:   0%|          | 0/1383 [00:00<?, ?it/s]"
      ]
     },
     "metadata": {},
     "output_type": "display_data"
    },
    {
     "data": {
      "application/vnd.jupyter.widget-view+json": {
       "model_id": "2b6b5163a7f944b0a6e2db28a7e0800f",
       "version_major": 2,
       "version_minor": 0
      },
      "text/plain": [
       "Outer Loop:   0%|          | 0/1651 [00:00<?, ?it/s]"
      ]
     },
     "metadata": {},
     "output_type": "display_data"
    },
    {
     "data": {
      "application/vnd.jupyter.widget-view+json": {
       "model_id": "6ec32242a34340e2875f6aaa88d3c339",
       "version_major": 2,
       "version_minor": 0
      },
      "text/plain": [
       "Outer Loop:   0%|          | 0/1466 [00:00<?, ?it/s]"
      ]
     },
     "metadata": {},
     "output_type": "display_data"
    },
    {
     "data": {
      "application/vnd.jupyter.widget-view+json": {
       "model_id": "04a07ec4f7db471bb2279154a01be199",
       "version_major": 2,
       "version_minor": 0
      },
      "text/plain": [
       "Outer Loop:   0%|          | 0/888 [00:00<?, ?it/s]"
      ]
     },
     "metadata": {},
     "output_type": "display_data"
    },
    {
     "data": {
      "application/vnd.jupyter.widget-view+json": {
       "model_id": "390f232aa217418f8488886d91113a61",
       "version_major": 2,
       "version_minor": 0
      },
      "text/plain": [
       "Outer Loop:   0%|          | 0/1523 [00:00<?, ?it/s]"
      ]
     },
     "metadata": {},
     "output_type": "display_data"
    },
    {
     "data": {
      "application/vnd.jupyter.widget-view+json": {
       "model_id": "ff8a0c3d34c849809f67913850ff8422",
       "version_major": 2,
       "version_minor": 0
      },
      "text/plain": [
       "Outer Loop:   0%|          | 0/1608 [00:00<?, ?it/s]"
      ]
     },
     "metadata": {},
     "output_type": "display_data"
    },
    {
     "data": {
      "application/vnd.jupyter.widget-view+json": {
       "model_id": "c7631fb03b29471da7d777a595f33f13",
       "version_major": 2,
       "version_minor": 0
      },
      "text/plain": [
       "Outer Loop:   0%|          | 0/1564 [00:00<?, ?it/s]"
      ]
     },
     "metadata": {},
     "output_type": "display_data"
    },
    {
     "data": {
      "application/vnd.jupyter.widget-view+json": {
       "model_id": "1d01445d4ec94e3ea9bde6e3d33bd3d3",
       "version_major": 2,
       "version_minor": 0
      },
      "text/plain": [
       "Outer Loop:   0%|          | 0/1486 [00:00<?, ?it/s]"
      ]
     },
     "metadata": {},
     "output_type": "display_data"
    },
    {
     "data": {
      "application/vnd.jupyter.widget-view+json": {
       "model_id": "3b78ad806ebc4da59f4cf90e2a6d21ae",
       "version_major": 2,
       "version_minor": 0
      },
      "text/plain": [
       "Outer Loop:   0%|          | 0/1274 [00:00<?, ?it/s]"
      ]
     },
     "metadata": {},
     "output_type": "display_data"
    },
    {
     "data": {
      "application/vnd.jupyter.widget-view+json": {
       "model_id": "ab207d2410df4cc2ab8848636384ca57",
       "version_major": 2,
       "version_minor": 0
      },
      "text/plain": [
       "Outer Loop:   0%|          | 0/1596 [00:00<?, ?it/s]"
      ]
     },
     "metadata": {},
     "output_type": "display_data"
    },
    {
     "data": {
      "application/vnd.jupyter.widget-view+json": {
       "model_id": "59eb5fd217a54b4197d3d70bdbad254f",
       "version_major": 2,
       "version_minor": 0
      },
      "text/plain": [
       "Outer Loop:   0%|          | 0/1702 [00:00<?, ?it/s]"
      ]
     },
     "metadata": {},
     "output_type": "display_data"
    },
    {
     "data": {
      "application/vnd.jupyter.widget-view+json": {
       "model_id": "dddce660a3c14795abd135419328c7d3",
       "version_major": 2,
       "version_minor": 0
      },
      "text/plain": [
       "Outer Loop:   0%|          | 0/1603 [00:00<?, ?it/s]"
      ]
     },
     "metadata": {},
     "output_type": "display_data"
    },
    {
     "data": {
      "application/vnd.jupyter.widget-view+json": {
       "model_id": "83276b2fb01e41d7aed1f154c026cb5e",
       "version_major": 2,
       "version_minor": 0
      },
      "text/plain": [
       "Outer Loop:   0%|          | 0/1764 [00:00<?, ?it/s]"
      ]
     },
     "metadata": {},
     "output_type": "display_data"
    },
    {
     "data": {
      "application/vnd.jupyter.widget-view+json": {
       "model_id": "7342d3918e9e47e6a9d426dba46e0c53",
       "version_major": 2,
       "version_minor": 0
      },
      "text/plain": [
       "Outer Loop:   0%|          | 0/1829 [00:00<?, ?it/s]"
      ]
     },
     "metadata": {},
     "output_type": "display_data"
    },
    {
     "data": {
      "application/vnd.jupyter.widget-view+json": {
       "model_id": "658f349fa1fa44f28907e43458a8081b",
       "version_major": 2,
       "version_minor": 0
      },
      "text/plain": [
       "Outer Loop:   0%|          | 0/1676 [00:00<?, ?it/s]"
      ]
     },
     "metadata": {},
     "output_type": "display_data"
    },
    {
     "data": {
      "application/vnd.jupyter.widget-view+json": {
       "model_id": "cca3a761cc1d4acf8ad92d1f42532f6e",
       "version_major": 2,
       "version_minor": 0
      },
      "text/plain": [
       "Outer Loop:   0%|          | 0/1814 [00:00<?, ?it/s]"
      ]
     },
     "metadata": {},
     "output_type": "display_data"
    },
    {
     "data": {
      "application/vnd.jupyter.widget-view+json": {
       "model_id": "510c4b106b744b7b85fb72e1068aa2ec",
       "version_major": 2,
       "version_minor": 0
      },
      "text/plain": [
       "Outer Loop:   0%|          | 0/1695 [00:00<?, ?it/s]"
      ]
     },
     "metadata": {},
     "output_type": "display_data"
    },
    {
     "data": {
      "application/vnd.jupyter.widget-view+json": {
       "model_id": "e90d51a579f843f781d4e37d410fafdc",
       "version_major": 2,
       "version_minor": 0
      },
      "text/plain": [
       "Outer Loop:   0%|          | 0/1793 [00:00<?, ?it/s]"
      ]
     },
     "metadata": {},
     "output_type": "display_data"
    },
    {
     "data": {
      "application/vnd.jupyter.widget-view+json": {
       "model_id": "df1e362c53c1419eaf0942853c0325a9",
       "version_major": 2,
       "version_minor": 0
      },
      "text/plain": [
       "Outer Loop:   0%|          | 0/1771 [00:00<?, ?it/s]"
      ]
     },
     "metadata": {},
     "output_type": "display_data"
    },
    {
     "data": {
      "application/vnd.jupyter.widget-view+json": {
       "model_id": "d658392f43d245ff9d2be053df563c3e",
       "version_major": 2,
       "version_minor": 0
      },
      "text/plain": [
       "Outer Loop:   0%|          | 0/1731 [00:00<?, ?it/s]"
      ]
     },
     "metadata": {},
     "output_type": "display_data"
    },
    {
     "data": {
      "application/vnd.jupyter.widget-view+json": {
       "model_id": "85e2a23473844af2ae4727c537645564",
       "version_major": 2,
       "version_minor": 0
      },
      "text/plain": [
       "Outer Loop:   0%|          | 0/1768 [00:00<?, ?it/s]"
      ]
     },
     "metadata": {},
     "output_type": "display_data"
    },
    {
     "data": {
      "application/vnd.jupyter.widget-view+json": {
       "model_id": "c53534b6c8804c8cb5b3c1a16006de20",
       "version_major": 2,
       "version_minor": 0
      },
      "text/plain": [
       "Outer Loop:   0%|          | 0/2036 [00:00<?, ?it/s]"
      ]
     },
     "metadata": {},
     "output_type": "display_data"
    },
    {
     "data": {
      "application/vnd.jupyter.widget-view+json": {
       "model_id": "d19fb8b7171741778060424bb17f5497",
       "version_major": 2,
       "version_minor": 0
      },
      "text/plain": [
       "Outer Loop:   0%|          | 0/1718 [00:00<?, ?it/s]"
      ]
     },
     "metadata": {},
     "output_type": "display_data"
    },
    {
     "data": {
      "application/vnd.jupyter.widget-view+json": {
       "model_id": "ddc1bf0f62704ef4875108ffd96e198c",
       "version_major": 2,
       "version_minor": 0
      },
      "text/plain": [
       "Outer Loop:   0%|          | 0/1752 [00:00<?, ?it/s]"
      ]
     },
     "metadata": {},
     "output_type": "display_data"
    },
    {
     "data": {
      "application/vnd.jupyter.widget-view+json": {
       "model_id": "09a1397eda4246fa9cbf0de808a1d7da",
       "version_major": 2,
       "version_minor": 0
      },
      "text/plain": [
       "Outer Loop:   0%|          | 0/1526 [00:00<?, ?it/s]"
      ]
     },
     "metadata": {},
     "output_type": "display_data"
    },
    {
     "data": {
      "application/vnd.jupyter.widget-view+json": {
       "model_id": "3cd65fec814e48739b4e0b2978029b11",
       "version_major": 2,
       "version_minor": 0
      },
      "text/plain": [
       "Outer Loop:   0%|          | 0/1618 [00:00<?, ?it/s]"
      ]
     },
     "metadata": {},
     "output_type": "display_data"
    },
    {
     "data": {
      "application/vnd.jupyter.widget-view+json": {
       "model_id": "acb87d690a9a4304b4899096f2f177e3",
       "version_major": 2,
       "version_minor": 0
      },
      "text/plain": [
       "Outer Loop:   0%|          | 0/1617 [00:00<?, ?it/s]"
      ]
     },
     "metadata": {},
     "output_type": "display_data"
    },
    {
     "data": {
      "application/vnd.jupyter.widget-view+json": {
       "model_id": "72ff290768164b15a4a0ed5c200c55e4",
       "version_major": 2,
       "version_minor": 0
      },
      "text/plain": [
       "Outer Loop:   0%|          | 0/1533 [00:00<?, ?it/s]"
      ]
     },
     "metadata": {},
     "output_type": "display_data"
    },
    {
     "data": {
      "application/vnd.jupyter.widget-view+json": {
       "model_id": "d3b964f09c934b3da2ac9c881903d7c7",
       "version_major": 2,
       "version_minor": 0
      },
      "text/plain": [
       "Outer Loop:   0%|          | 0/1613 [00:00<?, ?it/s]"
      ]
     },
     "metadata": {},
     "output_type": "display_data"
    },
    {
     "data": {
      "application/vnd.jupyter.widget-view+json": {
       "model_id": "8c4fa0789e674a249382154a8344f0f6",
       "version_major": 2,
       "version_minor": 0
      },
      "text/plain": [
       "Outer Loop:   0%|          | 0/1906 [00:00<?, ?it/s]"
      ]
     },
     "metadata": {},
     "output_type": "display_data"
    },
    {
     "data": {
      "application/vnd.jupyter.widget-view+json": {
       "model_id": "7002b9dfdf4641a7b78ae5ad5fa6b292",
       "version_major": 2,
       "version_minor": 0
      },
      "text/plain": [
       "Outer Loop:   0%|          | 0/1843 [00:00<?, ?it/s]"
      ]
     },
     "metadata": {},
     "output_type": "display_data"
    },
    {
     "data": {
      "application/vnd.jupyter.widget-view+json": {
       "model_id": "b88922d7a39243f9a2e581de3c76796a",
       "version_major": 2,
       "version_minor": 0
      },
      "text/plain": [
       "Outer Loop:   0%|          | 0/1600 [00:00<?, ?it/s]"
      ]
     },
     "metadata": {},
     "output_type": "display_data"
    },
    {
     "data": {
      "application/vnd.jupyter.widget-view+json": {
       "model_id": "ae640e2f4dda49d38bf5199e75bb4d99",
       "version_major": 2,
       "version_minor": 0
      },
      "text/plain": [
       "Outer Loop:   0%|          | 0/1766 [00:00<?, ?it/s]"
      ]
     },
     "metadata": {},
     "output_type": "display_data"
    },
    {
     "data": {
      "application/vnd.jupyter.widget-view+json": {
       "model_id": "b8f8262936d24a0eb9af3621947fd065",
       "version_major": 2,
       "version_minor": 0
      },
      "text/plain": [
       "Outer Loop:   0%|          | 0/2035 [00:00<?, ?it/s]"
      ]
     },
     "metadata": {},
     "output_type": "display_data"
    },
    {
     "data": {
      "application/vnd.jupyter.widget-view+json": {
       "model_id": "95bab5b4fd7543b5acb23f392e925cd6",
       "version_major": 2,
       "version_minor": 0
      },
      "text/plain": [
       "Outer Loop:   0%|          | 0/1745 [00:00<?, ?it/s]"
      ]
     },
     "metadata": {},
     "output_type": "display_data"
    },
    {
     "data": {
      "application/vnd.jupyter.widget-view+json": {
       "model_id": "82b90f74c1c5405cb25993b5cc2a6f4f",
       "version_major": 2,
       "version_minor": 0
      },
      "text/plain": [
       "Outer Loop:   0%|          | 0/1838 [00:00<?, ?it/s]"
      ]
     },
     "metadata": {},
     "output_type": "display_data"
    },
    {
     "data": {
      "application/vnd.jupyter.widget-view+json": {
       "model_id": "7e2c454cb88040cbb0c95919aaaa98f0",
       "version_major": 2,
       "version_minor": 0
      },
      "text/plain": [
       "Outer Loop:   0%|          | 0/1638 [00:00<?, ?it/s]"
      ]
     },
     "metadata": {},
     "output_type": "display_data"
    },
    {
     "data": {
      "application/vnd.jupyter.widget-view+json": {
       "model_id": "2a91182cd21942ea91bb82b15c7f01a1",
       "version_major": 2,
       "version_minor": 0
      },
      "text/plain": [
       "Outer Loop:   0%|          | 0/1496 [00:00<?, ?it/s]"
      ]
     },
     "metadata": {},
     "output_type": "display_data"
    },
    {
     "data": {
      "application/vnd.jupyter.widget-view+json": {
       "model_id": "54d0d7c1c4aa456aa9ee78686908e7dc",
       "version_major": 2,
       "version_minor": 0
      },
      "text/plain": [
       "Outer Loop:   0%|          | 0/1028 [00:00<?, ?it/s]"
      ]
     },
     "metadata": {},
     "output_type": "display_data"
    },
    {
     "data": {
      "application/vnd.jupyter.widget-view+json": {
       "model_id": "9d57936d9c294a358042e4cb2ae62eb1",
       "version_major": 2,
       "version_minor": 0
      },
      "text/plain": [
       "Outer Loop:   0%|          | 0/1764 [00:00<?, ?it/s]"
      ]
     },
     "metadata": {},
     "output_type": "display_data"
    },
    {
     "data": {
      "application/vnd.jupyter.widget-view+json": {
       "model_id": "495e11f643b94c859ab2cda2f294ec80",
       "version_major": 2,
       "version_minor": 0
      },
      "text/plain": [
       "Outer Loop:   0%|          | 0/1507 [00:00<?, ?it/s]"
      ]
     },
     "metadata": {},
     "output_type": "display_data"
    },
    {
     "data": {
      "application/vnd.jupyter.widget-view+json": {
       "model_id": "ab4fac8b0834481ba4ae89cfecfdb4c0",
       "version_major": 2,
       "version_minor": 0
      },
      "text/plain": [
       "Outer Loop:   0%|          | 0/1548 [00:00<?, ?it/s]"
      ]
     },
     "metadata": {},
     "output_type": "display_data"
    },
    {
     "data": {
      "application/vnd.jupyter.widget-view+json": {
       "model_id": "7c1b896899fb41cd93f4275ced7c96b7",
       "version_major": 2,
       "version_minor": 0
      },
      "text/plain": [
       "Outer Loop:   0%|          | 0/1213 [00:00<?, ?it/s]"
      ]
     },
     "metadata": {},
     "output_type": "display_data"
    },
    {
     "data": {
      "application/vnd.jupyter.widget-view+json": {
       "model_id": "836871a6b1de46c4804b5fc5215a44da",
       "version_major": 2,
       "version_minor": 0
      },
      "text/plain": [
       "Outer Loop:   0%|          | 0/1444 [00:00<?, ?it/s]"
      ]
     },
     "metadata": {},
     "output_type": "display_data"
    },
    {
     "data": {
      "application/vnd.jupyter.widget-view+json": {
       "model_id": "3e8713319f98479a8eefbb88c3a2afb5",
       "version_major": 2,
       "version_minor": 0
      },
      "text/plain": [
       "Outer Loop:   0%|          | 0/1524 [00:00<?, ?it/s]"
      ]
     },
     "metadata": {},
     "output_type": "display_data"
    }
   ],
   "source": [
    "for well_fov in tqdm(list(dict_of_sc_well_fovs.keys()), desc=\"Processing Well-FOVs\"):\n",
    "    for i, row in tqdm(\n",
    "        dict_of_sc_well_fovs[well_fov].iterrows(),\n",
    "        total=len(dict_of_sc_well_fovs[well_fov]),\n",
    "        desc=\"Outer Loop\",\n",
    "        leave=False,\n",
    "    ):\n",
    "        for j, row2 in dict_of_sc_well_fovs_endpoint[well_fov].iterrows():\n",
    "            # check that the well_fov is the same\n",
    "            if row[\"Metadata_Well_FOV\"] == row2[\"Metadata_Well_FOV\"]:\n",
    "                distance = abs(\n",
    "                    euclidean(\n",
    "                        [\n",
    "                            row[\"Metadata_Nuclei_Location_Center_X\"],\n",
    "                            row[\"Metadata_Nuclei_Location_Center_Y\"],\n",
    "                        ],\n",
    "                        [\n",
    "                            row2[\"Metadata_Nuclei_Location_Center_X\"],\n",
    "                            row2[\"Metadata_Nuclei_Location_Center_Y\"],\n",
    "                        ],\n",
    "                    )\n",
    "                )\n",
    "                if distance < 10:\n",
    "                    dict_of_sc_well_fovs_endpoint[well_fov].at[\n",
    "                        j, \"Metadata_sc_unique_track_id\"\n",
    "                    ] = row[\"Metadata_sc_unique_track_id\"]"
   ]
  },
  {
   "cell_type": "code",
   "execution_count": 9,
   "metadata": {},
   "outputs": [
    {
     "name": "stdout",
     "output_type": "stream",
     "text": [
      "Fuzzy matching completed!\n",
      "Took 8285.907985687256 seconds\n",
      "Took 138.1 minutes\n",
      "Took 2.3 hours\n"
     ]
    }
   ],
   "source": [
    "print(\"Fuzzy matching completed!\")\n",
    "print(f\"Took {time.time() - start_time} seconds\")\n",
    "print(f\"Took {round((time.time() - start_time) / 60, 2)} minutes\")\n",
    "print(f\"Took {round((time.time() - start_time) / 3600, 2)} hours\")"
   ]
  },
  {
   "cell_type": "code",
   "execution_count": 10,
   "metadata": {},
   "outputs": [
    {
     "name": "stdout",
     "output_type": "stream",
     "text": [
      "(11340, 368)\n"
     ]
    },
    {
     "data": {
      "text/html": [
       "<div>\n",
       "<style scoped>\n",
       "    .dataframe tbody tr th:only-of-type {\n",
       "        vertical-align: middle;\n",
       "    }\n",
       "\n",
       "    .dataframe tbody tr th {\n",
       "        vertical-align: top;\n",
       "    }\n",
       "\n",
       "    .dataframe thead th {\n",
       "        text-align: right;\n",
       "    }\n",
       "</style>\n",
       "<table border=\"1\" class=\"dataframe\">\n",
       "  <thead>\n",
       "    <tr style=\"text-align: right;\">\n",
       "      <th></th>\n",
       "      <th>Metadata_plate</th>\n",
       "      <th>Metadata_Well</th>\n",
       "      <th>Metadata_number_of_singlecells</th>\n",
       "      <th>Metadata_compound</th>\n",
       "      <th>Metadata_dose</th>\n",
       "      <th>Metadata_control</th>\n",
       "      <th>Metadata_ImageNumber</th>\n",
       "      <th>Metadata_FOV</th>\n",
       "      <th>Metadata_Time</th>\n",
       "      <th>Metadata_Cells_Number_Object_Number</th>\n",
       "      <th>...</th>\n",
       "      <th>Cells_Texture_Correlation_AnnexinV_3_01_256</th>\n",
       "      <th>Cells_Texture_Correlation_AnnexinV_3_02_256</th>\n",
       "      <th>Cells_Texture_Correlation_AnnexinV_3_03_256</th>\n",
       "      <th>Cells_Texture_Correlation_DNA_3_02_256</th>\n",
       "      <th>Cells_Texture_DifferenceVariance_AnnexinV_3_02_256</th>\n",
       "      <th>Cells_Texture_InverseDifferenceMoment_AnnexinV_3_03_256</th>\n",
       "      <th>Cells_Texture_SumAverage_AnnexinV_3_00_256</th>\n",
       "      <th>Cells_Texture_SumAverage_DNA_3_01_256</th>\n",
       "      <th>Metadata_Well_FOV</th>\n",
       "      <th>Metadata_sc_unique_track_id</th>\n",
       "    </tr>\n",
       "  </thead>\n",
       "  <tbody>\n",
       "    <tr>\n",
       "      <th>0</th>\n",
       "      <td>1</td>\n",
       "      <td>C-09</td>\n",
       "      <td>69</td>\n",
       "      <td>Staurosporine</td>\n",
       "      <td>39.06</td>\n",
       "      <td>positive</td>\n",
       "      <td>1</td>\n",
       "      <td>0002</td>\n",
       "      <td>13.0</td>\n",
       "      <td>23</td>\n",
       "      <td>...</td>\n",
       "      <td>-0.105321</td>\n",
       "      <td>0.258335</td>\n",
       "      <td>0.245637</td>\n",
       "      <td>-0.370941</td>\n",
       "      <td>0.063992</td>\n",
       "      <td>0.382514</td>\n",
       "      <td>-0.135229</td>\n",
       "      <td>2.375118</td>\n",
       "      <td>C-09_0002</td>\n",
       "      <td>C-09_0002_129</td>\n",
       "    </tr>\n",
       "    <tr>\n",
       "      <th>1</th>\n",
       "      <td>1</td>\n",
       "      <td>C-09</td>\n",
       "      <td>69</td>\n",
       "      <td>Staurosporine</td>\n",
       "      <td>39.06</td>\n",
       "      <td>positive</td>\n",
       "      <td>1</td>\n",
       "      <td>0002</td>\n",
       "      <td>13.0</td>\n",
       "      <td>25</td>\n",
       "      <td>...</td>\n",
       "      <td>-0.650287</td>\n",
       "      <td>-0.535347</td>\n",
       "      <td>-0.911682</td>\n",
       "      <td>-0.218577</td>\n",
       "      <td>0.378465</td>\n",
       "      <td>0.509536</td>\n",
       "      <td>-0.265312</td>\n",
       "      <td>3.657820</td>\n",
       "      <td>C-09_0002</td>\n",
       "      <td>C-09_0002_39</td>\n",
       "    </tr>\n",
       "    <tr>\n",
       "      <th>2</th>\n",
       "      <td>1</td>\n",
       "      <td>C-09</td>\n",
       "      <td>69</td>\n",
       "      <td>Staurosporine</td>\n",
       "      <td>39.06</td>\n",
       "      <td>positive</td>\n",
       "      <td>1</td>\n",
       "      <td>0002</td>\n",
       "      <td>13.0</td>\n",
       "      <td>36</td>\n",
       "      <td>...</td>\n",
       "      <td>-0.153755</td>\n",
       "      <td>0.307227</td>\n",
       "      <td>-0.233445</td>\n",
       "      <td>-0.147660</td>\n",
       "      <td>-0.076404</td>\n",
       "      <td>0.218955</td>\n",
       "      <td>-0.069362</td>\n",
       "      <td>2.324912</td>\n",
       "      <td>C-09_0002</td>\n",
       "      <td>C-09_0002_66</td>\n",
       "    </tr>\n",
       "    <tr>\n",
       "      <th>3</th>\n",
       "      <td>1</td>\n",
       "      <td>C-09</td>\n",
       "      <td>69</td>\n",
       "      <td>Staurosporine</td>\n",
       "      <td>39.06</td>\n",
       "      <td>positive</td>\n",
       "      <td>1</td>\n",
       "      <td>0002</td>\n",
       "      <td>13.0</td>\n",
       "      <td>38</td>\n",
       "      <td>...</td>\n",
       "      <td>0.270074</td>\n",
       "      <td>0.500432</td>\n",
       "      <td>0.445759</td>\n",
       "      <td>-0.162800</td>\n",
       "      <td>-0.105987</td>\n",
       "      <td>0.304090</td>\n",
       "      <td>-0.025800</td>\n",
       "      <td>2.870185</td>\n",
       "      <td>C-09_0002</td>\n",
       "      <td>C-09_0002_65</td>\n",
       "    </tr>\n",
       "    <tr>\n",
       "      <th>4</th>\n",
       "      <td>1</td>\n",
       "      <td>C-09</td>\n",
       "      <td>69</td>\n",
       "      <td>Staurosporine</td>\n",
       "      <td>39.06</td>\n",
       "      <td>positive</td>\n",
       "      <td>1</td>\n",
       "      <td>0002</td>\n",
       "      <td>13.0</td>\n",
       "      <td>42</td>\n",
       "      <td>...</td>\n",
       "      <td>-0.312933</td>\n",
       "      <td>0.471374</td>\n",
       "      <td>-0.057580</td>\n",
       "      <td>-1.426125</td>\n",
       "      <td>-0.291901</td>\n",
       "      <td>0.369278</td>\n",
       "      <td>-0.142464</td>\n",
       "      <td>0.237744</td>\n",
       "      <td>C-09_0002</td>\n",
       "      <td>C-09_0002_75</td>\n",
       "    </tr>\n",
       "  </tbody>\n",
       "</table>\n",
       "<p>5 rows × 368 columns</p>\n",
       "</div>"
      ],
      "text/plain": [
       "   Metadata_plate Metadata_Well  Metadata_number_of_singlecells  \\\n",
       "0               1          C-09                              69   \n",
       "1               1          C-09                              69   \n",
       "2               1          C-09                              69   \n",
       "3               1          C-09                              69   \n",
       "4               1          C-09                              69   \n",
       "\n",
       "  Metadata_compound  Metadata_dose Metadata_control  Metadata_ImageNumber  \\\n",
       "0     Staurosporine          39.06         positive                     1   \n",
       "1     Staurosporine          39.06         positive                     1   \n",
       "2     Staurosporine          39.06         positive                     1   \n",
       "3     Staurosporine          39.06         positive                     1   \n",
       "4     Staurosporine          39.06         positive                     1   \n",
       "\n",
       "  Metadata_FOV  Metadata_Time  Metadata_Cells_Number_Object_Number  ...  \\\n",
       "0         0002           13.0                                   23  ...   \n",
       "1         0002           13.0                                   25  ...   \n",
       "2         0002           13.0                                   36  ...   \n",
       "3         0002           13.0                                   38  ...   \n",
       "4         0002           13.0                                   42  ...   \n",
       "\n",
       "   Cells_Texture_Correlation_AnnexinV_3_01_256  \\\n",
       "0                                    -0.105321   \n",
       "1                                    -0.650287   \n",
       "2                                    -0.153755   \n",
       "3                                     0.270074   \n",
       "4                                    -0.312933   \n",
       "\n",
       "   Cells_Texture_Correlation_AnnexinV_3_02_256  \\\n",
       "0                                     0.258335   \n",
       "1                                    -0.535347   \n",
       "2                                     0.307227   \n",
       "3                                     0.500432   \n",
       "4                                     0.471374   \n",
       "\n",
       "   Cells_Texture_Correlation_AnnexinV_3_03_256  \\\n",
       "0                                     0.245637   \n",
       "1                                    -0.911682   \n",
       "2                                    -0.233445   \n",
       "3                                     0.445759   \n",
       "4                                    -0.057580   \n",
       "\n",
       "   Cells_Texture_Correlation_DNA_3_02_256  \\\n",
       "0                               -0.370941   \n",
       "1                               -0.218577   \n",
       "2                               -0.147660   \n",
       "3                               -0.162800   \n",
       "4                               -1.426125   \n",
       "\n",
       "   Cells_Texture_DifferenceVariance_AnnexinV_3_02_256  \\\n",
       "0                                           0.063992    \n",
       "1                                           0.378465    \n",
       "2                                          -0.076404    \n",
       "3                                          -0.105987    \n",
       "4                                          -0.291901    \n",
       "\n",
       "   Cells_Texture_InverseDifferenceMoment_AnnexinV_3_03_256  \\\n",
       "0                                           0.382514         \n",
       "1                                           0.509536         \n",
       "2                                           0.218955         \n",
       "3                                           0.304090         \n",
       "4                                           0.369278         \n",
       "\n",
       "  Cells_Texture_SumAverage_AnnexinV_3_00_256  \\\n",
       "0                                  -0.135229   \n",
       "1                                  -0.265312   \n",
       "2                                  -0.069362   \n",
       "3                                  -0.025800   \n",
       "4                                  -0.142464   \n",
       "\n",
       "  Cells_Texture_SumAverage_DNA_3_01_256 Metadata_Well_FOV  \\\n",
       "0                              2.375118         C-09_0002   \n",
       "1                              3.657820         C-09_0002   \n",
       "2                              2.324912         C-09_0002   \n",
       "3                              2.870185         C-09_0002   \n",
       "4                              0.237744         C-09_0002   \n",
       "\n",
       "  Metadata_sc_unique_track_id  \n",
       "0               C-09_0002_129  \n",
       "1                C-09_0002_39  \n",
       "2                C-09_0002_66  \n",
       "3                C-09_0002_65  \n",
       "4                C-09_0002_75  \n",
       "\n",
       "[5 rows x 368 columns]"
      ]
     },
     "execution_count": 10,
     "metadata": {},
     "output_type": "execute_result"
    }
   ],
   "source": [
    "sc_well_fovs_endpoint_df = pd.concat(\n",
    "    dict_of_sc_well_fovs_endpoint.values(), ignore_index=True\n",
    ")\n",
    "# drop the rows where Metadata_sc_unique_track_id is NaN\n",
    "sc_well_fovs_endpoint_df = sc_well_fovs_endpoint_df.dropna(\n",
    "    subset=[\"Metadata_sc_unique_track_id\"]\n",
    ")\n",
    "print(sc_well_fovs_endpoint_df.shape)\n",
    "sc_well_fovs_endpoint_df.reset_index(drop=True, inplace=True)\n",
    "sc_well_fovs_endpoint_df[\"Metadata_Time\"] = 13.0\n",
    "sc_well_fovs_endpoint_df.head()"
   ]
  },
  {
   "cell_type": "code",
   "execution_count": 11,
   "metadata": {},
   "outputs": [
    {
     "data": {
      "text/html": [
       "<div>\n",
       "<style scoped>\n",
       "    .dataframe tbody tr th:only-of-type {\n",
       "        vertical-align: middle;\n",
       "    }\n",
       "\n",
       "    .dataframe tbody tr th {\n",
       "        vertical-align: top;\n",
       "    }\n",
       "\n",
       "    .dataframe thead th {\n",
       "        text-align: right;\n",
       "    }\n",
       "</style>\n",
       "<table border=\"1\" class=\"dataframe\">\n",
       "  <thead>\n",
       "    <tr style=\"text-align: right;\">\n",
       "      <th></th>\n",
       "      <th>Metadata_plate</th>\n",
       "      <th>Metadata_Well</th>\n",
       "      <th>Metadata_number_of_singlecells</th>\n",
       "      <th>Metadata_compound</th>\n",
       "      <th>Metadata_dose</th>\n",
       "      <th>Metadata_control</th>\n",
       "      <th>Metadata_ImageNumber</th>\n",
       "      <th>Metadata_FOV</th>\n",
       "      <th>Metadata_Time</th>\n",
       "      <th>Metadata_Cells_Number_Object_Number</th>\n",
       "      <th>...</th>\n",
       "      <th>channel_DNA_cls_feature_94_scDINO</th>\n",
       "      <th>channel_DNA_cls_feature_95_scDINO</th>\n",
       "      <th>channel_DNA_cls_feature_96_scDINO</th>\n",
       "      <th>channel_DNA_cls_feature_97_scDINO</th>\n",
       "      <th>channel_DNA_cls_feature_98_scDINO</th>\n",
       "      <th>channel_DNA_cls_feature_99_scDINO</th>\n",
       "      <th>channel_DNA_cls_feature_9_scDINO</th>\n",
       "      <th>Metadata_sc_unique_track_id</th>\n",
       "      <th>Metadata_Well_FOV</th>\n",
       "      <th>Metadata_sc_unique_track_id_count</th>\n",
       "    </tr>\n",
       "  </thead>\n",
       "  <tbody>\n",
       "    <tr>\n",
       "      <th>0</th>\n",
       "      <td>1</td>\n",
       "      <td>C-02</td>\n",
       "      <td>180</td>\n",
       "      <td>Staurosporine</td>\n",
       "      <td>0.0</td>\n",
       "      <td>negative</td>\n",
       "      <td>1</td>\n",
       "      <td>0001</td>\n",
       "      <td>0.0</td>\n",
       "      <td>101</td>\n",
       "      <td>...</td>\n",
       "      <td>0.313944</td>\n",
       "      <td>1.126927</td>\n",
       "      <td>-0.143103</td>\n",
       "      <td>0.241127</td>\n",
       "      <td>-0.293259</td>\n",
       "      <td>-0.283715</td>\n",
       "      <td>1.434163</td>\n",
       "      <td>C-02_0001_17</td>\n",
       "      <td>C-02_0001</td>\n",
       "      <td>13</td>\n",
       "    </tr>\n",
       "    <tr>\n",
       "      <th>1</th>\n",
       "      <td>1</td>\n",
       "      <td>C-02</td>\n",
       "      <td>180</td>\n",
       "      <td>Staurosporine</td>\n",
       "      <td>0.0</td>\n",
       "      <td>negative</td>\n",
       "      <td>1</td>\n",
       "      <td>0001</td>\n",
       "      <td>0.0</td>\n",
       "      <td>111</td>\n",
       "      <td>...</td>\n",
       "      <td>0.102750</td>\n",
       "      <td>0.845704</td>\n",
       "      <td>0.083930</td>\n",
       "      <td>-1.990931</td>\n",
       "      <td>-0.030848</td>\n",
       "      <td>-1.033722</td>\n",
       "      <td>-0.942127</td>\n",
       "      <td>C-02_0001_18</td>\n",
       "      <td>C-02_0001</td>\n",
       "      <td>13</td>\n",
       "    </tr>\n",
       "    <tr>\n",
       "      <th>2</th>\n",
       "      <td>1</td>\n",
       "      <td>C-02</td>\n",
       "      <td>180</td>\n",
       "      <td>Staurosporine</td>\n",
       "      <td>0.0</td>\n",
       "      <td>negative</td>\n",
       "      <td>1</td>\n",
       "      <td>0001</td>\n",
       "      <td>0.0</td>\n",
       "      <td>11</td>\n",
       "      <td>...</td>\n",
       "      <td>0.810937</td>\n",
       "      <td>0.300940</td>\n",
       "      <td>-0.228780</td>\n",
       "      <td>1.782329</td>\n",
       "      <td>0.153739</td>\n",
       "      <td>-0.763335</td>\n",
       "      <td>0.725093</td>\n",
       "      <td>C-02_0001_5</td>\n",
       "      <td>C-02_0001</td>\n",
       "      <td>1</td>\n",
       "    </tr>\n",
       "    <tr>\n",
       "      <th>3</th>\n",
       "      <td>1</td>\n",
       "      <td>C-02</td>\n",
       "      <td>180</td>\n",
       "      <td>Staurosporine</td>\n",
       "      <td>0.0</td>\n",
       "      <td>negative</td>\n",
       "      <td>1</td>\n",
       "      <td>0001</td>\n",
       "      <td>0.0</td>\n",
       "      <td>128</td>\n",
       "      <td>...</td>\n",
       "      <td>-0.711263</td>\n",
       "      <td>0.067196</td>\n",
       "      <td>-0.149771</td>\n",
       "      <td>1.405650</td>\n",
       "      <td>0.063245</td>\n",
       "      <td>2.162110</td>\n",
       "      <td>3.187469</td>\n",
       "      <td>C-02_0001_19</td>\n",
       "      <td>C-02_0001</td>\n",
       "      <td>13</td>\n",
       "    </tr>\n",
       "    <tr>\n",
       "      <th>4</th>\n",
       "      <td>1</td>\n",
       "      <td>C-02</td>\n",
       "      <td>180</td>\n",
       "      <td>Staurosporine</td>\n",
       "      <td>0.0</td>\n",
       "      <td>negative</td>\n",
       "      <td>1</td>\n",
       "      <td>0001</td>\n",
       "      <td>0.0</td>\n",
       "      <td>132</td>\n",
       "      <td>...</td>\n",
       "      <td>-0.251130</td>\n",
       "      <td>-1.851114</td>\n",
       "      <td>0.669517</td>\n",
       "      <td>-0.439855</td>\n",
       "      <td>1.576201</td>\n",
       "      <td>0.747753</td>\n",
       "      <td>0.895601</td>\n",
       "      <td>C-02_0001_20</td>\n",
       "      <td>C-02_0001</td>\n",
       "      <td>6</td>\n",
       "    </tr>\n",
       "  </tbody>\n",
       "</table>\n",
       "<p>5 rows × 2376 columns</p>\n",
       "</div>"
      ],
      "text/plain": [
       "   Metadata_plate Metadata_Well  Metadata_number_of_singlecells  \\\n",
       "0               1          C-02                             180   \n",
       "1               1          C-02                             180   \n",
       "2               1          C-02                             180   \n",
       "3               1          C-02                             180   \n",
       "4               1          C-02                             180   \n",
       "\n",
       "  Metadata_compound Metadata_dose Metadata_control Metadata_ImageNumber  \\\n",
       "0     Staurosporine           0.0         negative                    1   \n",
       "1     Staurosporine           0.0         negative                    1   \n",
       "2     Staurosporine           0.0         negative                    1   \n",
       "3     Staurosporine           0.0         negative                    1   \n",
       "4     Staurosporine           0.0         negative                    1   \n",
       "\n",
       "  Metadata_FOV Metadata_Time  Metadata_Cells_Number_Object_Number  ...  \\\n",
       "0         0001           0.0                                  101  ...   \n",
       "1         0001           0.0                                  111  ...   \n",
       "2         0001           0.0                                   11  ...   \n",
       "3         0001           0.0                                  128  ...   \n",
       "4         0001           0.0                                  132  ...   \n",
       "\n",
       "   channel_DNA_cls_feature_94_scDINO  channel_DNA_cls_feature_95_scDINO  \\\n",
       "0                           0.313944                           1.126927   \n",
       "1                           0.102750                           0.845704   \n",
       "2                           0.810937                           0.300940   \n",
       "3                          -0.711263                           0.067196   \n",
       "4                          -0.251130                          -1.851114   \n",
       "\n",
       "   channel_DNA_cls_feature_96_scDINO  channel_DNA_cls_feature_97_scDINO  \\\n",
       "0                          -0.143103                           0.241127   \n",
       "1                           0.083930                          -1.990931   \n",
       "2                          -0.228780                           1.782329   \n",
       "3                          -0.149771                           1.405650   \n",
       "4                           0.669517                          -0.439855   \n",
       "\n",
       "   channel_DNA_cls_feature_98_scDINO channel_DNA_cls_feature_99_scDINO  \\\n",
       "0                          -0.293259                         -0.283715   \n",
       "1                          -0.030848                         -1.033722   \n",
       "2                           0.153739                         -0.763335   \n",
       "3                           0.063245                          2.162110   \n",
       "4                           1.576201                          0.747753   \n",
       "\n",
       "  channel_DNA_cls_feature_9_scDINO Metadata_sc_unique_track_id  \\\n",
       "0                         1.434163                C-02_0001_17   \n",
       "1                        -0.942127                C-02_0001_18   \n",
       "2                         0.725093                 C-02_0001_5   \n",
       "3                         3.187469                C-02_0001_19   \n",
       "4                         0.895601                C-02_0001_20   \n",
       "\n",
       "  Metadata_Well_FOV Metadata_sc_unique_track_id_count  \n",
       "0         C-02_0001                                13  \n",
       "1         C-02_0001                                13  \n",
       "2         C-02_0001                                 1  \n",
       "3         C-02_0001                                13  \n",
       "4         C-02_0001                                 6  \n",
       "\n",
       "[5 rows x 2376 columns]"
      ]
     },
     "execution_count": 11,
     "metadata": {},
     "output_type": "execute_result"
    }
   ],
   "source": [
    "# find the unique values in the Metadata_sc_unique_track_id column that have more than 11 time values\n",
    "sc_profile_df[\"Metadata_sc_unique_track_id\"].value_counts()\n",
    "# map the value counts to a new column for each Metadata_sc_unique_track_id\n",
    "sc_profile_df[\"Metadata_sc_unique_track_id_count\"] = sc_profile_df[\n",
    "    \"Metadata_sc_unique_track_id\"\n",
    "].map(sc_profile_df[\"Metadata_sc_unique_track_id\"].value_counts())\n",
    "sc_profile_df.head()"
   ]
  },
  {
   "cell_type": "code",
   "execution_count": 12,
   "metadata": {},
   "outputs": [],
   "source": [
    "# write the cleaned dataframe to a parquet file\n",
    "output_sc_file_path = pathlib.Path(\"../results/cleaned_sc_profile.parquet\").resolve(\n",
    "    strict=False\n",
    ")\n",
    "output_sc_endpoint_file_path = pathlib.Path(\n",
    "    \"../results/cleaned_endpoint_sc_profile.parquet\"\n",
    ").resolve(strict=False)\n",
    "output_sc_file_path.parent.mkdir(parents=True, exist_ok=True)\n",
    "\n",
    "sc_profile_df.to_parquet(output_sc_file_path, index=False)\n",
    "sc_well_fovs_endpoint_df.to_parquet(output_sc_endpoint_file_path, index=False)"
   ]
  }
 ],
 "metadata": {
  "kernelspec": {
   "display_name": "timelapse_analaysis_env",
   "language": "python",
   "name": "python3"
  },
  "language_info": {
   "codemirror_mode": {
    "name": "ipython",
    "version": 3
   },
   "file_extension": ".py",
   "mimetype": "text/x-python",
   "name": "python",
   "nbconvert_exporter": "python",
   "pygments_lexer": "ipython3",
   "version": "3.11.11"
  }
 },
 "nbformat": 4,
 "nbformat_minor": 2
}
