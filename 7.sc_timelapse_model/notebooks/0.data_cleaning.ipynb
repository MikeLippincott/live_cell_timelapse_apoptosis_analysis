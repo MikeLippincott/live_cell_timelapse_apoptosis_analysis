{
 "cells": [
  {
   "cell_type": "markdown",
   "metadata": {},
   "source": [
    "This notebook performs a fuzzy match on single-cells from the profile data to the endpoint data.\n",
    "This is necessary because  the endpoint data was not included in the tracking module.\n",
    "Further this notebook provides information about how long the cell track is."
   ]
  },
  {
   "cell_type": "code",
   "execution_count": 1,
   "metadata": {},
   "outputs": [],
   "source": [
    "import pathlib\n",
    "import time\n",
    "\n",
    "import numpy as np\n",
    "import pandas as pd\n",
    "from scipy.spatial.distance import euclidean\n",
    "\n",
    "try:\n",
    "    cfg = get_ipython().config\n",
    "    in_notebook = True\n",
    "except NameError:\n",
    "    in_notebook = False\n",
    "if in_notebook:\n",
    "    from tqdm.notebook import tqdm\n",
    "else:\n",
    "    from tqdm import tqdm"
   ]
  },
  {
   "cell_type": "code",
   "execution_count": 2,
   "metadata": {},
   "outputs": [
    {
     "name": "stdout",
     "output_type": "stream",
     "text": [
      "(9918, 544)\n",
      "(188065, 2380)\n"
     ]
    },
    {
     "data": {
      "text/html": [
       "<div>\n",
       "<style scoped>\n",
       "    .dataframe tbody tr th:only-of-type {\n",
       "        vertical-align: middle;\n",
       "    }\n",
       "\n",
       "    .dataframe tbody tr th {\n",
       "        vertical-align: top;\n",
       "    }\n",
       "\n",
       "    .dataframe thead th {\n",
       "        text-align: right;\n",
       "    }\n",
       "</style>\n",
       "<table border=\"1\" class=\"dataframe\">\n",
       "  <thead>\n",
       "    <tr style=\"text-align: right;\">\n",
       "      <th></th>\n",
       "      <th>Metadata_plate</th>\n",
       "      <th>Metadata_Well</th>\n",
       "      <th>Metadata_number_of_singlecells</th>\n",
       "      <th>Metadata_compound</th>\n",
       "      <th>Metadata_dose</th>\n",
       "      <th>Metadata_control</th>\n",
       "      <th>Metadata_ImageNumber</th>\n",
       "      <th>Metadata_FOV</th>\n",
       "      <th>Metadata_Time</th>\n",
       "      <th>Metadata_Cells_Number_Object_Number</th>\n",
       "      <th>...</th>\n",
       "      <th>channel_DNA_cls_feature_98_scDINO</th>\n",
       "      <th>channel_DNA_cls_feature_99_scDINO</th>\n",
       "      <th>channel_DNA_cls_feature_9_scDINO</th>\n",
       "      <th>Metadata_Image_FileName_CL_488_1_crop</th>\n",
       "      <th>Metadata_Image_FileName_CL_488_2_crop</th>\n",
       "      <th>Metadata_Image_FileName_CL_561_crop</th>\n",
       "      <th>Metadata_Image_FileName_DNA_crop</th>\n",
       "      <th>Metadata_parent_path</th>\n",
       "      <th>Metadata_sc_unique_track_id</th>\n",
       "      <th>Metadata_Well_FOV</th>\n",
       "    </tr>\n",
       "  </thead>\n",
       "  <tbody>\n",
       "    <tr>\n",
       "      <th>0</th>\n",
       "      <td>1</td>\n",
       "      <td>C-09</td>\n",
       "      <td>168</td>\n",
       "      <td>Staurosporine</td>\n",
       "      <td>39.06</td>\n",
       "      <td>positive</td>\n",
       "      <td>1</td>\n",
       "      <td>0002</td>\n",
       "      <td>0.0</td>\n",
       "      <td>7</td>\n",
       "      <td>...</td>\n",
       "      <td>-0.123520</td>\n",
       "      <td>2.401852</td>\n",
       "      <td>1.516202</td>\n",
       "      <td>/home/lippincm/4TB_A/live_cell_timelapse_apopt...</td>\n",
       "      <td>/home/lippincm/4TB_A/live_cell_timelapse_apopt...</td>\n",
       "      <td>/home/lippincm/4TB_A/live_cell_timelapse_apopt...</td>\n",
       "      <td>/home/lippincm/4TB_A/live_cell_timelapse_apopt...</td>\n",
       "      <td>/home/lippincm/4TB_A/live_cell_timelapse_apopt...</td>\n",
       "      <td>C-09_0002_5</td>\n",
       "      <td>C-09_0002</td>\n",
       "    </tr>\n",
       "    <tr>\n",
       "      <th>1</th>\n",
       "      <td>1</td>\n",
       "      <td>C-09</td>\n",
       "      <td>168</td>\n",
       "      <td>Staurosporine</td>\n",
       "      <td>39.06</td>\n",
       "      <td>positive</td>\n",
       "      <td>1</td>\n",
       "      <td>0002</td>\n",
       "      <td>0.0</td>\n",
       "      <td>9</td>\n",
       "      <td>...</td>\n",
       "      <td>-0.835988</td>\n",
       "      <td>-0.264486</td>\n",
       "      <td>0.153676</td>\n",
       "      <td>/home/lippincm/4TB_A/live_cell_timelapse_apopt...</td>\n",
       "      <td>/home/lippincm/4TB_A/live_cell_timelapse_apopt...</td>\n",
       "      <td>/home/lippincm/4TB_A/live_cell_timelapse_apopt...</td>\n",
       "      <td>/home/lippincm/4TB_A/live_cell_timelapse_apopt...</td>\n",
       "      <td>/home/lippincm/4TB_A/live_cell_timelapse_apopt...</td>\n",
       "      <td>C-09_0002_6</td>\n",
       "      <td>C-09_0002</td>\n",
       "    </tr>\n",
       "    <tr>\n",
       "      <th>2</th>\n",
       "      <td>1</td>\n",
       "      <td>C-09</td>\n",
       "      <td>168</td>\n",
       "      <td>Staurosporine</td>\n",
       "      <td>39.06</td>\n",
       "      <td>positive</td>\n",
       "      <td>1</td>\n",
       "      <td>0002</td>\n",
       "      <td>0.0</td>\n",
       "      <td>10</td>\n",
       "      <td>...</td>\n",
       "      <td>-0.359857</td>\n",
       "      <td>0.659583</td>\n",
       "      <td>0.537619</td>\n",
       "      <td>/home/lippincm/4TB_A/live_cell_timelapse_apopt...</td>\n",
       "      <td>/home/lippincm/4TB_A/live_cell_timelapse_apopt...</td>\n",
       "      <td>/home/lippincm/4TB_A/live_cell_timelapse_apopt...</td>\n",
       "      <td>/home/lippincm/4TB_A/live_cell_timelapse_apopt...</td>\n",
       "      <td>/home/lippincm/4TB_A/live_cell_timelapse_apopt...</td>\n",
       "      <td>C-09_0002_7</td>\n",
       "      <td>C-09_0002</td>\n",
       "    </tr>\n",
       "    <tr>\n",
       "      <th>3</th>\n",
       "      <td>1</td>\n",
       "      <td>C-09</td>\n",
       "      <td>168</td>\n",
       "      <td>Staurosporine</td>\n",
       "      <td>39.06</td>\n",
       "      <td>positive</td>\n",
       "      <td>1</td>\n",
       "      <td>0002</td>\n",
       "      <td>0.0</td>\n",
       "      <td>11</td>\n",
       "      <td>...</td>\n",
       "      <td>0.211796</td>\n",
       "      <td>0.443178</td>\n",
       "      <td>1.129714</td>\n",
       "      <td>/home/lippincm/4TB_A/live_cell_timelapse_apopt...</td>\n",
       "      <td>/home/lippincm/4TB_A/live_cell_timelapse_apopt...</td>\n",
       "      <td>/home/lippincm/4TB_A/live_cell_timelapse_apopt...</td>\n",
       "      <td>/home/lippincm/4TB_A/live_cell_timelapse_apopt...</td>\n",
       "      <td>/home/lippincm/4TB_A/live_cell_timelapse_apopt...</td>\n",
       "      <td>C-09_0002_8</td>\n",
       "      <td>C-09_0002</td>\n",
       "    </tr>\n",
       "    <tr>\n",
       "      <th>4</th>\n",
       "      <td>1</td>\n",
       "      <td>C-09</td>\n",
       "      <td>168</td>\n",
       "      <td>Staurosporine</td>\n",
       "      <td>39.06</td>\n",
       "      <td>positive</td>\n",
       "      <td>1</td>\n",
       "      <td>0002</td>\n",
       "      <td>0.0</td>\n",
       "      <td>12</td>\n",
       "      <td>...</td>\n",
       "      <td>-1.694061</td>\n",
       "      <td>-0.228990</td>\n",
       "      <td>0.648714</td>\n",
       "      <td>/home/lippincm/4TB_A/live_cell_timelapse_apopt...</td>\n",
       "      <td>/home/lippincm/4TB_A/live_cell_timelapse_apopt...</td>\n",
       "      <td>/home/lippincm/4TB_A/live_cell_timelapse_apopt...</td>\n",
       "      <td>/home/lippincm/4TB_A/live_cell_timelapse_apopt...</td>\n",
       "      <td>/home/lippincm/4TB_A/live_cell_timelapse_apopt...</td>\n",
       "      <td>C-09_0002_9</td>\n",
       "      <td>C-09_0002</td>\n",
       "    </tr>\n",
       "  </tbody>\n",
       "</table>\n",
       "<p>5 rows × 2380 columns</p>\n",
       "</div>"
      ],
      "text/plain": [
       "   Metadata_plate Metadata_Well  Metadata_number_of_singlecells  \\\n",
       "0               1          C-09                             168   \n",
       "1               1          C-09                             168   \n",
       "2               1          C-09                             168   \n",
       "3               1          C-09                             168   \n",
       "4               1          C-09                             168   \n",
       "\n",
       "  Metadata_compound Metadata_dose Metadata_control Metadata_ImageNumber  \\\n",
       "0     Staurosporine         39.06         positive                    1   \n",
       "1     Staurosporine         39.06         positive                    1   \n",
       "2     Staurosporine         39.06         positive                    1   \n",
       "3     Staurosporine         39.06         positive                    1   \n",
       "4     Staurosporine         39.06         positive                    1   \n",
       "\n",
       "  Metadata_FOV Metadata_Time  Metadata_Cells_Number_Object_Number  ...  \\\n",
       "0         0002           0.0                                    7  ...   \n",
       "1         0002           0.0                                    9  ...   \n",
       "2         0002           0.0                                   10  ...   \n",
       "3         0002           0.0                                   11  ...   \n",
       "4         0002           0.0                                   12  ...   \n",
       "\n",
       "   channel_DNA_cls_feature_98_scDINO  channel_DNA_cls_feature_99_scDINO  \\\n",
       "0                          -0.123520                           2.401852   \n",
       "1                          -0.835988                          -0.264486   \n",
       "2                          -0.359857                           0.659583   \n",
       "3                           0.211796                           0.443178   \n",
       "4                          -1.694061                          -0.228990   \n",
       "\n",
       "   channel_DNA_cls_feature_9_scDINO  \\\n",
       "0                          1.516202   \n",
       "1                          0.153676   \n",
       "2                          0.537619   \n",
       "3                          1.129714   \n",
       "4                          0.648714   \n",
       "\n",
       "               Metadata_Image_FileName_CL_488_1_crop  \\\n",
       "0  /home/lippincm/4TB_A/live_cell_timelapse_apopt...   \n",
       "1  /home/lippincm/4TB_A/live_cell_timelapse_apopt...   \n",
       "2  /home/lippincm/4TB_A/live_cell_timelapse_apopt...   \n",
       "3  /home/lippincm/4TB_A/live_cell_timelapse_apopt...   \n",
       "4  /home/lippincm/4TB_A/live_cell_timelapse_apopt...   \n",
       "\n",
       "               Metadata_Image_FileName_CL_488_2_crop  \\\n",
       "0  /home/lippincm/4TB_A/live_cell_timelapse_apopt...   \n",
       "1  /home/lippincm/4TB_A/live_cell_timelapse_apopt...   \n",
       "2  /home/lippincm/4TB_A/live_cell_timelapse_apopt...   \n",
       "3  /home/lippincm/4TB_A/live_cell_timelapse_apopt...   \n",
       "4  /home/lippincm/4TB_A/live_cell_timelapse_apopt...   \n",
       "\n",
       "                 Metadata_Image_FileName_CL_561_crop  \\\n",
       "0  /home/lippincm/4TB_A/live_cell_timelapse_apopt...   \n",
       "1  /home/lippincm/4TB_A/live_cell_timelapse_apopt...   \n",
       "2  /home/lippincm/4TB_A/live_cell_timelapse_apopt...   \n",
       "3  /home/lippincm/4TB_A/live_cell_timelapse_apopt...   \n",
       "4  /home/lippincm/4TB_A/live_cell_timelapse_apopt...   \n",
       "\n",
       "                    Metadata_Image_FileName_DNA_crop  \\\n",
       "0  /home/lippincm/4TB_A/live_cell_timelapse_apopt...   \n",
       "1  /home/lippincm/4TB_A/live_cell_timelapse_apopt...   \n",
       "2  /home/lippincm/4TB_A/live_cell_timelapse_apopt...   \n",
       "3  /home/lippincm/4TB_A/live_cell_timelapse_apopt...   \n",
       "4  /home/lippincm/4TB_A/live_cell_timelapse_apopt...   \n",
       "\n",
       "                                Metadata_parent_path  \\\n",
       "0  /home/lippincm/4TB_A/live_cell_timelapse_apopt...   \n",
       "1  /home/lippincm/4TB_A/live_cell_timelapse_apopt...   \n",
       "2  /home/lippincm/4TB_A/live_cell_timelapse_apopt...   \n",
       "3  /home/lippincm/4TB_A/live_cell_timelapse_apopt...   \n",
       "4  /home/lippincm/4TB_A/live_cell_timelapse_apopt...   \n",
       "\n",
       "  Metadata_sc_unique_track_id Metadata_Well_FOV  \n",
       "0                 C-09_0002_5         C-09_0002  \n",
       "1                 C-09_0002_6         C-09_0002  \n",
       "2                 C-09_0002_7         C-09_0002  \n",
       "3                 C-09_0002_8         C-09_0002  \n",
       "4                 C-09_0002_9         C-09_0002  \n",
       "\n",
       "[5 rows x 2380 columns]"
      ]
     },
     "execution_count": 2,
     "metadata": {},
     "output_type": "execute_result"
    }
   ],
   "source": [
    "sc_profile_file_path = pathlib.Path(\n",
    "    \"../../data/CP_scDINO_features/combined_CP_scDINO_norm_fs.parquet\"\n",
    ").resolve(strict=True)\n",
    "endpoint_sc_profile_file_path = pathlib.Path(\n",
    "    \"../../data/CP_feature_select/endpoints/features_selected_profile.parquet\"\n",
    ").resolve(strict=True)\n",
    "sc_profile_df = pd.read_parquet(sc_profile_file_path)\n",
    "endpoint_sc_profile_df = pd.read_parquet(endpoint_sc_profile_file_path)\n",
    "endpoint_sc_profile_df[\"Metadata_Well_FOV\"] = (\n",
    "    endpoint_sc_profile_df[\"Metadata_Well\"].astype(str)\n",
    "    + \"_\"\n",
    "    + endpoint_sc_profile_df[\"Metadata_FOV\"].astype(str)\n",
    ")\n",
    "print(endpoint_sc_profile_df.shape)\n",
    "sc_profile_df[\"Metadata_sc_unique_track_id\"] = (\n",
    "    sc_profile_df[\"Metadata_Well\"].astype(str)\n",
    "    + \"_\"\n",
    "    + sc_profile_df[\"Metadata_FOV\"].astype(str)\n",
    "    + \"_\"\n",
    "    + sc_profile_df[\"Metadata_track_id\"].astype(str)\n",
    ")\n",
    "sc_profile_df[\"Metadata_Well_FOV\"] = (\n",
    "    sc_profile_df[\"Metadata_Well\"].astype(str)\n",
    "    + \"_\"\n",
    "    + sc_profile_df[\"Metadata_FOV\"].astype(str)\n",
    ")\n",
    "print(sc_profile_df.shape)\n",
    "sc_profile_df.head()"
   ]
  },
  {
   "cell_type": "code",
   "execution_count": 3,
   "metadata": {},
   "outputs": [],
   "source": [
    "# drop all nan values in the location columns\n",
    "endpoint_sc_profile_df = endpoint_sc_profile_df.dropna(\n",
    "    subset=[\"Metadata_Nuclei_Location_Center_X\", \"Metadata_Nuclei_Location_Center_Y\"]\n",
    ")"
   ]
  },
  {
   "cell_type": "code",
   "execution_count": 4,
   "metadata": {},
   "outputs": [],
   "source": [
    "last_time_point_df = sc_profile_df.loc[\n",
    "    sc_profile_df[\"Metadata_Well_FOV\"].isin(\n",
    "        endpoint_sc_profile_df[\"Metadata_Well_FOV\"].unique()\n",
    "    )\n",
    "]"
   ]
  },
  {
   "cell_type": "code",
   "execution_count": 5,
   "metadata": {},
   "outputs": [],
   "source": [
    "# chunk the dataframe by well_fov so that there are fewer indexed records to search at once during fuzzy matching\n",
    "dict_of_sc_well_fovs = {}\n",
    "for well_fov in last_time_point_df[\"Metadata_Well_FOV\"].unique():\n",
    "    dict_of_sc_well_fovs[well_fov] = last_time_point_df[\n",
    "        last_time_point_df[\"Metadata_Well_FOV\"] == well_fov\n",
    "    ].copy()\n",
    "    # get only the last timepoint of the track\n",
    "\n",
    "    dict_of_sc_well_fovs[well_fov].reset_index(drop=True, inplace=True)\n",
    "dict_of_sc_well_fovs_endpoint = {}\n",
    "for well_fov in endpoint_sc_profile_df[\"Metadata_Well_FOV\"].unique():\n",
    "    dict_of_sc_well_fovs_endpoint[well_fov] = endpoint_sc_profile_df[\n",
    "        endpoint_sc_profile_df[\"Metadata_Well_FOV\"] == well_fov\n",
    "    ].copy()\n",
    "    dict_of_sc_well_fovs_endpoint[well_fov].reset_index(drop=True, inplace=True)"
   ]
  },
  {
   "cell_type": "code",
   "execution_count": 6,
   "metadata": {},
   "outputs": [],
   "source": [
    "start_time = time.time()"
   ]
  },
  {
   "cell_type": "code",
   "execution_count": 7,
   "metadata": {},
   "outputs": [
    {
     "data": {
      "application/vnd.jupyter.widget-view+json": {
       "model_id": "c040010192cd4f3fa91a1adc10a84b32",
       "version_major": 2,
       "version_minor": 0
      },
      "text/plain": [
       "Processing Well-FOVs:   0%|          | 0/117 [00:00<?, ?it/s]"
      ]
     },
     "metadata": {},
     "output_type": "display_data"
    },
    {
     "data": {
      "application/vnd.jupyter.widget-view+json": {
       "model_id": "e56cc4c166e34531b4f6ac852924cbaf",
       "version_major": 2,
       "version_minor": 0
      },
      "text/plain": [
       "Outer Loop:   0%|          | 0/1406 [00:00<?, ?it/s]"
      ]
     },
     "metadata": {},
     "output_type": "display_data"
    },
    {
     "data": {
      "application/vnd.jupyter.widget-view+json": {
       "model_id": "d35844432421495ca0b2fc47251f7dad",
       "version_major": 2,
       "version_minor": 0
      },
      "text/plain": [
       "Outer Loop:   0%|          | 0/1714 [00:00<?, ?it/s]"
      ]
     },
     "metadata": {},
     "output_type": "display_data"
    },
    {
     "data": {
      "application/vnd.jupyter.widget-view+json": {
       "model_id": "0c69efe2ef3740d1abea454447692eb5",
       "version_major": 2,
       "version_minor": 0
      },
      "text/plain": [
       "Outer Loop:   0%|          | 0/1455 [00:00<?, ?it/s]"
      ]
     },
     "metadata": {},
     "output_type": "display_data"
    },
    {
     "data": {
      "application/vnd.jupyter.widget-view+json": {
       "model_id": "c9a6db145c6f446ba2375b84a738bb6a",
       "version_major": 2,
       "version_minor": 0
      },
      "text/plain": [
       "Outer Loop:   0%|          | 0/1540 [00:00<?, ?it/s]"
      ]
     },
     "metadata": {},
     "output_type": "display_data"
    },
    {
     "data": {
      "application/vnd.jupyter.widget-view+json": {
       "model_id": "472ef5edfa08466ba4987fad622d47ed",
       "version_major": 2,
       "version_minor": 0
      },
      "text/plain": [
       "Outer Loop:   0%|          | 0/1780 [00:00<?, ?it/s]"
      ]
     },
     "metadata": {},
     "output_type": "display_data"
    },
    {
     "data": {
      "application/vnd.jupyter.widget-view+json": {
       "model_id": "77d88582c0274a04989f4c6320afd999",
       "version_major": 2,
       "version_minor": 0
      },
      "text/plain": [
       "Outer Loop:   0%|          | 0/1493 [00:00<?, ?it/s]"
      ]
     },
     "metadata": {},
     "output_type": "display_data"
    },
    {
     "data": {
      "application/vnd.jupyter.widget-view+json": {
       "model_id": "8a740cd50b6248078641ff55aeb436da",
       "version_major": 2,
       "version_minor": 0
      },
      "text/plain": [
       "Outer Loop:   0%|          | 0/1770 [00:00<?, ?it/s]"
      ]
     },
     "metadata": {},
     "output_type": "display_data"
    },
    {
     "data": {
      "application/vnd.jupyter.widget-view+json": {
       "model_id": "552da6acfe6547aaa83bad03052e7881",
       "version_major": 2,
       "version_minor": 0
      },
      "text/plain": [
       "Outer Loop:   0%|          | 0/1380 [00:00<?, ?it/s]"
      ]
     },
     "metadata": {},
     "output_type": "display_data"
    },
    {
     "data": {
      "application/vnd.jupyter.widget-view+json": {
       "model_id": "9f96efca12b94e179f6b3e39886ff115",
       "version_major": 2,
       "version_minor": 0
      },
      "text/plain": [
       "Outer Loop:   0%|          | 0/1679 [00:00<?, ?it/s]"
      ]
     },
     "metadata": {},
     "output_type": "display_data"
    },
    {
     "data": {
      "application/vnd.jupyter.widget-view+json": {
       "model_id": "0313106d3819417faf9b3ade885aae5e",
       "version_major": 2,
       "version_minor": 0
      },
      "text/plain": [
       "Outer Loop:   0%|          | 0/1589 [00:00<?, ?it/s]"
      ]
     },
     "metadata": {},
     "output_type": "display_data"
    },
    {
     "data": {
      "application/vnd.jupyter.widget-view+json": {
       "model_id": "7ea46d4a6cb44e868fe1458dee0be45a",
       "version_major": 2,
       "version_minor": 0
      },
      "text/plain": [
       "Outer Loop:   0%|          | 0/1856 [00:00<?, ?it/s]"
      ]
     },
     "metadata": {},
     "output_type": "display_data"
    },
    {
     "data": {
      "application/vnd.jupyter.widget-view+json": {
       "model_id": "9fa6078ffc79400f97910ce4da6ad556",
       "version_major": 2,
       "version_minor": 0
      },
      "text/plain": [
       "Outer Loop:   0%|          | 0/1715 [00:00<?, ?it/s]"
      ]
     },
     "metadata": {},
     "output_type": "display_data"
    },
    {
     "data": {
      "application/vnd.jupyter.widget-view+json": {
       "model_id": "bc293437071743b48c7ed81ae0bc2576",
       "version_major": 2,
       "version_minor": 0
      },
      "text/plain": [
       "Outer Loop:   0%|          | 0/1741 [00:00<?, ?it/s]"
      ]
     },
     "metadata": {},
     "output_type": "display_data"
    },
    {
     "data": {
      "application/vnd.jupyter.widget-view+json": {
       "model_id": "716001d2a2784c53b43fb0cceb9fe6ce",
       "version_major": 2,
       "version_minor": 0
      },
      "text/plain": [
       "Outer Loop:   0%|          | 0/1513 [00:00<?, ?it/s]"
      ]
     },
     "metadata": {},
     "output_type": "display_data"
    },
    {
     "data": {
      "application/vnd.jupyter.widget-view+json": {
       "model_id": "e970044d00464bacb880bda437a6f0a7",
       "version_major": 2,
       "version_minor": 0
      },
      "text/plain": [
       "Outer Loop:   0%|          | 0/1207 [00:00<?, ?it/s]"
      ]
     },
     "metadata": {},
     "output_type": "display_data"
    },
    {
     "data": {
      "application/vnd.jupyter.widget-view+json": {
       "model_id": "4a4c6db234d54237a73ab28454980a72",
       "version_major": 2,
       "version_minor": 0
      },
      "text/plain": [
       "Outer Loop:   0%|          | 0/1412 [00:00<?, ?it/s]"
      ]
     },
     "metadata": {},
     "output_type": "display_data"
    },
    {
     "data": {
      "application/vnd.jupyter.widget-view+json": {
       "model_id": "258a465625214ee699c2138387a44bfb",
       "version_major": 2,
       "version_minor": 0
      },
      "text/plain": [
       "Outer Loop:   0%|          | 0/1710 [00:00<?, ?it/s]"
      ]
     },
     "metadata": {},
     "output_type": "display_data"
    },
    {
     "data": {
      "application/vnd.jupyter.widget-view+json": {
       "model_id": "36747ba717224cc2a670e512cc32458c",
       "version_major": 2,
       "version_minor": 0
      },
      "text/plain": [
       "Outer Loop:   0%|          | 0/1525 [00:00<?, ?it/s]"
      ]
     },
     "metadata": {},
     "output_type": "display_data"
    },
    {
     "data": {
      "application/vnd.jupyter.widget-view+json": {
       "model_id": "8b341d1fe7614bc795e5225dd8d4ef01",
       "version_major": 2,
       "version_minor": 0
      },
      "text/plain": [
       "Outer Loop:   0%|          | 0/1448 [00:00<?, ?it/s]"
      ]
     },
     "metadata": {},
     "output_type": "display_data"
    },
    {
     "data": {
      "application/vnd.jupyter.widget-view+json": {
       "model_id": "f5ce439252ac4154a5fb40a765a05ee8",
       "version_major": 2,
       "version_minor": 0
      },
      "text/plain": [
       "Outer Loop:   0%|          | 0/1262 [00:00<?, ?it/s]"
      ]
     },
     "metadata": {},
     "output_type": "display_data"
    },
    {
     "data": {
      "application/vnd.jupyter.widget-view+json": {
       "model_id": "dbded363e88b477aab6dccab6b7c38e0",
       "version_major": 2,
       "version_minor": 0
      },
      "text/plain": [
       "Outer Loop:   0%|          | 0/1752 [00:00<?, ?it/s]"
      ]
     },
     "metadata": {},
     "output_type": "display_data"
    },
    {
     "data": {
      "application/vnd.jupyter.widget-view+json": {
       "model_id": "25aaa34d465b4ce0997a69bf0f623da4",
       "version_major": 2,
       "version_minor": 0
      },
      "text/plain": [
       "Outer Loop:   0%|          | 0/1552 [00:00<?, ?it/s]"
      ]
     },
     "metadata": {},
     "output_type": "display_data"
    },
    {
     "data": {
      "application/vnd.jupyter.widget-view+json": {
       "model_id": "89c94c362e784a51a8eee3304c55301e",
       "version_major": 2,
       "version_minor": 0
      },
      "text/plain": [
       "Outer Loop:   0%|          | 0/1697 [00:00<?, ?it/s]"
      ]
     },
     "metadata": {},
     "output_type": "display_data"
    },
    {
     "data": {
      "application/vnd.jupyter.widget-view+json": {
       "model_id": "f8abf199f5fc4c50810c1d01a7285064",
       "version_major": 2,
       "version_minor": 0
      },
      "text/plain": [
       "Outer Loop:   0%|          | 0/1671 [00:00<?, ?it/s]"
      ]
     },
     "metadata": {},
     "output_type": "display_data"
    },
    {
     "data": {
      "application/vnd.jupyter.widget-view+json": {
       "model_id": "56b711bbadd14bdb912c1dd90ca2cbeb",
       "version_major": 2,
       "version_minor": 0
      },
      "text/plain": [
       "Outer Loop:   0%|          | 0/1319 [00:00<?, ?it/s]"
      ]
     },
     "metadata": {},
     "output_type": "display_data"
    },
    {
     "data": {
      "application/vnd.jupyter.widget-view+json": {
       "model_id": "59d4348615084810b6587b5aa3a69683",
       "version_major": 2,
       "version_minor": 0
      },
      "text/plain": [
       "Outer Loop:   0%|          | 0/1654 [00:00<?, ?it/s]"
      ]
     },
     "metadata": {},
     "output_type": "display_data"
    },
    {
     "data": {
      "application/vnd.jupyter.widget-view+json": {
       "model_id": "38516607268244f9aaba4651bad42ff4",
       "version_major": 2,
       "version_minor": 0
      },
      "text/plain": [
       "Outer Loop:   0%|          | 0/1455 [00:00<?, ?it/s]"
      ]
     },
     "metadata": {},
     "output_type": "display_data"
    },
    {
     "data": {
      "application/vnd.jupyter.widget-view+json": {
       "model_id": "943bf5b5b04741a586cbf624dfb92f06",
       "version_major": 2,
       "version_minor": 0
      },
      "text/plain": [
       "Outer Loop:   0%|          | 0/1581 [00:00<?, ?it/s]"
      ]
     },
     "metadata": {},
     "output_type": "display_data"
    },
    {
     "data": {
      "application/vnd.jupyter.widget-view+json": {
       "model_id": "dec2d682d36949309c92a1d83e197d06",
       "version_major": 2,
       "version_minor": 0
      },
      "text/plain": [
       "Outer Loop:   0%|          | 0/1362 [00:00<?, ?it/s]"
      ]
     },
     "metadata": {},
     "output_type": "display_data"
    },
    {
     "data": {
      "application/vnd.jupyter.widget-view+json": {
       "model_id": "4ff35fea03fc4b139a0129934070d667",
       "version_major": 2,
       "version_minor": 0
      },
      "text/plain": [
       "Outer Loop:   0%|          | 0/1491 [00:00<?, ?it/s]"
      ]
     },
     "metadata": {},
     "output_type": "display_data"
    },
    {
     "data": {
      "application/vnd.jupyter.widget-view+json": {
       "model_id": "30074c001c8c43199d46e68ca4b43356",
       "version_major": 2,
       "version_minor": 0
      },
      "text/plain": [
       "Outer Loop:   0%|          | 0/1612 [00:00<?, ?it/s]"
      ]
     },
     "metadata": {},
     "output_type": "display_data"
    },
    {
     "data": {
      "application/vnd.jupyter.widget-view+json": {
       "model_id": "38a89e05a5b24d00b7e0d549c9886f85",
       "version_major": 2,
       "version_minor": 0
      },
      "text/plain": [
       "Outer Loop:   0%|          | 0/1673 [00:00<?, ?it/s]"
      ]
     },
     "metadata": {},
     "output_type": "display_data"
    },
    {
     "data": {
      "application/vnd.jupyter.widget-view+json": {
       "model_id": "e72e28a9778046b68622832456893aea",
       "version_major": 2,
       "version_minor": 0
      },
      "text/plain": [
       "Outer Loop:   0%|          | 0/1702 [00:00<?, ?it/s]"
      ]
     },
     "metadata": {},
     "output_type": "display_data"
    },
    {
     "data": {
      "application/vnd.jupyter.widget-view+json": {
       "model_id": "07af8c2e92ba49c9881807116af4efcf",
       "version_major": 2,
       "version_minor": 0
      },
      "text/plain": [
       "Outer Loop:   0%|          | 0/1759 [00:00<?, ?it/s]"
      ]
     },
     "metadata": {},
     "output_type": "display_data"
    },
    {
     "data": {
      "application/vnd.jupyter.widget-view+json": {
       "model_id": "6c3fc8fded9e4b1abde7ee7cdbae5272",
       "version_major": 2,
       "version_minor": 0
      },
      "text/plain": [
       "Outer Loop:   0%|          | 0/1691 [00:00<?, ?it/s]"
      ]
     },
     "metadata": {},
     "output_type": "display_data"
    },
    {
     "data": {
      "application/vnd.jupyter.widget-view+json": {
       "model_id": "01255132704c49a3a92328e50f8bf7f5",
       "version_major": 2,
       "version_minor": 0
      },
      "text/plain": [
       "Outer Loop:   0%|          | 0/1282 [00:00<?, ?it/s]"
      ]
     },
     "metadata": {},
     "output_type": "display_data"
    },
    {
     "data": {
      "application/vnd.jupyter.widget-view+json": {
       "model_id": "bf4649224a6d4e0b940d96ff4b53c8b3",
       "version_major": 2,
       "version_minor": 0
      },
      "text/plain": [
       "Outer Loop:   0%|          | 0/1581 [00:00<?, ?it/s]"
      ]
     },
     "metadata": {},
     "output_type": "display_data"
    },
    {
     "data": {
      "application/vnd.jupyter.widget-view+json": {
       "model_id": "047eed01ef7b4571829e7b58b1c77436",
       "version_major": 2,
       "version_minor": 0
      },
      "text/plain": [
       "Outer Loop:   0%|          | 0/1649 [00:00<?, ?it/s]"
      ]
     },
     "metadata": {},
     "output_type": "display_data"
    },
    {
     "data": {
      "application/vnd.jupyter.widget-view+json": {
       "model_id": "b7e05627dae548c1a0bb434f69c93689",
       "version_major": 2,
       "version_minor": 0
      },
      "text/plain": [
       "Outer Loop:   0%|          | 0/1569 [00:00<?, ?it/s]"
      ]
     },
     "metadata": {},
     "output_type": "display_data"
    },
    {
     "data": {
      "application/vnd.jupyter.widget-view+json": {
       "model_id": "ae9a55dc32e14c54917b3fa38691d407",
       "version_major": 2,
       "version_minor": 0
      },
      "text/plain": [
       "Outer Loop:   0%|          | 0/1909 [00:00<?, ?it/s]"
      ]
     },
     "metadata": {},
     "output_type": "display_data"
    },
    {
     "data": {
      "application/vnd.jupyter.widget-view+json": {
       "model_id": "55a864d5f1e842709ccf5341f13a83f4",
       "version_major": 2,
       "version_minor": 0
      },
      "text/plain": [
       "Outer Loop:   0%|          | 0/1460 [00:00<?, ?it/s]"
      ]
     },
     "metadata": {},
     "output_type": "display_data"
    },
    {
     "data": {
      "application/vnd.jupyter.widget-view+json": {
       "model_id": "7d6ce6acb45e4e44b17a79a488e685c1",
       "version_major": 2,
       "version_minor": 0
      },
      "text/plain": [
       "Outer Loop:   0%|          | 0/1058 [00:00<?, ?it/s]"
      ]
     },
     "metadata": {},
     "output_type": "display_data"
    },
    {
     "data": {
      "application/vnd.jupyter.widget-view+json": {
       "model_id": "9cc3073345fe4bdeba0440a5b4e32e8c",
       "version_major": 2,
       "version_minor": 0
      },
      "text/plain": [
       "Outer Loop:   0%|          | 0/1408 [00:00<?, ?it/s]"
      ]
     },
     "metadata": {},
     "output_type": "display_data"
    },
    {
     "data": {
      "application/vnd.jupyter.widget-view+json": {
       "model_id": "82a8d261114d4936b939f8f44cbe935e",
       "version_major": 2,
       "version_minor": 0
      },
      "text/plain": [
       "Outer Loop:   0%|          | 0/1427 [00:00<?, ?it/s]"
      ]
     },
     "metadata": {},
     "output_type": "display_data"
    },
    {
     "data": {
      "application/vnd.jupyter.widget-view+json": {
       "model_id": "20caa70610cd48b894661d26d2d68655",
       "version_major": 2,
       "version_minor": 0
      },
      "text/plain": [
       "Outer Loop:   0%|          | 0/1606 [00:00<?, ?it/s]"
      ]
     },
     "metadata": {},
     "output_type": "display_data"
    },
    {
     "data": {
      "application/vnd.jupyter.widget-view+json": {
       "model_id": "9bc432ea74f144d29d7d24c7d469513b",
       "version_major": 2,
       "version_minor": 0
      },
      "text/plain": [
       "Outer Loop:   0%|          | 0/1620 [00:00<?, ?it/s]"
      ]
     },
     "metadata": {},
     "output_type": "display_data"
    },
    {
     "data": {
      "application/vnd.jupyter.widget-view+json": {
       "model_id": "f4931adcc8504c25aebd95eacf049317",
       "version_major": 2,
       "version_minor": 0
      },
      "text/plain": [
       "Outer Loop:   0%|          | 0/1687 [00:00<?, ?it/s]"
      ]
     },
     "metadata": {},
     "output_type": "display_data"
    },
    {
     "data": {
      "application/vnd.jupyter.widget-view+json": {
       "model_id": "7bab3dc0ebaf42bab390eaae3505a545",
       "version_major": 2,
       "version_minor": 0
      },
      "text/plain": [
       "Outer Loop:   0%|          | 0/1635 [00:00<?, ?it/s]"
      ]
     },
     "metadata": {},
     "output_type": "display_data"
    },
    {
     "data": {
      "application/vnd.jupyter.widget-view+json": {
       "model_id": "60bd6cb964074dd2a19d8e8bd50c9232",
       "version_major": 2,
       "version_minor": 0
      },
      "text/plain": [
       "Outer Loop:   0%|          | 0/1712 [00:00<?, ?it/s]"
      ]
     },
     "metadata": {},
     "output_type": "display_data"
    },
    {
     "data": {
      "application/vnd.jupyter.widget-view+json": {
       "model_id": "36d9f7bb02c44186a0e5d51dee93e2f4",
       "version_major": 2,
       "version_minor": 0
      },
      "text/plain": [
       "Outer Loop:   0%|          | 0/1467 [00:00<?, ?it/s]"
      ]
     },
     "metadata": {},
     "output_type": "display_data"
    },
    {
     "data": {
      "application/vnd.jupyter.widget-view+json": {
       "model_id": "ae68dcd1de0e40d5ae86d38a66a49300",
       "version_major": 2,
       "version_minor": 0
      },
      "text/plain": [
       "Outer Loop:   0%|          | 0/1695 [00:00<?, ?it/s]"
      ]
     },
     "metadata": {},
     "output_type": "display_data"
    },
    {
     "data": {
      "application/vnd.jupyter.widget-view+json": {
       "model_id": "5c71d1431a8d49c2b36c9eb3baeaf69a",
       "version_major": 2,
       "version_minor": 0
      },
      "text/plain": [
       "Outer Loop:   0%|          | 0/1525 [00:00<?, ?it/s]"
      ]
     },
     "metadata": {},
     "output_type": "display_data"
    },
    {
     "data": {
      "application/vnd.jupyter.widget-view+json": {
       "model_id": "18caf9c3b46445d5882a85d5674af273",
       "version_major": 2,
       "version_minor": 0
      },
      "text/plain": [
       "Outer Loop:   0%|          | 0/1597 [00:00<?, ?it/s]"
      ]
     },
     "metadata": {},
     "output_type": "display_data"
    },
    {
     "data": {
      "application/vnd.jupyter.widget-view+json": {
       "model_id": "6622ccbff603477d8bcba65e0961bdf6",
       "version_major": 2,
       "version_minor": 0
      },
      "text/plain": [
       "Outer Loop:   0%|          | 0/1201 [00:00<?, ?it/s]"
      ]
     },
     "metadata": {},
     "output_type": "display_data"
    },
    {
     "data": {
      "application/vnd.jupyter.widget-view+json": {
       "model_id": "80ec96dc42d74a398253e1128bd4aa52",
       "version_major": 2,
       "version_minor": 0
      },
      "text/plain": [
       "Outer Loop:   0%|          | 0/1599 [00:00<?, ?it/s]"
      ]
     },
     "metadata": {},
     "output_type": "display_data"
    },
    {
     "data": {
      "application/vnd.jupyter.widget-view+json": {
       "model_id": "fa755c81d9864df5a1ebd95ae3a3d7b3",
       "version_major": 2,
       "version_minor": 0
      },
      "text/plain": [
       "Outer Loop:   0%|          | 0/1561 [00:00<?, ?it/s]"
      ]
     },
     "metadata": {},
     "output_type": "display_data"
    },
    {
     "data": {
      "application/vnd.jupyter.widget-view+json": {
       "model_id": "28cbc3d3e1f64b7fbea5ad1e9e336816",
       "version_major": 2,
       "version_minor": 0
      },
      "text/plain": [
       "Outer Loop:   0%|          | 0/1805 [00:00<?, ?it/s]"
      ]
     },
     "metadata": {},
     "output_type": "display_data"
    },
    {
     "data": {
      "application/vnd.jupyter.widget-view+json": {
       "model_id": "ea55c801765349d5a6d7cfc0eefbce7f",
       "version_major": 2,
       "version_minor": 0
      },
      "text/plain": [
       "Outer Loop:   0%|          | 0/1576 [00:00<?, ?it/s]"
      ]
     },
     "metadata": {},
     "output_type": "display_data"
    },
    {
     "data": {
      "application/vnd.jupyter.widget-view+json": {
       "model_id": "279d31ad07a74db08b90f5450938befd",
       "version_major": 2,
       "version_minor": 0
      },
      "text/plain": [
       "Outer Loop:   0%|          | 0/1559 [00:00<?, ?it/s]"
      ]
     },
     "metadata": {},
     "output_type": "display_data"
    },
    {
     "data": {
      "application/vnd.jupyter.widget-view+json": {
       "model_id": "0a7119808aec4866b2e698d68a75314c",
       "version_major": 2,
       "version_minor": 0
      },
      "text/plain": [
       "Outer Loop:   0%|          | 0/1750 [00:00<?, ?it/s]"
      ]
     },
     "metadata": {},
     "output_type": "display_data"
    },
    {
     "data": {
      "application/vnd.jupyter.widget-view+json": {
       "model_id": "ab3219bf979c41fe9652442ecd89b7d8",
       "version_major": 2,
       "version_minor": 0
      },
      "text/plain": [
       "Outer Loop:   0%|          | 0/1280 [00:00<?, ?it/s]"
      ]
     },
     "metadata": {},
     "output_type": "display_data"
    },
    {
     "data": {
      "application/vnd.jupyter.widget-view+json": {
       "model_id": "68f11b7ffc5a4f96acb4d97a4e5f0e21",
       "version_major": 2,
       "version_minor": 0
      },
      "text/plain": [
       "Outer Loop:   0%|          | 0/1362 [00:00<?, ?it/s]"
      ]
     },
     "metadata": {},
     "output_type": "display_data"
    },
    {
     "data": {
      "application/vnd.jupyter.widget-view+json": {
       "model_id": "daabd243da004297b0e478b47e4f3f1e",
       "version_major": 2,
       "version_minor": 0
      },
      "text/plain": [
       "Outer Loop:   0%|          | 0/1465 [00:00<?, ?it/s]"
      ]
     },
     "metadata": {},
     "output_type": "display_data"
    },
    {
     "data": {
      "application/vnd.jupyter.widget-view+json": {
       "model_id": "5fa794f620e54f20b2fe93d59c460309",
       "version_major": 2,
       "version_minor": 0
      },
      "text/plain": [
       "Outer Loop:   0%|          | 0/1417 [00:00<?, ?it/s]"
      ]
     },
     "metadata": {},
     "output_type": "display_data"
    },
    {
     "data": {
      "application/vnd.jupyter.widget-view+json": {
       "model_id": "41541ba4b766476c8c921acf6353534f",
       "version_major": 2,
       "version_minor": 0
      },
      "text/plain": [
       "Outer Loop:   0%|          | 0/1572 [00:00<?, ?it/s]"
      ]
     },
     "metadata": {},
     "output_type": "display_data"
    },
    {
     "data": {
      "application/vnd.jupyter.widget-view+json": {
       "model_id": "ba645b2f474d40c1aa8fa422a48a53ca",
       "version_major": 2,
       "version_minor": 0
      },
      "text/plain": [
       "Outer Loop:   0%|          | 0/1630 [00:00<?, ?it/s]"
      ]
     },
     "metadata": {},
     "output_type": "display_data"
    },
    {
     "data": {
      "application/vnd.jupyter.widget-view+json": {
       "model_id": "d5152b614c254628bafdded0eefce575",
       "version_major": 2,
       "version_minor": 0
      },
      "text/plain": [
       "Outer Loop:   0%|          | 0/1199 [00:00<?, ?it/s]"
      ]
     },
     "metadata": {},
     "output_type": "display_data"
    },
    {
     "data": {
      "application/vnd.jupyter.widget-view+json": {
       "model_id": "13e34e93aceb491d8fa0b932ffb5e52b",
       "version_major": 2,
       "version_minor": 0
      },
      "text/plain": [
       "Outer Loop:   0%|          | 0/1650 [00:00<?, ?it/s]"
      ]
     },
     "metadata": {},
     "output_type": "display_data"
    },
    {
     "data": {
      "application/vnd.jupyter.widget-view+json": {
       "model_id": "4f679c1cd3e44c649831cac2c68f6aeb",
       "version_major": 2,
       "version_minor": 0
      },
      "text/plain": [
       "Outer Loop:   0%|          | 0/1664 [00:00<?, ?it/s]"
      ]
     },
     "metadata": {},
     "output_type": "display_data"
    },
    {
     "data": {
      "application/vnd.jupyter.widget-view+json": {
       "model_id": "cb7d703d7b114b5998baa2168ba7495b",
       "version_major": 2,
       "version_minor": 0
      },
      "text/plain": [
       "Outer Loop:   0%|          | 0/1607 [00:00<?, ?it/s]"
      ]
     },
     "metadata": {},
     "output_type": "display_data"
    },
    {
     "data": {
      "application/vnd.jupyter.widget-view+json": {
       "model_id": "424c3a452a2b4e4bb55f86d16bffab9d",
       "version_major": 2,
       "version_minor": 0
      },
      "text/plain": [
       "Outer Loop:   0%|          | 0/1623 [00:00<?, ?it/s]"
      ]
     },
     "metadata": {},
     "output_type": "display_data"
    },
    {
     "data": {
      "application/vnd.jupyter.widget-view+json": {
       "model_id": "abce13840e1e41a789811dcc66897859",
       "version_major": 2,
       "version_minor": 0
      },
      "text/plain": [
       "Outer Loop:   0%|          | 0/1604 [00:00<?, ?it/s]"
      ]
     },
     "metadata": {},
     "output_type": "display_data"
    },
    {
     "data": {
      "application/vnd.jupyter.widget-view+json": {
       "model_id": "8d9f25e0102048288947b2bd32f5f467",
       "version_major": 2,
       "version_minor": 0
      },
      "text/plain": [
       "Outer Loop:   0%|          | 0/1740 [00:00<?, ?it/s]"
      ]
     },
     "metadata": {},
     "output_type": "display_data"
    },
    {
     "data": {
      "application/vnd.jupyter.widget-view+json": {
       "model_id": "4e2c01e85c2740e2bcc1cda86ffefb28",
       "version_major": 2,
       "version_minor": 0
      },
      "text/plain": [
       "Outer Loop:   0%|          | 0/1798 [00:00<?, ?it/s]"
      ]
     },
     "metadata": {},
     "output_type": "display_data"
    },
    {
     "data": {
      "application/vnd.jupyter.widget-view+json": {
       "model_id": "62ac9d36875940d29a1840538d1ffb8a",
       "version_major": 2,
       "version_minor": 0
      },
      "text/plain": [
       "Outer Loop:   0%|          | 0/1457 [00:00<?, ?it/s]"
      ]
     },
     "metadata": {},
     "output_type": "display_data"
    },
    {
     "data": {
      "application/vnd.jupyter.widget-view+json": {
       "model_id": "5a5c278a59cc4847a604964f1e6a6073",
       "version_major": 2,
       "version_minor": 0
      },
      "text/plain": [
       "Outer Loop:   0%|          | 0/1589 [00:00<?, ?it/s]"
      ]
     },
     "metadata": {},
     "output_type": "display_data"
    },
    {
     "data": {
      "application/vnd.jupyter.widget-view+json": {
       "model_id": "82d6181038c44879ab8e6efaccf9b910",
       "version_major": 2,
       "version_minor": 0
      },
      "text/plain": [
       "Outer Loop:   0%|          | 0/1278 [00:00<?, ?it/s]"
      ]
     },
     "metadata": {},
     "output_type": "display_data"
    },
    {
     "data": {
      "application/vnd.jupyter.widget-view+json": {
       "model_id": "d8aae1cbe6f34fa6b3d93ccf123c733a",
       "version_major": 2,
       "version_minor": 0
      },
      "text/plain": [
       "Outer Loop:   0%|          | 0/1214 [00:00<?, ?it/s]"
      ]
     },
     "metadata": {},
     "output_type": "display_data"
    },
    {
     "data": {
      "application/vnd.jupyter.widget-view+json": {
       "model_id": "f1e2d39f9a8b4f048d5bc3bf37671d7e",
       "version_major": 2,
       "version_minor": 0
      },
      "text/plain": [
       "Outer Loop:   0%|          | 0/1876 [00:00<?, ?it/s]"
      ]
     },
     "metadata": {},
     "output_type": "display_data"
    },
    {
     "data": {
      "application/vnd.jupyter.widget-view+json": {
       "model_id": "b6a3acc36e684df5be2b0e14e4a0ab98",
       "version_major": 2,
       "version_minor": 0
      },
      "text/plain": [
       "Outer Loop:   0%|          | 0/1590 [00:00<?, ?it/s]"
      ]
     },
     "metadata": {},
     "output_type": "display_data"
    },
    {
     "data": {
      "application/vnd.jupyter.widget-view+json": {
       "model_id": "81e2cc84de014e49a0cef886725e7fdf",
       "version_major": 2,
       "version_minor": 0
      },
      "text/plain": [
       "Outer Loop:   0%|          | 0/1565 [00:00<?, ?it/s]"
      ]
     },
     "metadata": {},
     "output_type": "display_data"
    },
    {
     "data": {
      "application/vnd.jupyter.widget-view+json": {
       "model_id": "4948c0003373420690ee5bbeca0a38a7",
       "version_major": 2,
       "version_minor": 0
      },
      "text/plain": [
       "Outer Loop:   0%|          | 0/1537 [00:00<?, ?it/s]"
      ]
     },
     "metadata": {},
     "output_type": "display_data"
    },
    {
     "data": {
      "application/vnd.jupyter.widget-view+json": {
       "model_id": "d353e58f951b40b0b2553e0bc2979c45",
       "version_major": 2,
       "version_minor": 0
      },
      "text/plain": [
       "Outer Loop:   0%|          | 0/1189 [00:00<?, ?it/s]"
      ]
     },
     "metadata": {},
     "output_type": "display_data"
    },
    {
     "data": {
      "application/vnd.jupyter.widget-view+json": {
       "model_id": "037aa613a65d40f89cfdf57f9b0585a4",
       "version_major": 2,
       "version_minor": 0
      },
      "text/plain": [
       "Outer Loop:   0%|          | 0/2026 [00:00<?, ?it/s]"
      ]
     },
     "metadata": {},
     "output_type": "display_data"
    },
    {
     "data": {
      "application/vnd.jupyter.widget-view+json": {
       "model_id": "83d4b59a4c764b39842b46bd6d3f883b",
       "version_major": 2,
       "version_minor": 0
      },
      "text/plain": [
       "Outer Loop:   0%|          | 0/1719 [00:00<?, ?it/s]"
      ]
     },
     "metadata": {},
     "output_type": "display_data"
    },
    {
     "data": {
      "application/vnd.jupyter.widget-view+json": {
       "model_id": "c7266ab0b04a4183bd2a013484aae3e4",
       "version_major": 2,
       "version_minor": 0
      },
      "text/plain": [
       "Outer Loop:   0%|          | 0/1616 [00:00<?, ?it/s]"
      ]
     },
     "metadata": {},
     "output_type": "display_data"
    },
    {
     "data": {
      "application/vnd.jupyter.widget-view+json": {
       "model_id": "3e90e0aad2144a34bcd1875a24869264",
       "version_major": 2,
       "version_minor": 0
      },
      "text/plain": [
       "Outer Loop:   0%|          | 0/1622 [00:00<?, ?it/s]"
      ]
     },
     "metadata": {},
     "output_type": "display_data"
    },
    {
     "data": {
      "application/vnd.jupyter.widget-view+json": {
       "model_id": "2f306ba8ac914cee939b9f81bf94f347",
       "version_major": 2,
       "version_minor": 0
      },
      "text/plain": [
       "Outer Loop:   0%|          | 0/1415 [00:00<?, ?it/s]"
      ]
     },
     "metadata": {},
     "output_type": "display_data"
    },
    {
     "data": {
      "application/vnd.jupyter.widget-view+json": {
       "model_id": "edc6b1766f6242af888cb34d5a9f1390",
       "version_major": 2,
       "version_minor": 0
      },
      "text/plain": [
       "Outer Loop:   0%|          | 0/1624 [00:00<?, ?it/s]"
      ]
     },
     "metadata": {},
     "output_type": "display_data"
    },
    {
     "data": {
      "application/vnd.jupyter.widget-view+json": {
       "model_id": "73a84874f08240b4870a491f0a7bfd07",
       "version_major": 2,
       "version_minor": 0
      },
      "text/plain": [
       "Outer Loop:   0%|          | 0/1736 [00:00<?, ?it/s]"
      ]
     },
     "metadata": {},
     "output_type": "display_data"
    },
    {
     "data": {
      "application/vnd.jupyter.widget-view+json": {
       "model_id": "01e9305ca7f445f19050b75e3511b2e8",
       "version_major": 2,
       "version_minor": 0
      },
      "text/plain": [
       "Outer Loop:   0%|          | 0/1805 [00:00<?, ?it/s]"
      ]
     },
     "metadata": {},
     "output_type": "display_data"
    },
    {
     "data": {
      "application/vnd.jupyter.widget-view+json": {
       "model_id": "c0dd5d7debbb425e8745f7042ac34823",
       "version_major": 2,
       "version_minor": 0
      },
      "text/plain": [
       "Outer Loop:   0%|          | 0/1604 [00:00<?, ?it/s]"
      ]
     },
     "metadata": {},
     "output_type": "display_data"
    },
    {
     "data": {
      "application/vnd.jupyter.widget-view+json": {
       "model_id": "014f18c9c64942fdbbcceeb8fdaab568",
       "version_major": 2,
       "version_minor": 0
      },
      "text/plain": [
       "Outer Loop:   0%|          | 0/1497 [00:00<?, ?it/s]"
      ]
     },
     "metadata": {},
     "output_type": "display_data"
    },
    {
     "data": {
      "application/vnd.jupyter.widget-view+json": {
       "model_id": "20da6b89d24b4541b1bee887b5c8dfcf",
       "version_major": 2,
       "version_minor": 0
      },
      "text/plain": [
       "Outer Loop:   0%|          | 0/1470 [00:00<?, ?it/s]"
      ]
     },
     "metadata": {},
     "output_type": "display_data"
    },
    {
     "data": {
      "application/vnd.jupyter.widget-view+json": {
       "model_id": "673766ce3cb94c26a290cc9b2225a546",
       "version_major": 2,
       "version_minor": 0
      },
      "text/plain": [
       "Outer Loop:   0%|          | 0/1833 [00:00<?, ?it/s]"
      ]
     },
     "metadata": {},
     "output_type": "display_data"
    },
    {
     "data": {
      "application/vnd.jupyter.widget-view+json": {
       "model_id": "0d94875c079d4e108dabda94a96479d4",
       "version_major": 2,
       "version_minor": 0
      },
      "text/plain": [
       "Outer Loop:   0%|          | 0/1678 [00:00<?, ?it/s]"
      ]
     },
     "metadata": {},
     "output_type": "display_data"
    },
    {
     "data": {
      "application/vnd.jupyter.widget-view+json": {
       "model_id": "7b97debd12f44e52aba8baa70c43053e",
       "version_major": 2,
       "version_minor": 0
      },
      "text/plain": [
       "Outer Loop:   0%|          | 0/1562 [00:00<?, ?it/s]"
      ]
     },
     "metadata": {},
     "output_type": "display_data"
    },
    {
     "data": {
      "application/vnd.jupyter.widget-view+json": {
       "model_id": "635c91a2373345af9564300ea31e4248",
       "version_major": 2,
       "version_minor": 0
      },
      "text/plain": [
       "Outer Loop:   0%|          | 0/1403 [00:00<?, ?it/s]"
      ]
     },
     "metadata": {},
     "output_type": "display_data"
    },
    {
     "data": {
      "application/vnd.jupyter.widget-view+json": {
       "model_id": "999bf80c078a4e56b2232f039296436e",
       "version_major": 2,
       "version_minor": 0
      },
      "text/plain": [
       "Outer Loop:   0%|          | 0/1240 [00:00<?, ?it/s]"
      ]
     },
     "metadata": {},
     "output_type": "display_data"
    },
    {
     "data": {
      "application/vnd.jupyter.widget-view+json": {
       "model_id": "1e6f766057114cd280d45761086fbc15",
       "version_major": 2,
       "version_minor": 0
      },
      "text/plain": [
       "Outer Loop:   0%|          | 0/1596 [00:00<?, ?it/s]"
      ]
     },
     "metadata": {},
     "output_type": "display_data"
    },
    {
     "data": {
      "application/vnd.jupyter.widget-view+json": {
       "model_id": "bc3da2e45ba149248bb0878128a00ced",
       "version_major": 2,
       "version_minor": 0
      },
      "text/plain": [
       "Outer Loop:   0%|          | 0/1614 [00:00<?, ?it/s]"
      ]
     },
     "metadata": {},
     "output_type": "display_data"
    },
    {
     "data": {
      "application/vnd.jupyter.widget-view+json": {
       "model_id": "5158241006f240ceabf1fce4caab5749",
       "version_major": 2,
       "version_minor": 0
      },
      "text/plain": [
       "Outer Loop:   0%|          | 0/1818 [00:00<?, ?it/s]"
      ]
     },
     "metadata": {},
     "output_type": "display_data"
    },
    {
     "data": {
      "application/vnd.jupyter.widget-view+json": {
       "model_id": "daaab0f67cfa4e9b8efb3e5a5ca9e42b",
       "version_major": 2,
       "version_minor": 0
      },
      "text/plain": [
       "Outer Loop:   0%|          | 0/1077 [00:00<?, ?it/s]"
      ]
     },
     "metadata": {},
     "output_type": "display_data"
    },
    {
     "data": {
      "application/vnd.jupyter.widget-view+json": {
       "model_id": "7d1e25af953c4cfdbfac9cd07b47bf8b",
       "version_major": 2,
       "version_minor": 0
      },
      "text/plain": [
       "Outer Loop:   0%|          | 0/1709 [00:00<?, ?it/s]"
      ]
     },
     "metadata": {},
     "output_type": "display_data"
    },
    {
     "data": {
      "application/vnd.jupyter.widget-view+json": {
       "model_id": "78f720e83db2488ba07da291aa41598c",
       "version_major": 2,
       "version_minor": 0
      },
      "text/plain": [
       "Outer Loop:   0%|          | 0/1517 [00:00<?, ?it/s]"
      ]
     },
     "metadata": {},
     "output_type": "display_data"
    },
    {
     "data": {
      "application/vnd.jupyter.widget-view+json": {
       "model_id": "a230b3b1f0324367a76a0e41887dd879",
       "version_major": 2,
       "version_minor": 0
      },
      "text/plain": [
       "Outer Loop:   0%|          | 0/1248 [00:00<?, ?it/s]"
      ]
     },
     "metadata": {},
     "output_type": "display_data"
    },
    {
     "data": {
      "application/vnd.jupyter.widget-view+json": {
       "model_id": "319ae87d93264d9387a5a1c6aa2bce66",
       "version_major": 2,
       "version_minor": 0
      },
      "text/plain": [
       "Outer Loop:   0%|          | 0/1792 [00:00<?, ?it/s]"
      ]
     },
     "metadata": {},
     "output_type": "display_data"
    },
    {
     "data": {
      "application/vnd.jupyter.widget-view+json": {
       "model_id": "9ffdb742a40d4272a789d570d95f9a92",
       "version_major": 2,
       "version_minor": 0
      },
      "text/plain": [
       "Outer Loop:   0%|          | 0/1698 [00:00<?, ?it/s]"
      ]
     },
     "metadata": {},
     "output_type": "display_data"
    },
    {
     "data": {
      "application/vnd.jupyter.widget-view+json": {
       "model_id": "d27c505a114c40c0b19f47230810fe47",
       "version_major": 2,
       "version_minor": 0
      },
      "text/plain": [
       "Outer Loop:   0%|          | 0/1165 [00:00<?, ?it/s]"
      ]
     },
     "metadata": {},
     "output_type": "display_data"
    },
    {
     "data": {
      "application/vnd.jupyter.widget-view+json": {
       "model_id": "4af6444acde542ca811f5ad10d6a40c8",
       "version_major": 2,
       "version_minor": 0
      },
      "text/plain": [
       "Outer Loop:   0%|          | 0/1339 [00:00<?, ?it/s]"
      ]
     },
     "metadata": {},
     "output_type": "display_data"
    },
    {
     "data": {
      "application/vnd.jupyter.widget-view+json": {
       "model_id": "b30654c8b0f4434f86b65cff6ef909fd",
       "version_major": 2,
       "version_minor": 0
      },
      "text/plain": [
       "Outer Loop:   0%|          | 0/1794 [00:00<?, ?it/s]"
      ]
     },
     "metadata": {},
     "output_type": "display_data"
    },
    {
     "data": {
      "application/vnd.jupyter.widget-view+json": {
       "model_id": "643dd1d378dc4fd58bbece4b9f03a2a1",
       "version_major": 2,
       "version_minor": 0
      },
      "text/plain": [
       "Outer Loop:   0%|          | 0/1939 [00:00<?, ?it/s]"
      ]
     },
     "metadata": {},
     "output_type": "display_data"
    },
    {
     "data": {
      "application/vnd.jupyter.widget-view+json": {
       "model_id": "34a32bf061b44cb3bb8133338b45b230",
       "version_major": 2,
       "version_minor": 0
      },
      "text/plain": [
       "Outer Loop:   0%|          | 0/1450 [00:00<?, ?it/s]"
      ]
     },
     "metadata": {},
     "output_type": "display_data"
    },
    {
     "data": {
      "application/vnd.jupyter.widget-view+json": {
       "model_id": "12fd63ae3ca44ae1892e2870d89cf8a6",
       "version_major": 2,
       "version_minor": 0
      },
      "text/plain": [
       "Outer Loop:   0%|          | 0/2010 [00:00<?, ?it/s]"
      ]
     },
     "metadata": {},
     "output_type": "display_data"
    },
    {
     "data": {
      "application/vnd.jupyter.widget-view+json": {
       "model_id": "f61b76097deb4fa3add4599502fa8792",
       "version_major": 2,
       "version_minor": 0
      },
      "text/plain": [
       "Outer Loop:   0%|          | 0/1212 [00:00<?, ?it/s]"
      ]
     },
     "metadata": {},
     "output_type": "display_data"
    },
    {
     "data": {
      "application/vnd.jupyter.widget-view+json": {
       "model_id": "68e80a84658144c3aaa85095e253e903",
       "version_major": 2,
       "version_minor": 0
      },
      "text/plain": [
       "Outer Loop:   0%|          | 0/1951 [00:00<?, ?it/s]"
      ]
     },
     "metadata": {},
     "output_type": "display_data"
    },
    {
     "data": {
      "application/vnd.jupyter.widget-view+json": {
       "model_id": "2809b55d07bc4b33b441151ec1c07763",
       "version_major": 2,
       "version_minor": 0
      },
      "text/plain": [
       "Outer Loop:   0%|          | 0/1413 [00:00<?, ?it/s]"
      ]
     },
     "metadata": {},
     "output_type": "display_data"
    }
   ],
   "source": [
    "for well_fov in tqdm(list(dict_of_sc_well_fovs.keys()), desc=\"Processing Well-FOVs\"):\n",
    "    for i, row in tqdm(\n",
    "        dict_of_sc_well_fovs[well_fov].iterrows(),\n",
    "        total=len(dict_of_sc_well_fovs[well_fov]),\n",
    "        desc=\"Outer Loop\",\n",
    "        leave=False,\n",
    "    ):\n",
    "        for j, row2 in dict_of_sc_well_fovs_endpoint[well_fov].iterrows():\n",
    "            # check that the well_fov is the same\n",
    "            if row[\"Metadata_Well_FOV\"] == row2[\"Metadata_Well_FOV\"]:\n",
    "                distance = abs(\n",
    "                    euclidean(\n",
    "                        [\n",
    "                            row[\"Metadata_Nuclei_Location_Center_X\"],\n",
    "                            row[\"Metadata_Nuclei_Location_Center_Y\"],\n",
    "                        ],\n",
    "                        [\n",
    "                            row2[\"Metadata_Nuclei_Location_Center_X\"],\n",
    "                            row2[\"Metadata_Nuclei_Location_Center_Y\"],\n",
    "                        ],\n",
    "                    )\n",
    "                )\n",
    "                if distance < 10:\n",
    "                    dict_of_sc_well_fovs_endpoint[well_fov].at[\n",
    "                        j, \"Metadata_sc_unique_track_id\"\n",
    "                    ] = row[\"Metadata_sc_unique_track_id\"]"
   ]
  },
  {
   "cell_type": "code",
   "execution_count": 8,
   "metadata": {},
   "outputs": [
    {
     "name": "stdout",
     "output_type": "stream",
     "text": [
      "Fuzzy matching completed!\n",
      "Took 721.5412168502808 seconds\n",
      "Took 12.03 minutes\n",
      "Took 0.2 hours\n"
     ]
    }
   ],
   "source": [
    "print(\"Fuzzy matching completed!\")\n",
    "print(f\"Took {time.time() - start_time} seconds\")\n",
    "print(f\"Took {round((time.time() - start_time) / 60, 2)} minutes\")\n",
    "print(f\"Took {round((time.time() - start_time) / 3600, 2)} hours\")"
   ]
  },
  {
   "cell_type": "code",
   "execution_count": 9,
   "metadata": {},
   "outputs": [
    {
     "name": "stdout",
     "output_type": "stream",
     "text": [
      "(5767, 545)\n"
     ]
    },
    {
     "data": {
      "text/html": [
       "<div>\n",
       "<style scoped>\n",
       "    .dataframe tbody tr th:only-of-type {\n",
       "        vertical-align: middle;\n",
       "    }\n",
       "\n",
       "    .dataframe tbody tr th {\n",
       "        vertical-align: top;\n",
       "    }\n",
       "\n",
       "    .dataframe thead th {\n",
       "        text-align: right;\n",
       "    }\n",
       "</style>\n",
       "<table border=\"1\" class=\"dataframe\">\n",
       "  <thead>\n",
       "    <tr style=\"text-align: right;\">\n",
       "      <th></th>\n",
       "      <th>Metadata_plate</th>\n",
       "      <th>Metadata_Well</th>\n",
       "      <th>Metadata_number_of_singlecells</th>\n",
       "      <th>Metadata_compound</th>\n",
       "      <th>Metadata_dose</th>\n",
       "      <th>Metadata_control</th>\n",
       "      <th>Metadata_ImageNumber</th>\n",
       "      <th>Metadata_FOV</th>\n",
       "      <th>Metadata_Time</th>\n",
       "      <th>Metadata_Cells_Number_Object_Number</th>\n",
       "      <th>...</th>\n",
       "      <th>Nuclei_Texture_Correlation_AnnexinV_3_02_256</th>\n",
       "      <th>Nuclei_Texture_Correlation_AnnexinV_3_03_256</th>\n",
       "      <th>Nuclei_Texture_Correlation_DNA_3_02_256</th>\n",
       "      <th>Nuclei_Texture_DifferenceVariance_AnnexinV_3_01_256</th>\n",
       "      <th>Nuclei_Texture_InverseDifferenceMoment_AnnexinV_3_03_256</th>\n",
       "      <th>Nuclei_Texture_InverseDifferenceMoment_DNA_3_03_256</th>\n",
       "      <th>Nuclei_Texture_SumAverage_AnnexinV_3_00_256</th>\n",
       "      <th>Nuclei_Texture_SumAverage_DNA_3_01_256</th>\n",
       "      <th>Metadata_Well_FOV</th>\n",
       "      <th>Metadata_sc_unique_track_id</th>\n",
       "    </tr>\n",
       "  </thead>\n",
       "  <tbody>\n",
       "    <tr>\n",
       "      <th>0</th>\n",
       "      <td>1</td>\n",
       "      <td>C-09</td>\n",
       "      <td>153</td>\n",
       "      <td>Staurosporine</td>\n",
       "      <td>39.06</td>\n",
       "      <td>positive</td>\n",
       "      <td>1</td>\n",
       "      <td>0002</td>\n",
       "      <td>13.0</td>\n",
       "      <td>3.0</td>\n",
       "      <td>...</td>\n",
       "      <td>-0.471301</td>\n",
       "      <td>-0.589558</td>\n",
       "      <td>-1.321561</td>\n",
       "      <td>0.652602</td>\n",
       "      <td>0.668286</td>\n",
       "      <td>0.260828</td>\n",
       "      <td>0.034058</td>\n",
       "      <td>0.566404</td>\n",
       "      <td>C-09_0002</td>\n",
       "      <td>C-09_0002_32</td>\n",
       "    </tr>\n",
       "    <tr>\n",
       "      <th>1</th>\n",
       "      <td>1</td>\n",
       "      <td>C-09</td>\n",
       "      <td>153</td>\n",
       "      <td>Staurosporine</td>\n",
       "      <td>39.06</td>\n",
       "      <td>positive</td>\n",
       "      <td>1</td>\n",
       "      <td>0002</td>\n",
       "      <td>13.0</td>\n",
       "      <td>6.0</td>\n",
       "      <td>...</td>\n",
       "      <td>-0.832951</td>\n",
       "      <td>-0.666071</td>\n",
       "      <td>0.643979</td>\n",
       "      <td>-1.267717</td>\n",
       "      <td>-1.853163</td>\n",
       "      <td>0.474450</td>\n",
       "      <td>-1.437757</td>\n",
       "      <td>0.347586</td>\n",
       "      <td>C-09_0002</td>\n",
       "      <td>C-09_0002_52</td>\n",
       "    </tr>\n",
       "    <tr>\n",
       "      <th>2</th>\n",
       "      <td>1</td>\n",
       "      <td>C-09</td>\n",
       "      <td>153</td>\n",
       "      <td>Staurosporine</td>\n",
       "      <td>39.06</td>\n",
       "      <td>positive</td>\n",
       "      <td>1</td>\n",
       "      <td>0002</td>\n",
       "      <td>13.0</td>\n",
       "      <td>22.0</td>\n",
       "      <td>...</td>\n",
       "      <td>0.167245</td>\n",
       "      <td>-0.055811</td>\n",
       "      <td>-0.535309</td>\n",
       "      <td>-0.677362</td>\n",
       "      <td>0.194116</td>\n",
       "      <td>-0.309046</td>\n",
       "      <td>0.545504</td>\n",
       "      <td>2.499717</td>\n",
       "      <td>C-09_0002</td>\n",
       "      <td>C-09_0002_115</td>\n",
       "    </tr>\n",
       "    <tr>\n",
       "      <th>3</th>\n",
       "      <td>1</td>\n",
       "      <td>C-09</td>\n",
       "      <td>153</td>\n",
       "      <td>Staurosporine</td>\n",
       "      <td>39.06</td>\n",
       "      <td>positive</td>\n",
       "      <td>1</td>\n",
       "      <td>0002</td>\n",
       "      <td>13.0</td>\n",
       "      <td>25.0</td>\n",
       "      <td>...</td>\n",
       "      <td>0.167245</td>\n",
       "      <td>-0.055811</td>\n",
       "      <td>-0.535309</td>\n",
       "      <td>-0.677362</td>\n",
       "      <td>0.194116</td>\n",
       "      <td>-0.309046</td>\n",
       "      <td>0.545504</td>\n",
       "      <td>2.499717</td>\n",
       "      <td>C-09_0002</td>\n",
       "      <td>C-09_0002_115</td>\n",
       "    </tr>\n",
       "    <tr>\n",
       "      <th>4</th>\n",
       "      <td>1</td>\n",
       "      <td>C-09</td>\n",
       "      <td>153</td>\n",
       "      <td>Staurosporine</td>\n",
       "      <td>39.06</td>\n",
       "      <td>positive</td>\n",
       "      <td>1</td>\n",
       "      <td>0002</td>\n",
       "      <td>13.0</td>\n",
       "      <td>27.0</td>\n",
       "      <td>...</td>\n",
       "      <td>0.707274</td>\n",
       "      <td>-0.882432</td>\n",
       "      <td>-0.685778</td>\n",
       "      <td>0.054840</td>\n",
       "      <td>0.505591</td>\n",
       "      <td>-0.377580</td>\n",
       "      <td>0.083942</td>\n",
       "      <td>3.070313</td>\n",
       "      <td>C-09_0002</td>\n",
       "      <td>C-09_0002_104</td>\n",
       "    </tr>\n",
       "  </tbody>\n",
       "</table>\n",
       "<p>5 rows × 545 columns</p>\n",
       "</div>"
      ],
      "text/plain": [
       "   Metadata_plate Metadata_Well  Metadata_number_of_singlecells  \\\n",
       "0               1          C-09                             153   \n",
       "1               1          C-09                             153   \n",
       "2               1          C-09                             153   \n",
       "3               1          C-09                             153   \n",
       "4               1          C-09                             153   \n",
       "\n",
       "  Metadata_compound  Metadata_dose Metadata_control  Metadata_ImageNumber  \\\n",
       "0     Staurosporine          39.06         positive                     1   \n",
       "1     Staurosporine          39.06         positive                     1   \n",
       "2     Staurosporine          39.06         positive                     1   \n",
       "3     Staurosporine          39.06         positive                     1   \n",
       "4     Staurosporine          39.06         positive                     1   \n",
       "\n",
       "  Metadata_FOV  Metadata_Time  Metadata_Cells_Number_Object_Number  ...  \\\n",
       "0         0002           13.0                                  3.0  ...   \n",
       "1         0002           13.0                                  6.0  ...   \n",
       "2         0002           13.0                                 22.0  ...   \n",
       "3         0002           13.0                                 25.0  ...   \n",
       "4         0002           13.0                                 27.0  ...   \n",
       "\n",
       "   Nuclei_Texture_Correlation_AnnexinV_3_02_256  \\\n",
       "0                                     -0.471301   \n",
       "1                                     -0.832951   \n",
       "2                                      0.167245   \n",
       "3                                      0.167245   \n",
       "4                                      0.707274   \n",
       "\n",
       "   Nuclei_Texture_Correlation_AnnexinV_3_03_256  \\\n",
       "0                                     -0.589558   \n",
       "1                                     -0.666071   \n",
       "2                                     -0.055811   \n",
       "3                                     -0.055811   \n",
       "4                                     -0.882432   \n",
       "\n",
       "   Nuclei_Texture_Correlation_DNA_3_02_256  \\\n",
       "0                                -1.321561   \n",
       "1                                 0.643979   \n",
       "2                                -0.535309   \n",
       "3                                -0.535309   \n",
       "4                                -0.685778   \n",
       "\n",
       "   Nuclei_Texture_DifferenceVariance_AnnexinV_3_01_256  \\\n",
       "0                                           0.652602     \n",
       "1                                          -1.267717     \n",
       "2                                          -0.677362     \n",
       "3                                          -0.677362     \n",
       "4                                           0.054840     \n",
       "\n",
       "   Nuclei_Texture_InverseDifferenceMoment_AnnexinV_3_03_256  \\\n",
       "0                                           0.668286          \n",
       "1                                          -1.853163          \n",
       "2                                           0.194116          \n",
       "3                                           0.194116          \n",
       "4                                           0.505591          \n",
       "\n",
       "   Nuclei_Texture_InverseDifferenceMoment_DNA_3_03_256  \\\n",
       "0                                           0.260828     \n",
       "1                                           0.474450     \n",
       "2                                          -0.309046     \n",
       "3                                          -0.309046     \n",
       "4                                          -0.377580     \n",
       "\n",
       "  Nuclei_Texture_SumAverage_AnnexinV_3_00_256  \\\n",
       "0                                    0.034058   \n",
       "1                                   -1.437757   \n",
       "2                                    0.545504   \n",
       "3                                    0.545504   \n",
       "4                                    0.083942   \n",
       "\n",
       "  Nuclei_Texture_SumAverage_DNA_3_01_256 Metadata_Well_FOV  \\\n",
       "0                               0.566404         C-09_0002   \n",
       "1                               0.347586         C-09_0002   \n",
       "2                               2.499717         C-09_0002   \n",
       "3                               2.499717         C-09_0002   \n",
       "4                               3.070313         C-09_0002   \n",
       "\n",
       "  Metadata_sc_unique_track_id  \n",
       "0                C-09_0002_32  \n",
       "1                C-09_0002_52  \n",
       "2               C-09_0002_115  \n",
       "3               C-09_0002_115  \n",
       "4               C-09_0002_104  \n",
       "\n",
       "[5 rows x 545 columns]"
      ]
     },
     "execution_count": 9,
     "metadata": {},
     "output_type": "execute_result"
    }
   ],
   "source": [
    "sc_well_fovs_endpoint_df = pd.concat(\n",
    "    dict_of_sc_well_fovs_endpoint.values(), ignore_index=True\n",
    ")\n",
    "# drop the rows where Metadata_sc_unique_track_id is NaN\n",
    "sc_well_fovs_endpoint_df = sc_well_fovs_endpoint_df.dropna(\n",
    "    subset=[\"Metadata_sc_unique_track_id\"]\n",
    ")\n",
    "print(sc_well_fovs_endpoint_df.shape)\n",
    "sc_well_fovs_endpoint_df.reset_index(drop=True, inplace=True)\n",
    "sc_well_fovs_endpoint_df[\"Metadata_Time\"] = 13.0\n",
    "sc_well_fovs_endpoint_df.head()"
   ]
  },
  {
   "cell_type": "code",
   "execution_count": 10,
   "metadata": {},
   "outputs": [
    {
     "data": {
      "text/html": [
       "<div>\n",
       "<style scoped>\n",
       "    .dataframe tbody tr th:only-of-type {\n",
       "        vertical-align: middle;\n",
       "    }\n",
       "\n",
       "    .dataframe tbody tr th {\n",
       "        vertical-align: top;\n",
       "    }\n",
       "\n",
       "    .dataframe thead th {\n",
       "        text-align: right;\n",
       "    }\n",
       "</style>\n",
       "<table border=\"1\" class=\"dataframe\">\n",
       "  <thead>\n",
       "    <tr style=\"text-align: right;\">\n",
       "      <th></th>\n",
       "      <th>Metadata_plate</th>\n",
       "      <th>Metadata_Well</th>\n",
       "      <th>Metadata_number_of_singlecells</th>\n",
       "      <th>Metadata_compound</th>\n",
       "      <th>Metadata_dose</th>\n",
       "      <th>Metadata_control</th>\n",
       "      <th>Metadata_ImageNumber</th>\n",
       "      <th>Metadata_FOV</th>\n",
       "      <th>Metadata_Time</th>\n",
       "      <th>Metadata_Cells_Number_Object_Number</th>\n",
       "      <th>...</th>\n",
       "      <th>channel_DNA_cls_feature_99_scDINO</th>\n",
       "      <th>channel_DNA_cls_feature_9_scDINO</th>\n",
       "      <th>Metadata_Image_FileName_CL_488_1_crop</th>\n",
       "      <th>Metadata_Image_FileName_CL_488_2_crop</th>\n",
       "      <th>Metadata_Image_FileName_CL_561_crop</th>\n",
       "      <th>Metadata_Image_FileName_DNA_crop</th>\n",
       "      <th>Metadata_parent_path</th>\n",
       "      <th>Metadata_sc_unique_track_id</th>\n",
       "      <th>Metadata_Well_FOV</th>\n",
       "      <th>Metadata_sc_unique_track_id_count</th>\n",
       "    </tr>\n",
       "  </thead>\n",
       "  <tbody>\n",
       "    <tr>\n",
       "      <th>0</th>\n",
       "      <td>1</td>\n",
       "      <td>C-09</td>\n",
       "      <td>168</td>\n",
       "      <td>Staurosporine</td>\n",
       "      <td>39.06</td>\n",
       "      <td>positive</td>\n",
       "      <td>1</td>\n",
       "      <td>0002</td>\n",
       "      <td>0.0</td>\n",
       "      <td>7</td>\n",
       "      <td>...</td>\n",
       "      <td>2.401852</td>\n",
       "      <td>1.516202</td>\n",
       "      <td>/home/lippincm/4TB_A/live_cell_timelapse_apopt...</td>\n",
       "      <td>/home/lippincm/4TB_A/live_cell_timelapse_apopt...</td>\n",
       "      <td>/home/lippincm/4TB_A/live_cell_timelapse_apopt...</td>\n",
       "      <td>/home/lippincm/4TB_A/live_cell_timelapse_apopt...</td>\n",
       "      <td>/home/lippincm/4TB_A/live_cell_timelapse_apopt...</td>\n",
       "      <td>C-09_0002_5</td>\n",
       "      <td>C-09_0002</td>\n",
       "      <td>2</td>\n",
       "    </tr>\n",
       "    <tr>\n",
       "      <th>1</th>\n",
       "      <td>1</td>\n",
       "      <td>C-09</td>\n",
       "      <td>168</td>\n",
       "      <td>Staurosporine</td>\n",
       "      <td>39.06</td>\n",
       "      <td>positive</td>\n",
       "      <td>1</td>\n",
       "      <td>0002</td>\n",
       "      <td>0.0</td>\n",
       "      <td>9</td>\n",
       "      <td>...</td>\n",
       "      <td>-0.264486</td>\n",
       "      <td>0.153676</td>\n",
       "      <td>/home/lippincm/4TB_A/live_cell_timelapse_apopt...</td>\n",
       "      <td>/home/lippincm/4TB_A/live_cell_timelapse_apopt...</td>\n",
       "      <td>/home/lippincm/4TB_A/live_cell_timelapse_apopt...</td>\n",
       "      <td>/home/lippincm/4TB_A/live_cell_timelapse_apopt...</td>\n",
       "      <td>/home/lippincm/4TB_A/live_cell_timelapse_apopt...</td>\n",
       "      <td>C-09_0002_6</td>\n",
       "      <td>C-09_0002</td>\n",
       "      <td>5</td>\n",
       "    </tr>\n",
       "    <tr>\n",
       "      <th>2</th>\n",
       "      <td>1</td>\n",
       "      <td>C-09</td>\n",
       "      <td>168</td>\n",
       "      <td>Staurosporine</td>\n",
       "      <td>39.06</td>\n",
       "      <td>positive</td>\n",
       "      <td>1</td>\n",
       "      <td>0002</td>\n",
       "      <td>0.0</td>\n",
       "      <td>10</td>\n",
       "      <td>...</td>\n",
       "      <td>0.659583</td>\n",
       "      <td>0.537619</td>\n",
       "      <td>/home/lippincm/4TB_A/live_cell_timelapse_apopt...</td>\n",
       "      <td>/home/lippincm/4TB_A/live_cell_timelapse_apopt...</td>\n",
       "      <td>/home/lippincm/4TB_A/live_cell_timelapse_apopt...</td>\n",
       "      <td>/home/lippincm/4TB_A/live_cell_timelapse_apopt...</td>\n",
       "      <td>/home/lippincm/4TB_A/live_cell_timelapse_apopt...</td>\n",
       "      <td>C-09_0002_7</td>\n",
       "      <td>C-09_0002</td>\n",
       "      <td>2</td>\n",
       "    </tr>\n",
       "    <tr>\n",
       "      <th>3</th>\n",
       "      <td>1</td>\n",
       "      <td>C-09</td>\n",
       "      <td>168</td>\n",
       "      <td>Staurosporine</td>\n",
       "      <td>39.06</td>\n",
       "      <td>positive</td>\n",
       "      <td>1</td>\n",
       "      <td>0002</td>\n",
       "      <td>0.0</td>\n",
       "      <td>11</td>\n",
       "      <td>...</td>\n",
       "      <td>0.443178</td>\n",
       "      <td>1.129714</td>\n",
       "      <td>/home/lippincm/4TB_A/live_cell_timelapse_apopt...</td>\n",
       "      <td>/home/lippincm/4TB_A/live_cell_timelapse_apopt...</td>\n",
       "      <td>/home/lippincm/4TB_A/live_cell_timelapse_apopt...</td>\n",
       "      <td>/home/lippincm/4TB_A/live_cell_timelapse_apopt...</td>\n",
       "      <td>/home/lippincm/4TB_A/live_cell_timelapse_apopt...</td>\n",
       "      <td>C-09_0002_8</td>\n",
       "      <td>C-09_0002</td>\n",
       "      <td>8</td>\n",
       "    </tr>\n",
       "    <tr>\n",
       "      <th>4</th>\n",
       "      <td>1</td>\n",
       "      <td>C-09</td>\n",
       "      <td>168</td>\n",
       "      <td>Staurosporine</td>\n",
       "      <td>39.06</td>\n",
       "      <td>positive</td>\n",
       "      <td>1</td>\n",
       "      <td>0002</td>\n",
       "      <td>0.0</td>\n",
       "      <td>12</td>\n",
       "      <td>...</td>\n",
       "      <td>-0.228990</td>\n",
       "      <td>0.648714</td>\n",
       "      <td>/home/lippincm/4TB_A/live_cell_timelapse_apopt...</td>\n",
       "      <td>/home/lippincm/4TB_A/live_cell_timelapse_apopt...</td>\n",
       "      <td>/home/lippincm/4TB_A/live_cell_timelapse_apopt...</td>\n",
       "      <td>/home/lippincm/4TB_A/live_cell_timelapse_apopt...</td>\n",
       "      <td>/home/lippincm/4TB_A/live_cell_timelapse_apopt...</td>\n",
       "      <td>C-09_0002_9</td>\n",
       "      <td>C-09_0002</td>\n",
       "      <td>13</td>\n",
       "    </tr>\n",
       "  </tbody>\n",
       "</table>\n",
       "<p>5 rows × 2381 columns</p>\n",
       "</div>"
      ],
      "text/plain": [
       "   Metadata_plate Metadata_Well  Metadata_number_of_singlecells  \\\n",
       "0               1          C-09                             168   \n",
       "1               1          C-09                             168   \n",
       "2               1          C-09                             168   \n",
       "3               1          C-09                             168   \n",
       "4               1          C-09                             168   \n",
       "\n",
       "  Metadata_compound Metadata_dose Metadata_control Metadata_ImageNumber  \\\n",
       "0     Staurosporine         39.06         positive                    1   \n",
       "1     Staurosporine         39.06         positive                    1   \n",
       "2     Staurosporine         39.06         positive                    1   \n",
       "3     Staurosporine         39.06         positive                    1   \n",
       "4     Staurosporine         39.06         positive                    1   \n",
       "\n",
       "  Metadata_FOV Metadata_Time  Metadata_Cells_Number_Object_Number  ...  \\\n",
       "0         0002           0.0                                    7  ...   \n",
       "1         0002           0.0                                    9  ...   \n",
       "2         0002           0.0                                   10  ...   \n",
       "3         0002           0.0                                   11  ...   \n",
       "4         0002           0.0                                   12  ...   \n",
       "\n",
       "   channel_DNA_cls_feature_99_scDINO  channel_DNA_cls_feature_9_scDINO  \\\n",
       "0                           2.401852                          1.516202   \n",
       "1                          -0.264486                          0.153676   \n",
       "2                           0.659583                          0.537619   \n",
       "3                           0.443178                          1.129714   \n",
       "4                          -0.228990                          0.648714   \n",
       "\n",
       "               Metadata_Image_FileName_CL_488_1_crop  \\\n",
       "0  /home/lippincm/4TB_A/live_cell_timelapse_apopt...   \n",
       "1  /home/lippincm/4TB_A/live_cell_timelapse_apopt...   \n",
       "2  /home/lippincm/4TB_A/live_cell_timelapse_apopt...   \n",
       "3  /home/lippincm/4TB_A/live_cell_timelapse_apopt...   \n",
       "4  /home/lippincm/4TB_A/live_cell_timelapse_apopt...   \n",
       "\n",
       "               Metadata_Image_FileName_CL_488_2_crop  \\\n",
       "0  /home/lippincm/4TB_A/live_cell_timelapse_apopt...   \n",
       "1  /home/lippincm/4TB_A/live_cell_timelapse_apopt...   \n",
       "2  /home/lippincm/4TB_A/live_cell_timelapse_apopt...   \n",
       "3  /home/lippincm/4TB_A/live_cell_timelapse_apopt...   \n",
       "4  /home/lippincm/4TB_A/live_cell_timelapse_apopt...   \n",
       "\n",
       "                 Metadata_Image_FileName_CL_561_crop  \\\n",
       "0  /home/lippincm/4TB_A/live_cell_timelapse_apopt...   \n",
       "1  /home/lippincm/4TB_A/live_cell_timelapse_apopt...   \n",
       "2  /home/lippincm/4TB_A/live_cell_timelapse_apopt...   \n",
       "3  /home/lippincm/4TB_A/live_cell_timelapse_apopt...   \n",
       "4  /home/lippincm/4TB_A/live_cell_timelapse_apopt...   \n",
       "\n",
       "                    Metadata_Image_FileName_DNA_crop  \\\n",
       "0  /home/lippincm/4TB_A/live_cell_timelapse_apopt...   \n",
       "1  /home/lippincm/4TB_A/live_cell_timelapse_apopt...   \n",
       "2  /home/lippincm/4TB_A/live_cell_timelapse_apopt...   \n",
       "3  /home/lippincm/4TB_A/live_cell_timelapse_apopt...   \n",
       "4  /home/lippincm/4TB_A/live_cell_timelapse_apopt...   \n",
       "\n",
       "                                Metadata_parent_path  \\\n",
       "0  /home/lippincm/4TB_A/live_cell_timelapse_apopt...   \n",
       "1  /home/lippincm/4TB_A/live_cell_timelapse_apopt...   \n",
       "2  /home/lippincm/4TB_A/live_cell_timelapse_apopt...   \n",
       "3  /home/lippincm/4TB_A/live_cell_timelapse_apopt...   \n",
       "4  /home/lippincm/4TB_A/live_cell_timelapse_apopt...   \n",
       "\n",
       "  Metadata_sc_unique_track_id Metadata_Well_FOV  \\\n",
       "0                 C-09_0002_5         C-09_0002   \n",
       "1                 C-09_0002_6         C-09_0002   \n",
       "2                 C-09_0002_7         C-09_0002   \n",
       "3                 C-09_0002_8         C-09_0002   \n",
       "4                 C-09_0002_9         C-09_0002   \n",
       "\n",
       "  Metadata_sc_unique_track_id_count  \n",
       "0                                 2  \n",
       "1                                 5  \n",
       "2                                 2  \n",
       "3                                 8  \n",
       "4                                13  \n",
       "\n",
       "[5 rows x 2381 columns]"
      ]
     },
     "execution_count": 10,
     "metadata": {},
     "output_type": "execute_result"
    }
   ],
   "source": [
    "# map the value counts to a new column for each Metadata_sc_unique_track_id\n",
    "sc_profile_df[\"Metadata_sc_unique_track_id_count\"] = sc_profile_df[\n",
    "    \"Metadata_sc_unique_track_id\"\n",
    "].map(sc_profile_df[\"Metadata_sc_unique_track_id\"].value_counts())\n",
    "sc_profile_df.head()"
   ]
  },
  {
   "cell_type": "code",
   "execution_count": 11,
   "metadata": {},
   "outputs": [],
   "source": [
    "# write the cleaned dataframe to a parquet file\n",
    "output_sc_file_path = pathlib.Path(\"../results/cleaned_sc_profile.parquet\").resolve(\n",
    "    strict=False\n",
    ")\n",
    "output_sc_endpoint_file_path = pathlib.Path(\n",
    "    \"../results/cleaned_endpoint_sc_profile.parquet\"\n",
    ").resolve(strict=False)\n",
    "output_sc_file_path.parent.mkdir(parents=True, exist_ok=True)\n",
    "\n",
    "# we save the two profiles separately because they have different feature spaces\n",
    "\n",
    "sc_profile_df.to_parquet(output_sc_file_path, index=False)\n",
    "sc_well_fovs_endpoint_df.to_parquet(output_sc_endpoint_file_path, index=False)"
   ]
  }
 ],
 "metadata": {
  "kernelspec": {
   "display_name": "timelapse_analaysis_env",
   "language": "python",
   "name": "python3"
  },
  "language_info": {
   "codemirror_mode": {
    "name": "ipython",
    "version": 3
   },
   "file_extension": ".py",
   "mimetype": "text/x-python",
   "name": "python",
   "nbconvert_exporter": "python",
   "pygments_lexer": "ipython3",
   "version": "3.11.11"
  }
 },
 "nbformat": 4,
 "nbformat_minor": 2
}
