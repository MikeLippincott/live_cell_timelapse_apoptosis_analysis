{
 "cells": [
  {
   "cell_type": "markdown",
   "metadata": {},
   "source": [
    "This notebook performs a fuzzy match on single-cells from the profile data to the endpoint data.\n",
    "This is necessary because  the endpoint data was not included in the tracking module.\n",
    "Further this notebook provides information about how long the cell track is."
   ]
  },
  {
   "cell_type": "code",
   "execution_count": 1,
   "metadata": {},
   "outputs": [],
   "source": [
    "import pathlib\n",
    "import time\n",
    "\n",
    "import numpy as np\n",
    "import pandas as pd\n",
    "from scipy.spatial.distance import euclidean\n",
    "\n",
    "try:\n",
    "    cfg = get_ipython().config\n",
    "    in_notebook = True\n",
    "except NameError:\n",
    "    in_notebook = False\n",
    "if in_notebook:\n",
    "    from tqdm.notebook import tqdm\n",
    "else:\n",
    "    from tqdm import tqdm"
   ]
  },
  {
   "cell_type": "code",
   "execution_count": 2,
   "metadata": {},
   "outputs": [
    {
     "name": "stdout",
     "output_type": "stream",
     "text": [
      "(9918, 544)\n",
      "(188065, 2380)\n"
     ]
    },
    {
     "data": {
      "text/html": [
       "<div>\n",
       "<style scoped>\n",
       "    .dataframe tbody tr th:only-of-type {\n",
       "        vertical-align: middle;\n",
       "    }\n",
       "\n",
       "    .dataframe tbody tr th {\n",
       "        vertical-align: top;\n",
       "    }\n",
       "\n",
       "    .dataframe thead th {\n",
       "        text-align: right;\n",
       "    }\n",
       "</style>\n",
       "<table border=\"1\" class=\"dataframe\">\n",
       "  <thead>\n",
       "    <tr style=\"text-align: right;\">\n",
       "      <th></th>\n",
       "      <th>Metadata_plate</th>\n",
       "      <th>Metadata_Well</th>\n",
       "      <th>Metadata_number_of_singlecells</th>\n",
       "      <th>Metadata_compound</th>\n",
       "      <th>Metadata_dose</th>\n",
       "      <th>Metadata_control</th>\n",
       "      <th>Metadata_ImageNumber</th>\n",
       "      <th>Metadata_FOV</th>\n",
       "      <th>Metadata_Time</th>\n",
       "      <th>Metadata_Cells_Number_Object_Number</th>\n",
       "      <th>...</th>\n",
       "      <th>channel_DNA_cls_feature_98_scDINO</th>\n",
       "      <th>channel_DNA_cls_feature_99_scDINO</th>\n",
       "      <th>channel_DNA_cls_feature_9_scDINO</th>\n",
       "      <th>Metadata_Image_FileName_CL_488_1_crop</th>\n",
       "      <th>Metadata_Image_FileName_CL_488_2_crop</th>\n",
       "      <th>Metadata_Image_FileName_CL_561_crop</th>\n",
       "      <th>Metadata_Image_FileName_DNA_crop</th>\n",
       "      <th>Metadata_parent_path</th>\n",
       "      <th>Metadata_sc_unique_track_id</th>\n",
       "      <th>Metadata_Well_FOV</th>\n",
       "    </tr>\n",
       "  </thead>\n",
       "  <tbody>\n",
       "    <tr>\n",
       "      <th>0</th>\n",
       "      <td>1</td>\n",
       "      <td>C-09</td>\n",
       "      <td>168</td>\n",
       "      <td>Staurosporine</td>\n",
       "      <td>39.06</td>\n",
       "      <td>positive</td>\n",
       "      <td>1</td>\n",
       "      <td>0002</td>\n",
       "      <td>0.0</td>\n",
       "      <td>7</td>\n",
       "      <td>...</td>\n",
       "      <td>-0.123520</td>\n",
       "      <td>2.401852</td>\n",
       "      <td>1.516202</td>\n",
       "      <td>/home/lippincm/4TB_A/live_cell_timelapse_apopt...</td>\n",
       "      <td>/home/lippincm/4TB_A/live_cell_timelapse_apopt...</td>\n",
       "      <td>/home/lippincm/4TB_A/live_cell_timelapse_apopt...</td>\n",
       "      <td>/home/lippincm/4TB_A/live_cell_timelapse_apopt...</td>\n",
       "      <td>/home/lippincm/4TB_A/live_cell_timelapse_apopt...</td>\n",
       "      <td>C-09_0002_5</td>\n",
       "      <td>C-09_0002</td>\n",
       "    </tr>\n",
       "    <tr>\n",
       "      <th>1</th>\n",
       "      <td>1</td>\n",
       "      <td>C-09</td>\n",
       "      <td>168</td>\n",
       "      <td>Staurosporine</td>\n",
       "      <td>39.06</td>\n",
       "      <td>positive</td>\n",
       "      <td>1</td>\n",
       "      <td>0002</td>\n",
       "      <td>0.0</td>\n",
       "      <td>9</td>\n",
       "      <td>...</td>\n",
       "      <td>-0.835988</td>\n",
       "      <td>-0.264486</td>\n",
       "      <td>0.153676</td>\n",
       "      <td>/home/lippincm/4TB_A/live_cell_timelapse_apopt...</td>\n",
       "      <td>/home/lippincm/4TB_A/live_cell_timelapse_apopt...</td>\n",
       "      <td>/home/lippincm/4TB_A/live_cell_timelapse_apopt...</td>\n",
       "      <td>/home/lippincm/4TB_A/live_cell_timelapse_apopt...</td>\n",
       "      <td>/home/lippincm/4TB_A/live_cell_timelapse_apopt...</td>\n",
       "      <td>C-09_0002_6</td>\n",
       "      <td>C-09_0002</td>\n",
       "    </tr>\n",
       "    <tr>\n",
       "      <th>2</th>\n",
       "      <td>1</td>\n",
       "      <td>C-09</td>\n",
       "      <td>168</td>\n",
       "      <td>Staurosporine</td>\n",
       "      <td>39.06</td>\n",
       "      <td>positive</td>\n",
       "      <td>1</td>\n",
       "      <td>0002</td>\n",
       "      <td>0.0</td>\n",
       "      <td>10</td>\n",
       "      <td>...</td>\n",
       "      <td>-0.359857</td>\n",
       "      <td>0.659583</td>\n",
       "      <td>0.537619</td>\n",
       "      <td>/home/lippincm/4TB_A/live_cell_timelapse_apopt...</td>\n",
       "      <td>/home/lippincm/4TB_A/live_cell_timelapse_apopt...</td>\n",
       "      <td>/home/lippincm/4TB_A/live_cell_timelapse_apopt...</td>\n",
       "      <td>/home/lippincm/4TB_A/live_cell_timelapse_apopt...</td>\n",
       "      <td>/home/lippincm/4TB_A/live_cell_timelapse_apopt...</td>\n",
       "      <td>C-09_0002_7</td>\n",
       "      <td>C-09_0002</td>\n",
       "    </tr>\n",
       "    <tr>\n",
       "      <th>3</th>\n",
       "      <td>1</td>\n",
       "      <td>C-09</td>\n",
       "      <td>168</td>\n",
       "      <td>Staurosporine</td>\n",
       "      <td>39.06</td>\n",
       "      <td>positive</td>\n",
       "      <td>1</td>\n",
       "      <td>0002</td>\n",
       "      <td>0.0</td>\n",
       "      <td>11</td>\n",
       "      <td>...</td>\n",
       "      <td>0.211796</td>\n",
       "      <td>0.443178</td>\n",
       "      <td>1.129714</td>\n",
       "      <td>/home/lippincm/4TB_A/live_cell_timelapse_apopt...</td>\n",
       "      <td>/home/lippincm/4TB_A/live_cell_timelapse_apopt...</td>\n",
       "      <td>/home/lippincm/4TB_A/live_cell_timelapse_apopt...</td>\n",
       "      <td>/home/lippincm/4TB_A/live_cell_timelapse_apopt...</td>\n",
       "      <td>/home/lippincm/4TB_A/live_cell_timelapse_apopt...</td>\n",
       "      <td>C-09_0002_8</td>\n",
       "      <td>C-09_0002</td>\n",
       "    </tr>\n",
       "    <tr>\n",
       "      <th>4</th>\n",
       "      <td>1</td>\n",
       "      <td>C-09</td>\n",
       "      <td>168</td>\n",
       "      <td>Staurosporine</td>\n",
       "      <td>39.06</td>\n",
       "      <td>positive</td>\n",
       "      <td>1</td>\n",
       "      <td>0002</td>\n",
       "      <td>0.0</td>\n",
       "      <td>12</td>\n",
       "      <td>...</td>\n",
       "      <td>-1.694061</td>\n",
       "      <td>-0.228990</td>\n",
       "      <td>0.648714</td>\n",
       "      <td>/home/lippincm/4TB_A/live_cell_timelapse_apopt...</td>\n",
       "      <td>/home/lippincm/4TB_A/live_cell_timelapse_apopt...</td>\n",
       "      <td>/home/lippincm/4TB_A/live_cell_timelapse_apopt...</td>\n",
       "      <td>/home/lippincm/4TB_A/live_cell_timelapse_apopt...</td>\n",
       "      <td>/home/lippincm/4TB_A/live_cell_timelapse_apopt...</td>\n",
       "      <td>C-09_0002_9</td>\n",
       "      <td>C-09_0002</td>\n",
       "    </tr>\n",
       "  </tbody>\n",
       "</table>\n",
       "<p>5 rows × 2380 columns</p>\n",
       "</div>"
      ],
      "text/plain": [
       "   Metadata_plate Metadata_Well  Metadata_number_of_singlecells  \\\n",
       "0               1          C-09                             168   \n",
       "1               1          C-09                             168   \n",
       "2               1          C-09                             168   \n",
       "3               1          C-09                             168   \n",
       "4               1          C-09                             168   \n",
       "\n",
       "  Metadata_compound Metadata_dose Metadata_control Metadata_ImageNumber  \\\n",
       "0     Staurosporine         39.06         positive                    1   \n",
       "1     Staurosporine         39.06         positive                    1   \n",
       "2     Staurosporine         39.06         positive                    1   \n",
       "3     Staurosporine         39.06         positive                    1   \n",
       "4     Staurosporine         39.06         positive                    1   \n",
       "\n",
       "  Metadata_FOV Metadata_Time  Metadata_Cells_Number_Object_Number  ...  \\\n",
       "0         0002           0.0                                    7  ...   \n",
       "1         0002           0.0                                    9  ...   \n",
       "2         0002           0.0                                   10  ...   \n",
       "3         0002           0.0                                   11  ...   \n",
       "4         0002           0.0                                   12  ...   \n",
       "\n",
       "   channel_DNA_cls_feature_98_scDINO  channel_DNA_cls_feature_99_scDINO  \\\n",
       "0                          -0.123520                           2.401852   \n",
       "1                          -0.835988                          -0.264486   \n",
       "2                          -0.359857                           0.659583   \n",
       "3                           0.211796                           0.443178   \n",
       "4                          -1.694061                          -0.228990   \n",
       "\n",
       "   channel_DNA_cls_feature_9_scDINO  \\\n",
       "0                          1.516202   \n",
       "1                          0.153676   \n",
       "2                          0.537619   \n",
       "3                          1.129714   \n",
       "4                          0.648714   \n",
       "\n",
       "               Metadata_Image_FileName_CL_488_1_crop  \\\n",
       "0  /home/lippincm/4TB_A/live_cell_timelapse_apopt...   \n",
       "1  /home/lippincm/4TB_A/live_cell_timelapse_apopt...   \n",
       "2  /home/lippincm/4TB_A/live_cell_timelapse_apopt...   \n",
       "3  /home/lippincm/4TB_A/live_cell_timelapse_apopt...   \n",
       "4  /home/lippincm/4TB_A/live_cell_timelapse_apopt...   \n",
       "\n",
       "               Metadata_Image_FileName_CL_488_2_crop  \\\n",
       "0  /home/lippincm/4TB_A/live_cell_timelapse_apopt...   \n",
       "1  /home/lippincm/4TB_A/live_cell_timelapse_apopt...   \n",
       "2  /home/lippincm/4TB_A/live_cell_timelapse_apopt...   \n",
       "3  /home/lippincm/4TB_A/live_cell_timelapse_apopt...   \n",
       "4  /home/lippincm/4TB_A/live_cell_timelapse_apopt...   \n",
       "\n",
       "                 Metadata_Image_FileName_CL_561_crop  \\\n",
       "0  /home/lippincm/4TB_A/live_cell_timelapse_apopt...   \n",
       "1  /home/lippincm/4TB_A/live_cell_timelapse_apopt...   \n",
       "2  /home/lippincm/4TB_A/live_cell_timelapse_apopt...   \n",
       "3  /home/lippincm/4TB_A/live_cell_timelapse_apopt...   \n",
       "4  /home/lippincm/4TB_A/live_cell_timelapse_apopt...   \n",
       "\n",
       "                    Metadata_Image_FileName_DNA_crop  \\\n",
       "0  /home/lippincm/4TB_A/live_cell_timelapse_apopt...   \n",
       "1  /home/lippincm/4TB_A/live_cell_timelapse_apopt...   \n",
       "2  /home/lippincm/4TB_A/live_cell_timelapse_apopt...   \n",
       "3  /home/lippincm/4TB_A/live_cell_timelapse_apopt...   \n",
       "4  /home/lippincm/4TB_A/live_cell_timelapse_apopt...   \n",
       "\n",
       "                                Metadata_parent_path  \\\n",
       "0  /home/lippincm/4TB_A/live_cell_timelapse_apopt...   \n",
       "1  /home/lippincm/4TB_A/live_cell_timelapse_apopt...   \n",
       "2  /home/lippincm/4TB_A/live_cell_timelapse_apopt...   \n",
       "3  /home/lippincm/4TB_A/live_cell_timelapse_apopt...   \n",
       "4  /home/lippincm/4TB_A/live_cell_timelapse_apopt...   \n",
       "\n",
       "  Metadata_sc_unique_track_id Metadata_Well_FOV  \n",
       "0                 C-09_0002_5         C-09_0002  \n",
       "1                 C-09_0002_6         C-09_0002  \n",
       "2                 C-09_0002_7         C-09_0002  \n",
       "3                 C-09_0002_8         C-09_0002  \n",
       "4                 C-09_0002_9         C-09_0002  \n",
       "\n",
       "[5 rows x 2380 columns]"
      ]
     },
     "execution_count": 2,
     "metadata": {},
     "output_type": "execute_result"
    }
   ],
   "source": [
    "sc_profile_file_path = pathlib.Path(\n",
    "    \"../../data/CP_scDINO_features/combined_CP_scDINO_norm_fs.parquet\"\n",
    ").resolve(strict=True)\n",
    "endpoint_sc_profile_file_path = pathlib.Path(\n",
    "    \"../../data/CP_feature_select/endpoints/features_selected_profile.parquet\"\n",
    ").resolve(strict=True)\n",
    "sc_profile_df = pd.read_parquet(sc_profile_file_path)\n",
    "endpoint_sc_profile_df = pd.read_parquet(endpoint_sc_profile_file_path)\n",
    "endpoint_sc_profile_df[\"Metadata_Well_FOV\"] = (\n",
    "    endpoint_sc_profile_df[\"Metadata_Well\"].astype(str)\n",
    "    + \"_\"\n",
    "    + endpoint_sc_profile_df[\"Metadata_FOV\"].astype(str)\n",
    ")\n",
    "print(endpoint_sc_profile_df.shape)\n",
    "sc_profile_df[\"Metadata_sc_unique_track_id\"] = (\n",
    "    sc_profile_df[\"Metadata_Well\"].astype(str)\n",
    "    + \"_\"\n",
    "    + sc_profile_df[\"Metadata_FOV\"].astype(str)\n",
    "    + \"_\"\n",
    "    + sc_profile_df[\"Metadata_track_id\"].astype(str)\n",
    ")\n",
    "sc_profile_df[\"Metadata_Well_FOV\"] = (\n",
    "    sc_profile_df[\"Metadata_Well\"].astype(str)\n",
    "    + \"_\"\n",
    "    + sc_profile_df[\"Metadata_FOV\"].astype(str)\n",
    ")\n",
    "print(sc_profile_df.shape)\n",
    "sc_profile_df.head()"
   ]
  },
  {
   "cell_type": "code",
   "execution_count": 3,
   "metadata": {},
   "outputs": [
    {
     "name": "stdout",
     "output_type": "stream",
     "text": [
      "Dropped 2563 rows with NaN values\n"
     ]
    }
   ],
   "source": [
    "original_sc_profile_shape = sc_profile_df.shape\n",
    "# drop rows with NaN values\n",
    "sc_profile = sc_profile_df.dropna(how=\"any\")\n",
    "print(\n",
    "    f\"Dropped {original_sc_profile_shape[0] - sc_profile.shape[0]} rows with NaN values\"\n",
    ")\n",
    "sc_profile.reset_index(drop=True, inplace=True)"
   ]
  },
  {
   "cell_type": "code",
   "execution_count": 4,
   "metadata": {},
   "outputs": [
    {
     "name": "stdout",
     "output_type": "stream",
     "text": [
      "Dropped 554 rows with NaN values\n"
     ]
    }
   ],
   "source": [
    "original_endpoint_sc_profile_shape = endpoint_sc_profile_df.shape\n",
    "# drop rows with NaN values\n",
    "endpoint_sc_profile = endpoint_sc_profile_df.dropna(how=\"any\")\n",
    "print(\n",
    "    f\"Dropped {original_endpoint_sc_profile_shape[0] - endpoint_sc_profile.shape[0]} rows with NaN values\"\n",
    ")\n",
    "endpoint_sc_profile.reset_index(drop=True, inplace=True)"
   ]
  },
  {
   "cell_type": "code",
   "execution_count": 5,
   "metadata": {},
   "outputs": [],
   "source": [
    "# drop all nan values in the location columns\n",
    "endpoint_sc_profile_df = endpoint_sc_profile_df.dropna(\n",
    "    subset=[\"Metadata_Nuclei_Location_Center_X\", \"Metadata_Nuclei_Location_Center_Y\"]\n",
    ")"
   ]
  },
  {
   "cell_type": "code",
   "execution_count": 6,
   "metadata": {},
   "outputs": [],
   "source": [
    "last_time_point_df = sc_profile_df.loc[\n",
    "    sc_profile_df[\"Metadata_Well_FOV\"].isin(\n",
    "        endpoint_sc_profile_df[\"Metadata_Well_FOV\"].unique()\n",
    "    )\n",
    "]"
   ]
  },
  {
   "cell_type": "code",
   "execution_count": 7,
   "metadata": {},
   "outputs": [],
   "source": [
    "# chunk the dataframe by well_fov so that there are fewer indexed records to search at once during fuzzy matching\n",
    "dict_of_sc_well_fovs = {}\n",
    "for well_fov in last_time_point_df[\"Metadata_Well_FOV\"].unique():\n",
    "    dict_of_sc_well_fovs[well_fov] = last_time_point_df[\n",
    "        last_time_point_df[\"Metadata_Well_FOV\"] == well_fov\n",
    "    ].copy()\n",
    "    # get only the last timepoint of the track\n",
    "\n",
    "    dict_of_sc_well_fovs[well_fov].reset_index(drop=True, inplace=True)\n",
    "dict_of_sc_well_fovs_endpoint = {}\n",
    "for well_fov in endpoint_sc_profile_df[\"Metadata_Well_FOV\"].unique():\n",
    "    dict_of_sc_well_fovs_endpoint[well_fov] = endpoint_sc_profile_df[\n",
    "        endpoint_sc_profile_df[\"Metadata_Well_FOV\"] == well_fov\n",
    "    ].copy()\n",
    "    dict_of_sc_well_fovs_endpoint[well_fov].reset_index(drop=True, inplace=True)"
   ]
  },
  {
   "cell_type": "code",
   "execution_count": 8,
   "metadata": {},
   "outputs": [],
   "source": [
    "start_time = time.time()"
   ]
  },
  {
   "cell_type": "code",
   "execution_count": 9,
   "metadata": {},
   "outputs": [
    {
     "data": {
      "application/vnd.jupyter.widget-view+json": {
       "model_id": "a0d7c29bd7e84494aa0e4a88e5fbabb9",
       "version_major": 2,
       "version_minor": 0
      },
      "text/plain": [
       "Processing Well-FOVs:   0%|          | 0/117 [00:00<?, ?it/s]"
      ]
     },
     "metadata": {},
     "output_type": "display_data"
    },
    {
     "data": {
      "application/vnd.jupyter.widget-view+json": {
       "model_id": "a44cca22be6242f5ab07e57e888622ef",
       "version_major": 2,
       "version_minor": 0
      },
      "text/plain": [
       "Matching endpoint cells:   0%|          | 0/51 [00:00<?, ?it/s]"
      ]
     },
     "metadata": {},
     "output_type": "display_data"
    },
    {
     "data": {
      "application/vnd.jupyter.widget-view+json": {
       "model_id": "90831c1729e348f7969a51196c31bf41",
       "version_major": 2,
       "version_minor": 0
      },
      "text/plain": [
       "Matching endpoint cells:   0%|          | 0/111 [00:00<?, ?it/s]"
      ]
     },
     "metadata": {},
     "output_type": "display_data"
    },
    {
     "data": {
      "application/vnd.jupyter.widget-view+json": {
       "model_id": "4ba4a1571000436e93dd75f68092084a",
       "version_major": 2,
       "version_minor": 0
      },
      "text/plain": [
       "Matching endpoint cells:   0%|          | 0/75 [00:00<?, ?it/s]"
      ]
     },
     "metadata": {},
     "output_type": "display_data"
    },
    {
     "data": {
      "application/vnd.jupyter.widget-view+json": {
       "model_id": "e2cb841cc8a847c98c587a815e8ca21f",
       "version_major": 2,
       "version_minor": 0
      },
      "text/plain": [
       "Matching endpoint cells:   0%|          | 0/100 [00:00<?, ?it/s]"
      ]
     },
     "metadata": {},
     "output_type": "display_data"
    },
    {
     "data": {
      "application/vnd.jupyter.widget-view+json": {
       "model_id": "b33403af1a20468aaa9e2642bb758bb5",
       "version_major": 2,
       "version_minor": 0
      },
      "text/plain": [
       "Matching endpoint cells:   0%|          | 0/129 [00:00<?, ?it/s]"
      ]
     },
     "metadata": {},
     "output_type": "display_data"
    },
    {
     "data": {
      "application/vnd.jupyter.widget-view+json": {
       "model_id": "d3fac3332e774d80b07b9643c06e33ea",
       "version_major": 2,
       "version_minor": 0
      },
      "text/plain": [
       "Matching endpoint cells:   0%|          | 0/94 [00:00<?, ?it/s]"
      ]
     },
     "metadata": {},
     "output_type": "display_data"
    },
    {
     "data": {
      "application/vnd.jupyter.widget-view+json": {
       "model_id": "7af7b21e84fa4366957d29b2835374cd",
       "version_major": 2,
       "version_minor": 0
      },
      "text/plain": [
       "Matching endpoint cells:   0%|          | 0/116 [00:00<?, ?it/s]"
      ]
     },
     "metadata": {},
     "output_type": "display_data"
    },
    {
     "data": {
      "application/vnd.jupyter.widget-view+json": {
       "model_id": "45a714a42c9745008c814cd0f054c374",
       "version_major": 2,
       "version_minor": 0
      },
      "text/plain": [
       "Matching endpoint cells:   0%|          | 0/85 [00:00<?, ?it/s]"
      ]
     },
     "metadata": {},
     "output_type": "display_data"
    },
    {
     "data": {
      "application/vnd.jupyter.widget-view+json": {
       "model_id": "25e52506f0f541f483ad27ed9a7554a6",
       "version_major": 2,
       "version_minor": 0
      },
      "text/plain": [
       "Matching endpoint cells:   0%|          | 0/52 [00:00<?, ?it/s]"
      ]
     },
     "metadata": {},
     "output_type": "display_data"
    },
    {
     "data": {
      "application/vnd.jupyter.widget-view+json": {
       "model_id": "536ba3b49fb8499d85f48181f1dfe59c",
       "version_major": 2,
       "version_minor": 0
      },
      "text/plain": [
       "Matching endpoint cells:   0%|          | 0/99 [00:00<?, ?it/s]"
      ]
     },
     "metadata": {},
     "output_type": "display_data"
    },
    {
     "data": {
      "application/vnd.jupyter.widget-view+json": {
       "model_id": "6f57f178874249b38cd9843ab238cbdf",
       "version_major": 2,
       "version_minor": 0
      },
      "text/plain": [
       "Matching endpoint cells:   0%|          | 0/82 [00:00<?, ?it/s]"
      ]
     },
     "metadata": {},
     "output_type": "display_data"
    },
    {
     "data": {
      "application/vnd.jupyter.widget-view+json": {
       "model_id": "79c520bac6c94f709c5fa5ce9c91e7b3",
       "version_major": 2,
       "version_minor": 0
      },
      "text/plain": [
       "Matching endpoint cells:   0%|          | 0/47 [00:00<?, ?it/s]"
      ]
     },
     "metadata": {},
     "output_type": "display_data"
    },
    {
     "data": {
      "application/vnd.jupyter.widget-view+json": {
       "model_id": "c4a7f738619c43f6b84ab5a200ee1946",
       "version_major": 2,
       "version_minor": 0
      },
      "text/plain": [
       "Matching endpoint cells:   0%|          | 0/64 [00:00<?, ?it/s]"
      ]
     },
     "metadata": {},
     "output_type": "display_data"
    },
    {
     "data": {
      "application/vnd.jupyter.widget-view+json": {
       "model_id": "03a57dd21cb14f18b8f6834f15b1abba",
       "version_major": 2,
       "version_minor": 0
      },
      "text/plain": [
       "Matching endpoint cells:   0%|          | 0/86 [00:00<?, ?it/s]"
      ]
     },
     "metadata": {},
     "output_type": "display_data"
    },
    {
     "data": {
      "application/vnd.jupyter.widget-view+json": {
       "model_id": "226e7a679229484c8c587b9a92ec557e",
       "version_major": 2,
       "version_minor": 0
      },
      "text/plain": [
       "Matching endpoint cells:   0%|          | 0/48 [00:00<?, ?it/s]"
      ]
     },
     "metadata": {},
     "output_type": "display_data"
    },
    {
     "data": {
      "application/vnd.jupyter.widget-view+json": {
       "model_id": "15c5c840e1f84c5486ffb686bf607207",
       "version_major": 2,
       "version_minor": 0
      },
      "text/plain": [
       "Matching endpoint cells:   0%|          | 0/87 [00:00<?, ?it/s]"
      ]
     },
     "metadata": {},
     "output_type": "display_data"
    },
    {
     "data": {
      "application/vnd.jupyter.widget-view+json": {
       "model_id": "fd956d56349043adacd127a8a36ef08e",
       "version_major": 2,
       "version_minor": 0
      },
      "text/plain": [
       "Matching endpoint cells:   0%|          | 0/65 [00:00<?, ?it/s]"
      ]
     },
     "metadata": {},
     "output_type": "display_data"
    },
    {
     "data": {
      "application/vnd.jupyter.widget-view+json": {
       "model_id": "4b94c7aaddc24c2a92db885670cc7683",
       "version_major": 2,
       "version_minor": 0
      },
      "text/plain": [
       "Matching endpoint cells:   0%|          | 0/88 [00:00<?, ?it/s]"
      ]
     },
     "metadata": {},
     "output_type": "display_data"
    },
    {
     "data": {
      "application/vnd.jupyter.widget-view+json": {
       "model_id": "3694898370e5499488b52716c7a1bf2e",
       "version_major": 2,
       "version_minor": 0
      },
      "text/plain": [
       "Matching endpoint cells:   0%|          | 0/31 [00:00<?, ?it/s]"
      ]
     },
     "metadata": {},
     "output_type": "display_data"
    },
    {
     "data": {
      "application/vnd.jupyter.widget-view+json": {
       "model_id": "28a6f77b92dc4b029260d36208ac6665",
       "version_major": 2,
       "version_minor": 0
      },
      "text/plain": [
       "Matching endpoint cells:   0%|          | 0/65 [00:00<?, ?it/s]"
      ]
     },
     "metadata": {},
     "output_type": "display_data"
    },
    {
     "data": {
      "application/vnd.jupyter.widget-view+json": {
       "model_id": "21d814366eee4ba0ac6f4793e2be6717",
       "version_major": 2,
       "version_minor": 0
      },
      "text/plain": [
       "Matching endpoint cells:   0%|          | 0/104 [00:00<?, ?it/s]"
      ]
     },
     "metadata": {},
     "output_type": "display_data"
    },
    {
     "data": {
      "application/vnd.jupyter.widget-view+json": {
       "model_id": "02e9e03b5cf64abc9d51c080fd4ae8ce",
       "version_major": 2,
       "version_minor": 0
      },
      "text/plain": [
       "Matching endpoint cells:   0%|          | 0/38 [00:00<?, ?it/s]"
      ]
     },
     "metadata": {},
     "output_type": "display_data"
    },
    {
     "data": {
      "application/vnd.jupyter.widget-view+json": {
       "model_id": "62538c697cf64992953a0e7b876d4c46",
       "version_major": 2,
       "version_minor": 0
      },
      "text/plain": [
       "Matching endpoint cells:   0%|          | 0/115 [00:00<?, ?it/s]"
      ]
     },
     "metadata": {},
     "output_type": "display_data"
    },
    {
     "data": {
      "application/vnd.jupyter.widget-view+json": {
       "model_id": "ac6be280075a480c8b2a32c014b87e0a",
       "version_major": 2,
       "version_minor": 0
      },
      "text/plain": [
       "Matching endpoint cells:   0%|          | 0/116 [00:00<?, ?it/s]"
      ]
     },
     "metadata": {},
     "output_type": "display_data"
    },
    {
     "data": {
      "application/vnd.jupyter.widget-view+json": {
       "model_id": "f999dadb08754f8288ac50b17b42996f",
       "version_major": 2,
       "version_minor": 0
      },
      "text/plain": [
       "Matching endpoint cells:   0%|          | 0/35 [00:00<?, ?it/s]"
      ]
     },
     "metadata": {},
     "output_type": "display_data"
    },
    {
     "data": {
      "application/vnd.jupyter.widget-view+json": {
       "model_id": "bc3318f7924a47ff8816dc2917a495a2",
       "version_major": 2,
       "version_minor": 0
      },
      "text/plain": [
       "Matching endpoint cells:   0%|          | 0/106 [00:00<?, ?it/s]"
      ]
     },
     "metadata": {},
     "output_type": "display_data"
    },
    {
     "data": {
      "application/vnd.jupyter.widget-view+json": {
       "model_id": "b36e42406dbc4a8aa61e58d9030261a6",
       "version_major": 2,
       "version_minor": 0
      },
      "text/plain": [
       "Matching endpoint cells:   0%|          | 0/74 [00:00<?, ?it/s]"
      ]
     },
     "metadata": {},
     "output_type": "display_data"
    },
    {
     "data": {
      "application/vnd.jupyter.widget-view+json": {
       "model_id": "1411070a7c374dedbfd3937c663ee8e2",
       "version_major": 2,
       "version_minor": 0
      },
      "text/plain": [
       "Matching endpoint cells:   0%|          | 0/100 [00:00<?, ?it/s]"
      ]
     },
     "metadata": {},
     "output_type": "display_data"
    },
    {
     "data": {
      "application/vnd.jupyter.widget-view+json": {
       "model_id": "3396ed8949ec407d811a08cd79252192",
       "version_major": 2,
       "version_minor": 0
      },
      "text/plain": [
       "Matching endpoint cells:   0%|          | 0/92 [00:00<?, ?it/s]"
      ]
     },
     "metadata": {},
     "output_type": "display_data"
    },
    {
     "data": {
      "application/vnd.jupyter.widget-view+json": {
       "model_id": "62c892583c434fef9ea5649da76cc6d8",
       "version_major": 2,
       "version_minor": 0
      },
      "text/plain": [
       "Matching endpoint cells:   0%|          | 0/112 [00:00<?, ?it/s]"
      ]
     },
     "metadata": {},
     "output_type": "display_data"
    },
    {
     "data": {
      "application/vnd.jupyter.widget-view+json": {
       "model_id": "40b00f7feb524ad4838f5350c3d5c355",
       "version_major": 2,
       "version_minor": 0
      },
      "text/plain": [
       "Matching endpoint cells:   0%|          | 0/114 [00:00<?, ?it/s]"
      ]
     },
     "metadata": {},
     "output_type": "display_data"
    },
    {
     "data": {
      "application/vnd.jupyter.widget-view+json": {
       "model_id": "76046c1eb8a846f9a4799001a474a909",
       "version_major": 2,
       "version_minor": 0
      },
      "text/plain": [
       "Matching endpoint cells:   0%|          | 0/94 [00:00<?, ?it/s]"
      ]
     },
     "metadata": {},
     "output_type": "display_data"
    },
    {
     "data": {
      "application/vnd.jupyter.widget-view+json": {
       "model_id": "3f0221aff9d14acab549061491dc7a32",
       "version_major": 2,
       "version_minor": 0
      },
      "text/plain": [
       "Matching endpoint cells:   0%|          | 0/105 [00:00<?, ?it/s]"
      ]
     },
     "metadata": {},
     "output_type": "display_data"
    },
    {
     "data": {
      "application/vnd.jupyter.widget-view+json": {
       "model_id": "935d31eb4a474b3d93101cba242e661b",
       "version_major": 2,
       "version_minor": 0
      },
      "text/plain": [
       "Matching endpoint cells:   0%|          | 0/119 [00:00<?, ?it/s]"
      ]
     },
     "metadata": {},
     "output_type": "display_data"
    },
    {
     "data": {
      "application/vnd.jupyter.widget-view+json": {
       "model_id": "d22b5278a2e44a59ad891226c037bc75",
       "version_major": 2,
       "version_minor": 0
      },
      "text/plain": [
       "Matching endpoint cells:   0%|          | 0/113 [00:00<?, ?it/s]"
      ]
     },
     "metadata": {},
     "output_type": "display_data"
    },
    {
     "data": {
      "application/vnd.jupyter.widget-view+json": {
       "model_id": "f97ae9dd39324f0396539850915da903",
       "version_major": 2,
       "version_minor": 0
      },
      "text/plain": [
       "Matching endpoint cells:   0%|          | 0/27 [00:00<?, ?it/s]"
      ]
     },
     "metadata": {},
     "output_type": "display_data"
    },
    {
     "data": {
      "application/vnd.jupyter.widget-view+json": {
       "model_id": "4d5e45d35c644b5f931a342d3f93d40e",
       "version_major": 2,
       "version_minor": 0
      },
      "text/plain": [
       "Matching endpoint cells:   0%|          | 0/116 [00:00<?, ?it/s]"
      ]
     },
     "metadata": {},
     "output_type": "display_data"
    },
    {
     "data": {
      "application/vnd.jupyter.widget-view+json": {
       "model_id": "9b31ab111d2b44bd9c9bb948b94991da",
       "version_major": 2,
       "version_minor": 0
      },
      "text/plain": [
       "Matching endpoint cells:   0%|          | 0/99 [00:00<?, ?it/s]"
      ]
     },
     "metadata": {},
     "output_type": "display_data"
    },
    {
     "data": {
      "application/vnd.jupyter.widget-view+json": {
       "model_id": "f3fd595daac9434dbec3dd25c128c8bd",
       "version_major": 2,
       "version_minor": 0
      },
      "text/plain": [
       "Matching endpoint cells:   0%|          | 0/105 [00:00<?, ?it/s]"
      ]
     },
     "metadata": {},
     "output_type": "display_data"
    },
    {
     "data": {
      "application/vnd.jupyter.widget-view+json": {
       "model_id": "96a98cde852742f7b84b9287bc8d87e5",
       "version_major": 2,
       "version_minor": 0
      },
      "text/plain": [
       "Matching endpoint cells:   0%|          | 0/88 [00:00<?, ?it/s]"
      ]
     },
     "metadata": {},
     "output_type": "display_data"
    },
    {
     "data": {
      "application/vnd.jupyter.widget-view+json": {
       "model_id": "f8980811c35e42bf86bbd67b8733e654",
       "version_major": 2,
       "version_minor": 0
      },
      "text/plain": [
       "Matching endpoint cells:   0%|          | 0/89 [00:00<?, ?it/s]"
      ]
     },
     "metadata": {},
     "output_type": "display_data"
    },
    {
     "data": {
      "application/vnd.jupyter.widget-view+json": {
       "model_id": "843e39c9fc9943f8ae756e9c053eb343",
       "version_major": 2,
       "version_minor": 0
      },
      "text/plain": [
       "Matching endpoint cells:   0%|          | 0/22 [00:00<?, ?it/s]"
      ]
     },
     "metadata": {},
     "output_type": "display_data"
    },
    {
     "data": {
      "application/vnd.jupyter.widget-view+json": {
       "model_id": "e222a07226c44eb7a497a26957e731cc",
       "version_major": 2,
       "version_minor": 0
      },
      "text/plain": [
       "Matching endpoint cells:   0%|          | 0/52 [00:00<?, ?it/s]"
      ]
     },
     "metadata": {},
     "output_type": "display_data"
    },
    {
     "data": {
      "application/vnd.jupyter.widget-view+json": {
       "model_id": "823a5cc032964fb084b800af9b76d1bb",
       "version_major": 2,
       "version_minor": 0
      },
      "text/plain": [
       "Matching endpoint cells:   0%|          | 0/73 [00:00<?, ?it/s]"
      ]
     },
     "metadata": {},
     "output_type": "display_data"
    },
    {
     "data": {
      "application/vnd.jupyter.widget-view+json": {
       "model_id": "e5125d607faf4c7aa0257933fe51d412",
       "version_major": 2,
       "version_minor": 0
      },
      "text/plain": [
       "Matching endpoint cells:   0%|          | 0/107 [00:00<?, ?it/s]"
      ]
     },
     "metadata": {},
     "output_type": "display_data"
    },
    {
     "data": {
      "application/vnd.jupyter.widget-view+json": {
       "model_id": "1b900f86d7854a66bca472813266712a",
       "version_major": 2,
       "version_minor": 0
      },
      "text/plain": [
       "Matching endpoint cells:   0%|          | 0/116 [00:00<?, ?it/s]"
      ]
     },
     "metadata": {},
     "output_type": "display_data"
    },
    {
     "data": {
      "application/vnd.jupyter.widget-view+json": {
       "model_id": "0066fb13083643589e518800c7922261",
       "version_major": 2,
       "version_minor": 0
      },
      "text/plain": [
       "Matching endpoint cells:   0%|          | 0/121 [00:00<?, ?it/s]"
      ]
     },
     "metadata": {},
     "output_type": "display_data"
    },
    {
     "data": {
      "application/vnd.jupyter.widget-view+json": {
       "model_id": "ffcdc9018c4c496a958b3a90b646c2bd",
       "version_major": 2,
       "version_minor": 0
      },
      "text/plain": [
       "Matching endpoint cells:   0%|          | 0/111 [00:00<?, ?it/s]"
      ]
     },
     "metadata": {},
     "output_type": "display_data"
    },
    {
     "data": {
      "application/vnd.jupyter.widget-view+json": {
       "model_id": "d6c61b9561e84db48d70c723030651e9",
       "version_major": 2,
       "version_minor": 0
      },
      "text/plain": [
       "Matching endpoint cells:   0%|          | 0/115 [00:00<?, ?it/s]"
      ]
     },
     "metadata": {},
     "output_type": "display_data"
    },
    {
     "data": {
      "application/vnd.jupyter.widget-view+json": {
       "model_id": "9fea493286b2474a9b60d08850941031",
       "version_major": 2,
       "version_minor": 0
      },
      "text/plain": [
       "Matching endpoint cells:   0%|          | 0/33 [00:00<?, ?it/s]"
      ]
     },
     "metadata": {},
     "output_type": "display_data"
    },
    {
     "data": {
      "application/vnd.jupyter.widget-view+json": {
       "model_id": "f4d6a51b08c346f88409b4d456742520",
       "version_major": 2,
       "version_minor": 0
      },
      "text/plain": [
       "Matching endpoint cells:   0%|          | 0/112 [00:00<?, ?it/s]"
      ]
     },
     "metadata": {},
     "output_type": "display_data"
    },
    {
     "data": {
      "application/vnd.jupyter.widget-view+json": {
       "model_id": "0b3e7666fafd409d85d9e46c733e74f3",
       "version_major": 2,
       "version_minor": 0
      },
      "text/plain": [
       "Matching endpoint cells:   0%|          | 0/41 [00:00<?, ?it/s]"
      ]
     },
     "metadata": {},
     "output_type": "display_data"
    },
    {
     "data": {
      "application/vnd.jupyter.widget-view+json": {
       "model_id": "cb43f851c18146ceb0d5c621a904ce1b",
       "version_major": 2,
       "version_minor": 0
      },
      "text/plain": [
       "Matching endpoint cells:   0%|          | 0/111 [00:00<?, ?it/s]"
      ]
     },
     "metadata": {},
     "output_type": "display_data"
    },
    {
     "data": {
      "application/vnd.jupyter.widget-view+json": {
       "model_id": "a9ff75e9c6d748d19739c2e1e7ef6547",
       "version_major": 2,
       "version_minor": 0
      },
      "text/plain": [
       "Matching endpoint cells:   0%|          | 0/70 [00:00<?, ?it/s]"
      ]
     },
     "metadata": {},
     "output_type": "display_data"
    },
    {
     "data": {
      "application/vnd.jupyter.widget-view+json": {
       "model_id": "3b60c32529f048d4895302cf6b822f42",
       "version_major": 2,
       "version_minor": 0
      },
      "text/plain": [
       "Matching endpoint cells:   0%|          | 0/110 [00:00<?, ?it/s]"
      ]
     },
     "metadata": {},
     "output_type": "display_data"
    },
    {
     "data": {
      "application/vnd.jupyter.widget-view+json": {
       "model_id": "bf95fe07794a4f02ab6bbd81d8cda5f6",
       "version_major": 2,
       "version_minor": 0
      },
      "text/plain": [
       "Matching endpoint cells:   0%|          | 0/98 [00:00<?, ?it/s]"
      ]
     },
     "metadata": {},
     "output_type": "display_data"
    },
    {
     "data": {
      "application/vnd.jupyter.widget-view+json": {
       "model_id": "83b0a3848a0e45f1aa492ff09f5eb87b",
       "version_major": 2,
       "version_minor": 0
      },
      "text/plain": [
       "Matching endpoint cells:   0%|          | 0/111 [00:00<?, ?it/s]"
      ]
     },
     "metadata": {},
     "output_type": "display_data"
    },
    {
     "data": {
      "application/vnd.jupyter.widget-view+json": {
       "model_id": "2487366c42fe408895772e54e2f9cd90",
       "version_major": 2,
       "version_minor": 0
      },
      "text/plain": [
       "Matching endpoint cells:   0%|          | 0/99 [00:00<?, ?it/s]"
      ]
     },
     "metadata": {},
     "output_type": "display_data"
    },
    {
     "data": {
      "application/vnd.jupyter.widget-view+json": {
       "model_id": "fedbbcf573a54be2ba131c5254a28fab",
       "version_major": 2,
       "version_minor": 0
      },
      "text/plain": [
       "Matching endpoint cells:   0%|          | 0/86 [00:00<?, ?it/s]"
      ]
     },
     "metadata": {},
     "output_type": "display_data"
    },
    {
     "data": {
      "application/vnd.jupyter.widget-view+json": {
       "model_id": "4b617b77f1e14a42ba4c4bef9f358fff",
       "version_major": 2,
       "version_minor": 0
      },
      "text/plain": [
       "Matching endpoint cells:   0%|          | 0/121 [00:00<?, ?it/s]"
      ]
     },
     "metadata": {},
     "output_type": "display_data"
    },
    {
     "data": {
      "application/vnd.jupyter.widget-view+json": {
       "model_id": "4e5fe878930d4585b7d28ce773c209f4",
       "version_major": 2,
       "version_minor": 0
      },
      "text/plain": [
       "Matching endpoint cells:   0%|          | 0/83 [00:00<?, ?it/s]"
      ]
     },
     "metadata": {},
     "output_type": "display_data"
    },
    {
     "data": {
      "application/vnd.jupyter.widget-view+json": {
       "model_id": "d16295bf7f844e1bbc7b0f20fd30c8bd",
       "version_major": 2,
       "version_minor": 0
      },
      "text/plain": [
       "Matching endpoint cells:   0%|          | 0/75 [00:00<?, ?it/s]"
      ]
     },
     "metadata": {},
     "output_type": "display_data"
    },
    {
     "data": {
      "application/vnd.jupyter.widget-view+json": {
       "model_id": "522784a3599d4f60ac4385155771df55",
       "version_major": 2,
       "version_minor": 0
      },
      "text/plain": [
       "Matching endpoint cells:   0%|          | 0/102 [00:00<?, ?it/s]"
      ]
     },
     "metadata": {},
     "output_type": "display_data"
    },
    {
     "data": {
      "application/vnd.jupyter.widget-view+json": {
       "model_id": "6d0d7714ec6a42228523b9f74bb6cf58",
       "version_major": 2,
       "version_minor": 0
      },
      "text/plain": [
       "Matching endpoint cells:   0%|          | 0/88 [00:00<?, ?it/s]"
      ]
     },
     "metadata": {},
     "output_type": "display_data"
    },
    {
     "data": {
      "application/vnd.jupyter.widget-view+json": {
       "model_id": "c39bd617dbc541288db587ed6d362c24",
       "version_major": 2,
       "version_minor": 0
      },
      "text/plain": [
       "Matching endpoint cells:   0%|          | 0/90 [00:00<?, ?it/s]"
      ]
     },
     "metadata": {},
     "output_type": "display_data"
    },
    {
     "data": {
      "application/vnd.jupyter.widget-view+json": {
       "model_id": "0e1611ed90554ba2bec7a4dd1ad579a8",
       "version_major": 2,
       "version_minor": 0
      },
      "text/plain": [
       "Matching endpoint cells:   0%|          | 0/111 [00:00<?, ?it/s]"
      ]
     },
     "metadata": {},
     "output_type": "display_data"
    },
    {
     "data": {
      "application/vnd.jupyter.widget-view+json": {
       "model_id": "78d588c0e97b4758963e34793ae3237d",
       "version_major": 2,
       "version_minor": 0
      },
      "text/plain": [
       "Matching endpoint cells:   0%|          | 0/43 [00:00<?, ?it/s]"
      ]
     },
     "metadata": {},
     "output_type": "display_data"
    },
    {
     "data": {
      "application/vnd.jupyter.widget-view+json": {
       "model_id": "9b54cc9819344f02bc08ae7f0b76e402",
       "version_major": 2,
       "version_minor": 0
      },
      "text/plain": [
       "Matching endpoint cells:   0%|          | 0/46 [00:00<?, ?it/s]"
      ]
     },
     "metadata": {},
     "output_type": "display_data"
    },
    {
     "data": {
      "application/vnd.jupyter.widget-view+json": {
       "model_id": "9ef72f66af614ef5a9e4bb7aa729a8cc",
       "version_major": 2,
       "version_minor": 0
      },
      "text/plain": [
       "Matching endpoint cells:   0%|          | 0/122 [00:00<?, ?it/s]"
      ]
     },
     "metadata": {},
     "output_type": "display_data"
    },
    {
     "data": {
      "application/vnd.jupyter.widget-view+json": {
       "model_id": "a531f65923044d63b4209ecc5b40bf0b",
       "version_major": 2,
       "version_minor": 0
      },
      "text/plain": [
       "Matching endpoint cells:   0%|          | 0/84 [00:00<?, ?it/s]"
      ]
     },
     "metadata": {},
     "output_type": "display_data"
    },
    {
     "data": {
      "application/vnd.jupyter.widget-view+json": {
       "model_id": "c7b7382fd13247119900ad06de789aa2",
       "version_major": 2,
       "version_minor": 0
      },
      "text/plain": [
       "Matching endpoint cells:   0%|          | 0/95 [00:00<?, ?it/s]"
      ]
     },
     "metadata": {},
     "output_type": "display_data"
    },
    {
     "data": {
      "application/vnd.jupyter.widget-view+json": {
       "model_id": "2a987802b4d74315ba0805eb08369ddf",
       "version_major": 2,
       "version_minor": 0
      },
      "text/plain": [
       "Matching endpoint cells:   0%|          | 0/88 [00:00<?, ?it/s]"
      ]
     },
     "metadata": {},
     "output_type": "display_data"
    },
    {
     "data": {
      "application/vnd.jupyter.widget-view+json": {
       "model_id": "c18dd684788e49f89e6ca279b4968021",
       "version_major": 2,
       "version_minor": 0
      },
      "text/plain": [
       "Matching endpoint cells:   0%|          | 0/59 [00:00<?, ?it/s]"
      ]
     },
     "metadata": {},
     "output_type": "display_data"
    },
    {
     "data": {
      "application/vnd.jupyter.widget-view+json": {
       "model_id": "72f0664471264fb28492119fb06b4e9c",
       "version_major": 2,
       "version_minor": 0
      },
      "text/plain": [
       "Matching endpoint cells:   0%|          | 0/125 [00:00<?, ?it/s]"
      ]
     },
     "metadata": {},
     "output_type": "display_data"
    },
    {
     "data": {
      "application/vnd.jupyter.widget-view+json": {
       "model_id": "943d94f774124e6292e18cf90fecd7ae",
       "version_major": 2,
       "version_minor": 0
      },
      "text/plain": [
       "Matching endpoint cells:   0%|          | 0/87 [00:00<?, ?it/s]"
      ]
     },
     "metadata": {},
     "output_type": "display_data"
    },
    {
     "data": {
      "application/vnd.jupyter.widget-view+json": {
       "model_id": "1a92e74e0e2f4e7894d724ce38d008fc",
       "version_major": 2,
       "version_minor": 0
      },
      "text/plain": [
       "Matching endpoint cells:   0%|          | 0/107 [00:00<?, ?it/s]"
      ]
     },
     "metadata": {},
     "output_type": "display_data"
    },
    {
     "data": {
      "application/vnd.jupyter.widget-view+json": {
       "model_id": "86f2b1b3b8614f4abe9c2e5774b56d1c",
       "version_major": 2,
       "version_minor": 0
      },
      "text/plain": [
       "Matching endpoint cells:   0%|          | 0/28 [00:00<?, ?it/s]"
      ]
     },
     "metadata": {},
     "output_type": "display_data"
    },
    {
     "data": {
      "application/vnd.jupyter.widget-view+json": {
       "model_id": "0bef6e7263d34199bd5200e829ed972e",
       "version_major": 2,
       "version_minor": 0
      },
      "text/plain": [
       "Matching endpoint cells:   0%|          | 0/60 [00:00<?, ?it/s]"
      ]
     },
     "metadata": {},
     "output_type": "display_data"
    },
    {
     "data": {
      "application/vnd.jupyter.widget-view+json": {
       "model_id": "767db58a3edb4cc4b2e11c060ee87915",
       "version_major": 2,
       "version_minor": 0
      },
      "text/plain": [
       "Matching endpoint cells:   0%|          | 0/116 [00:00<?, ?it/s]"
      ]
     },
     "metadata": {},
     "output_type": "display_data"
    },
    {
     "data": {
      "application/vnd.jupyter.widget-view+json": {
       "model_id": "4696292db6b545038a043403fc06ae97",
       "version_major": 2,
       "version_minor": 0
      },
      "text/plain": [
       "Matching endpoint cells:   0%|          | 0/95 [00:00<?, ?it/s]"
      ]
     },
     "metadata": {},
     "output_type": "display_data"
    },
    {
     "data": {
      "application/vnd.jupyter.widget-view+json": {
       "model_id": "59e09e2b6664445f8759f34b48091bc2",
       "version_major": 2,
       "version_minor": 0
      },
      "text/plain": [
       "Matching endpoint cells:   0%|          | 0/55 [00:00<?, ?it/s]"
      ]
     },
     "metadata": {},
     "output_type": "display_data"
    },
    {
     "data": {
      "application/vnd.jupyter.widget-view+json": {
       "model_id": "bc66f64fcc4d45ce9cf6ded2b930d94e",
       "version_major": 2,
       "version_minor": 0
      },
      "text/plain": [
       "Matching endpoint cells:   0%|          | 0/100 [00:00<?, ?it/s]"
      ]
     },
     "metadata": {},
     "output_type": "display_data"
    },
    {
     "data": {
      "application/vnd.jupyter.widget-view+json": {
       "model_id": "eb04ee7d74934fecb9de3a89677149b5",
       "version_major": 2,
       "version_minor": 0
      },
      "text/plain": [
       "Matching endpoint cells:   0%|          | 0/43 [00:00<?, ?it/s]"
      ]
     },
     "metadata": {},
     "output_type": "display_data"
    },
    {
     "data": {
      "application/vnd.jupyter.widget-view+json": {
       "model_id": "e6777068dc8142a48245609b5d75b64e",
       "version_major": 2,
       "version_minor": 0
      },
      "text/plain": [
       "Matching endpoint cells:   0%|          | 0/106 [00:00<?, ?it/s]"
      ]
     },
     "metadata": {},
     "output_type": "display_data"
    },
    {
     "data": {
      "application/vnd.jupyter.widget-view+json": {
       "model_id": "a41c5e5fcdbf4683a8b41e541bd43131",
       "version_major": 2,
       "version_minor": 0
      },
      "text/plain": [
       "Matching endpoint cells:   0%|          | 0/99 [00:00<?, ?it/s]"
      ]
     },
     "metadata": {},
     "output_type": "display_data"
    },
    {
     "data": {
      "application/vnd.jupyter.widget-view+json": {
       "model_id": "0d7a15f0c28f4cde82920a9b7a94a84c",
       "version_major": 2,
       "version_minor": 0
      },
      "text/plain": [
       "Matching endpoint cells:   0%|          | 0/41 [00:00<?, ?it/s]"
      ]
     },
     "metadata": {},
     "output_type": "display_data"
    },
    {
     "data": {
      "application/vnd.jupyter.widget-view+json": {
       "model_id": "d7f23d2803414fc6b9b6a5f074ab9d5f",
       "version_major": 2,
       "version_minor": 0
      },
      "text/plain": [
       "Matching endpoint cells:   0%|          | 0/116 [00:00<?, ?it/s]"
      ]
     },
     "metadata": {},
     "output_type": "display_data"
    },
    {
     "data": {
      "application/vnd.jupyter.widget-view+json": {
       "model_id": "3b0aa1c1b9674fefbe2a23a4cf9a2c83",
       "version_major": 2,
       "version_minor": 0
      },
      "text/plain": [
       "Matching endpoint cells:   0%|          | 0/82 [00:00<?, ?it/s]"
      ]
     },
     "metadata": {},
     "output_type": "display_data"
    },
    {
     "data": {
      "application/vnd.jupyter.widget-view+json": {
       "model_id": "3c18ee0988eb4960bd9ae4eb13e6a115",
       "version_major": 2,
       "version_minor": 0
      },
      "text/plain": [
       "Matching endpoint cells:   0%|          | 0/102 [00:00<?, ?it/s]"
      ]
     },
     "metadata": {},
     "output_type": "display_data"
    },
    {
     "data": {
      "application/vnd.jupyter.widget-view+json": {
       "model_id": "2e7705640201435f91829e02e152f72f",
       "version_major": 2,
       "version_minor": 0
      },
      "text/plain": [
       "Matching endpoint cells:   0%|          | 0/74 [00:00<?, ?it/s]"
      ]
     },
     "metadata": {},
     "output_type": "display_data"
    },
    {
     "data": {
      "application/vnd.jupyter.widget-view+json": {
       "model_id": "8b8cb673779b4b7a99c885d983f79c35",
       "version_major": 2,
       "version_minor": 0
      },
      "text/plain": [
       "Matching endpoint cells:   0%|          | 0/117 [00:00<?, ?it/s]"
      ]
     },
     "metadata": {},
     "output_type": "display_data"
    },
    {
     "data": {
      "application/vnd.jupyter.widget-view+json": {
       "model_id": "7cab2e2501454a378555b185b9952db3",
       "version_major": 2,
       "version_minor": 0
      },
      "text/plain": [
       "Matching endpoint cells:   0%|          | 0/98 [00:00<?, ?it/s]"
      ]
     },
     "metadata": {},
     "output_type": "display_data"
    },
    {
     "data": {
      "application/vnd.jupyter.widget-view+json": {
       "model_id": "3c764f8b9d33487990bf95d6aa33a82c",
       "version_major": 2,
       "version_minor": 0
      },
      "text/plain": [
       "Matching endpoint cells:   0%|          | 0/101 [00:00<?, ?it/s]"
      ]
     },
     "metadata": {},
     "output_type": "display_data"
    },
    {
     "data": {
      "application/vnd.jupyter.widget-view+json": {
       "model_id": "aa7d10f35da84590997dd7f694458b5a",
       "version_major": 2,
       "version_minor": 0
      },
      "text/plain": [
       "Matching endpoint cells:   0%|          | 0/76 [00:00<?, ?it/s]"
      ]
     },
     "metadata": {},
     "output_type": "display_data"
    },
    {
     "data": {
      "application/vnd.jupyter.widget-view+json": {
       "model_id": "b45e87b2cc3646fc9085d76cb832fab1",
       "version_major": 2,
       "version_minor": 0
      },
      "text/plain": [
       "Matching endpoint cells:   0%|          | 0/128 [00:00<?, ?it/s]"
      ]
     },
     "metadata": {},
     "output_type": "display_data"
    },
    {
     "data": {
      "application/vnd.jupyter.widget-view+json": {
       "model_id": "53a33c1059cd4533801c396fb77100f2",
       "version_major": 2,
       "version_minor": 0
      },
      "text/plain": [
       "Matching endpoint cells:   0%|          | 0/112 [00:00<?, ?it/s]"
      ]
     },
     "metadata": {},
     "output_type": "display_data"
    },
    {
     "data": {
      "application/vnd.jupyter.widget-view+json": {
       "model_id": "c882409165404c1398e861f4f24a1223",
       "version_major": 2,
       "version_minor": 0
      },
      "text/plain": [
       "Matching endpoint cells:   0%|          | 0/53 [00:00<?, ?it/s]"
      ]
     },
     "metadata": {},
     "output_type": "display_data"
    },
    {
     "data": {
      "application/vnd.jupyter.widget-view+json": {
       "model_id": "c4ba41443c8741de86ab4031752b1927",
       "version_major": 2,
       "version_minor": 0
      },
      "text/plain": [
       "Matching endpoint cells:   0%|          | 0/39 [00:00<?, ?it/s]"
      ]
     },
     "metadata": {},
     "output_type": "display_data"
    },
    {
     "data": {
      "application/vnd.jupyter.widget-view+json": {
       "model_id": "b597308a5a0a4677ba4a77827fc951c0",
       "version_major": 2,
       "version_minor": 0
      },
      "text/plain": [
       "Matching endpoint cells:   0%|          | 0/63 [00:00<?, ?it/s]"
      ]
     },
     "metadata": {},
     "output_type": "display_data"
    },
    {
     "data": {
      "application/vnd.jupyter.widget-view+json": {
       "model_id": "cfb4cb58b762462190869c7052ebd0b7",
       "version_major": 2,
       "version_minor": 0
      },
      "text/plain": [
       "Matching endpoint cells:   0%|          | 0/57 [00:00<?, ?it/s]"
      ]
     },
     "metadata": {},
     "output_type": "display_data"
    },
    {
     "data": {
      "application/vnd.jupyter.widget-view+json": {
       "model_id": "3d73182bc9684d39865ff3418c21df78",
       "version_major": 2,
       "version_minor": 0
      },
      "text/plain": [
       "Matching endpoint cells:   0%|          | 0/98 [00:00<?, ?it/s]"
      ]
     },
     "metadata": {},
     "output_type": "display_data"
    },
    {
     "data": {
      "application/vnd.jupyter.widget-view+json": {
       "model_id": "7fa330a08e314822bbc48a44f3b750b6",
       "version_major": 2,
       "version_minor": 0
      },
      "text/plain": [
       "Matching endpoint cells:   0%|          | 0/101 [00:00<?, ?it/s]"
      ]
     },
     "metadata": {},
     "output_type": "display_data"
    },
    {
     "data": {
      "application/vnd.jupyter.widget-view+json": {
       "model_id": "7798f7b957ef4a8eb08ecadf76133d97",
       "version_major": 2,
       "version_minor": 0
      },
      "text/plain": [
       "Matching endpoint cells:   0%|          | 0/21 [00:00<?, ?it/s]"
      ]
     },
     "metadata": {},
     "output_type": "display_data"
    },
    {
     "data": {
      "application/vnd.jupyter.widget-view+json": {
       "model_id": "ff1af3a133864d3ba924b5b6d9c3d096",
       "version_major": 2,
       "version_minor": 0
      },
      "text/plain": [
       "Matching endpoint cells:   0%|          | 0/118 [00:00<?, ?it/s]"
      ]
     },
     "metadata": {},
     "output_type": "display_data"
    },
    {
     "data": {
      "application/vnd.jupyter.widget-view+json": {
       "model_id": "5b36b073c99d4f2e85e5e8da94906d54",
       "version_major": 2,
       "version_minor": 0
      },
      "text/plain": [
       "Matching endpoint cells:   0%|          | 0/47 [00:00<?, ?it/s]"
      ]
     },
     "metadata": {},
     "output_type": "display_data"
    },
    {
     "data": {
      "application/vnd.jupyter.widget-view+json": {
       "model_id": "60a5c930c5b14698a28c80b8bc2c6dfc",
       "version_major": 2,
       "version_minor": 0
      },
      "text/plain": [
       "Matching endpoint cells:   0%|          | 0/78 [00:00<?, ?it/s]"
      ]
     },
     "metadata": {},
     "output_type": "display_data"
    },
    {
     "data": {
      "application/vnd.jupyter.widget-view+json": {
       "model_id": "8018263221a943919bfd251519442faf",
       "version_major": 2,
       "version_minor": 0
      },
      "text/plain": [
       "Matching endpoint cells:   0%|          | 0/67 [00:00<?, ?it/s]"
      ]
     },
     "metadata": {},
     "output_type": "display_data"
    },
    {
     "data": {
      "application/vnd.jupyter.widget-view+json": {
       "model_id": "058e79c836914aecaff67ebfdf3e6961",
       "version_major": 2,
       "version_minor": 0
      },
      "text/plain": [
       "Matching endpoint cells:   0%|          | 0/46 [00:00<?, ?it/s]"
      ]
     },
     "metadata": {},
     "output_type": "display_data"
    },
    {
     "data": {
      "application/vnd.jupyter.widget-view+json": {
       "model_id": "e3abcf3228ad40f3a1f412c65d38a0e8",
       "version_major": 2,
       "version_minor": 0
      },
      "text/plain": [
       "Matching endpoint cells:   0%|          | 0/25 [00:00<?, ?it/s]"
      ]
     },
     "metadata": {},
     "output_type": "display_data"
    },
    {
     "data": {
      "application/vnd.jupyter.widget-view+json": {
       "model_id": "7792df6729b74f0daa9c2c01f56fdcc3",
       "version_major": 2,
       "version_minor": 0
      },
      "text/plain": [
       "Matching endpoint cells:   0%|          | 0/29 [00:00<?, ?it/s]"
      ]
     },
     "metadata": {},
     "output_type": "display_data"
    },
    {
     "data": {
      "application/vnd.jupyter.widget-view+json": {
       "model_id": "2234e43379d349b09f2a79058d7e9aab",
       "version_major": 2,
       "version_minor": 0
      },
      "text/plain": [
       "Matching endpoint cells:   0%|          | 0/123 [00:00<?, ?it/s]"
      ]
     },
     "metadata": {},
     "output_type": "display_data"
    },
    {
     "data": {
      "application/vnd.jupyter.widget-view+json": {
       "model_id": "e375a8dd762f4220a0042158d78c355d",
       "version_major": 2,
       "version_minor": 0
      },
      "text/plain": [
       "Matching endpoint cells:   0%|          | 0/120 [00:00<?, ?it/s]"
      ]
     },
     "metadata": {},
     "output_type": "display_data"
    },
    {
     "data": {
      "application/vnd.jupyter.widget-view+json": {
       "model_id": "553e6cf7cdc34ca2b10d194d62a1058f",
       "version_major": 2,
       "version_minor": 0
      },
      "text/plain": [
       "Matching endpoint cells:   0%|          | 0/90 [00:00<?, ?it/s]"
      ]
     },
     "metadata": {},
     "output_type": "display_data"
    },
    {
     "data": {
      "application/vnd.jupyter.widget-view+json": {
       "model_id": "2cde5503a86b4707972e59c4dc99f643",
       "version_major": 2,
       "version_minor": 0
      },
      "text/plain": [
       "Matching endpoint cells:   0%|          | 0/68 [00:00<?, ?it/s]"
      ]
     },
     "metadata": {},
     "output_type": "display_data"
    },
    {
     "data": {
      "application/vnd.jupyter.widget-view+json": {
       "model_id": "0f851387b248471fb389b1e54d0411e2",
       "version_major": 2,
       "version_minor": 0
      },
      "text/plain": [
       "Matching endpoint cells:   0%|          | 0/61 [00:00<?, ?it/s]"
      ]
     },
     "metadata": {},
     "output_type": "display_data"
    },
    {
     "data": {
      "application/vnd.jupyter.widget-view+json": {
       "model_id": "fa840a8395ad4fa28daf8da25bb0e734",
       "version_major": 2,
       "version_minor": 0
      },
      "text/plain": [
       "Matching endpoint cells:   0%|          | 0/128 [00:00<?, ?it/s]"
      ]
     },
     "metadata": {},
     "output_type": "display_data"
    },
    {
     "data": {
      "application/vnd.jupyter.widget-view+json": {
       "model_id": "6f2978b27a43481eb8d44e1e875cfb6c",
       "version_major": 2,
       "version_minor": 0
      },
      "text/plain": [
       "Matching endpoint cells:   0%|          | 0/87 [00:00<?, ?it/s]"
      ]
     },
     "metadata": {},
     "output_type": "display_data"
    }
   ],
   "source": [
    "for well_fov in tqdm(list(dict_of_sc_well_fovs.keys()), desc=\"Processing Well-FOVs\"):\n",
    "    used_track_ids = set()  # Track which IDs have already been assigned\n",
    "\n",
    "    # For each endpoint cell, find the best available match\n",
    "    for j, endpoint_row in tqdm(\n",
    "        dict_of_sc_well_fovs_endpoint[well_fov].iterrows(),\n",
    "        total=len(dict_of_sc_well_fovs_endpoint[well_fov]),\n",
    "        desc=\"Matching endpoint cells\",\n",
    "        leave=False,\n",
    "    ):\n",
    "        best_distance = float(\"inf\")\n",
    "        best_track_id = None\n",
    "\n",
    "        # Find the closest available tracked cell to this endpoint cell\n",
    "        for i, tracked_row in dict_of_sc_well_fovs[well_fov].iterrows():\n",
    "            track_id = tracked_row[\"Metadata_sc_unique_track_id\"]\n",
    "\n",
    "            # Skip if this track ID has already been used\n",
    "            if track_id in used_track_ids:\n",
    "                continue\n",
    "\n",
    "            if tracked_row[\"Metadata_Well_FOV\"] == endpoint_row[\"Metadata_Well_FOV\"]:\n",
    "                distance = euclidean(\n",
    "                    [\n",
    "                        tracked_row[\"Metadata_Nuclei_Location_Center_X\"],\n",
    "                        tracked_row[\"Metadata_Nuclei_Location_Center_Y\"],\n",
    "                    ],\n",
    "                    [\n",
    "                        endpoint_row[\"Metadata_Nuclei_Location_Center_X\"],\n",
    "                        endpoint_row[\"Metadata_Nuclei_Location_Center_Y\"],\n",
    "                    ],\n",
    "                )\n",
    "\n",
    "                # Update best match if this is closer and within threshold\n",
    "                if distance < 10 and distance < best_distance:\n",
    "                    best_distance = distance\n",
    "                    best_track_id = track_id\n",
    "\n",
    "        # Assign the best match (if any) to this endpoint cell\n",
    "        if best_track_id is not None:\n",
    "            dict_of_sc_well_fovs_endpoint[well_fov].at[\n",
    "                j, \"Metadata_sc_unique_track_id\"\n",
    "            ] = best_track_id\n",
    "            used_track_ids.add(best_track_id)  # Mark this track ID as used"
   ]
  },
  {
   "cell_type": "code",
   "execution_count": 10,
   "metadata": {},
   "outputs": [
    {
     "name": "stdout",
     "output_type": "stream",
     "text": [
      "Fuzzy matching completed!\n",
      "Took 1321.0126721858978 seconds\n",
      "Took 22.02 minutes\n",
      "Took 0.37 hours\n"
     ]
    }
   ],
   "source": [
    "print(\"Fuzzy matching completed!\")\n",
    "print(f\"Took {time.time() - start_time} seconds\")\n",
    "print(f\"Took {round((time.time() - start_time) / 60, 2)} minutes\")\n",
    "print(f\"Took {round((time.time() - start_time) / 3600, 2)} hours\")"
   ]
  },
  {
   "cell_type": "code",
   "execution_count": 11,
   "metadata": {},
   "outputs": [
    {
     "name": "stdout",
     "output_type": "stream",
     "text": [
      "(4979, 545)\n"
     ]
    },
    {
     "data": {
      "text/html": [
       "<div>\n",
       "<style scoped>\n",
       "    .dataframe tbody tr th:only-of-type {\n",
       "        vertical-align: middle;\n",
       "    }\n",
       "\n",
       "    .dataframe tbody tr th {\n",
       "        vertical-align: top;\n",
       "    }\n",
       "\n",
       "    .dataframe thead th {\n",
       "        text-align: right;\n",
       "    }\n",
       "</style>\n",
       "<table border=\"1\" class=\"dataframe\">\n",
       "  <thead>\n",
       "    <tr style=\"text-align: right;\">\n",
       "      <th></th>\n",
       "      <th>Metadata_plate</th>\n",
       "      <th>Metadata_Well</th>\n",
       "      <th>Metadata_number_of_singlecells</th>\n",
       "      <th>Metadata_compound</th>\n",
       "      <th>Metadata_dose</th>\n",
       "      <th>Metadata_control</th>\n",
       "      <th>Metadata_ImageNumber</th>\n",
       "      <th>Metadata_FOV</th>\n",
       "      <th>Metadata_Time</th>\n",
       "      <th>Metadata_Cells_Number_Object_Number</th>\n",
       "      <th>...</th>\n",
       "      <th>Nuclei_Texture_Correlation_AnnexinV_3_02_256</th>\n",
       "      <th>Nuclei_Texture_Correlation_AnnexinV_3_03_256</th>\n",
       "      <th>Nuclei_Texture_Correlation_DNA_3_02_256</th>\n",
       "      <th>Nuclei_Texture_DifferenceVariance_AnnexinV_3_01_256</th>\n",
       "      <th>Nuclei_Texture_InverseDifferenceMoment_AnnexinV_3_03_256</th>\n",
       "      <th>Nuclei_Texture_InverseDifferenceMoment_DNA_3_03_256</th>\n",
       "      <th>Nuclei_Texture_SumAverage_AnnexinV_3_00_256</th>\n",
       "      <th>Nuclei_Texture_SumAverage_DNA_3_01_256</th>\n",
       "      <th>Metadata_Well_FOV</th>\n",
       "      <th>Metadata_sc_unique_track_id</th>\n",
       "    </tr>\n",
       "  </thead>\n",
       "  <tbody>\n",
       "    <tr>\n",
       "      <th>0</th>\n",
       "      <td>1</td>\n",
       "      <td>C-09</td>\n",
       "      <td>153</td>\n",
       "      <td>Staurosporine</td>\n",
       "      <td>39.06</td>\n",
       "      <td>positive</td>\n",
       "      <td>1</td>\n",
       "      <td>0002</td>\n",
       "      <td>13.0</td>\n",
       "      <td>3.0</td>\n",
       "      <td>...</td>\n",
       "      <td>-0.471301</td>\n",
       "      <td>-0.589558</td>\n",
       "      <td>-1.321561</td>\n",
       "      <td>0.652602</td>\n",
       "      <td>0.668286</td>\n",
       "      <td>0.260828</td>\n",
       "      <td>0.034058</td>\n",
       "      <td>0.566404</td>\n",
       "      <td>C-09_0002</td>\n",
       "      <td>C-09_0002_32</td>\n",
       "    </tr>\n",
       "    <tr>\n",
       "      <th>1</th>\n",
       "      <td>1</td>\n",
       "      <td>C-09</td>\n",
       "      <td>153</td>\n",
       "      <td>Staurosporine</td>\n",
       "      <td>39.06</td>\n",
       "      <td>positive</td>\n",
       "      <td>1</td>\n",
       "      <td>0002</td>\n",
       "      <td>13.0</td>\n",
       "      <td>6.0</td>\n",
       "      <td>...</td>\n",
       "      <td>-0.832951</td>\n",
       "      <td>-0.666071</td>\n",
       "      <td>0.643979</td>\n",
       "      <td>-1.267717</td>\n",
       "      <td>-1.853163</td>\n",
       "      <td>0.474450</td>\n",
       "      <td>-1.437757</td>\n",
       "      <td>0.347586</td>\n",
       "      <td>C-09_0002</td>\n",
       "      <td>C-09_0002_52</td>\n",
       "    </tr>\n",
       "    <tr>\n",
       "      <th>2</th>\n",
       "      <td>1</td>\n",
       "      <td>C-09</td>\n",
       "      <td>153</td>\n",
       "      <td>Staurosporine</td>\n",
       "      <td>39.06</td>\n",
       "      <td>positive</td>\n",
       "      <td>1</td>\n",
       "      <td>0002</td>\n",
       "      <td>13.0</td>\n",
       "      <td>22.0</td>\n",
       "      <td>...</td>\n",
       "      <td>0.167245</td>\n",
       "      <td>-0.055811</td>\n",
       "      <td>-0.535309</td>\n",
       "      <td>-0.677362</td>\n",
       "      <td>0.194116</td>\n",
       "      <td>-0.309046</td>\n",
       "      <td>0.545504</td>\n",
       "      <td>2.499717</td>\n",
       "      <td>C-09_0002</td>\n",
       "      <td>C-09_0002_115</td>\n",
       "    </tr>\n",
       "    <tr>\n",
       "      <th>3</th>\n",
       "      <td>1</td>\n",
       "      <td>C-09</td>\n",
       "      <td>153</td>\n",
       "      <td>Staurosporine</td>\n",
       "      <td>39.06</td>\n",
       "      <td>positive</td>\n",
       "      <td>1</td>\n",
       "      <td>0002</td>\n",
       "      <td>13.0</td>\n",
       "      <td>27.0</td>\n",
       "      <td>...</td>\n",
       "      <td>0.707274</td>\n",
       "      <td>-0.882432</td>\n",
       "      <td>-0.685778</td>\n",
       "      <td>0.054840</td>\n",
       "      <td>0.505591</td>\n",
       "      <td>-0.377580</td>\n",
       "      <td>0.083942</td>\n",
       "      <td>3.070313</td>\n",
       "      <td>C-09_0002</td>\n",
       "      <td>C-09_0002_104</td>\n",
       "    </tr>\n",
       "    <tr>\n",
       "      <th>4</th>\n",
       "      <td>1</td>\n",
       "      <td>C-09</td>\n",
       "      <td>153</td>\n",
       "      <td>Staurosporine</td>\n",
       "      <td>39.06</td>\n",
       "      <td>positive</td>\n",
       "      <td>1</td>\n",
       "      <td>0002</td>\n",
       "      <td>13.0</td>\n",
       "      <td>31.0</td>\n",
       "      <td>...</td>\n",
       "      <td>-0.519578</td>\n",
       "      <td>-0.373536</td>\n",
       "      <td>-1.636720</td>\n",
       "      <td>-0.635380</td>\n",
       "      <td>0.294652</td>\n",
       "      <td>0.469701</td>\n",
       "      <td>0.303541</td>\n",
       "      <td>0.351592</td>\n",
       "      <td>C-09_0002</td>\n",
       "      <td>C-09_0002_167</td>\n",
       "    </tr>\n",
       "  </tbody>\n",
       "</table>\n",
       "<p>5 rows × 545 columns</p>\n",
       "</div>"
      ],
      "text/plain": [
       "   Metadata_plate Metadata_Well  Metadata_number_of_singlecells  \\\n",
       "0               1          C-09                             153   \n",
       "1               1          C-09                             153   \n",
       "2               1          C-09                             153   \n",
       "3               1          C-09                             153   \n",
       "4               1          C-09                             153   \n",
       "\n",
       "  Metadata_compound  Metadata_dose Metadata_control  Metadata_ImageNumber  \\\n",
       "0     Staurosporine          39.06         positive                     1   \n",
       "1     Staurosporine          39.06         positive                     1   \n",
       "2     Staurosporine          39.06         positive                     1   \n",
       "3     Staurosporine          39.06         positive                     1   \n",
       "4     Staurosporine          39.06         positive                     1   \n",
       "\n",
       "  Metadata_FOV  Metadata_Time  Metadata_Cells_Number_Object_Number  ...  \\\n",
       "0         0002           13.0                                  3.0  ...   \n",
       "1         0002           13.0                                  6.0  ...   \n",
       "2         0002           13.0                                 22.0  ...   \n",
       "3         0002           13.0                                 27.0  ...   \n",
       "4         0002           13.0                                 31.0  ...   \n",
       "\n",
       "   Nuclei_Texture_Correlation_AnnexinV_3_02_256  \\\n",
       "0                                     -0.471301   \n",
       "1                                     -0.832951   \n",
       "2                                      0.167245   \n",
       "3                                      0.707274   \n",
       "4                                     -0.519578   \n",
       "\n",
       "   Nuclei_Texture_Correlation_AnnexinV_3_03_256  \\\n",
       "0                                     -0.589558   \n",
       "1                                     -0.666071   \n",
       "2                                     -0.055811   \n",
       "3                                     -0.882432   \n",
       "4                                     -0.373536   \n",
       "\n",
       "   Nuclei_Texture_Correlation_DNA_3_02_256  \\\n",
       "0                                -1.321561   \n",
       "1                                 0.643979   \n",
       "2                                -0.535309   \n",
       "3                                -0.685778   \n",
       "4                                -1.636720   \n",
       "\n",
       "   Nuclei_Texture_DifferenceVariance_AnnexinV_3_01_256  \\\n",
       "0                                           0.652602     \n",
       "1                                          -1.267717     \n",
       "2                                          -0.677362     \n",
       "3                                           0.054840     \n",
       "4                                          -0.635380     \n",
       "\n",
       "   Nuclei_Texture_InverseDifferenceMoment_AnnexinV_3_03_256  \\\n",
       "0                                           0.668286          \n",
       "1                                          -1.853163          \n",
       "2                                           0.194116          \n",
       "3                                           0.505591          \n",
       "4                                           0.294652          \n",
       "\n",
       "   Nuclei_Texture_InverseDifferenceMoment_DNA_3_03_256  \\\n",
       "0                                           0.260828     \n",
       "1                                           0.474450     \n",
       "2                                          -0.309046     \n",
       "3                                          -0.377580     \n",
       "4                                           0.469701     \n",
       "\n",
       "  Nuclei_Texture_SumAverage_AnnexinV_3_00_256  \\\n",
       "0                                    0.034058   \n",
       "1                                   -1.437757   \n",
       "2                                    0.545504   \n",
       "3                                    0.083942   \n",
       "4                                    0.303541   \n",
       "\n",
       "  Nuclei_Texture_SumAverage_DNA_3_01_256 Metadata_Well_FOV  \\\n",
       "0                               0.566404         C-09_0002   \n",
       "1                               0.347586         C-09_0002   \n",
       "2                               2.499717         C-09_0002   \n",
       "3                               3.070313         C-09_0002   \n",
       "4                               0.351592         C-09_0002   \n",
       "\n",
       "  Metadata_sc_unique_track_id  \n",
       "0                C-09_0002_32  \n",
       "1                C-09_0002_52  \n",
       "2               C-09_0002_115  \n",
       "3               C-09_0002_104  \n",
       "4               C-09_0002_167  \n",
       "\n",
       "[5 rows x 545 columns]"
      ]
     },
     "execution_count": 11,
     "metadata": {},
     "output_type": "execute_result"
    }
   ],
   "source": [
    "sc_well_fovs_endpoint_df = pd.concat(\n",
    "    dict_of_sc_well_fovs_endpoint.values(), ignore_index=True\n",
    ")\n",
    "# drop the rows where Metadata_sc_unique_track_id is NaN\n",
    "sc_well_fovs_endpoint_df = sc_well_fovs_endpoint_df.dropna(\n",
    "    subset=[\"Metadata_sc_unique_track_id\"]\n",
    ")\n",
    "print(sc_well_fovs_endpoint_df.shape)\n",
    "sc_well_fovs_endpoint_df.reset_index(drop=True, inplace=True)\n",
    "sc_well_fovs_endpoint_df[\"Metadata_Time\"] = 13.0\n",
    "sc_well_fovs_endpoint_df.head()"
   ]
  },
  {
   "cell_type": "code",
   "execution_count": 12,
   "metadata": {},
   "outputs": [
    {
     "data": {
      "text/html": [
       "<div>\n",
       "<style scoped>\n",
       "    .dataframe tbody tr th:only-of-type {\n",
       "        vertical-align: middle;\n",
       "    }\n",
       "\n",
       "    .dataframe tbody tr th {\n",
       "        vertical-align: top;\n",
       "    }\n",
       "\n",
       "    .dataframe thead th {\n",
       "        text-align: right;\n",
       "    }\n",
       "</style>\n",
       "<table border=\"1\" class=\"dataframe\">\n",
       "  <thead>\n",
       "    <tr style=\"text-align: right;\">\n",
       "      <th></th>\n",
       "      <th>Metadata_plate</th>\n",
       "      <th>Metadata_Well</th>\n",
       "      <th>Metadata_number_of_singlecells</th>\n",
       "      <th>Metadata_compound</th>\n",
       "      <th>Metadata_dose</th>\n",
       "      <th>Metadata_control</th>\n",
       "      <th>Metadata_ImageNumber</th>\n",
       "      <th>Metadata_FOV</th>\n",
       "      <th>Metadata_Time</th>\n",
       "      <th>Metadata_Cells_Number_Object_Number</th>\n",
       "      <th>...</th>\n",
       "      <th>channel_DNA_cls_feature_99_scDINO</th>\n",
       "      <th>channel_DNA_cls_feature_9_scDINO</th>\n",
       "      <th>Metadata_Image_FileName_CL_488_1_crop</th>\n",
       "      <th>Metadata_Image_FileName_CL_488_2_crop</th>\n",
       "      <th>Metadata_Image_FileName_CL_561_crop</th>\n",
       "      <th>Metadata_Image_FileName_DNA_crop</th>\n",
       "      <th>Metadata_parent_path</th>\n",
       "      <th>Metadata_sc_unique_track_id</th>\n",
       "      <th>Metadata_Well_FOV</th>\n",
       "      <th>Metadata_sc_unique_track_id_count</th>\n",
       "    </tr>\n",
       "  </thead>\n",
       "  <tbody>\n",
       "    <tr>\n",
       "      <th>0</th>\n",
       "      <td>1</td>\n",
       "      <td>C-09</td>\n",
       "      <td>168</td>\n",
       "      <td>Staurosporine</td>\n",
       "      <td>39.06</td>\n",
       "      <td>positive</td>\n",
       "      <td>1</td>\n",
       "      <td>0002</td>\n",
       "      <td>0.0</td>\n",
       "      <td>7</td>\n",
       "      <td>...</td>\n",
       "      <td>2.401852</td>\n",
       "      <td>1.516202</td>\n",
       "      <td>/home/lippincm/4TB_A/live_cell_timelapse_apopt...</td>\n",
       "      <td>/home/lippincm/4TB_A/live_cell_timelapse_apopt...</td>\n",
       "      <td>/home/lippincm/4TB_A/live_cell_timelapse_apopt...</td>\n",
       "      <td>/home/lippincm/4TB_A/live_cell_timelapse_apopt...</td>\n",
       "      <td>/home/lippincm/4TB_A/live_cell_timelapse_apopt...</td>\n",
       "      <td>C-09_0002_5</td>\n",
       "      <td>C-09_0002</td>\n",
       "      <td>2</td>\n",
       "    </tr>\n",
       "    <tr>\n",
       "      <th>1</th>\n",
       "      <td>1</td>\n",
       "      <td>C-09</td>\n",
       "      <td>168</td>\n",
       "      <td>Staurosporine</td>\n",
       "      <td>39.06</td>\n",
       "      <td>positive</td>\n",
       "      <td>1</td>\n",
       "      <td>0002</td>\n",
       "      <td>0.0</td>\n",
       "      <td>9</td>\n",
       "      <td>...</td>\n",
       "      <td>-0.264486</td>\n",
       "      <td>0.153676</td>\n",
       "      <td>/home/lippincm/4TB_A/live_cell_timelapse_apopt...</td>\n",
       "      <td>/home/lippincm/4TB_A/live_cell_timelapse_apopt...</td>\n",
       "      <td>/home/lippincm/4TB_A/live_cell_timelapse_apopt...</td>\n",
       "      <td>/home/lippincm/4TB_A/live_cell_timelapse_apopt...</td>\n",
       "      <td>/home/lippincm/4TB_A/live_cell_timelapse_apopt...</td>\n",
       "      <td>C-09_0002_6</td>\n",
       "      <td>C-09_0002</td>\n",
       "      <td>5</td>\n",
       "    </tr>\n",
       "    <tr>\n",
       "      <th>2</th>\n",
       "      <td>1</td>\n",
       "      <td>C-09</td>\n",
       "      <td>168</td>\n",
       "      <td>Staurosporine</td>\n",
       "      <td>39.06</td>\n",
       "      <td>positive</td>\n",
       "      <td>1</td>\n",
       "      <td>0002</td>\n",
       "      <td>0.0</td>\n",
       "      <td>10</td>\n",
       "      <td>...</td>\n",
       "      <td>0.659583</td>\n",
       "      <td>0.537619</td>\n",
       "      <td>/home/lippincm/4TB_A/live_cell_timelapse_apopt...</td>\n",
       "      <td>/home/lippincm/4TB_A/live_cell_timelapse_apopt...</td>\n",
       "      <td>/home/lippincm/4TB_A/live_cell_timelapse_apopt...</td>\n",
       "      <td>/home/lippincm/4TB_A/live_cell_timelapse_apopt...</td>\n",
       "      <td>/home/lippincm/4TB_A/live_cell_timelapse_apopt...</td>\n",
       "      <td>C-09_0002_7</td>\n",
       "      <td>C-09_0002</td>\n",
       "      <td>2</td>\n",
       "    </tr>\n",
       "    <tr>\n",
       "      <th>3</th>\n",
       "      <td>1</td>\n",
       "      <td>C-09</td>\n",
       "      <td>168</td>\n",
       "      <td>Staurosporine</td>\n",
       "      <td>39.06</td>\n",
       "      <td>positive</td>\n",
       "      <td>1</td>\n",
       "      <td>0002</td>\n",
       "      <td>0.0</td>\n",
       "      <td>11</td>\n",
       "      <td>...</td>\n",
       "      <td>0.443178</td>\n",
       "      <td>1.129714</td>\n",
       "      <td>/home/lippincm/4TB_A/live_cell_timelapse_apopt...</td>\n",
       "      <td>/home/lippincm/4TB_A/live_cell_timelapse_apopt...</td>\n",
       "      <td>/home/lippincm/4TB_A/live_cell_timelapse_apopt...</td>\n",
       "      <td>/home/lippincm/4TB_A/live_cell_timelapse_apopt...</td>\n",
       "      <td>/home/lippincm/4TB_A/live_cell_timelapse_apopt...</td>\n",
       "      <td>C-09_0002_8</td>\n",
       "      <td>C-09_0002</td>\n",
       "      <td>8</td>\n",
       "    </tr>\n",
       "    <tr>\n",
       "      <th>4</th>\n",
       "      <td>1</td>\n",
       "      <td>C-09</td>\n",
       "      <td>168</td>\n",
       "      <td>Staurosporine</td>\n",
       "      <td>39.06</td>\n",
       "      <td>positive</td>\n",
       "      <td>1</td>\n",
       "      <td>0002</td>\n",
       "      <td>0.0</td>\n",
       "      <td>12</td>\n",
       "      <td>...</td>\n",
       "      <td>-0.228990</td>\n",
       "      <td>0.648714</td>\n",
       "      <td>/home/lippincm/4TB_A/live_cell_timelapse_apopt...</td>\n",
       "      <td>/home/lippincm/4TB_A/live_cell_timelapse_apopt...</td>\n",
       "      <td>/home/lippincm/4TB_A/live_cell_timelapse_apopt...</td>\n",
       "      <td>/home/lippincm/4TB_A/live_cell_timelapse_apopt...</td>\n",
       "      <td>/home/lippincm/4TB_A/live_cell_timelapse_apopt...</td>\n",
       "      <td>C-09_0002_9</td>\n",
       "      <td>C-09_0002</td>\n",
       "      <td>13</td>\n",
       "    </tr>\n",
       "  </tbody>\n",
       "</table>\n",
       "<p>5 rows × 2381 columns</p>\n",
       "</div>"
      ],
      "text/plain": [
       "   Metadata_plate Metadata_Well  Metadata_number_of_singlecells  \\\n",
       "0               1          C-09                             168   \n",
       "1               1          C-09                             168   \n",
       "2               1          C-09                             168   \n",
       "3               1          C-09                             168   \n",
       "4               1          C-09                             168   \n",
       "\n",
       "  Metadata_compound Metadata_dose Metadata_control Metadata_ImageNumber  \\\n",
       "0     Staurosporine         39.06         positive                    1   \n",
       "1     Staurosporine         39.06         positive                    1   \n",
       "2     Staurosporine         39.06         positive                    1   \n",
       "3     Staurosporine         39.06         positive                    1   \n",
       "4     Staurosporine         39.06         positive                    1   \n",
       "\n",
       "  Metadata_FOV Metadata_Time  Metadata_Cells_Number_Object_Number  ...  \\\n",
       "0         0002           0.0                                    7  ...   \n",
       "1         0002           0.0                                    9  ...   \n",
       "2         0002           0.0                                   10  ...   \n",
       "3         0002           0.0                                   11  ...   \n",
       "4         0002           0.0                                   12  ...   \n",
       "\n",
       "   channel_DNA_cls_feature_99_scDINO  channel_DNA_cls_feature_9_scDINO  \\\n",
       "0                           2.401852                          1.516202   \n",
       "1                          -0.264486                          0.153676   \n",
       "2                           0.659583                          0.537619   \n",
       "3                           0.443178                          1.129714   \n",
       "4                          -0.228990                          0.648714   \n",
       "\n",
       "               Metadata_Image_FileName_CL_488_1_crop  \\\n",
       "0  /home/lippincm/4TB_A/live_cell_timelapse_apopt...   \n",
       "1  /home/lippincm/4TB_A/live_cell_timelapse_apopt...   \n",
       "2  /home/lippincm/4TB_A/live_cell_timelapse_apopt...   \n",
       "3  /home/lippincm/4TB_A/live_cell_timelapse_apopt...   \n",
       "4  /home/lippincm/4TB_A/live_cell_timelapse_apopt...   \n",
       "\n",
       "               Metadata_Image_FileName_CL_488_2_crop  \\\n",
       "0  /home/lippincm/4TB_A/live_cell_timelapse_apopt...   \n",
       "1  /home/lippincm/4TB_A/live_cell_timelapse_apopt...   \n",
       "2  /home/lippincm/4TB_A/live_cell_timelapse_apopt...   \n",
       "3  /home/lippincm/4TB_A/live_cell_timelapse_apopt...   \n",
       "4  /home/lippincm/4TB_A/live_cell_timelapse_apopt...   \n",
       "\n",
       "                 Metadata_Image_FileName_CL_561_crop  \\\n",
       "0  /home/lippincm/4TB_A/live_cell_timelapse_apopt...   \n",
       "1  /home/lippincm/4TB_A/live_cell_timelapse_apopt...   \n",
       "2  /home/lippincm/4TB_A/live_cell_timelapse_apopt...   \n",
       "3  /home/lippincm/4TB_A/live_cell_timelapse_apopt...   \n",
       "4  /home/lippincm/4TB_A/live_cell_timelapse_apopt...   \n",
       "\n",
       "                    Metadata_Image_FileName_DNA_crop  \\\n",
       "0  /home/lippincm/4TB_A/live_cell_timelapse_apopt...   \n",
       "1  /home/lippincm/4TB_A/live_cell_timelapse_apopt...   \n",
       "2  /home/lippincm/4TB_A/live_cell_timelapse_apopt...   \n",
       "3  /home/lippincm/4TB_A/live_cell_timelapse_apopt...   \n",
       "4  /home/lippincm/4TB_A/live_cell_timelapse_apopt...   \n",
       "\n",
       "                                Metadata_parent_path  \\\n",
       "0  /home/lippincm/4TB_A/live_cell_timelapse_apopt...   \n",
       "1  /home/lippincm/4TB_A/live_cell_timelapse_apopt...   \n",
       "2  /home/lippincm/4TB_A/live_cell_timelapse_apopt...   \n",
       "3  /home/lippincm/4TB_A/live_cell_timelapse_apopt...   \n",
       "4  /home/lippincm/4TB_A/live_cell_timelapse_apopt...   \n",
       "\n",
       "  Metadata_sc_unique_track_id Metadata_Well_FOV  \\\n",
       "0                 C-09_0002_5         C-09_0002   \n",
       "1                 C-09_0002_6         C-09_0002   \n",
       "2                 C-09_0002_7         C-09_0002   \n",
       "3                 C-09_0002_8         C-09_0002   \n",
       "4                 C-09_0002_9         C-09_0002   \n",
       "\n",
       "  Metadata_sc_unique_track_id_count  \n",
       "0                                 2  \n",
       "1                                 5  \n",
       "2                                 2  \n",
       "3                                 8  \n",
       "4                                13  \n",
       "\n",
       "[5 rows x 2381 columns]"
      ]
     },
     "execution_count": 12,
     "metadata": {},
     "output_type": "execute_result"
    }
   ],
   "source": [
    "# map the value counts to a new column for each Metadata_sc_unique_track_id\n",
    "sc_profile_df[\"Metadata_sc_unique_track_id_count\"] = sc_profile_df[\n",
    "    \"Metadata_sc_unique_track_id\"\n",
    "].map(sc_profile_df[\"Metadata_sc_unique_track_id\"].value_counts())\n",
    "sc_profile_df.head()"
   ]
  },
  {
   "cell_type": "code",
   "execution_count": 13,
   "metadata": {},
   "outputs": [],
   "source": [
    "# write the cleaned dataframe to a parquet file\n",
    "output_sc_file_path = pathlib.Path(\"../results/cleaned_sc_profile.parquet\").resolve(\n",
    "    strict=False\n",
    ")\n",
    "output_sc_endpoint_file_path = pathlib.Path(\n",
    "    \"../results/cleaned_endpoint_sc_profile.parquet\"\n",
    ").resolve(strict=False)\n",
    "output_sc_file_path.parent.mkdir(parents=True, exist_ok=True)\n",
    "\n",
    "# we save the two profiles separately because they have different feature spaces\n",
    "\n",
    "sc_profile_df.to_parquet(output_sc_file_path, index=False)\n",
    "sc_well_fovs_endpoint_df.to_parquet(output_sc_endpoint_file_path, index=False)"
   ]
  },
  {
   "cell_type": "code",
   "execution_count": 14,
   "metadata": {},
   "outputs": [
    {
     "data": {
      "text/plain": [
       "801"
      ]
     },
     "execution_count": 14,
     "metadata": {},
     "output_type": "execute_result"
    }
   ],
   "source": [
    "sc_well_fovs_endpoint_df.isna().sum().sum()"
   ]
  },
  {
   "cell_type": "code",
   "execution_count": 15,
   "metadata": {},
   "outputs": [
    {
     "data": {
      "text/plain": [
       "9529"
      ]
     },
     "execution_count": 15,
     "metadata": {},
     "output_type": "execute_result"
    }
   ],
   "source": [
    "sc_profile_df.isna().sum().sum()"
   ]
  }
 ],
 "metadata": {
  "kernelspec": {
   "display_name": "timelapse_analaysis_env",
   "language": "python",
   "name": "python3"
  },
  "language_info": {
   "codemirror_mode": {
    "name": "ipython",
    "version": 3
   },
   "file_extension": ".py",
   "mimetype": "text/x-python",
   "name": "python",
   "nbconvert_exporter": "python",
   "pygments_lexer": "ipython3",
   "version": "3.11.11"
  }
 },
 "nbformat": 4,
 "nbformat_minor": 2
}
