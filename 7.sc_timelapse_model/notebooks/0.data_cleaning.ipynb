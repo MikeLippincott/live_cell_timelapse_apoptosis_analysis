{
 "cells": [
  {
   "cell_type": "markdown",
   "metadata": {},
   "source": [
    "This notebook performs a fuzzy match on single-cells from the profile data to the endpoint data.\n",
    "This is necessary because  the endpoint data was not included in the tracking module.\n",
    "Further this notebook provides information about how long the cell track is."
   ]
  },
  {
   "cell_type": "code",
   "execution_count": 1,
   "metadata": {},
   "outputs": [],
   "source": [
    "import pathlib\n",
    "import time\n",
    "\n",
    "import numpy as np\n",
    "import pandas as pd\n",
    "from scipy.spatial.distance import euclidean\n",
    "\n",
    "try:\n",
    "    cfg = get_ipython().config\n",
    "    in_notebook = True\n",
    "except NameError:\n",
    "    in_notebook = False\n",
    "if in_notebook:\n",
    "    from tqdm.notebook import tqdm\n",
    "else:\n",
    "    from tqdm import tqdm"
   ]
  },
  {
   "cell_type": "code",
   "execution_count": 2,
   "metadata": {},
   "outputs": [
    {
     "name": "stdout",
     "output_type": "stream",
     "text": [
      "(9918, 544)\n",
      "(188065, 2375)\n"
     ]
    },
    {
     "data": {
      "text/html": [
       "<div>\n",
       "<style scoped>\n",
       "    .dataframe tbody tr th:only-of-type {\n",
       "        vertical-align: middle;\n",
       "    }\n",
       "\n",
       "    .dataframe tbody tr th {\n",
       "        vertical-align: top;\n",
       "    }\n",
       "\n",
       "    .dataframe thead th {\n",
       "        text-align: right;\n",
       "    }\n",
       "</style>\n",
       "<table border=\"1\" class=\"dataframe\">\n",
       "  <thead>\n",
       "    <tr style=\"text-align: right;\">\n",
       "      <th></th>\n",
       "      <th>Metadata_plate</th>\n",
       "      <th>Metadata_Well</th>\n",
       "      <th>Metadata_number_of_singlecells</th>\n",
       "      <th>Metadata_compound</th>\n",
       "      <th>Metadata_dose</th>\n",
       "      <th>Metadata_control</th>\n",
       "      <th>Metadata_ImageNumber</th>\n",
       "      <th>Metadata_FOV</th>\n",
       "      <th>Metadata_Time</th>\n",
       "      <th>Metadata_Cells_Number_Object_Number</th>\n",
       "      <th>...</th>\n",
       "      <th>channel_DNA_cls_feature_93_scDINO</th>\n",
       "      <th>channel_DNA_cls_feature_94_scDINO</th>\n",
       "      <th>channel_DNA_cls_feature_95_scDINO</th>\n",
       "      <th>channel_DNA_cls_feature_96_scDINO</th>\n",
       "      <th>channel_DNA_cls_feature_97_scDINO</th>\n",
       "      <th>channel_DNA_cls_feature_98_scDINO</th>\n",
       "      <th>channel_DNA_cls_feature_99_scDINO</th>\n",
       "      <th>channel_DNA_cls_feature_9_scDINO</th>\n",
       "      <th>Metadata_sc_unique_track_id</th>\n",
       "      <th>Metadata_Well_FOV</th>\n",
       "    </tr>\n",
       "  </thead>\n",
       "  <tbody>\n",
       "    <tr>\n",
       "      <th>0</th>\n",
       "      <td>1</td>\n",
       "      <td>C-09</td>\n",
       "      <td>168</td>\n",
       "      <td>Staurosporine</td>\n",
       "      <td>39.06</td>\n",
       "      <td>positive</td>\n",
       "      <td>1</td>\n",
       "      <td>0002</td>\n",
       "      <td>0.0</td>\n",
       "      <td>7</td>\n",
       "      <td>...</td>\n",
       "      <td>-0.085856</td>\n",
       "      <td>0.080005</td>\n",
       "      <td>0.918828</td>\n",
       "      <td>1.373562</td>\n",
       "      <td>0.980376</td>\n",
       "      <td>-0.123520</td>\n",
       "      <td>2.401852</td>\n",
       "      <td>1.516202</td>\n",
       "      <td>C-09_0002_5</td>\n",
       "      <td>C-09_0002</td>\n",
       "    </tr>\n",
       "    <tr>\n",
       "      <th>1</th>\n",
       "      <td>1</td>\n",
       "      <td>C-09</td>\n",
       "      <td>168</td>\n",
       "      <td>Staurosporine</td>\n",
       "      <td>39.06</td>\n",
       "      <td>positive</td>\n",
       "      <td>1</td>\n",
       "      <td>0002</td>\n",
       "      <td>0.0</td>\n",
       "      <td>9</td>\n",
       "      <td>...</td>\n",
       "      <td>0.358887</td>\n",
       "      <td>0.486711</td>\n",
       "      <td>0.074517</td>\n",
       "      <td>-1.604183</td>\n",
       "      <td>2.407552</td>\n",
       "      <td>-0.835988</td>\n",
       "      <td>-0.264486</td>\n",
       "      <td>0.153676</td>\n",
       "      <td>C-09_0002_6</td>\n",
       "      <td>C-09_0002</td>\n",
       "    </tr>\n",
       "    <tr>\n",
       "      <th>2</th>\n",
       "      <td>1</td>\n",
       "      <td>C-09</td>\n",
       "      <td>168</td>\n",
       "      <td>Staurosporine</td>\n",
       "      <td>39.06</td>\n",
       "      <td>positive</td>\n",
       "      <td>1</td>\n",
       "      <td>0002</td>\n",
       "      <td>0.0</td>\n",
       "      <td>10</td>\n",
       "      <td>...</td>\n",
       "      <td>0.687862</td>\n",
       "      <td>-0.039333</td>\n",
       "      <td>-1.202663</td>\n",
       "      <td>0.373103</td>\n",
       "      <td>1.048282</td>\n",
       "      <td>-0.359857</td>\n",
       "      <td>0.659583</td>\n",
       "      <td>0.537619</td>\n",
       "      <td>C-09_0002_7</td>\n",
       "      <td>C-09_0002</td>\n",
       "    </tr>\n",
       "    <tr>\n",
       "      <th>3</th>\n",
       "      <td>1</td>\n",
       "      <td>C-09</td>\n",
       "      <td>168</td>\n",
       "      <td>Staurosporine</td>\n",
       "      <td>39.06</td>\n",
       "      <td>positive</td>\n",
       "      <td>1</td>\n",
       "      <td>0002</td>\n",
       "      <td>0.0</td>\n",
       "      <td>11</td>\n",
       "      <td>...</td>\n",
       "      <td>0.934017</td>\n",
       "      <td>-0.800594</td>\n",
       "      <td>0.178355</td>\n",
       "      <td>-1.380925</td>\n",
       "      <td>-0.285477</td>\n",
       "      <td>0.211796</td>\n",
       "      <td>0.443178</td>\n",
       "      <td>1.129714</td>\n",
       "      <td>C-09_0002_8</td>\n",
       "      <td>C-09_0002</td>\n",
       "    </tr>\n",
       "    <tr>\n",
       "      <th>4</th>\n",
       "      <td>1</td>\n",
       "      <td>C-09</td>\n",
       "      <td>168</td>\n",
       "      <td>Staurosporine</td>\n",
       "      <td>39.06</td>\n",
       "      <td>positive</td>\n",
       "      <td>1</td>\n",
       "      <td>0002</td>\n",
       "      <td>0.0</td>\n",
       "      <td>12</td>\n",
       "      <td>...</td>\n",
       "      <td>-0.786748</td>\n",
       "      <td>-0.963768</td>\n",
       "      <td>-0.906530</td>\n",
       "      <td>0.786611</td>\n",
       "      <td>-1.693796</td>\n",
       "      <td>-1.694061</td>\n",
       "      <td>-0.228990</td>\n",
       "      <td>0.648714</td>\n",
       "      <td>C-09_0002_9</td>\n",
       "      <td>C-09_0002</td>\n",
       "    </tr>\n",
       "  </tbody>\n",
       "</table>\n",
       "<p>5 rows × 2375 columns</p>\n",
       "</div>"
      ],
      "text/plain": [
       "   Metadata_plate Metadata_Well  Metadata_number_of_singlecells  \\\n",
       "0               1          C-09                             168   \n",
       "1               1          C-09                             168   \n",
       "2               1          C-09                             168   \n",
       "3               1          C-09                             168   \n",
       "4               1          C-09                             168   \n",
       "\n",
       "  Metadata_compound Metadata_dose Metadata_control Metadata_ImageNumber  \\\n",
       "0     Staurosporine         39.06         positive                    1   \n",
       "1     Staurosporine         39.06         positive                    1   \n",
       "2     Staurosporine         39.06         positive                    1   \n",
       "3     Staurosporine         39.06         positive                    1   \n",
       "4     Staurosporine         39.06         positive                    1   \n",
       "\n",
       "  Metadata_FOV Metadata_Time  Metadata_Cells_Number_Object_Number  ...  \\\n",
       "0         0002           0.0                                    7  ...   \n",
       "1         0002           0.0                                    9  ...   \n",
       "2         0002           0.0                                   10  ...   \n",
       "3         0002           0.0                                   11  ...   \n",
       "4         0002           0.0                                   12  ...   \n",
       "\n",
       "   channel_DNA_cls_feature_93_scDINO  channel_DNA_cls_feature_94_scDINO  \\\n",
       "0                          -0.085856                           0.080005   \n",
       "1                           0.358887                           0.486711   \n",
       "2                           0.687862                          -0.039333   \n",
       "3                           0.934017                          -0.800594   \n",
       "4                          -0.786748                          -0.963768   \n",
       "\n",
       "   channel_DNA_cls_feature_95_scDINO  channel_DNA_cls_feature_96_scDINO  \\\n",
       "0                           0.918828                           1.373562   \n",
       "1                           0.074517                          -1.604183   \n",
       "2                          -1.202663                           0.373103   \n",
       "3                           0.178355                          -1.380925   \n",
       "4                          -0.906530                           0.786611   \n",
       "\n",
       "   channel_DNA_cls_feature_97_scDINO channel_DNA_cls_feature_98_scDINO  \\\n",
       "0                           0.980376                         -0.123520   \n",
       "1                           2.407552                         -0.835988   \n",
       "2                           1.048282                         -0.359857   \n",
       "3                          -0.285477                          0.211796   \n",
       "4                          -1.693796                         -1.694061   \n",
       "\n",
       "  channel_DNA_cls_feature_99_scDINO channel_DNA_cls_feature_9_scDINO  \\\n",
       "0                          2.401852                         1.516202   \n",
       "1                         -0.264486                         0.153676   \n",
       "2                          0.659583                         0.537619   \n",
       "3                          0.443178                         1.129714   \n",
       "4                         -0.228990                         0.648714   \n",
       "\n",
       "  Metadata_sc_unique_track_id Metadata_Well_FOV  \n",
       "0                 C-09_0002_5         C-09_0002  \n",
       "1                 C-09_0002_6         C-09_0002  \n",
       "2                 C-09_0002_7         C-09_0002  \n",
       "3                 C-09_0002_8         C-09_0002  \n",
       "4                 C-09_0002_9         C-09_0002  \n",
       "\n",
       "[5 rows x 2375 columns]"
      ]
     },
     "execution_count": 2,
     "metadata": {},
     "output_type": "execute_result"
    }
   ],
   "source": [
    "sc_profile_file_path = pathlib.Path(\n",
    "    \"../../data/CP_scDINO_features/combined_CP_scDINO_norm_fs.parquet\"\n",
    ").resolve(strict=True)\n",
    "endpoint_sc_profile_file_path = pathlib.Path(\n",
    "    \"../../data/CP_feature_select/endpoints/features_selected_profile.parquet\"\n",
    ").resolve(strict=True)\n",
    "sc_profile_df = pd.read_parquet(sc_profile_file_path)\n",
    "endpoint_sc_profile_df = pd.read_parquet(endpoint_sc_profile_file_path)\n",
    "endpoint_sc_profile_df[\"Metadata_Well_FOV\"] = (\n",
    "    endpoint_sc_profile_df[\"Metadata_Well\"].astype(str)\n",
    "    + \"_\"\n",
    "    + endpoint_sc_profile_df[\"Metadata_FOV\"].astype(str)\n",
    ")\n",
    "print(endpoint_sc_profile_df.shape)\n",
    "sc_profile_df[\"Metadata_sc_unique_track_id\"] = (\n",
    "    sc_profile_df[\"Metadata_Well\"].astype(str)\n",
    "    + \"_\"\n",
    "    + sc_profile_df[\"Metadata_FOV\"].astype(str)\n",
    "    + \"_\"\n",
    "    + sc_profile_df[\"Metadata_track_id\"].astype(str)\n",
    ")\n",
    "sc_profile_df[\"Metadata_Well_FOV\"] = (\n",
    "    sc_profile_df[\"Metadata_Well\"].astype(str)\n",
    "    + \"_\"\n",
    "    + sc_profile_df[\"Metadata_FOV\"].astype(str)\n",
    ")\n",
    "print(sc_profile_df.shape)\n",
    "sc_profile_df.head()"
   ]
  },
  {
   "cell_type": "code",
   "execution_count": 3,
   "metadata": {},
   "outputs": [],
   "source": [
    "# drop all nan values in the location columns\n",
    "endpoint_sc_profile_df = endpoint_sc_profile_df.dropna(\n",
    "    subset=[\"Metadata_Nuclei_Location_Center_X\", \"Metadata_Nuclei_Location_Center_Y\"]\n",
    ")"
   ]
  },
  {
   "cell_type": "code",
   "execution_count": 4,
   "metadata": {},
   "outputs": [],
   "source": [
    "last_time_point_df = sc_profile_df.loc[\n",
    "    sc_profile_df[\"Metadata_Well_FOV\"].isin(\n",
    "        endpoint_sc_profile_df[\"Metadata_Well_FOV\"].unique()\n",
    "    )\n",
    "]"
   ]
  },
  {
   "cell_type": "code",
   "execution_count": 5,
   "metadata": {},
   "outputs": [],
   "source": [
    "# chunk the dataframe by well_fov so that there are fewer indexed records to search at once during fuzzy matching\n",
    "dict_of_sc_well_fovs = {}\n",
    "for well_fov in last_time_point_df[\"Metadata_Well_FOV\"].unique():\n",
    "    dict_of_sc_well_fovs[well_fov] = last_time_point_df[\n",
    "        last_time_point_df[\"Metadata_Well_FOV\"] == well_fov\n",
    "    ].copy()\n",
    "    # get only the last timepoint of the track\n",
    "\n",
    "    dict_of_sc_well_fovs[well_fov].reset_index(drop=True, inplace=True)\n",
    "dict_of_sc_well_fovs_endpoint = {}\n",
    "for well_fov in endpoint_sc_profile_df[\"Metadata_Well_FOV\"].unique():\n",
    "    dict_of_sc_well_fovs_endpoint[well_fov] = endpoint_sc_profile_df[\n",
    "        endpoint_sc_profile_df[\"Metadata_Well_FOV\"] == well_fov\n",
    "    ].copy()\n",
    "    dict_of_sc_well_fovs_endpoint[well_fov].reset_index(drop=True, inplace=True)"
   ]
  },
  {
   "cell_type": "code",
   "execution_count": 6,
   "metadata": {},
   "outputs": [],
   "source": [
    "start_time = time.time()"
   ]
  },
  {
   "cell_type": "code",
   "execution_count": 7,
   "metadata": {},
   "outputs": [
    {
     "data": {
      "application/vnd.jupyter.widget-view+json": {
       "model_id": "75aea84bd6214e44949628b3cd50eb84",
       "version_major": 2,
       "version_minor": 0
      },
      "text/plain": [
       "Processing Well-FOVs:   0%|          | 0/117 [00:00<?, ?it/s]"
      ]
     },
     "metadata": {},
     "output_type": "display_data"
    },
    {
     "data": {
      "application/vnd.jupyter.widget-view+json": {
       "model_id": "851e62382b5440de96f55b357e3e6ddb",
       "version_major": 2,
       "version_minor": 0
      },
      "text/plain": [
       "Outer Loop:   0%|          | 0/1406 [00:00<?, ?it/s]"
      ]
     },
     "metadata": {},
     "output_type": "display_data"
    },
    {
     "data": {
      "application/vnd.jupyter.widget-view+json": {
       "model_id": "faa7ab71cc224886ac4d2c7f38ea6865",
       "version_major": 2,
       "version_minor": 0
      },
      "text/plain": [
       "Outer Loop:   0%|          | 0/1714 [00:00<?, ?it/s]"
      ]
     },
     "metadata": {},
     "output_type": "display_data"
    },
    {
     "data": {
      "application/vnd.jupyter.widget-view+json": {
       "model_id": "98af714bee1e43489722fa6692f926a6",
       "version_major": 2,
       "version_minor": 0
      },
      "text/plain": [
       "Outer Loop:   0%|          | 0/1455 [00:00<?, ?it/s]"
      ]
     },
     "metadata": {},
     "output_type": "display_data"
    },
    {
     "data": {
      "application/vnd.jupyter.widget-view+json": {
       "model_id": "9e829da7edc2489b9ed199a9a2b0b838",
       "version_major": 2,
       "version_minor": 0
      },
      "text/plain": [
       "Outer Loop:   0%|          | 0/1540 [00:00<?, ?it/s]"
      ]
     },
     "metadata": {},
     "output_type": "display_data"
    },
    {
     "data": {
      "application/vnd.jupyter.widget-view+json": {
       "model_id": "f9ab2561aa8f4ce88f5f4aa0ce9e112d",
       "version_major": 2,
       "version_minor": 0
      },
      "text/plain": [
       "Outer Loop:   0%|          | 0/1780 [00:00<?, ?it/s]"
      ]
     },
     "metadata": {},
     "output_type": "display_data"
    },
    {
     "data": {
      "application/vnd.jupyter.widget-view+json": {
       "model_id": "fadbcb5a6b074ebea160391dd53f9f0c",
       "version_major": 2,
       "version_minor": 0
      },
      "text/plain": [
       "Outer Loop:   0%|          | 0/1493 [00:00<?, ?it/s]"
      ]
     },
     "metadata": {},
     "output_type": "display_data"
    },
    {
     "data": {
      "application/vnd.jupyter.widget-view+json": {
       "model_id": "d383a609f4a246d8b33e0d8e2c9a4ceb",
       "version_major": 2,
       "version_minor": 0
      },
      "text/plain": [
       "Outer Loop:   0%|          | 0/1770 [00:00<?, ?it/s]"
      ]
     },
     "metadata": {},
     "output_type": "display_data"
    },
    {
     "data": {
      "application/vnd.jupyter.widget-view+json": {
       "model_id": "47f2e0d988c3429c9e78a441654aea75",
       "version_major": 2,
       "version_minor": 0
      },
      "text/plain": [
       "Outer Loop:   0%|          | 0/1380 [00:00<?, ?it/s]"
      ]
     },
     "metadata": {},
     "output_type": "display_data"
    },
    {
     "data": {
      "application/vnd.jupyter.widget-view+json": {
       "model_id": "a2db53c6da474ac19de22a323b340398",
       "version_major": 2,
       "version_minor": 0
      },
      "text/plain": [
       "Outer Loop:   0%|          | 0/1679 [00:00<?, ?it/s]"
      ]
     },
     "metadata": {},
     "output_type": "display_data"
    },
    {
     "data": {
      "application/vnd.jupyter.widget-view+json": {
       "model_id": "3c26d98ef3104ab4beabd59621644b74",
       "version_major": 2,
       "version_minor": 0
      },
      "text/plain": [
       "Outer Loop:   0%|          | 0/1589 [00:00<?, ?it/s]"
      ]
     },
     "metadata": {},
     "output_type": "display_data"
    },
    {
     "data": {
      "application/vnd.jupyter.widget-view+json": {
       "model_id": "b37d7ede51c345e2a7f15140f51b0a36",
       "version_major": 2,
       "version_minor": 0
      },
      "text/plain": [
       "Outer Loop:   0%|          | 0/1856 [00:00<?, ?it/s]"
      ]
     },
     "metadata": {},
     "output_type": "display_data"
    },
    {
     "data": {
      "application/vnd.jupyter.widget-view+json": {
       "model_id": "e0ab510bb6cc4122b67c556a3c6d1119",
       "version_major": 2,
       "version_minor": 0
      },
      "text/plain": [
       "Outer Loop:   0%|          | 0/1715 [00:00<?, ?it/s]"
      ]
     },
     "metadata": {},
     "output_type": "display_data"
    },
    {
     "data": {
      "application/vnd.jupyter.widget-view+json": {
       "model_id": "961c6be6857f48ec88f7fcadcc94e43b",
       "version_major": 2,
       "version_minor": 0
      },
      "text/plain": [
       "Outer Loop:   0%|          | 0/1741 [00:00<?, ?it/s]"
      ]
     },
     "metadata": {},
     "output_type": "display_data"
    },
    {
     "data": {
      "application/vnd.jupyter.widget-view+json": {
       "model_id": "5b402d85b8fe41b5b182a8dccc48d638",
       "version_major": 2,
       "version_minor": 0
      },
      "text/plain": [
       "Outer Loop:   0%|          | 0/1513 [00:00<?, ?it/s]"
      ]
     },
     "metadata": {},
     "output_type": "display_data"
    },
    {
     "data": {
      "application/vnd.jupyter.widget-view+json": {
       "model_id": "4a52e5471ba74e9fa472f40c6cb6a35d",
       "version_major": 2,
       "version_minor": 0
      },
      "text/plain": [
       "Outer Loop:   0%|          | 0/1207 [00:00<?, ?it/s]"
      ]
     },
     "metadata": {},
     "output_type": "display_data"
    },
    {
     "data": {
      "application/vnd.jupyter.widget-view+json": {
       "model_id": "07f3c503d7364fe486a9c5dfc403008e",
       "version_major": 2,
       "version_minor": 0
      },
      "text/plain": [
       "Outer Loop:   0%|          | 0/1412 [00:00<?, ?it/s]"
      ]
     },
     "metadata": {},
     "output_type": "display_data"
    },
    {
     "data": {
      "application/vnd.jupyter.widget-view+json": {
       "model_id": "562d821b1bb8432b9ef3f9cf51cd373e",
       "version_major": 2,
       "version_minor": 0
      },
      "text/plain": [
       "Outer Loop:   0%|          | 0/1710 [00:00<?, ?it/s]"
      ]
     },
     "metadata": {},
     "output_type": "display_data"
    },
    {
     "data": {
      "application/vnd.jupyter.widget-view+json": {
       "model_id": "014168459a4943a5919ae025b9f63adc",
       "version_major": 2,
       "version_minor": 0
      },
      "text/plain": [
       "Outer Loop:   0%|          | 0/1525 [00:00<?, ?it/s]"
      ]
     },
     "metadata": {},
     "output_type": "display_data"
    },
    {
     "data": {
      "application/vnd.jupyter.widget-view+json": {
       "model_id": "0e83755ffd2d414b94c1bed5fcac36be",
       "version_major": 2,
       "version_minor": 0
      },
      "text/plain": [
       "Outer Loop:   0%|          | 0/1448 [00:00<?, ?it/s]"
      ]
     },
     "metadata": {},
     "output_type": "display_data"
    },
    {
     "data": {
      "application/vnd.jupyter.widget-view+json": {
       "model_id": "2a3d9d2e4e72497b82e21576c649177d",
       "version_major": 2,
       "version_minor": 0
      },
      "text/plain": [
       "Outer Loop:   0%|          | 0/1262 [00:00<?, ?it/s]"
      ]
     },
     "metadata": {},
     "output_type": "display_data"
    },
    {
     "data": {
      "application/vnd.jupyter.widget-view+json": {
       "model_id": "7970ad882417417386d33fc8962641d7",
       "version_major": 2,
       "version_minor": 0
      },
      "text/plain": [
       "Outer Loop:   0%|          | 0/1752 [00:00<?, ?it/s]"
      ]
     },
     "metadata": {},
     "output_type": "display_data"
    },
    {
     "data": {
      "application/vnd.jupyter.widget-view+json": {
       "model_id": "9d87c388564f46b38f6bcbd9c731a524",
       "version_major": 2,
       "version_minor": 0
      },
      "text/plain": [
       "Outer Loop:   0%|          | 0/1552 [00:00<?, ?it/s]"
      ]
     },
     "metadata": {},
     "output_type": "display_data"
    },
    {
     "data": {
      "application/vnd.jupyter.widget-view+json": {
       "model_id": "360bdf0468ab4b85a2168edec445f350",
       "version_major": 2,
       "version_minor": 0
      },
      "text/plain": [
       "Outer Loop:   0%|          | 0/1697 [00:00<?, ?it/s]"
      ]
     },
     "metadata": {},
     "output_type": "display_data"
    },
    {
     "data": {
      "application/vnd.jupyter.widget-view+json": {
       "model_id": "6a93d2b23dd2406da46431c81e981002",
       "version_major": 2,
       "version_minor": 0
      },
      "text/plain": [
       "Outer Loop:   0%|          | 0/1671 [00:00<?, ?it/s]"
      ]
     },
     "metadata": {},
     "output_type": "display_data"
    },
    {
     "data": {
      "application/vnd.jupyter.widget-view+json": {
       "model_id": "a198d72107f549f4ad159f9cb5dc066d",
       "version_major": 2,
       "version_minor": 0
      },
      "text/plain": [
       "Outer Loop:   0%|          | 0/1319 [00:00<?, ?it/s]"
      ]
     },
     "metadata": {},
     "output_type": "display_data"
    },
    {
     "data": {
      "application/vnd.jupyter.widget-view+json": {
       "model_id": "fca891b41e6143d09b5a32a4d0b18ce8",
       "version_major": 2,
       "version_minor": 0
      },
      "text/plain": [
       "Outer Loop:   0%|          | 0/1654 [00:00<?, ?it/s]"
      ]
     },
     "metadata": {},
     "output_type": "display_data"
    },
    {
     "data": {
      "application/vnd.jupyter.widget-view+json": {
       "model_id": "ea3455a4cda84f49b7ac7871a01fb943",
       "version_major": 2,
       "version_minor": 0
      },
      "text/plain": [
       "Outer Loop:   0%|          | 0/1455 [00:00<?, ?it/s]"
      ]
     },
     "metadata": {},
     "output_type": "display_data"
    },
    {
     "data": {
      "application/vnd.jupyter.widget-view+json": {
       "model_id": "a0675bf74ad84333af9e5d98d93a2286",
       "version_major": 2,
       "version_minor": 0
      },
      "text/plain": [
       "Outer Loop:   0%|          | 0/1581 [00:00<?, ?it/s]"
      ]
     },
     "metadata": {},
     "output_type": "display_data"
    },
    {
     "data": {
      "application/vnd.jupyter.widget-view+json": {
       "model_id": "1a4591af7c244681bbcd16f37efab596",
       "version_major": 2,
       "version_minor": 0
      },
      "text/plain": [
       "Outer Loop:   0%|          | 0/1362 [00:00<?, ?it/s]"
      ]
     },
     "metadata": {},
     "output_type": "display_data"
    },
    {
     "data": {
      "application/vnd.jupyter.widget-view+json": {
       "model_id": "7c1c452346ff44b8a061fc59270ed483",
       "version_major": 2,
       "version_minor": 0
      },
      "text/plain": [
       "Outer Loop:   0%|          | 0/1491 [00:00<?, ?it/s]"
      ]
     },
     "metadata": {},
     "output_type": "display_data"
    },
    {
     "data": {
      "application/vnd.jupyter.widget-view+json": {
       "model_id": "929adaa0d25f4bc9b0f67db1474f312e",
       "version_major": 2,
       "version_minor": 0
      },
      "text/plain": [
       "Outer Loop:   0%|          | 0/1612 [00:00<?, ?it/s]"
      ]
     },
     "metadata": {},
     "output_type": "display_data"
    },
    {
     "data": {
      "application/vnd.jupyter.widget-view+json": {
       "model_id": "bb9eedeaa2a647f693fbb32f1421468d",
       "version_major": 2,
       "version_minor": 0
      },
      "text/plain": [
       "Outer Loop:   0%|          | 0/1673 [00:00<?, ?it/s]"
      ]
     },
     "metadata": {},
     "output_type": "display_data"
    },
    {
     "data": {
      "application/vnd.jupyter.widget-view+json": {
       "model_id": "3aecf13623e74c409ecd3234fcaa6914",
       "version_major": 2,
       "version_minor": 0
      },
      "text/plain": [
       "Outer Loop:   0%|          | 0/1702 [00:00<?, ?it/s]"
      ]
     },
     "metadata": {},
     "output_type": "display_data"
    },
    {
     "data": {
      "application/vnd.jupyter.widget-view+json": {
       "model_id": "54a2be5af7f7490eaf8103e22df23431",
       "version_major": 2,
       "version_minor": 0
      },
      "text/plain": [
       "Outer Loop:   0%|          | 0/1759 [00:00<?, ?it/s]"
      ]
     },
     "metadata": {},
     "output_type": "display_data"
    },
    {
     "data": {
      "application/vnd.jupyter.widget-view+json": {
       "model_id": "c40f5611e4b048b8b340c4f96a4d0b29",
       "version_major": 2,
       "version_minor": 0
      },
      "text/plain": [
       "Outer Loop:   0%|          | 0/1691 [00:00<?, ?it/s]"
      ]
     },
     "metadata": {},
     "output_type": "display_data"
    },
    {
     "data": {
      "application/vnd.jupyter.widget-view+json": {
       "model_id": "7a142b09080c491d8b4265548ac187ce",
       "version_major": 2,
       "version_minor": 0
      },
      "text/plain": [
       "Outer Loop:   0%|          | 0/1282 [00:00<?, ?it/s]"
      ]
     },
     "metadata": {},
     "output_type": "display_data"
    },
    {
     "data": {
      "application/vnd.jupyter.widget-view+json": {
       "model_id": "5f7b4d67c07549afb31969f7231e633b",
       "version_major": 2,
       "version_minor": 0
      },
      "text/plain": [
       "Outer Loop:   0%|          | 0/1581 [00:00<?, ?it/s]"
      ]
     },
     "metadata": {},
     "output_type": "display_data"
    },
    {
     "data": {
      "application/vnd.jupyter.widget-view+json": {
       "model_id": "fb644de442984e179c08e7d8916b688c",
       "version_major": 2,
       "version_minor": 0
      },
      "text/plain": [
       "Outer Loop:   0%|          | 0/1649 [00:00<?, ?it/s]"
      ]
     },
     "metadata": {},
     "output_type": "display_data"
    },
    {
     "data": {
      "application/vnd.jupyter.widget-view+json": {
       "model_id": "2edf6c4f065444288cbcad5a534a096d",
       "version_major": 2,
       "version_minor": 0
      },
      "text/plain": [
       "Outer Loop:   0%|          | 0/1569 [00:00<?, ?it/s]"
      ]
     },
     "metadata": {},
     "output_type": "display_data"
    },
    {
     "data": {
      "application/vnd.jupyter.widget-view+json": {
       "model_id": "0e61f81628f84d94ba15bc9ccbfe4a4a",
       "version_major": 2,
       "version_minor": 0
      },
      "text/plain": [
       "Outer Loop:   0%|          | 0/1909 [00:00<?, ?it/s]"
      ]
     },
     "metadata": {},
     "output_type": "display_data"
    },
    {
     "data": {
      "application/vnd.jupyter.widget-view+json": {
       "model_id": "0e216a4672974caa9cd0c043be2daa5a",
       "version_major": 2,
       "version_minor": 0
      },
      "text/plain": [
       "Outer Loop:   0%|          | 0/1460 [00:00<?, ?it/s]"
      ]
     },
     "metadata": {},
     "output_type": "display_data"
    },
    {
     "data": {
      "application/vnd.jupyter.widget-view+json": {
       "model_id": "b29b8fc1f26a4d33bc07435e3d56f2fd",
       "version_major": 2,
       "version_minor": 0
      },
      "text/plain": [
       "Outer Loop:   0%|          | 0/1058 [00:00<?, ?it/s]"
      ]
     },
     "metadata": {},
     "output_type": "display_data"
    },
    {
     "data": {
      "application/vnd.jupyter.widget-view+json": {
       "model_id": "edce438a01414a6bae171e162b55b04e",
       "version_major": 2,
       "version_minor": 0
      },
      "text/plain": [
       "Outer Loop:   0%|          | 0/1408 [00:00<?, ?it/s]"
      ]
     },
     "metadata": {},
     "output_type": "display_data"
    },
    {
     "data": {
      "application/vnd.jupyter.widget-view+json": {
       "model_id": "e552589cc67543f79b5cb50f04e55e19",
       "version_major": 2,
       "version_minor": 0
      },
      "text/plain": [
       "Outer Loop:   0%|          | 0/1427 [00:00<?, ?it/s]"
      ]
     },
     "metadata": {},
     "output_type": "display_data"
    },
    {
     "data": {
      "application/vnd.jupyter.widget-view+json": {
       "model_id": "ebde167c603b4605ab6b5a160a5d3694",
       "version_major": 2,
       "version_minor": 0
      },
      "text/plain": [
       "Outer Loop:   0%|          | 0/1606 [00:00<?, ?it/s]"
      ]
     },
     "metadata": {},
     "output_type": "display_data"
    },
    {
     "data": {
      "application/vnd.jupyter.widget-view+json": {
       "model_id": "8b995ed32d094f44ab772b315d63b2f4",
       "version_major": 2,
       "version_minor": 0
      },
      "text/plain": [
       "Outer Loop:   0%|          | 0/1620 [00:00<?, ?it/s]"
      ]
     },
     "metadata": {},
     "output_type": "display_data"
    },
    {
     "data": {
      "application/vnd.jupyter.widget-view+json": {
       "model_id": "6e451b68fa474d95a54b62af872ceb71",
       "version_major": 2,
       "version_minor": 0
      },
      "text/plain": [
       "Outer Loop:   0%|          | 0/1687 [00:00<?, ?it/s]"
      ]
     },
     "metadata": {},
     "output_type": "display_data"
    },
    {
     "data": {
      "application/vnd.jupyter.widget-view+json": {
       "model_id": "d11b83707e844d22ab4e109227873f25",
       "version_major": 2,
       "version_minor": 0
      },
      "text/plain": [
       "Outer Loop:   0%|          | 0/1635 [00:00<?, ?it/s]"
      ]
     },
     "metadata": {},
     "output_type": "display_data"
    },
    {
     "data": {
      "application/vnd.jupyter.widget-view+json": {
       "model_id": "6fc4ac82f170428caa90e6f1d760e730",
       "version_major": 2,
       "version_minor": 0
      },
      "text/plain": [
       "Outer Loop:   0%|          | 0/1712 [00:00<?, ?it/s]"
      ]
     },
     "metadata": {},
     "output_type": "display_data"
    },
    {
     "data": {
      "application/vnd.jupyter.widget-view+json": {
       "model_id": "3fdd8d48e25d4c748c2a7f2db0db618a",
       "version_major": 2,
       "version_minor": 0
      },
      "text/plain": [
       "Outer Loop:   0%|          | 0/1467 [00:00<?, ?it/s]"
      ]
     },
     "metadata": {},
     "output_type": "display_data"
    },
    {
     "data": {
      "application/vnd.jupyter.widget-view+json": {
       "model_id": "0951401e985c4378aa71075971581a13",
       "version_major": 2,
       "version_minor": 0
      },
      "text/plain": [
       "Outer Loop:   0%|          | 0/1695 [00:00<?, ?it/s]"
      ]
     },
     "metadata": {},
     "output_type": "display_data"
    },
    {
     "data": {
      "application/vnd.jupyter.widget-view+json": {
       "model_id": "a6c1e2c58bd140219512ab7c5b20a73e",
       "version_major": 2,
       "version_minor": 0
      },
      "text/plain": [
       "Outer Loop:   0%|          | 0/1525 [00:00<?, ?it/s]"
      ]
     },
     "metadata": {},
     "output_type": "display_data"
    },
    {
     "data": {
      "application/vnd.jupyter.widget-view+json": {
       "model_id": "fdc5770328134ed08d85853caa09e224",
       "version_major": 2,
       "version_minor": 0
      },
      "text/plain": [
       "Outer Loop:   0%|          | 0/1597 [00:00<?, ?it/s]"
      ]
     },
     "metadata": {},
     "output_type": "display_data"
    },
    {
     "data": {
      "application/vnd.jupyter.widget-view+json": {
       "model_id": "f5e4dd46508b458d837df22dd831da13",
       "version_major": 2,
       "version_minor": 0
      },
      "text/plain": [
       "Outer Loop:   0%|          | 0/1201 [00:00<?, ?it/s]"
      ]
     },
     "metadata": {},
     "output_type": "display_data"
    },
    {
     "data": {
      "application/vnd.jupyter.widget-view+json": {
       "model_id": "8b93400cb67540d4a180188c646f29e5",
       "version_major": 2,
       "version_minor": 0
      },
      "text/plain": [
       "Outer Loop:   0%|          | 0/1599 [00:00<?, ?it/s]"
      ]
     },
     "metadata": {},
     "output_type": "display_data"
    },
    {
     "data": {
      "application/vnd.jupyter.widget-view+json": {
       "model_id": "c9d98e6acb97443a847ab23a8eeb6dda",
       "version_major": 2,
       "version_minor": 0
      },
      "text/plain": [
       "Outer Loop:   0%|          | 0/1561 [00:00<?, ?it/s]"
      ]
     },
     "metadata": {},
     "output_type": "display_data"
    },
    {
     "data": {
      "application/vnd.jupyter.widget-view+json": {
       "model_id": "81d26aa87c55411798c7f6906e918fc3",
       "version_major": 2,
       "version_minor": 0
      },
      "text/plain": [
       "Outer Loop:   0%|          | 0/1805 [00:00<?, ?it/s]"
      ]
     },
     "metadata": {},
     "output_type": "display_data"
    },
    {
     "data": {
      "application/vnd.jupyter.widget-view+json": {
       "model_id": "07b4f71180a843ad803c98b346a3d1f9",
       "version_major": 2,
       "version_minor": 0
      },
      "text/plain": [
       "Outer Loop:   0%|          | 0/1576 [00:00<?, ?it/s]"
      ]
     },
     "metadata": {},
     "output_type": "display_data"
    },
    {
     "data": {
      "application/vnd.jupyter.widget-view+json": {
       "model_id": "1a215a857af44644a55b3981fe60f8bd",
       "version_major": 2,
       "version_minor": 0
      },
      "text/plain": [
       "Outer Loop:   0%|          | 0/1559 [00:00<?, ?it/s]"
      ]
     },
     "metadata": {},
     "output_type": "display_data"
    },
    {
     "data": {
      "application/vnd.jupyter.widget-view+json": {
       "model_id": "964df4fa69ec4027ab1b293eee3f87ea",
       "version_major": 2,
       "version_minor": 0
      },
      "text/plain": [
       "Outer Loop:   0%|          | 0/1750 [00:00<?, ?it/s]"
      ]
     },
     "metadata": {},
     "output_type": "display_data"
    },
    {
     "data": {
      "application/vnd.jupyter.widget-view+json": {
       "model_id": "110e9f30239c40bfb24ec310a6539255",
       "version_major": 2,
       "version_minor": 0
      },
      "text/plain": [
       "Outer Loop:   0%|          | 0/1280 [00:00<?, ?it/s]"
      ]
     },
     "metadata": {},
     "output_type": "display_data"
    },
    {
     "data": {
      "application/vnd.jupyter.widget-view+json": {
       "model_id": "e2f0e7256f104f868451118bc685652f",
       "version_major": 2,
       "version_minor": 0
      },
      "text/plain": [
       "Outer Loop:   0%|          | 0/1362 [00:00<?, ?it/s]"
      ]
     },
     "metadata": {},
     "output_type": "display_data"
    },
    {
     "data": {
      "application/vnd.jupyter.widget-view+json": {
       "model_id": "1c38dc3c4f8f47e28bf2ecfca1064f9a",
       "version_major": 2,
       "version_minor": 0
      },
      "text/plain": [
       "Outer Loop:   0%|          | 0/1465 [00:00<?, ?it/s]"
      ]
     },
     "metadata": {},
     "output_type": "display_data"
    },
    {
     "data": {
      "application/vnd.jupyter.widget-view+json": {
       "model_id": "3311631377fd4552b86ffc71c6809a0a",
       "version_major": 2,
       "version_minor": 0
      },
      "text/plain": [
       "Outer Loop:   0%|          | 0/1417 [00:00<?, ?it/s]"
      ]
     },
     "metadata": {},
     "output_type": "display_data"
    },
    {
     "data": {
      "application/vnd.jupyter.widget-view+json": {
       "model_id": "a9f5e1378dec46978f31da2cdfaed27a",
       "version_major": 2,
       "version_minor": 0
      },
      "text/plain": [
       "Outer Loop:   0%|          | 0/1572 [00:00<?, ?it/s]"
      ]
     },
     "metadata": {},
     "output_type": "display_data"
    },
    {
     "data": {
      "application/vnd.jupyter.widget-view+json": {
       "model_id": "07fd6247de8d494ea09ff1bf92cd00a2",
       "version_major": 2,
       "version_minor": 0
      },
      "text/plain": [
       "Outer Loop:   0%|          | 0/1630 [00:00<?, ?it/s]"
      ]
     },
     "metadata": {},
     "output_type": "display_data"
    },
    {
     "data": {
      "application/vnd.jupyter.widget-view+json": {
       "model_id": "0370580c0bc04f0581f6c842159de094",
       "version_major": 2,
       "version_minor": 0
      },
      "text/plain": [
       "Outer Loop:   0%|          | 0/1199 [00:00<?, ?it/s]"
      ]
     },
     "metadata": {},
     "output_type": "display_data"
    },
    {
     "data": {
      "application/vnd.jupyter.widget-view+json": {
       "model_id": "40458fd522ec46d4acd9fd7596865234",
       "version_major": 2,
       "version_minor": 0
      },
      "text/plain": [
       "Outer Loop:   0%|          | 0/1650 [00:00<?, ?it/s]"
      ]
     },
     "metadata": {},
     "output_type": "display_data"
    },
    {
     "data": {
      "application/vnd.jupyter.widget-view+json": {
       "model_id": "7b4c50e1e4a540cf9c24ac9d8e77e522",
       "version_major": 2,
       "version_minor": 0
      },
      "text/plain": [
       "Outer Loop:   0%|          | 0/1664 [00:00<?, ?it/s]"
      ]
     },
     "metadata": {},
     "output_type": "display_data"
    },
    {
     "data": {
      "application/vnd.jupyter.widget-view+json": {
       "model_id": "92d61b5c3b264b8db5efee25683ca458",
       "version_major": 2,
       "version_minor": 0
      },
      "text/plain": [
       "Outer Loop:   0%|          | 0/1607 [00:00<?, ?it/s]"
      ]
     },
     "metadata": {},
     "output_type": "display_data"
    },
    {
     "data": {
      "application/vnd.jupyter.widget-view+json": {
       "model_id": "f8e9df6e41b94b188f1aa12c951e4fa7",
       "version_major": 2,
       "version_minor": 0
      },
      "text/plain": [
       "Outer Loop:   0%|          | 0/1623 [00:00<?, ?it/s]"
      ]
     },
     "metadata": {},
     "output_type": "display_data"
    },
    {
     "data": {
      "application/vnd.jupyter.widget-view+json": {
       "model_id": "2da6b5d19f6a45409e3d9e8496bfe090",
       "version_major": 2,
       "version_minor": 0
      },
      "text/plain": [
       "Outer Loop:   0%|          | 0/1604 [00:00<?, ?it/s]"
      ]
     },
     "metadata": {},
     "output_type": "display_data"
    },
    {
     "data": {
      "application/vnd.jupyter.widget-view+json": {
       "model_id": "00d0defdf3fb4b919b6ccdb7d56acca4",
       "version_major": 2,
       "version_minor": 0
      },
      "text/plain": [
       "Outer Loop:   0%|          | 0/1740 [00:00<?, ?it/s]"
      ]
     },
     "metadata": {},
     "output_type": "display_data"
    },
    {
     "data": {
      "application/vnd.jupyter.widget-view+json": {
       "model_id": "6918dd3eb1ba46da96edc78d3718b5d0",
       "version_major": 2,
       "version_minor": 0
      },
      "text/plain": [
       "Outer Loop:   0%|          | 0/1798 [00:00<?, ?it/s]"
      ]
     },
     "metadata": {},
     "output_type": "display_data"
    },
    {
     "data": {
      "application/vnd.jupyter.widget-view+json": {
       "model_id": "f9e32abae37c4be086d48fdcd05f117e",
       "version_major": 2,
       "version_minor": 0
      },
      "text/plain": [
       "Outer Loop:   0%|          | 0/1457 [00:00<?, ?it/s]"
      ]
     },
     "metadata": {},
     "output_type": "display_data"
    },
    {
     "data": {
      "application/vnd.jupyter.widget-view+json": {
       "model_id": "05d1e6faef2e494087bca80d1b00298a",
       "version_major": 2,
       "version_minor": 0
      },
      "text/plain": [
       "Outer Loop:   0%|          | 0/1589 [00:00<?, ?it/s]"
      ]
     },
     "metadata": {},
     "output_type": "display_data"
    },
    {
     "data": {
      "application/vnd.jupyter.widget-view+json": {
       "model_id": "0ff7a154aaa148c09e77b354c53229cb",
       "version_major": 2,
       "version_minor": 0
      },
      "text/plain": [
       "Outer Loop:   0%|          | 0/1278 [00:00<?, ?it/s]"
      ]
     },
     "metadata": {},
     "output_type": "display_data"
    },
    {
     "data": {
      "application/vnd.jupyter.widget-view+json": {
       "model_id": "aa23b353d08f44ee8a040f1d6e40f767",
       "version_major": 2,
       "version_minor": 0
      },
      "text/plain": [
       "Outer Loop:   0%|          | 0/1214 [00:00<?, ?it/s]"
      ]
     },
     "metadata": {},
     "output_type": "display_data"
    },
    {
     "data": {
      "application/vnd.jupyter.widget-view+json": {
       "model_id": "5922417e003f4f3884af6ecfd308c428",
       "version_major": 2,
       "version_minor": 0
      },
      "text/plain": [
       "Outer Loop:   0%|          | 0/1876 [00:00<?, ?it/s]"
      ]
     },
     "metadata": {},
     "output_type": "display_data"
    },
    {
     "data": {
      "application/vnd.jupyter.widget-view+json": {
       "model_id": "16b8afa50665404bbf564b2f24519d22",
       "version_major": 2,
       "version_minor": 0
      },
      "text/plain": [
       "Outer Loop:   0%|          | 0/1590 [00:00<?, ?it/s]"
      ]
     },
     "metadata": {},
     "output_type": "display_data"
    },
    {
     "data": {
      "application/vnd.jupyter.widget-view+json": {
       "model_id": "6466b7eb87a44ac7be698593d4d6855b",
       "version_major": 2,
       "version_minor": 0
      },
      "text/plain": [
       "Outer Loop:   0%|          | 0/1565 [00:00<?, ?it/s]"
      ]
     },
     "metadata": {},
     "output_type": "display_data"
    },
    {
     "data": {
      "application/vnd.jupyter.widget-view+json": {
       "model_id": "ee24eb3e8ba24d2091cea13768718499",
       "version_major": 2,
       "version_minor": 0
      },
      "text/plain": [
       "Outer Loop:   0%|          | 0/1537 [00:00<?, ?it/s]"
      ]
     },
     "metadata": {},
     "output_type": "display_data"
    },
    {
     "data": {
      "application/vnd.jupyter.widget-view+json": {
       "model_id": "c9a4ec72ec7c4d62bd7894698cce90bc",
       "version_major": 2,
       "version_minor": 0
      },
      "text/plain": [
       "Outer Loop:   0%|          | 0/1189 [00:00<?, ?it/s]"
      ]
     },
     "metadata": {},
     "output_type": "display_data"
    },
    {
     "data": {
      "application/vnd.jupyter.widget-view+json": {
       "model_id": "ecce7131eb02453e83f7c14fc571c3e4",
       "version_major": 2,
       "version_minor": 0
      },
      "text/plain": [
       "Outer Loop:   0%|          | 0/2026 [00:00<?, ?it/s]"
      ]
     },
     "metadata": {},
     "output_type": "display_data"
    },
    {
     "data": {
      "application/vnd.jupyter.widget-view+json": {
       "model_id": "c490a8e9c99a43c3a8842a364615427d",
       "version_major": 2,
       "version_minor": 0
      },
      "text/plain": [
       "Outer Loop:   0%|          | 0/1719 [00:00<?, ?it/s]"
      ]
     },
     "metadata": {},
     "output_type": "display_data"
    },
    {
     "data": {
      "application/vnd.jupyter.widget-view+json": {
       "model_id": "994f8bfa727e467d948b1d95fe7896a7",
       "version_major": 2,
       "version_minor": 0
      },
      "text/plain": [
       "Outer Loop:   0%|          | 0/1616 [00:00<?, ?it/s]"
      ]
     },
     "metadata": {},
     "output_type": "display_data"
    },
    {
     "data": {
      "application/vnd.jupyter.widget-view+json": {
       "model_id": "8e8c4ba2e52b42aa9e32abf6125fe4c7",
       "version_major": 2,
       "version_minor": 0
      },
      "text/plain": [
       "Outer Loop:   0%|          | 0/1622 [00:00<?, ?it/s]"
      ]
     },
     "metadata": {},
     "output_type": "display_data"
    },
    {
     "data": {
      "application/vnd.jupyter.widget-view+json": {
       "model_id": "bbcc5f77420d41fcbda8f347ff933139",
       "version_major": 2,
       "version_minor": 0
      },
      "text/plain": [
       "Outer Loop:   0%|          | 0/1415 [00:00<?, ?it/s]"
      ]
     },
     "metadata": {},
     "output_type": "display_data"
    },
    {
     "data": {
      "application/vnd.jupyter.widget-view+json": {
       "model_id": "eef95bfff3224e4c9033f8b98f91556f",
       "version_major": 2,
       "version_minor": 0
      },
      "text/plain": [
       "Outer Loop:   0%|          | 0/1624 [00:00<?, ?it/s]"
      ]
     },
     "metadata": {},
     "output_type": "display_data"
    },
    {
     "data": {
      "application/vnd.jupyter.widget-view+json": {
       "model_id": "93ada1b35f2d452c962dac7b7334c945",
       "version_major": 2,
       "version_minor": 0
      },
      "text/plain": [
       "Outer Loop:   0%|          | 0/1736 [00:00<?, ?it/s]"
      ]
     },
     "metadata": {},
     "output_type": "display_data"
    },
    {
     "data": {
      "application/vnd.jupyter.widget-view+json": {
       "model_id": "fa2c6f13262743359cc5ee648e21cd5a",
       "version_major": 2,
       "version_minor": 0
      },
      "text/plain": [
       "Outer Loop:   0%|          | 0/1805 [00:00<?, ?it/s]"
      ]
     },
     "metadata": {},
     "output_type": "display_data"
    },
    {
     "data": {
      "application/vnd.jupyter.widget-view+json": {
       "model_id": "a5f4f0ca16bd49cfa50e4aa795bbd429",
       "version_major": 2,
       "version_minor": 0
      },
      "text/plain": [
       "Outer Loop:   0%|          | 0/1604 [00:00<?, ?it/s]"
      ]
     },
     "metadata": {},
     "output_type": "display_data"
    },
    {
     "data": {
      "application/vnd.jupyter.widget-view+json": {
       "model_id": "6e141c19195348d7b57498e78228a061",
       "version_major": 2,
       "version_minor": 0
      },
      "text/plain": [
       "Outer Loop:   0%|          | 0/1497 [00:00<?, ?it/s]"
      ]
     },
     "metadata": {},
     "output_type": "display_data"
    },
    {
     "data": {
      "application/vnd.jupyter.widget-view+json": {
       "model_id": "e14f8215fe53465f85e37fd23eda1677",
       "version_major": 2,
       "version_minor": 0
      },
      "text/plain": [
       "Outer Loop:   0%|          | 0/1470 [00:00<?, ?it/s]"
      ]
     },
     "metadata": {},
     "output_type": "display_data"
    },
    {
     "data": {
      "application/vnd.jupyter.widget-view+json": {
       "model_id": "b1cea9aa12fb4e52a1c59ade9c8782d5",
       "version_major": 2,
       "version_minor": 0
      },
      "text/plain": [
       "Outer Loop:   0%|          | 0/1833 [00:00<?, ?it/s]"
      ]
     },
     "metadata": {},
     "output_type": "display_data"
    },
    {
     "data": {
      "application/vnd.jupyter.widget-view+json": {
       "model_id": "1564260681754363b6b683d15f619c2e",
       "version_major": 2,
       "version_minor": 0
      },
      "text/plain": [
       "Outer Loop:   0%|          | 0/1678 [00:00<?, ?it/s]"
      ]
     },
     "metadata": {},
     "output_type": "display_data"
    },
    {
     "data": {
      "application/vnd.jupyter.widget-view+json": {
       "model_id": "345b3bf1bf4440a48b19a74f0ac02b0f",
       "version_major": 2,
       "version_minor": 0
      },
      "text/plain": [
       "Outer Loop:   0%|          | 0/1562 [00:00<?, ?it/s]"
      ]
     },
     "metadata": {},
     "output_type": "display_data"
    },
    {
     "data": {
      "application/vnd.jupyter.widget-view+json": {
       "model_id": "585e93bf7bb24a33a049f62876a436f7",
       "version_major": 2,
       "version_minor": 0
      },
      "text/plain": [
       "Outer Loop:   0%|          | 0/1403 [00:00<?, ?it/s]"
      ]
     },
     "metadata": {},
     "output_type": "display_data"
    },
    {
     "data": {
      "application/vnd.jupyter.widget-view+json": {
       "model_id": "bffb662e025f481f996862f903f4dd77",
       "version_major": 2,
       "version_minor": 0
      },
      "text/plain": [
       "Outer Loop:   0%|          | 0/1240 [00:00<?, ?it/s]"
      ]
     },
     "metadata": {},
     "output_type": "display_data"
    },
    {
     "data": {
      "application/vnd.jupyter.widget-view+json": {
       "model_id": "a9b77098e90a4e4f912f120e17920970",
       "version_major": 2,
       "version_minor": 0
      },
      "text/plain": [
       "Outer Loop:   0%|          | 0/1596 [00:00<?, ?it/s]"
      ]
     },
     "metadata": {},
     "output_type": "display_data"
    },
    {
     "data": {
      "application/vnd.jupyter.widget-view+json": {
       "model_id": "a081563a6b2543aca84b30a103c3334f",
       "version_major": 2,
       "version_minor": 0
      },
      "text/plain": [
       "Outer Loop:   0%|          | 0/1614 [00:00<?, ?it/s]"
      ]
     },
     "metadata": {},
     "output_type": "display_data"
    },
    {
     "data": {
      "application/vnd.jupyter.widget-view+json": {
       "model_id": "279d261cd4e54adc8006cd17db35e719",
       "version_major": 2,
       "version_minor": 0
      },
      "text/plain": [
       "Outer Loop:   0%|          | 0/1818 [00:00<?, ?it/s]"
      ]
     },
     "metadata": {},
     "output_type": "display_data"
    },
    {
     "data": {
      "application/vnd.jupyter.widget-view+json": {
       "model_id": "32be989d1ff14ec28b4caa111a85b268",
       "version_major": 2,
       "version_minor": 0
      },
      "text/plain": [
       "Outer Loop:   0%|          | 0/1077 [00:00<?, ?it/s]"
      ]
     },
     "metadata": {},
     "output_type": "display_data"
    },
    {
     "data": {
      "application/vnd.jupyter.widget-view+json": {
       "model_id": "46a6b2888c0f4f2cb4db652c3e0ed10c",
       "version_major": 2,
       "version_minor": 0
      },
      "text/plain": [
       "Outer Loop:   0%|          | 0/1709 [00:00<?, ?it/s]"
      ]
     },
     "metadata": {},
     "output_type": "display_data"
    },
    {
     "data": {
      "application/vnd.jupyter.widget-view+json": {
       "model_id": "83c5c840817841018b906181427972ff",
       "version_major": 2,
       "version_minor": 0
      },
      "text/plain": [
       "Outer Loop:   0%|          | 0/1517 [00:00<?, ?it/s]"
      ]
     },
     "metadata": {},
     "output_type": "display_data"
    },
    {
     "data": {
      "application/vnd.jupyter.widget-view+json": {
       "model_id": "13211fddeba14ba48fdbb3c98e4d1a5f",
       "version_major": 2,
       "version_minor": 0
      },
      "text/plain": [
       "Outer Loop:   0%|          | 0/1248 [00:00<?, ?it/s]"
      ]
     },
     "metadata": {},
     "output_type": "display_data"
    },
    {
     "data": {
      "application/vnd.jupyter.widget-view+json": {
       "model_id": "1ceed50875114a1d8892e3132feb8d24",
       "version_major": 2,
       "version_minor": 0
      },
      "text/plain": [
       "Outer Loop:   0%|          | 0/1792 [00:00<?, ?it/s]"
      ]
     },
     "metadata": {},
     "output_type": "display_data"
    },
    {
     "data": {
      "application/vnd.jupyter.widget-view+json": {
       "model_id": "1f0966d29cd743f887710710fe2041b7",
       "version_major": 2,
       "version_minor": 0
      },
      "text/plain": [
       "Outer Loop:   0%|          | 0/1698 [00:00<?, ?it/s]"
      ]
     },
     "metadata": {},
     "output_type": "display_data"
    },
    {
     "data": {
      "application/vnd.jupyter.widget-view+json": {
       "model_id": "8efa2f9c0b1649f4bcd3cd42ff03b256",
       "version_major": 2,
       "version_minor": 0
      },
      "text/plain": [
       "Outer Loop:   0%|          | 0/1165 [00:00<?, ?it/s]"
      ]
     },
     "metadata": {},
     "output_type": "display_data"
    },
    {
     "data": {
      "application/vnd.jupyter.widget-view+json": {
       "model_id": "218884e8f88c46aba1ae6f482db5bddb",
       "version_major": 2,
       "version_minor": 0
      },
      "text/plain": [
       "Outer Loop:   0%|          | 0/1339 [00:00<?, ?it/s]"
      ]
     },
     "metadata": {},
     "output_type": "display_data"
    },
    {
     "data": {
      "application/vnd.jupyter.widget-view+json": {
       "model_id": "6372e9e7a8ff4ea1816efd551628f23a",
       "version_major": 2,
       "version_minor": 0
      },
      "text/plain": [
       "Outer Loop:   0%|          | 0/1794 [00:00<?, ?it/s]"
      ]
     },
     "metadata": {},
     "output_type": "display_data"
    },
    {
     "data": {
      "application/vnd.jupyter.widget-view+json": {
       "model_id": "98b0cfb0c1b54fcc8ef4dd5933efc6de",
       "version_major": 2,
       "version_minor": 0
      },
      "text/plain": [
       "Outer Loop:   0%|          | 0/1939 [00:00<?, ?it/s]"
      ]
     },
     "metadata": {},
     "output_type": "display_data"
    },
    {
     "data": {
      "application/vnd.jupyter.widget-view+json": {
       "model_id": "ae63f7e4b944400791991a3f19bb2805",
       "version_major": 2,
       "version_minor": 0
      },
      "text/plain": [
       "Outer Loop:   0%|          | 0/1450 [00:00<?, ?it/s]"
      ]
     },
     "metadata": {},
     "output_type": "display_data"
    },
    {
     "data": {
      "application/vnd.jupyter.widget-view+json": {
       "model_id": "7024bd1e682d432c8504a061994a44e7",
       "version_major": 2,
       "version_minor": 0
      },
      "text/plain": [
       "Outer Loop:   0%|          | 0/2010 [00:00<?, ?it/s]"
      ]
     },
     "metadata": {},
     "output_type": "display_data"
    },
    {
     "data": {
      "application/vnd.jupyter.widget-view+json": {
       "model_id": "3d278fdd053c43aab07600e9bd197d12",
       "version_major": 2,
       "version_minor": 0
      },
      "text/plain": [
       "Outer Loop:   0%|          | 0/1212 [00:00<?, ?it/s]"
      ]
     },
     "metadata": {},
     "output_type": "display_data"
    },
    {
     "data": {
      "application/vnd.jupyter.widget-view+json": {
       "model_id": "2ed4c9e8510347cc8196d1e89bfe2fcf",
       "version_major": 2,
       "version_minor": 0
      },
      "text/plain": [
       "Outer Loop:   0%|          | 0/1951 [00:00<?, ?it/s]"
      ]
     },
     "metadata": {},
     "output_type": "display_data"
    },
    {
     "data": {
      "application/vnd.jupyter.widget-view+json": {
       "model_id": "f73d2ec62561436ca4107799adfead93",
       "version_major": 2,
       "version_minor": 0
      },
      "text/plain": [
       "Outer Loop:   0%|          | 0/1413 [00:00<?, ?it/s]"
      ]
     },
     "metadata": {},
     "output_type": "display_data"
    }
   ],
   "source": [
    "for well_fov in tqdm(list(dict_of_sc_well_fovs.keys()), desc=\"Processing Well-FOVs\"):\n",
    "    for i, row in tqdm(\n",
    "        dict_of_sc_well_fovs[well_fov].iterrows(),\n",
    "        total=len(dict_of_sc_well_fovs[well_fov]),\n",
    "        desc=\"Outer Loop\",\n",
    "        leave=False,\n",
    "    ):\n",
    "        for j, row2 in dict_of_sc_well_fovs_endpoint[well_fov].iterrows():\n",
    "            # check that the well_fov is the same\n",
    "            if row[\"Metadata_Well_FOV\"] == row2[\"Metadata_Well_FOV\"]:\n",
    "                distance = abs(\n",
    "                    euclidean(\n",
    "                        [\n",
    "                            row[\"Metadata_Nuclei_Location_Center_X\"],\n",
    "                            row[\"Metadata_Nuclei_Location_Center_Y\"],\n",
    "                        ],\n",
    "                        [\n",
    "                            row2[\"Metadata_Nuclei_Location_Center_X\"],\n",
    "                            row2[\"Metadata_Nuclei_Location_Center_Y\"],\n",
    "                        ],\n",
    "                    )\n",
    "                )\n",
    "                if distance < 10:\n",
    "                    dict_of_sc_well_fovs_endpoint[well_fov].at[\n",
    "                        j, \"Metadata_sc_unique_track_id\"\n",
    "                    ] = row[\"Metadata_sc_unique_track_id\"]"
   ]
  },
  {
   "cell_type": "code",
   "execution_count": 8,
   "metadata": {},
   "outputs": [
    {
     "name": "stdout",
     "output_type": "stream",
     "text": [
      "Fuzzy matching completed!\n",
      "Took 764.6259286403656 seconds\n",
      "Took 12.74 minutes\n",
      "Took 0.21 hours\n"
     ]
    }
   ],
   "source": [
    "print(\"Fuzzy matching completed!\")\n",
    "print(f\"Took {time.time() - start_time} seconds\")\n",
    "print(f\"Took {round((time.time() - start_time) / 60, 2)} minutes\")\n",
    "print(f\"Took {round((time.time() - start_time) / 3600, 2)} hours\")"
   ]
  },
  {
   "cell_type": "code",
   "execution_count": 9,
   "metadata": {},
   "outputs": [
    {
     "name": "stdout",
     "output_type": "stream",
     "text": [
      "(5767, 545)\n"
     ]
    },
    {
     "data": {
      "text/html": [
       "<div>\n",
       "<style scoped>\n",
       "    .dataframe tbody tr th:only-of-type {\n",
       "        vertical-align: middle;\n",
       "    }\n",
       "\n",
       "    .dataframe tbody tr th {\n",
       "        vertical-align: top;\n",
       "    }\n",
       "\n",
       "    .dataframe thead th {\n",
       "        text-align: right;\n",
       "    }\n",
       "</style>\n",
       "<table border=\"1\" class=\"dataframe\">\n",
       "  <thead>\n",
       "    <tr style=\"text-align: right;\">\n",
       "      <th></th>\n",
       "      <th>Metadata_plate</th>\n",
       "      <th>Metadata_Well</th>\n",
       "      <th>Metadata_number_of_singlecells</th>\n",
       "      <th>Metadata_compound</th>\n",
       "      <th>Metadata_dose</th>\n",
       "      <th>Metadata_control</th>\n",
       "      <th>Metadata_ImageNumber</th>\n",
       "      <th>Metadata_FOV</th>\n",
       "      <th>Metadata_Time</th>\n",
       "      <th>Metadata_Cells_Number_Object_Number</th>\n",
       "      <th>...</th>\n",
       "      <th>Nuclei_Texture_Correlation_AnnexinV_3_02_256</th>\n",
       "      <th>Nuclei_Texture_Correlation_AnnexinV_3_03_256</th>\n",
       "      <th>Nuclei_Texture_Correlation_DNA_3_02_256</th>\n",
       "      <th>Nuclei_Texture_DifferenceVariance_AnnexinV_3_01_256</th>\n",
       "      <th>Nuclei_Texture_InverseDifferenceMoment_AnnexinV_3_03_256</th>\n",
       "      <th>Nuclei_Texture_InverseDifferenceMoment_DNA_3_03_256</th>\n",
       "      <th>Nuclei_Texture_SumAverage_AnnexinV_3_00_256</th>\n",
       "      <th>Nuclei_Texture_SumAverage_DNA_3_01_256</th>\n",
       "      <th>Metadata_Well_FOV</th>\n",
       "      <th>Metadata_sc_unique_track_id</th>\n",
       "    </tr>\n",
       "  </thead>\n",
       "  <tbody>\n",
       "    <tr>\n",
       "      <th>0</th>\n",
       "      <td>1</td>\n",
       "      <td>C-09</td>\n",
       "      <td>153</td>\n",
       "      <td>Staurosporine</td>\n",
       "      <td>39.06</td>\n",
       "      <td>positive</td>\n",
       "      <td>1</td>\n",
       "      <td>0002</td>\n",
       "      <td>13.0</td>\n",
       "      <td>3.0</td>\n",
       "      <td>...</td>\n",
       "      <td>-0.471301</td>\n",
       "      <td>-0.589558</td>\n",
       "      <td>-1.321561</td>\n",
       "      <td>0.652602</td>\n",
       "      <td>0.668286</td>\n",
       "      <td>0.260828</td>\n",
       "      <td>0.034058</td>\n",
       "      <td>0.566404</td>\n",
       "      <td>C-09_0002</td>\n",
       "      <td>C-09_0002_32</td>\n",
       "    </tr>\n",
       "    <tr>\n",
       "      <th>1</th>\n",
       "      <td>1</td>\n",
       "      <td>C-09</td>\n",
       "      <td>153</td>\n",
       "      <td>Staurosporine</td>\n",
       "      <td>39.06</td>\n",
       "      <td>positive</td>\n",
       "      <td>1</td>\n",
       "      <td>0002</td>\n",
       "      <td>13.0</td>\n",
       "      <td>6.0</td>\n",
       "      <td>...</td>\n",
       "      <td>-0.832951</td>\n",
       "      <td>-0.666071</td>\n",
       "      <td>0.643979</td>\n",
       "      <td>-1.267717</td>\n",
       "      <td>-1.853163</td>\n",
       "      <td>0.474450</td>\n",
       "      <td>-1.437757</td>\n",
       "      <td>0.347586</td>\n",
       "      <td>C-09_0002</td>\n",
       "      <td>C-09_0002_52</td>\n",
       "    </tr>\n",
       "    <tr>\n",
       "      <th>2</th>\n",
       "      <td>1</td>\n",
       "      <td>C-09</td>\n",
       "      <td>153</td>\n",
       "      <td>Staurosporine</td>\n",
       "      <td>39.06</td>\n",
       "      <td>positive</td>\n",
       "      <td>1</td>\n",
       "      <td>0002</td>\n",
       "      <td>13.0</td>\n",
       "      <td>22.0</td>\n",
       "      <td>...</td>\n",
       "      <td>0.167245</td>\n",
       "      <td>-0.055811</td>\n",
       "      <td>-0.535309</td>\n",
       "      <td>-0.677362</td>\n",
       "      <td>0.194116</td>\n",
       "      <td>-0.309046</td>\n",
       "      <td>0.545504</td>\n",
       "      <td>2.499717</td>\n",
       "      <td>C-09_0002</td>\n",
       "      <td>C-09_0002_115</td>\n",
       "    </tr>\n",
       "    <tr>\n",
       "      <th>3</th>\n",
       "      <td>1</td>\n",
       "      <td>C-09</td>\n",
       "      <td>153</td>\n",
       "      <td>Staurosporine</td>\n",
       "      <td>39.06</td>\n",
       "      <td>positive</td>\n",
       "      <td>1</td>\n",
       "      <td>0002</td>\n",
       "      <td>13.0</td>\n",
       "      <td>25.0</td>\n",
       "      <td>...</td>\n",
       "      <td>0.167245</td>\n",
       "      <td>-0.055811</td>\n",
       "      <td>-0.535309</td>\n",
       "      <td>-0.677362</td>\n",
       "      <td>0.194116</td>\n",
       "      <td>-0.309046</td>\n",
       "      <td>0.545504</td>\n",
       "      <td>2.499717</td>\n",
       "      <td>C-09_0002</td>\n",
       "      <td>C-09_0002_115</td>\n",
       "    </tr>\n",
       "    <tr>\n",
       "      <th>4</th>\n",
       "      <td>1</td>\n",
       "      <td>C-09</td>\n",
       "      <td>153</td>\n",
       "      <td>Staurosporine</td>\n",
       "      <td>39.06</td>\n",
       "      <td>positive</td>\n",
       "      <td>1</td>\n",
       "      <td>0002</td>\n",
       "      <td>13.0</td>\n",
       "      <td>27.0</td>\n",
       "      <td>...</td>\n",
       "      <td>0.707274</td>\n",
       "      <td>-0.882432</td>\n",
       "      <td>-0.685778</td>\n",
       "      <td>0.054840</td>\n",
       "      <td>0.505591</td>\n",
       "      <td>-0.377580</td>\n",
       "      <td>0.083942</td>\n",
       "      <td>3.070313</td>\n",
       "      <td>C-09_0002</td>\n",
       "      <td>C-09_0002_104</td>\n",
       "    </tr>\n",
       "  </tbody>\n",
       "</table>\n",
       "<p>5 rows × 545 columns</p>\n",
       "</div>"
      ],
      "text/plain": [
       "   Metadata_plate Metadata_Well  Metadata_number_of_singlecells  \\\n",
       "0               1          C-09                             153   \n",
       "1               1          C-09                             153   \n",
       "2               1          C-09                             153   \n",
       "3               1          C-09                             153   \n",
       "4               1          C-09                             153   \n",
       "\n",
       "  Metadata_compound  Metadata_dose Metadata_control  Metadata_ImageNumber  \\\n",
       "0     Staurosporine          39.06         positive                     1   \n",
       "1     Staurosporine          39.06         positive                     1   \n",
       "2     Staurosporine          39.06         positive                     1   \n",
       "3     Staurosporine          39.06         positive                     1   \n",
       "4     Staurosporine          39.06         positive                     1   \n",
       "\n",
       "  Metadata_FOV  Metadata_Time  Metadata_Cells_Number_Object_Number  ...  \\\n",
       "0         0002           13.0                                  3.0  ...   \n",
       "1         0002           13.0                                  6.0  ...   \n",
       "2         0002           13.0                                 22.0  ...   \n",
       "3         0002           13.0                                 25.0  ...   \n",
       "4         0002           13.0                                 27.0  ...   \n",
       "\n",
       "   Nuclei_Texture_Correlation_AnnexinV_3_02_256  \\\n",
       "0                                     -0.471301   \n",
       "1                                     -0.832951   \n",
       "2                                      0.167245   \n",
       "3                                      0.167245   \n",
       "4                                      0.707274   \n",
       "\n",
       "   Nuclei_Texture_Correlation_AnnexinV_3_03_256  \\\n",
       "0                                     -0.589558   \n",
       "1                                     -0.666071   \n",
       "2                                     -0.055811   \n",
       "3                                     -0.055811   \n",
       "4                                     -0.882432   \n",
       "\n",
       "   Nuclei_Texture_Correlation_DNA_3_02_256  \\\n",
       "0                                -1.321561   \n",
       "1                                 0.643979   \n",
       "2                                -0.535309   \n",
       "3                                -0.535309   \n",
       "4                                -0.685778   \n",
       "\n",
       "   Nuclei_Texture_DifferenceVariance_AnnexinV_3_01_256  \\\n",
       "0                                           0.652602     \n",
       "1                                          -1.267717     \n",
       "2                                          -0.677362     \n",
       "3                                          -0.677362     \n",
       "4                                           0.054840     \n",
       "\n",
       "   Nuclei_Texture_InverseDifferenceMoment_AnnexinV_3_03_256  \\\n",
       "0                                           0.668286          \n",
       "1                                          -1.853163          \n",
       "2                                           0.194116          \n",
       "3                                           0.194116          \n",
       "4                                           0.505591          \n",
       "\n",
       "   Nuclei_Texture_InverseDifferenceMoment_DNA_3_03_256  \\\n",
       "0                                           0.260828     \n",
       "1                                           0.474450     \n",
       "2                                          -0.309046     \n",
       "3                                          -0.309046     \n",
       "4                                          -0.377580     \n",
       "\n",
       "  Nuclei_Texture_SumAverage_AnnexinV_3_00_256  \\\n",
       "0                                    0.034058   \n",
       "1                                   -1.437757   \n",
       "2                                    0.545504   \n",
       "3                                    0.545504   \n",
       "4                                    0.083942   \n",
       "\n",
       "  Nuclei_Texture_SumAverage_DNA_3_01_256 Metadata_Well_FOV  \\\n",
       "0                               0.566404         C-09_0002   \n",
       "1                               0.347586         C-09_0002   \n",
       "2                               2.499717         C-09_0002   \n",
       "3                               2.499717         C-09_0002   \n",
       "4                               3.070313         C-09_0002   \n",
       "\n",
       "  Metadata_sc_unique_track_id  \n",
       "0                C-09_0002_32  \n",
       "1                C-09_0002_52  \n",
       "2               C-09_0002_115  \n",
       "3               C-09_0002_115  \n",
       "4               C-09_0002_104  \n",
       "\n",
       "[5 rows x 545 columns]"
      ]
     },
     "execution_count": 9,
     "metadata": {},
     "output_type": "execute_result"
    }
   ],
   "source": [
    "sc_well_fovs_endpoint_df = pd.concat(\n",
    "    dict_of_sc_well_fovs_endpoint.values(), ignore_index=True\n",
    ")\n",
    "# drop the rows where Metadata_sc_unique_track_id is NaN\n",
    "sc_well_fovs_endpoint_df = sc_well_fovs_endpoint_df.dropna(\n",
    "    subset=[\"Metadata_sc_unique_track_id\"]\n",
    ")\n",
    "print(sc_well_fovs_endpoint_df.shape)\n",
    "sc_well_fovs_endpoint_df.reset_index(drop=True, inplace=True)\n",
    "sc_well_fovs_endpoint_df[\"Metadata_Time\"] = 13.0\n",
    "sc_well_fovs_endpoint_df.head()"
   ]
  },
  {
   "cell_type": "code",
   "execution_count": 10,
   "metadata": {},
   "outputs": [
    {
     "data": {
      "text/html": [
       "<div>\n",
       "<style scoped>\n",
       "    .dataframe tbody tr th:only-of-type {\n",
       "        vertical-align: middle;\n",
       "    }\n",
       "\n",
       "    .dataframe tbody tr th {\n",
       "        vertical-align: top;\n",
       "    }\n",
       "\n",
       "    .dataframe thead th {\n",
       "        text-align: right;\n",
       "    }\n",
       "</style>\n",
       "<table border=\"1\" class=\"dataframe\">\n",
       "  <thead>\n",
       "    <tr style=\"text-align: right;\">\n",
       "      <th></th>\n",
       "      <th>Metadata_plate</th>\n",
       "      <th>Metadata_Well</th>\n",
       "      <th>Metadata_number_of_singlecells</th>\n",
       "      <th>Metadata_compound</th>\n",
       "      <th>Metadata_dose</th>\n",
       "      <th>Metadata_control</th>\n",
       "      <th>Metadata_ImageNumber</th>\n",
       "      <th>Metadata_FOV</th>\n",
       "      <th>Metadata_Time</th>\n",
       "      <th>Metadata_Cells_Number_Object_Number</th>\n",
       "      <th>...</th>\n",
       "      <th>channel_DNA_cls_feature_94_scDINO</th>\n",
       "      <th>channel_DNA_cls_feature_95_scDINO</th>\n",
       "      <th>channel_DNA_cls_feature_96_scDINO</th>\n",
       "      <th>channel_DNA_cls_feature_97_scDINO</th>\n",
       "      <th>channel_DNA_cls_feature_98_scDINO</th>\n",
       "      <th>channel_DNA_cls_feature_99_scDINO</th>\n",
       "      <th>channel_DNA_cls_feature_9_scDINO</th>\n",
       "      <th>Metadata_sc_unique_track_id</th>\n",
       "      <th>Metadata_Well_FOV</th>\n",
       "      <th>Metadata_sc_unique_track_id_count</th>\n",
       "    </tr>\n",
       "  </thead>\n",
       "  <tbody>\n",
       "    <tr>\n",
       "      <th>0</th>\n",
       "      <td>1</td>\n",
       "      <td>C-09</td>\n",
       "      <td>168</td>\n",
       "      <td>Staurosporine</td>\n",
       "      <td>39.06</td>\n",
       "      <td>positive</td>\n",
       "      <td>1</td>\n",
       "      <td>0002</td>\n",
       "      <td>0.0</td>\n",
       "      <td>7</td>\n",
       "      <td>...</td>\n",
       "      <td>0.080005</td>\n",
       "      <td>0.918828</td>\n",
       "      <td>1.373562</td>\n",
       "      <td>0.980376</td>\n",
       "      <td>-0.123520</td>\n",
       "      <td>2.401852</td>\n",
       "      <td>1.516202</td>\n",
       "      <td>C-09_0002_5</td>\n",
       "      <td>C-09_0002</td>\n",
       "      <td>2</td>\n",
       "    </tr>\n",
       "    <tr>\n",
       "      <th>1</th>\n",
       "      <td>1</td>\n",
       "      <td>C-09</td>\n",
       "      <td>168</td>\n",
       "      <td>Staurosporine</td>\n",
       "      <td>39.06</td>\n",
       "      <td>positive</td>\n",
       "      <td>1</td>\n",
       "      <td>0002</td>\n",
       "      <td>0.0</td>\n",
       "      <td>9</td>\n",
       "      <td>...</td>\n",
       "      <td>0.486711</td>\n",
       "      <td>0.074517</td>\n",
       "      <td>-1.604183</td>\n",
       "      <td>2.407552</td>\n",
       "      <td>-0.835988</td>\n",
       "      <td>-0.264486</td>\n",
       "      <td>0.153676</td>\n",
       "      <td>C-09_0002_6</td>\n",
       "      <td>C-09_0002</td>\n",
       "      <td>5</td>\n",
       "    </tr>\n",
       "    <tr>\n",
       "      <th>2</th>\n",
       "      <td>1</td>\n",
       "      <td>C-09</td>\n",
       "      <td>168</td>\n",
       "      <td>Staurosporine</td>\n",
       "      <td>39.06</td>\n",
       "      <td>positive</td>\n",
       "      <td>1</td>\n",
       "      <td>0002</td>\n",
       "      <td>0.0</td>\n",
       "      <td>10</td>\n",
       "      <td>...</td>\n",
       "      <td>-0.039333</td>\n",
       "      <td>-1.202663</td>\n",
       "      <td>0.373103</td>\n",
       "      <td>1.048282</td>\n",
       "      <td>-0.359857</td>\n",
       "      <td>0.659583</td>\n",
       "      <td>0.537619</td>\n",
       "      <td>C-09_0002_7</td>\n",
       "      <td>C-09_0002</td>\n",
       "      <td>2</td>\n",
       "    </tr>\n",
       "    <tr>\n",
       "      <th>3</th>\n",
       "      <td>1</td>\n",
       "      <td>C-09</td>\n",
       "      <td>168</td>\n",
       "      <td>Staurosporine</td>\n",
       "      <td>39.06</td>\n",
       "      <td>positive</td>\n",
       "      <td>1</td>\n",
       "      <td>0002</td>\n",
       "      <td>0.0</td>\n",
       "      <td>11</td>\n",
       "      <td>...</td>\n",
       "      <td>-0.800594</td>\n",
       "      <td>0.178355</td>\n",
       "      <td>-1.380925</td>\n",
       "      <td>-0.285477</td>\n",
       "      <td>0.211796</td>\n",
       "      <td>0.443178</td>\n",
       "      <td>1.129714</td>\n",
       "      <td>C-09_0002_8</td>\n",
       "      <td>C-09_0002</td>\n",
       "      <td>8</td>\n",
       "    </tr>\n",
       "    <tr>\n",
       "      <th>4</th>\n",
       "      <td>1</td>\n",
       "      <td>C-09</td>\n",
       "      <td>168</td>\n",
       "      <td>Staurosporine</td>\n",
       "      <td>39.06</td>\n",
       "      <td>positive</td>\n",
       "      <td>1</td>\n",
       "      <td>0002</td>\n",
       "      <td>0.0</td>\n",
       "      <td>12</td>\n",
       "      <td>...</td>\n",
       "      <td>-0.963768</td>\n",
       "      <td>-0.906530</td>\n",
       "      <td>0.786611</td>\n",
       "      <td>-1.693796</td>\n",
       "      <td>-1.694061</td>\n",
       "      <td>-0.228990</td>\n",
       "      <td>0.648714</td>\n",
       "      <td>C-09_0002_9</td>\n",
       "      <td>C-09_0002</td>\n",
       "      <td>13</td>\n",
       "    </tr>\n",
       "  </tbody>\n",
       "</table>\n",
       "<p>5 rows × 2376 columns</p>\n",
       "</div>"
      ],
      "text/plain": [
       "   Metadata_plate Metadata_Well  Metadata_number_of_singlecells  \\\n",
       "0               1          C-09                             168   \n",
       "1               1          C-09                             168   \n",
       "2               1          C-09                             168   \n",
       "3               1          C-09                             168   \n",
       "4               1          C-09                             168   \n",
       "\n",
       "  Metadata_compound Metadata_dose Metadata_control Metadata_ImageNumber  \\\n",
       "0     Staurosporine         39.06         positive                    1   \n",
       "1     Staurosporine         39.06         positive                    1   \n",
       "2     Staurosporine         39.06         positive                    1   \n",
       "3     Staurosporine         39.06         positive                    1   \n",
       "4     Staurosporine         39.06         positive                    1   \n",
       "\n",
       "  Metadata_FOV Metadata_Time  Metadata_Cells_Number_Object_Number  ...  \\\n",
       "0         0002           0.0                                    7  ...   \n",
       "1         0002           0.0                                    9  ...   \n",
       "2         0002           0.0                                   10  ...   \n",
       "3         0002           0.0                                   11  ...   \n",
       "4         0002           0.0                                   12  ...   \n",
       "\n",
       "   channel_DNA_cls_feature_94_scDINO  channel_DNA_cls_feature_95_scDINO  \\\n",
       "0                           0.080005                           0.918828   \n",
       "1                           0.486711                           0.074517   \n",
       "2                          -0.039333                          -1.202663   \n",
       "3                          -0.800594                           0.178355   \n",
       "4                          -0.963768                          -0.906530   \n",
       "\n",
       "   channel_DNA_cls_feature_96_scDINO  channel_DNA_cls_feature_97_scDINO  \\\n",
       "0                           1.373562                           0.980376   \n",
       "1                          -1.604183                           2.407552   \n",
       "2                           0.373103                           1.048282   \n",
       "3                          -1.380925                          -0.285477   \n",
       "4                           0.786611                          -1.693796   \n",
       "\n",
       "   channel_DNA_cls_feature_98_scDINO channel_DNA_cls_feature_99_scDINO  \\\n",
       "0                          -0.123520                          2.401852   \n",
       "1                          -0.835988                         -0.264486   \n",
       "2                          -0.359857                          0.659583   \n",
       "3                           0.211796                          0.443178   \n",
       "4                          -1.694061                         -0.228990   \n",
       "\n",
       "  channel_DNA_cls_feature_9_scDINO Metadata_sc_unique_track_id  \\\n",
       "0                         1.516202                 C-09_0002_5   \n",
       "1                         0.153676                 C-09_0002_6   \n",
       "2                         0.537619                 C-09_0002_7   \n",
       "3                         1.129714                 C-09_0002_8   \n",
       "4                         0.648714                 C-09_0002_9   \n",
       "\n",
       "  Metadata_Well_FOV Metadata_sc_unique_track_id_count  \n",
       "0         C-09_0002                                 2  \n",
       "1         C-09_0002                                 5  \n",
       "2         C-09_0002                                 2  \n",
       "3         C-09_0002                                 8  \n",
       "4         C-09_0002                                13  \n",
       "\n",
       "[5 rows x 2376 columns]"
      ]
     },
     "execution_count": 10,
     "metadata": {},
     "output_type": "execute_result"
    }
   ],
   "source": [
    "# map the value counts to a new column for each Metadata_sc_unique_track_id\n",
    "sc_profile_df[\"Metadata_sc_unique_track_id_count\"] = sc_profile_df[\n",
    "    \"Metadata_sc_unique_track_id\"\n",
    "].map(sc_profile_df[\"Metadata_sc_unique_track_id\"].value_counts())\n",
    "sc_profile_df.head()"
   ]
  },
  {
   "cell_type": "code",
   "execution_count": 11,
   "metadata": {},
   "outputs": [],
   "source": [
    "# write the cleaned dataframe to a parquet file\n",
    "output_sc_file_path = pathlib.Path(\"../results/cleaned_sc_profile.parquet\").resolve(\n",
    "    strict=False\n",
    ")\n",
    "output_sc_endpoint_file_path = pathlib.Path(\n",
    "    \"../results/cleaned_endpoint_sc_profile.parquet\"\n",
    ").resolve(strict=False)\n",
    "output_sc_file_path.parent.mkdir(parents=True, exist_ok=True)\n",
    "\n",
    "# we save the two profiles separately because they have different feature spaces\n",
    "\n",
    "sc_profile_df.to_parquet(output_sc_file_path, index=False)\n",
    "sc_well_fovs_endpoint_df.to_parquet(output_sc_endpoint_file_path, index=False)"
   ]
  }
 ],
 "metadata": {
  "kernelspec": {
   "display_name": "timelapse_analaysis_env",
   "language": "python",
   "name": "python3"
  },
  "language_info": {
   "codemirror_mode": {
    "name": "ipython",
    "version": 3
   },
   "file_extension": ".py",
   "mimetype": "text/x-python",
   "name": "python",
   "nbconvert_exporter": "python",
   "pygments_lexer": "ipython3",
   "version": "3.11.11"
  }
 },
 "nbformat": 4,
 "nbformat_minor": 2
}
