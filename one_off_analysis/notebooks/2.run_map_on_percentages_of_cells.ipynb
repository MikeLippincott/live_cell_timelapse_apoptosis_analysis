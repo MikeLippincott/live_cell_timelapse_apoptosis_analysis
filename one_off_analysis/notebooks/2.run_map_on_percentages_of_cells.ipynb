{
 "cells": [
  {
   "cell_type": "code",
   "execution_count": 1,
   "metadata": {},
   "outputs": [],
   "source": [
    "import argparse\n",
    "import pathlib\n",
    "import random\n",
    "import sys\n",
    "\n",
    "import numpy as np\n",
    "import pandas as pd\n",
    "\n",
    "# check if in a jupyter notebook\n",
    "try:\n",
    "    cfg = get_ipython().config\n",
    "    in_notebook = True\n",
    "except NameError:\n",
    "    in_notebook = False\n",
    "import warnings\n",
    "\n",
    "import pycytominer.aggregate\n",
    "import tqdm\n",
    "\n",
    "# Suppress all RuntimeWarnings\n",
    "warnings.filterwarnings(\"ignore\", category=RuntimeWarning)\n",
    "\n",
    "\n",
    "sys.path.append(\"../utils\")\n",
    "from mAP_utils import run_mAP_across_time"
   ]
  },
  {
   "cell_type": "code",
   "execution_count": 2,
   "metadata": {},
   "outputs": [],
   "source": [
    "if not in_notebook:\n",
    "    # setup the argument parser\n",
    "    parser = argparse.ArgumentParser(\n",
    "        description=\"Generate a map for differing cell counts\"\n",
    "    )\n",
    "\n",
    "    parser.add_argument(\n",
    "        \"--percentage\", type=float, help=\"Percentage of wells to use for the map file\"\n",
    "    )\n",
    "    parser.add_argument(\"--seed\", type=int, help=\"Seed for the random number generator\")\n",
    "    parser.add_argument(\n",
    "        \"--shuffle\", action=\"store_true\", help=\"Shuffle the order of the wells\"\n",
    "    )\n",
    "    # parse the arguments\n",
    "    args = parser.parse_args()\n",
    "    percentage = args.percentage\n",
    "    set_seed = args.seed\n",
    "    shuffle = args.shuffle\n",
    "else:\n",
    "    percentage = 0.1\n",
    "    set_seed = 0\n",
    "    shuffle = False\n",
    "\n",
    "output_file = pathlib.Path(\n",
    "    f\"../results/mAP_cell_percentages/{percentage}_{set_seed}_{shuffle}.parquet\"\n",
    ")\n",
    "output_file.parent.mkdir(exist_ok=True, parents=True)"
   ]
  },
  {
   "cell_type": "code",
   "execution_count": 3,
   "metadata": {},
   "outputs": [
    {
     "data": {
      "text/html": [
       "<div>\n",
       "<style scoped>\n",
       "    .dataframe tbody tr th:only-of-type {\n",
       "        vertical-align: middle;\n",
       "    }\n",
       "\n",
       "    .dataframe tbody tr th {\n",
       "        vertical-align: top;\n",
       "    }\n",
       "\n",
       "    .dataframe thead th {\n",
       "        text-align: right;\n",
       "    }\n",
       "</style>\n",
       "<table border=\"1\" class=\"dataframe\">\n",
       "  <thead>\n",
       "    <tr style=\"text-align: right;\">\n",
       "      <th></th>\n",
       "      <th>Metadata_plate</th>\n",
       "      <th>Metadata_Well</th>\n",
       "      <th>Metadata_number_of_singlecells</th>\n",
       "      <th>Metadata_compound</th>\n",
       "      <th>Metadata_dose</th>\n",
       "      <th>Metadata_control</th>\n",
       "      <th>Metadata_ImageNumber</th>\n",
       "      <th>Metadata_FOV</th>\n",
       "      <th>Metadata_Time</th>\n",
       "      <th>Metadata_Cells_Number_Object_Number</th>\n",
       "      <th>...</th>\n",
       "      <th>Nuclei_Texture_DifferenceVariance_CL_488_1_3_00_256</th>\n",
       "      <th>Nuclei_Texture_DifferenceVariance_CL_488_2_3_01_256</th>\n",
       "      <th>Nuclei_Texture_DifferenceVariance_CL_561_3_02_256</th>\n",
       "      <th>Nuclei_Texture_InverseDifferenceMoment_CL_488_1_3_01_256</th>\n",
       "      <th>Nuclei_Texture_InverseDifferenceMoment_CL_561_3_01_256</th>\n",
       "      <th>Nuclei_Texture_InverseDifferenceMoment_DNA_3_00_256</th>\n",
       "      <th>Nuclei_Texture_SumAverage_CL_488_1_3_03_256</th>\n",
       "      <th>Nuclei_Texture_SumAverage_CL_488_2_3_03_256</th>\n",
       "      <th>Nuclei_Texture_SumAverage_CL_561_3_02_256</th>\n",
       "      <th>Nuclei_Texture_SumAverage_DNA_3_00_256</th>\n",
       "    </tr>\n",
       "  </thead>\n",
       "  <tbody>\n",
       "    <tr>\n",
       "      <th>0</th>\n",
       "      <td>1</td>\n",
       "      <td>D-02</td>\n",
       "      <td>192</td>\n",
       "      <td>Staurosporine</td>\n",
       "      <td>0.0</td>\n",
       "      <td>negative</td>\n",
       "      <td>1</td>\n",
       "      <td>0001</td>\n",
       "      <td>0.0</td>\n",
       "      <td>2</td>\n",
       "      <td>...</td>\n",
       "      <td>1.439092</td>\n",
       "      <td>0.891046</td>\n",
       "      <td>1.500406</td>\n",
       "      <td>0.587907</td>\n",
       "      <td>0.617193</td>\n",
       "      <td>-3.721488</td>\n",
       "      <td>-0.232102</td>\n",
       "      <td>0.381277</td>\n",
       "      <td>-0.044157</td>\n",
       "      <td>-3.411162</td>\n",
       "    </tr>\n",
       "    <tr>\n",
       "      <th>1</th>\n",
       "      <td>1</td>\n",
       "      <td>D-02</td>\n",
       "      <td>192</td>\n",
       "      <td>Staurosporine</td>\n",
       "      <td>0.0</td>\n",
       "      <td>negative</td>\n",
       "      <td>1</td>\n",
       "      <td>0001</td>\n",
       "      <td>0.0</td>\n",
       "      <td>23</td>\n",
       "      <td>...</td>\n",
       "      <td>-1.048757</td>\n",
       "      <td>0.629287</td>\n",
       "      <td>0.600013</td>\n",
       "      <td>-0.178073</td>\n",
       "      <td>0.464530</td>\n",
       "      <td>0.297776</td>\n",
       "      <td>0.356853</td>\n",
       "      <td>0.381277</td>\n",
       "      <td>0.040152</td>\n",
       "      <td>0.158581</td>\n",
       "    </tr>\n",
       "    <tr>\n",
       "      <th>2</th>\n",
       "      <td>1</td>\n",
       "      <td>D-02</td>\n",
       "      <td>192</td>\n",
       "      <td>Staurosporine</td>\n",
       "      <td>0.0</td>\n",
       "      <td>negative</td>\n",
       "      <td>1</td>\n",
       "      <td>0001</td>\n",
       "      <td>0.0</td>\n",
       "      <td>31</td>\n",
       "      <td>...</td>\n",
       "      <td>0.480107</td>\n",
       "      <td>0.891046</td>\n",
       "      <td>0.380827</td>\n",
       "      <td>0.448919</td>\n",
       "      <td>0.390155</td>\n",
       "      <td>0.297776</td>\n",
       "      <td>-0.232102</td>\n",
       "      <td>0.381277</td>\n",
       "      <td>0.078288</td>\n",
       "      <td>0.158581</td>\n",
       "    </tr>\n",
       "    <tr>\n",
       "      <th>3</th>\n",
       "      <td>1</td>\n",
       "      <td>D-02</td>\n",
       "      <td>192</td>\n",
       "      <td>Staurosporine</td>\n",
       "      <td>0.0</td>\n",
       "      <td>negative</td>\n",
       "      <td>1</td>\n",
       "      <td>0001</td>\n",
       "      <td>0.0</td>\n",
       "      <td>35</td>\n",
       "      <td>...</td>\n",
       "      <td>-0.616834</td>\n",
       "      <td>0.891046</td>\n",
       "      <td>0.863686</td>\n",
       "      <td>0.217271</td>\n",
       "      <td>0.565594</td>\n",
       "      <td>0.297776</td>\n",
       "      <td>-0.030175</td>\n",
       "      <td>0.381277</td>\n",
       "      <td>-0.002435</td>\n",
       "      <td>0.158581</td>\n",
       "    </tr>\n",
       "    <tr>\n",
       "      <th>4</th>\n",
       "      <td>1</td>\n",
       "      <td>D-02</td>\n",
       "      <td>192</td>\n",
       "      <td>Staurosporine</td>\n",
       "      <td>0.0</td>\n",
       "      <td>negative</td>\n",
       "      <td>1</td>\n",
       "      <td>0001</td>\n",
       "      <td>0.0</td>\n",
       "      <td>40</td>\n",
       "      <td>...</td>\n",
       "      <td>1.439092</td>\n",
       "      <td>-1.464788</td>\n",
       "      <td>-0.659766</td>\n",
       "      <td>0.587907</td>\n",
       "      <td>0.104220</td>\n",
       "      <td>0.297776</td>\n",
       "      <td>-0.232102</td>\n",
       "      <td>-1.424332</td>\n",
       "      <td>0.471232</td>\n",
       "      <td>0.158581</td>\n",
       "    </tr>\n",
       "  </tbody>\n",
       "</table>\n",
       "<p>5 rows × 847 columns</p>\n",
       "</div>"
      ],
      "text/plain": [
       "   Metadata_plate Metadata_Well  Metadata_number_of_singlecells  \\\n",
       "0               1          D-02                             192   \n",
       "1               1          D-02                             192   \n",
       "2               1          D-02                             192   \n",
       "3               1          D-02                             192   \n",
       "4               1          D-02                             192   \n",
       "\n",
       "  Metadata_compound  Metadata_dose Metadata_control  Metadata_ImageNumber  \\\n",
       "0     Staurosporine            0.0         negative                     1   \n",
       "1     Staurosporine            0.0         negative                     1   \n",
       "2     Staurosporine            0.0         negative                     1   \n",
       "3     Staurosporine            0.0         negative                     1   \n",
       "4     Staurosporine            0.0         negative                     1   \n",
       "\n",
       "  Metadata_FOV  Metadata_Time  Metadata_Cells_Number_Object_Number  ...  \\\n",
       "0         0001            0.0                                    2  ...   \n",
       "1         0001            0.0                                   23  ...   \n",
       "2         0001            0.0                                   31  ...   \n",
       "3         0001            0.0                                   35  ...   \n",
       "4         0001            0.0                                   40  ...   \n",
       "\n",
       "   Nuclei_Texture_DifferenceVariance_CL_488_1_3_00_256  \\\n",
       "0                                           1.439092     \n",
       "1                                          -1.048757     \n",
       "2                                           0.480107     \n",
       "3                                          -0.616834     \n",
       "4                                           1.439092     \n",
       "\n",
       "   Nuclei_Texture_DifferenceVariance_CL_488_2_3_01_256  \\\n",
       "0                                           0.891046     \n",
       "1                                           0.629287     \n",
       "2                                           0.891046     \n",
       "3                                           0.891046     \n",
       "4                                          -1.464788     \n",
       "\n",
       "   Nuclei_Texture_DifferenceVariance_CL_561_3_02_256  \\\n",
       "0                                           1.500406   \n",
       "1                                           0.600013   \n",
       "2                                           0.380827   \n",
       "3                                           0.863686   \n",
       "4                                          -0.659766   \n",
       "\n",
       "   Nuclei_Texture_InverseDifferenceMoment_CL_488_1_3_01_256  \\\n",
       "0                                           0.587907          \n",
       "1                                          -0.178073          \n",
       "2                                           0.448919          \n",
       "3                                           0.217271          \n",
       "4                                           0.587907          \n",
       "\n",
       "   Nuclei_Texture_InverseDifferenceMoment_CL_561_3_01_256  \\\n",
       "0                                           0.617193        \n",
       "1                                           0.464530        \n",
       "2                                           0.390155        \n",
       "3                                           0.565594        \n",
       "4                                           0.104220        \n",
       "\n",
       "   Nuclei_Texture_InverseDifferenceMoment_DNA_3_00_256  \\\n",
       "0                                          -3.721488     \n",
       "1                                           0.297776     \n",
       "2                                           0.297776     \n",
       "3                                           0.297776     \n",
       "4                                           0.297776     \n",
       "\n",
       "  Nuclei_Texture_SumAverage_CL_488_1_3_03_256  \\\n",
       "0                                   -0.232102   \n",
       "1                                    0.356853   \n",
       "2                                   -0.232102   \n",
       "3                                   -0.030175   \n",
       "4                                   -0.232102   \n",
       "\n",
       "  Nuclei_Texture_SumAverage_CL_488_2_3_03_256  \\\n",
       "0                                    0.381277   \n",
       "1                                    0.381277   \n",
       "2                                    0.381277   \n",
       "3                                    0.381277   \n",
       "4                                   -1.424332   \n",
       "\n",
       "  Nuclei_Texture_SumAverage_CL_561_3_02_256  \\\n",
       "0                                 -0.044157   \n",
       "1                                  0.040152   \n",
       "2                                  0.078288   \n",
       "3                                 -0.002435   \n",
       "4                                  0.471232   \n",
       "\n",
       "  Nuclei_Texture_SumAverage_DNA_3_00_256  \n",
       "0                              -3.411162  \n",
       "1                               0.158581  \n",
       "2                               0.158581  \n",
       "3                               0.158581  \n",
       "4                               0.158581  \n",
       "\n",
       "[5 rows x 847 columns]"
      ]
     },
     "execution_count": 3,
     "metadata": {},
     "output_type": "execute_result"
    }
   ],
   "source": [
    "data_file_path = pathlib.Path(\n",
    "    \"../../data/CP_feature_select/profiles/features_selected_profile.parquet\"\n",
    ").resolve(strict=True)\n",
    "df = pd.read_parquet(data_file_path)\n",
    "\n",
    "df.head()"
   ]
  },
  {
   "cell_type": "code",
   "execution_count": 4,
   "metadata": {},
   "outputs": [
    {
     "name": "stderr",
     "output_type": "stream",
     "text": [
      "/tmp/ipykernel_2166724/4052402001.py:2: DeprecationWarning: DataFrameGroupBy.apply operated on the grouping columns. This behavior is deprecated, and in a future version of pandas the grouping columns will be excluded from the operation. Either pass `include_groups=False` to exclude the groupings or explicitly select the grouping columns after groupby to silence this warning.\n",
      "  subset_df = df.groupby([\"Metadata_Time\", \"Metadata_Well\"]).apply(\n"
     ]
    }
   ],
   "source": [
    "random.seed(set_seed)\n",
    "subset_df = df.groupby([\"Metadata_Time\", \"Metadata_Well\"]).apply(\n",
    "    lambda x: x.sample(frac=percentage, random_state=set_seed),\n",
    "    include_groups=True,\n",
    ")\n",
    "subset_df.drop(columns=[\"Metadata_number_of_singlecells\"], inplace=True)\n",
    "subset_df.reset_index(drop=True, inplace=True)\n",
    "# calculate the number of cells in each well after sampling\n",
    "subset_df[\"Metadata_number_of_singlecells\"] = subset_df.groupby(\n",
    "    [\"Metadata_Time\", \"Metadata_Well\"]\n",
    ")[\"Metadata_Well\"].transform(\"size\")"
   ]
  },
  {
   "cell_type": "code",
   "execution_count": 5,
   "metadata": {},
   "outputs": [],
   "source": [
    "subset_df.reset_index(drop=True, inplace=True)\n",
    "if shuffle:\n",
    "    # permutate the data\n",
    "    for col in subset_df.columns:\n",
    "        if col == \"Metadata_Time\":\n",
    "            continue\n",
    "        if col == \"Metadata_dose\":\n",
    "            continue\n",
    "        if col == \"Metadata_Well\":\n",
    "            continue\n",
    "        subset_df[col] = np.random.permutation(subset_df[col])\n",
    "metadata_cols = [cols for cols in subset_df.columns if \"Metadata\" in cols]\n",
    "features_cols = [cols for cols in subset_df.columns if \"Metadata\" not in cols]\n",
    "features_cols = features_cols\n",
    "aggregate_df = pycytominer.aggregate(\n",
    "    population_df=subset_df,\n",
    "    strata=[\"Metadata_Well\", \"Metadata_Time\"],\n",
    "    features=features_cols,\n",
    "    operation=\"median\",\n",
    ")"
   ]
  },
  {
   "cell_type": "code",
   "execution_count": 6,
   "metadata": {},
   "outputs": [
    {
     "data": {
      "text/html": [
       "<div>\n",
       "<style scoped>\n",
       "    .dataframe tbody tr th:only-of-type {\n",
       "        vertical-align: middle;\n",
       "    }\n",
       "\n",
       "    .dataframe tbody tr th {\n",
       "        vertical-align: top;\n",
       "    }\n",
       "\n",
       "    .dataframe thead th {\n",
       "        text-align: right;\n",
       "    }\n",
       "</style>\n",
       "<table border=\"1\" class=\"dataframe\">\n",
       "  <thead>\n",
       "    <tr style=\"text-align: right;\">\n",
       "      <th></th>\n",
       "      <th>Metadata_plate</th>\n",
       "      <th>Metadata_Well</th>\n",
       "      <th>Metadata_compound</th>\n",
       "      <th>Metadata_dose</th>\n",
       "      <th>Metadata_control</th>\n",
       "      <th>Metadata_ImageNumber</th>\n",
       "      <th>Metadata_FOV</th>\n",
       "      <th>Metadata_Time</th>\n",
       "      <th>Metadata_Cells_Number_Object_Number</th>\n",
       "      <th>Metadata_Cytoplasm_Parent_Cells</th>\n",
       "      <th>...</th>\n",
       "      <th>Nuclei_Texture_DifferenceVariance_CL_488_1_3_00_256</th>\n",
       "      <th>Nuclei_Texture_DifferenceVariance_CL_488_2_3_01_256</th>\n",
       "      <th>Nuclei_Texture_DifferenceVariance_CL_561_3_02_256</th>\n",
       "      <th>Nuclei_Texture_InverseDifferenceMoment_CL_488_1_3_01_256</th>\n",
       "      <th>Nuclei_Texture_InverseDifferenceMoment_CL_561_3_01_256</th>\n",
       "      <th>Nuclei_Texture_InverseDifferenceMoment_DNA_3_00_256</th>\n",
       "      <th>Nuclei_Texture_SumAverage_CL_488_1_3_03_256</th>\n",
       "      <th>Nuclei_Texture_SumAverage_CL_488_2_3_03_256</th>\n",
       "      <th>Nuclei_Texture_SumAverage_CL_561_3_02_256</th>\n",
       "      <th>Nuclei_Texture_SumAverage_DNA_3_00_256</th>\n",
       "    </tr>\n",
       "  </thead>\n",
       "  <tbody>\n",
       "    <tr>\n",
       "      <th>0</th>\n",
       "      <td>1</td>\n",
       "      <td>C-02</td>\n",
       "      <td>Staurosporine</td>\n",
       "      <td>0.00</td>\n",
       "      <td>negative</td>\n",
       "      <td>1</td>\n",
       "      <td>0004</td>\n",
       "      <td>0.0</td>\n",
       "      <td>50</td>\n",
       "      <td>50</td>\n",
       "      <td>...</td>\n",
       "      <td>-0.313927</td>\n",
       "      <td>0.212609</td>\n",
       "      <td>-0.375083</td>\n",
       "      <td>0.154952</td>\n",
       "      <td>0.171849</td>\n",
       "      <td>0.297776</td>\n",
       "      <td>-0.099287</td>\n",
       "      <td>0.381277</td>\n",
       "      <td>0.201143</td>\n",
       "      <td>0.158581</td>\n",
       "    </tr>\n",
       "    <tr>\n",
       "      <th>1</th>\n",
       "      <td>1</td>\n",
       "      <td>C-03</td>\n",
       "      <td>Staurosporine</td>\n",
       "      <td>0.61</td>\n",
       "      <td>test</td>\n",
       "      <td>1</td>\n",
       "      <td>0001</td>\n",
       "      <td>0.0</td>\n",
       "      <td>43</td>\n",
       "      <td>43</td>\n",
       "      <td>...</td>\n",
       "      <td>0.186889</td>\n",
       "      <td>0.103955</td>\n",
       "      <td>0.409223</td>\n",
       "      <td>0.381574</td>\n",
       "      <td>0.455023</td>\n",
       "      <td>0.297776</td>\n",
       "      <td>-0.159184</td>\n",
       "      <td>0.381277</td>\n",
       "      <td>0.037473</td>\n",
       "      <td>0.158581</td>\n",
       "    </tr>\n",
       "    <tr>\n",
       "      <th>2</th>\n",
       "      <td>1</td>\n",
       "      <td>C-04</td>\n",
       "      <td>Staurosporine</td>\n",
       "      <td>1.22</td>\n",
       "      <td>test</td>\n",
       "      <td>1</td>\n",
       "      <td>0003</td>\n",
       "      <td>0.0</td>\n",
       "      <td>21</td>\n",
       "      <td>21</td>\n",
       "      <td>...</td>\n",
       "      <td>-0.302106</td>\n",
       "      <td>-0.210237</td>\n",
       "      <td>0.346267</td>\n",
       "      <td>0.157277</td>\n",
       "      <td>0.459976</td>\n",
       "      <td>0.297776</td>\n",
       "      <td>-0.213688</td>\n",
       "      <td>0.381277</td>\n",
       "      <td>0.011786</td>\n",
       "      <td>0.158581</td>\n",
       "    </tr>\n",
       "    <tr>\n",
       "      <th>3</th>\n",
       "      <td>1</td>\n",
       "      <td>C-05</td>\n",
       "      <td>Staurosporine</td>\n",
       "      <td>2.44</td>\n",
       "      <td>test</td>\n",
       "      <td>1</td>\n",
       "      <td>0002</td>\n",
       "      <td>0.0</td>\n",
       "      <td>86</td>\n",
       "      <td>86</td>\n",
       "      <td>...</td>\n",
       "      <td>0.104873</td>\n",
       "      <td>-0.485484</td>\n",
       "      <td>0.703336</td>\n",
       "      <td>0.275076</td>\n",
       "      <td>0.524607</td>\n",
       "      <td>0.297776</td>\n",
       "      <td>-0.158529</td>\n",
       "      <td>0.381277</td>\n",
       "      <td>0.016623</td>\n",
       "      <td>0.158581</td>\n",
       "    </tr>\n",
       "    <tr>\n",
       "      <th>4</th>\n",
       "      <td>1</td>\n",
       "      <td>C-06</td>\n",
       "      <td>Staurosporine</td>\n",
       "      <td>4.88</td>\n",
       "      <td>test</td>\n",
       "      <td>1</td>\n",
       "      <td>0004</td>\n",
       "      <td>0.0</td>\n",
       "      <td>124</td>\n",
       "      <td>124</td>\n",
       "      <td>...</td>\n",
       "      <td>0.605916</td>\n",
       "      <td>0.495685</td>\n",
       "      <td>0.457185</td>\n",
       "      <td>0.462031</td>\n",
       "      <td>0.491852</td>\n",
       "      <td>0.297776</td>\n",
       "      <td>-0.214945</td>\n",
       "      <td>0.381277</td>\n",
       "      <td>-0.006228</td>\n",
       "      <td>0.158581</td>\n",
       "    </tr>\n",
       "  </tbody>\n",
       "</table>\n",
       "<p>5 rows × 847 columns</p>\n",
       "</div>"
      ],
      "text/plain": [
       "   Metadata_plate Metadata_Well Metadata_compound  Metadata_dose  \\\n",
       "0               1          C-02     Staurosporine           0.00   \n",
       "1               1          C-03     Staurosporine           0.61   \n",
       "2               1          C-04     Staurosporine           1.22   \n",
       "3               1          C-05     Staurosporine           2.44   \n",
       "4               1          C-06     Staurosporine           4.88   \n",
       "\n",
       "  Metadata_control  Metadata_ImageNumber Metadata_FOV  Metadata_Time  \\\n",
       "0         negative                     1         0004            0.0   \n",
       "1             test                     1         0001            0.0   \n",
       "2             test                     1         0003            0.0   \n",
       "3             test                     1         0002            0.0   \n",
       "4             test                     1         0004            0.0   \n",
       "\n",
       "   Metadata_Cells_Number_Object_Number  Metadata_Cytoplasm_Parent_Cells  ...  \\\n",
       "0                                   50                               50  ...   \n",
       "1                                   43                               43  ...   \n",
       "2                                   21                               21  ...   \n",
       "3                                   86                               86  ...   \n",
       "4                                  124                              124  ...   \n",
       "\n",
       "   Nuclei_Texture_DifferenceVariance_CL_488_1_3_00_256  \\\n",
       "0                                          -0.313927     \n",
       "1                                           0.186889     \n",
       "2                                          -0.302106     \n",
       "3                                           0.104873     \n",
       "4                                           0.605916     \n",
       "\n",
       "   Nuclei_Texture_DifferenceVariance_CL_488_2_3_01_256  \\\n",
       "0                                           0.212609     \n",
       "1                                           0.103955     \n",
       "2                                          -0.210237     \n",
       "3                                          -0.485484     \n",
       "4                                           0.495685     \n",
       "\n",
       "   Nuclei_Texture_DifferenceVariance_CL_561_3_02_256  \\\n",
       "0                                          -0.375083   \n",
       "1                                           0.409223   \n",
       "2                                           0.346267   \n",
       "3                                           0.703336   \n",
       "4                                           0.457185   \n",
       "\n",
       "   Nuclei_Texture_InverseDifferenceMoment_CL_488_1_3_01_256  \\\n",
       "0                                           0.154952          \n",
       "1                                           0.381574          \n",
       "2                                           0.157277          \n",
       "3                                           0.275076          \n",
       "4                                           0.462031          \n",
       "\n",
       "   Nuclei_Texture_InverseDifferenceMoment_CL_561_3_01_256  \\\n",
       "0                                           0.171849        \n",
       "1                                           0.455023        \n",
       "2                                           0.459976        \n",
       "3                                           0.524607        \n",
       "4                                           0.491852        \n",
       "\n",
       "  Nuclei_Texture_InverseDifferenceMoment_DNA_3_00_256  \\\n",
       "0                                           0.297776    \n",
       "1                                           0.297776    \n",
       "2                                           0.297776    \n",
       "3                                           0.297776    \n",
       "4                                           0.297776    \n",
       "\n",
       "  Nuclei_Texture_SumAverage_CL_488_1_3_03_256  \\\n",
       "0                                   -0.099287   \n",
       "1                                   -0.159184   \n",
       "2                                   -0.213688   \n",
       "3                                   -0.158529   \n",
       "4                                   -0.214945   \n",
       "\n",
       "  Nuclei_Texture_SumAverage_CL_488_2_3_03_256  \\\n",
       "0                                    0.381277   \n",
       "1                                    0.381277   \n",
       "2                                    0.381277   \n",
       "3                                    0.381277   \n",
       "4                                    0.381277   \n",
       "\n",
       "  Nuclei_Texture_SumAverage_CL_561_3_02_256  \\\n",
       "0                                  0.201143   \n",
       "1                                  0.037473   \n",
       "2                                  0.011786   \n",
       "3                                  0.016623   \n",
       "4                                 -0.006228   \n",
       "\n",
       "  Nuclei_Texture_SumAverage_DNA_3_00_256  \n",
       "0                               0.158581  \n",
       "1                               0.158581  \n",
       "2                               0.158581  \n",
       "3                               0.158581  \n",
       "4                               0.158581  \n",
       "\n",
       "[5 rows x 847 columns]"
      ]
     },
     "execution_count": 6,
     "metadata": {},
     "output_type": "execute_result"
    }
   ],
   "source": [
    "metadata_df = subset_df[metadata_cols]\n",
    "metadata_df = metadata_df.drop_duplicates(subset=[\"Metadata_Well\", \"Metadata_Time\"])\n",
    "metadata_df = metadata_df.reset_index(drop=True)\n",
    "aggregate_df = pd.merge(\n",
    "    metadata_df, aggregate_df, on=[\"Metadata_Well\", \"Metadata_Time\"]\n",
    ")\n",
    "aggregate_df.head()"
   ]
  },
  {
   "cell_type": "code",
   "execution_count": 7,
   "metadata": {},
   "outputs": [
    {
     "data": {
      "application/vnd.jupyter.widget-view+json": {
       "model_id": "fdb539a321dd4715ab8f82aa15a44fb6",
       "version_major": 2,
       "version_minor": 0
      },
      "text/plain": [
       "  0%|          | 0/1 [00:00<?, ?it/s]"
      ]
     },
     "metadata": {},
     "output_type": "display_data"
    },
    {
     "data": {
      "application/vnd.jupyter.widget-view+json": {
       "model_id": "5add2dd19c424a06ae0c3c55a64a545e",
       "version_major": 2,
       "version_minor": 0
      },
      "text/plain": [
       "  0%|          | 0/1 [00:00<?, ?it/s]"
      ]
     },
     "metadata": {},
     "output_type": "display_data"
    },
    {
     "data": {
      "application/vnd.jupyter.widget-view+json": {
       "model_id": "4e828dc8e40b459d908ba72ac45a477f",
       "version_major": 2,
       "version_minor": 0
      },
      "text/plain": [
       "  0%|          | 0/1 [00:00<?, ?it/s]"
      ]
     },
     "metadata": {},
     "output_type": "display_data"
    },
    {
     "data": {
      "application/vnd.jupyter.widget-view+json": {
       "model_id": "ec3a96f75a8c440dae8621061d5557c3",
       "version_major": 2,
       "version_minor": 0
      },
      "text/plain": [
       "  0%|          | 0/9 [00:00<?, ?it/s]"
      ]
     },
     "metadata": {},
     "output_type": "display_data"
    },
    {
     "data": {
      "application/vnd.jupyter.widget-view+json": {
       "model_id": "152147eaaeef4ad1b392f40e2e394c6f",
       "version_major": 2,
       "version_minor": 0
      },
      "text/plain": [
       "  0%|          | 0/1 [00:00<?, ?it/s]"
      ]
     },
     "metadata": {},
     "output_type": "display_data"
    },
    {
     "data": {
      "application/vnd.jupyter.widget-view+json": {
       "model_id": "21bd4cc6ad614d98a42f9fe013e46da1",
       "version_major": 2,
       "version_minor": 0
      },
      "text/plain": [
       "  0%|          | 0/1 [00:00<?, ?it/s]"
      ]
     },
     "metadata": {},
     "output_type": "display_data"
    },
    {
     "data": {
      "application/vnd.jupyter.widget-view+json": {
       "model_id": "f2c84a0cfb8341b28f85c54ca34649e0",
       "version_major": 2,
       "version_minor": 0
      },
      "text/plain": [
       "  0%|          | 0/1 [00:00<?, ?it/s]"
      ]
     },
     "metadata": {},
     "output_type": "display_data"
    },
    {
     "data": {
      "application/vnd.jupyter.widget-view+json": {
       "model_id": "539420dd3e58491d8e0926947996845b",
       "version_major": 2,
       "version_minor": 0
      },
      "text/plain": [
       "  0%|          | 0/9 [00:00<?, ?it/s]"
      ]
     },
     "metadata": {},
     "output_type": "display_data"
    },
    {
     "data": {
      "application/vnd.jupyter.widget-view+json": {
       "model_id": "35bb8c8e5a0c4f2299e91cb7ac02b3b8",
       "version_major": 2,
       "version_minor": 0
      },
      "text/plain": [
       "  0%|          | 0/1 [00:00<?, ?it/s]"
      ]
     },
     "metadata": {},
     "output_type": "display_data"
    },
    {
     "data": {
      "application/vnd.jupyter.widget-view+json": {
       "model_id": "f43a1eb7c9a94104bb09c3a10a5d51bb",
       "version_major": 2,
       "version_minor": 0
      },
      "text/plain": [
       "  0%|          | 0/1 [00:00<?, ?it/s]"
      ]
     },
     "metadata": {},
     "output_type": "display_data"
    },
    {
     "data": {
      "application/vnd.jupyter.widget-view+json": {
       "model_id": "37916c059aca4382a8e7409af6474705",
       "version_major": 2,
       "version_minor": 0
      },
      "text/plain": [
       "  0%|          | 0/1 [00:00<?, ?it/s]"
      ]
     },
     "metadata": {},
     "output_type": "display_data"
    },
    {
     "data": {
      "application/vnd.jupyter.widget-view+json": {
       "model_id": "ddd8057231f7474596e6aec5e643a17a",
       "version_major": 2,
       "version_minor": 0
      },
      "text/plain": [
       "  0%|          | 0/9 [00:00<?, ?it/s]"
      ]
     },
     "metadata": {},
     "output_type": "display_data"
    },
    {
     "data": {
      "application/vnd.jupyter.widget-view+json": {
       "model_id": "de580fd19dcc4e44bb6bd24ef62f4d1a",
       "version_major": 2,
       "version_minor": 0
      },
      "text/plain": [
       "  0%|          | 0/1 [00:00<?, ?it/s]"
      ]
     },
     "metadata": {},
     "output_type": "display_data"
    },
    {
     "data": {
      "application/vnd.jupyter.widget-view+json": {
       "model_id": "d9b8a69b4bb14f49a890ce8b83def928",
       "version_major": 2,
       "version_minor": 0
      },
      "text/plain": [
       "  0%|          | 0/1 [00:00<?, ?it/s]"
      ]
     },
     "metadata": {},
     "output_type": "display_data"
    },
    {
     "data": {
      "application/vnd.jupyter.widget-view+json": {
       "model_id": "6f16b77f0a2d499bb4bb106d150df1b4",
       "version_major": 2,
       "version_minor": 0
      },
      "text/plain": [
       "  0%|          | 0/1 [00:00<?, ?it/s]"
      ]
     },
     "metadata": {},
     "output_type": "display_data"
    },
    {
     "data": {
      "application/vnd.jupyter.widget-view+json": {
       "model_id": "82532effcc764251aac405c8656c2015",
       "version_major": 2,
       "version_minor": 0
      },
      "text/plain": [
       "  0%|          | 0/9 [00:00<?, ?it/s]"
      ]
     },
     "metadata": {},
     "output_type": "display_data"
    },
    {
     "data": {
      "application/vnd.jupyter.widget-view+json": {
       "model_id": "728bfd8f8fc94efe821ab97f156a71ab",
       "version_major": 2,
       "version_minor": 0
      },
      "text/plain": [
       "  0%|          | 0/1 [00:00<?, ?it/s]"
      ]
     },
     "metadata": {},
     "output_type": "display_data"
    },
    {
     "data": {
      "application/vnd.jupyter.widget-view+json": {
       "model_id": "51a64112aa68461285093617f54f55d5",
       "version_major": 2,
       "version_minor": 0
      },
      "text/plain": [
       "  0%|          | 0/1 [00:00<?, ?it/s]"
      ]
     },
     "metadata": {},
     "output_type": "display_data"
    },
    {
     "data": {
      "application/vnd.jupyter.widget-view+json": {
       "model_id": "fb942ff944d849c1b1618c6242995412",
       "version_major": 2,
       "version_minor": 0
      },
      "text/plain": [
       "  0%|          | 0/1 [00:00<?, ?it/s]"
      ]
     },
     "metadata": {},
     "output_type": "display_data"
    },
    {
     "data": {
      "application/vnd.jupyter.widget-view+json": {
       "model_id": "d2c2f042a5aa4447b1b3d2b132f84712",
       "version_major": 2,
       "version_minor": 0
      },
      "text/plain": [
       "  0%|          | 0/9 [00:00<?, ?it/s]"
      ]
     },
     "metadata": {},
     "output_type": "display_data"
    },
    {
     "data": {
      "application/vnd.jupyter.widget-view+json": {
       "model_id": "ad8548b8773f44518f3f5254150577fb",
       "version_major": 2,
       "version_minor": 0
      },
      "text/plain": [
       "  0%|          | 0/1 [00:00<?, ?it/s]"
      ]
     },
     "metadata": {},
     "output_type": "display_data"
    },
    {
     "data": {
      "application/vnd.jupyter.widget-view+json": {
       "model_id": "2093221c5d35433499eb7ed26e43bd2d",
       "version_major": 2,
       "version_minor": 0
      },
      "text/plain": [
       "  0%|          | 0/1 [00:00<?, ?it/s]"
      ]
     },
     "metadata": {},
     "output_type": "display_data"
    },
    {
     "data": {
      "application/vnd.jupyter.widget-view+json": {
       "model_id": "4f63874193a14893a36b4584b790243a",
       "version_major": 2,
       "version_minor": 0
      },
      "text/plain": [
       "  0%|          | 0/1 [00:00<?, ?it/s]"
      ]
     },
     "metadata": {},
     "output_type": "display_data"
    },
    {
     "data": {
      "application/vnd.jupyter.widget-view+json": {
       "model_id": "49e1877e6a064cae860fd545847aefcc",
       "version_major": 2,
       "version_minor": 0
      },
      "text/plain": [
       "  0%|          | 0/9 [00:00<?, ?it/s]"
      ]
     },
     "metadata": {},
     "output_type": "display_data"
    },
    {
     "data": {
      "application/vnd.jupyter.widget-view+json": {
       "model_id": "dc3691b9d48342029b4a1bbb8f746310",
       "version_major": 2,
       "version_minor": 0
      },
      "text/plain": [
       "  0%|          | 0/1 [00:00<?, ?it/s]"
      ]
     },
     "metadata": {},
     "output_type": "display_data"
    },
    {
     "data": {
      "application/vnd.jupyter.widget-view+json": {
       "model_id": "869bf093b60b4b4a8256d61f1266dc6f",
       "version_major": 2,
       "version_minor": 0
      },
      "text/plain": [
       "  0%|          | 0/1 [00:00<?, ?it/s]"
      ]
     },
     "metadata": {},
     "output_type": "display_data"
    },
    {
     "data": {
      "application/vnd.jupyter.widget-view+json": {
       "model_id": "bed6306c6c4d4e3aa657ca5f65c2acce",
       "version_major": 2,
       "version_minor": 0
      },
      "text/plain": [
       "  0%|          | 0/1 [00:00<?, ?it/s]"
      ]
     },
     "metadata": {},
     "output_type": "display_data"
    },
    {
     "data": {
      "application/vnd.jupyter.widget-view+json": {
       "model_id": "9cd14ef76b114bf0948018163c02c371",
       "version_major": 2,
       "version_minor": 0
      },
      "text/plain": [
       "  0%|          | 0/9 [00:00<?, ?it/s]"
      ]
     },
     "metadata": {},
     "output_type": "display_data"
    },
    {
     "data": {
      "application/vnd.jupyter.widget-view+json": {
       "model_id": "675eaee231ac4897b6139a8e7b44022b",
       "version_major": 2,
       "version_minor": 0
      },
      "text/plain": [
       "  0%|          | 0/1 [00:00<?, ?it/s]"
      ]
     },
     "metadata": {},
     "output_type": "display_data"
    },
    {
     "data": {
      "application/vnd.jupyter.widget-view+json": {
       "model_id": "29e0a13caab4488f87e69f08fc5b567f",
       "version_major": 2,
       "version_minor": 0
      },
      "text/plain": [
       "  0%|          | 0/1 [00:00<?, ?it/s]"
      ]
     },
     "metadata": {},
     "output_type": "display_data"
    },
    {
     "data": {
      "application/vnd.jupyter.widget-view+json": {
       "model_id": "ca37b20915084a5f95d1e6471ed21536",
       "version_major": 2,
       "version_minor": 0
      },
      "text/plain": [
       "  0%|          | 0/1 [00:00<?, ?it/s]"
      ]
     },
     "metadata": {},
     "output_type": "display_data"
    },
    {
     "data": {
      "application/vnd.jupyter.widget-view+json": {
       "model_id": "11cabc227bfd4e21a601b7488d3676cb",
       "version_major": 2,
       "version_minor": 0
      },
      "text/plain": [
       "  0%|          | 0/9 [00:00<?, ?it/s]"
      ]
     },
     "metadata": {},
     "output_type": "display_data"
    },
    {
     "data": {
      "application/vnd.jupyter.widget-view+json": {
       "model_id": "151f428e0dda4b9c83cc5b92949c42ef",
       "version_major": 2,
       "version_minor": 0
      },
      "text/plain": [
       "  0%|          | 0/1 [00:00<?, ?it/s]"
      ]
     },
     "metadata": {},
     "output_type": "display_data"
    },
    {
     "data": {
      "application/vnd.jupyter.widget-view+json": {
       "model_id": "dc6a28470315491aa65b3aab6b794007",
       "version_major": 2,
       "version_minor": 0
      },
      "text/plain": [
       "  0%|          | 0/1 [00:00<?, ?it/s]"
      ]
     },
     "metadata": {},
     "output_type": "display_data"
    },
    {
     "data": {
      "application/vnd.jupyter.widget-view+json": {
       "model_id": "8bcc1d4a009344c697b9ca8a1331083b",
       "version_major": 2,
       "version_minor": 0
      },
      "text/plain": [
       "  0%|          | 0/1 [00:00<?, ?it/s]"
      ]
     },
     "metadata": {},
     "output_type": "display_data"
    },
    {
     "data": {
      "application/vnd.jupyter.widget-view+json": {
       "model_id": "4efb88343ac54d108b3763b229b3ec51",
       "version_major": 2,
       "version_minor": 0
      },
      "text/plain": [
       "  0%|          | 0/9 [00:00<?, ?it/s]"
      ]
     },
     "metadata": {},
     "output_type": "display_data"
    },
    {
     "data": {
      "application/vnd.jupyter.widget-view+json": {
       "model_id": "4f33131c832242afb1ceb181fb625053",
       "version_major": 2,
       "version_minor": 0
      },
      "text/plain": [
       "  0%|          | 0/1 [00:00<?, ?it/s]"
      ]
     },
     "metadata": {},
     "output_type": "display_data"
    },
    {
     "data": {
      "application/vnd.jupyter.widget-view+json": {
       "model_id": "965393a33e504e14bcdbd5aa6d11207e",
       "version_major": 2,
       "version_minor": 0
      },
      "text/plain": [
       "  0%|          | 0/1 [00:00<?, ?it/s]"
      ]
     },
     "metadata": {},
     "output_type": "display_data"
    },
    {
     "data": {
      "application/vnd.jupyter.widget-view+json": {
       "model_id": "0651bd7de8774ef6b3b02c4bb27bf36f",
       "version_major": 2,
       "version_minor": 0
      },
      "text/plain": [
       "  0%|          | 0/1 [00:00<?, ?it/s]"
      ]
     },
     "metadata": {},
     "output_type": "display_data"
    },
    {
     "data": {
      "application/vnd.jupyter.widget-view+json": {
       "model_id": "0991695139804b419fc02b3a8990ff50",
       "version_major": 2,
       "version_minor": 0
      },
      "text/plain": [
       "  0%|          | 0/9 [00:00<?, ?it/s]"
      ]
     },
     "metadata": {},
     "output_type": "display_data"
    },
    {
     "data": {
      "application/vnd.jupyter.widget-view+json": {
       "model_id": "ae3b29ef6d5d4457b8e0b09e703bd0ff",
       "version_major": 2,
       "version_minor": 0
      },
      "text/plain": [
       "  0%|          | 0/1 [00:00<?, ?it/s]"
      ]
     },
     "metadata": {},
     "output_type": "display_data"
    },
    {
     "data": {
      "application/vnd.jupyter.widget-view+json": {
       "model_id": "03ac5636623b4f63b40dd5aa84ffaa20",
       "version_major": 2,
       "version_minor": 0
      },
      "text/plain": [
       "  0%|          | 0/1 [00:00<?, ?it/s]"
      ]
     },
     "metadata": {},
     "output_type": "display_data"
    },
    {
     "data": {
      "application/vnd.jupyter.widget-view+json": {
       "model_id": "860e63f8d4254d4c910b970b26b9757d",
       "version_major": 2,
       "version_minor": 0
      },
      "text/plain": [
       "  0%|          | 0/1 [00:00<?, ?it/s]"
      ]
     },
     "metadata": {},
     "output_type": "display_data"
    },
    {
     "data": {
      "application/vnd.jupyter.widget-view+json": {
       "model_id": "07ab1ac4a4214103955f24c7b06c2d4b",
       "version_major": 2,
       "version_minor": 0
      },
      "text/plain": [
       "  0%|          | 0/9 [00:00<?, ?it/s]"
      ]
     },
     "metadata": {},
     "output_type": "display_data"
    },
    {
     "data": {
      "application/vnd.jupyter.widget-view+json": {
       "model_id": "27e36799fa3d4d69be0b50925cf6d628",
       "version_major": 2,
       "version_minor": 0
      },
      "text/plain": [
       "  0%|          | 0/1 [00:00<?, ?it/s]"
      ]
     },
     "metadata": {},
     "output_type": "display_data"
    },
    {
     "data": {
      "application/vnd.jupyter.widget-view+json": {
       "model_id": "b207bbb2e955449bb26d9c18e1c3fdc8",
       "version_major": 2,
       "version_minor": 0
      },
      "text/plain": [
       "  0%|          | 0/1 [00:00<?, ?it/s]"
      ]
     },
     "metadata": {},
     "output_type": "display_data"
    },
    {
     "data": {
      "application/vnd.jupyter.widget-view+json": {
       "model_id": "ecc35263ad7d4927a1e800110b6830ee",
       "version_major": 2,
       "version_minor": 0
      },
      "text/plain": [
       "  0%|          | 0/1 [00:00<?, ?it/s]"
      ]
     },
     "metadata": {},
     "output_type": "display_data"
    },
    {
     "data": {
      "application/vnd.jupyter.widget-view+json": {
       "model_id": "fba81fec958d4c4ca41c07b13ff322b8",
       "version_major": 2,
       "version_minor": 0
      },
      "text/plain": [
       "  0%|          | 0/9 [00:00<?, ?it/s]"
      ]
     },
     "metadata": {},
     "output_type": "display_data"
    },
    {
     "data": {
      "application/vnd.jupyter.widget-view+json": {
       "model_id": "826f29d7c2504188a5995e1313755103",
       "version_major": 2,
       "version_minor": 0
      },
      "text/plain": [
       "  0%|          | 0/1 [00:00<?, ?it/s]"
      ]
     },
     "metadata": {},
     "output_type": "display_data"
    },
    {
     "data": {
      "application/vnd.jupyter.widget-view+json": {
       "model_id": "a5567fdaad074c3184fe2d4461623db8",
       "version_major": 2,
       "version_minor": 0
      },
      "text/plain": [
       "  0%|          | 0/1 [00:00<?, ?it/s]"
      ]
     },
     "metadata": {},
     "output_type": "display_data"
    },
    {
     "data": {
      "application/vnd.jupyter.widget-view+json": {
       "model_id": "ee8f0429f12a4aecb2f6ba6be9db0818",
       "version_major": 2,
       "version_minor": 0
      },
      "text/plain": [
       "  0%|          | 0/1 [00:00<?, ?it/s]"
      ]
     },
     "metadata": {},
     "output_type": "display_data"
    },
    {
     "data": {
      "application/vnd.jupyter.widget-view+json": {
       "model_id": "f082bac069e84631891800aaaae8d4b6",
       "version_major": 2,
       "version_minor": 0
      },
      "text/plain": [
       "  0%|          | 0/9 [00:00<?, ?it/s]"
      ]
     },
     "metadata": {},
     "output_type": "display_data"
    },
    {
     "data": {
      "text/html": [
       "<div>\n",
       "<style scoped>\n",
       "    .dataframe tbody tr th:only-of-type {\n",
       "        vertical-align: middle;\n",
       "    }\n",
       "\n",
       "    .dataframe tbody tr th {\n",
       "        vertical-align: top;\n",
       "    }\n",
       "\n",
       "    .dataframe thead th {\n",
       "        text-align: right;\n",
       "    }\n",
       "</style>\n",
       "<table border=\"1\" class=\"dataframe\">\n",
       "  <thead>\n",
       "    <tr style=\"text-align: right;\">\n",
       "      <th></th>\n",
       "      <th>Metadata_Time</th>\n",
       "      <th>Metadata_dose</th>\n",
       "      <th>Metadata_reference_index</th>\n",
       "      <th>mean_average_precision</th>\n",
       "      <th>indices</th>\n",
       "      <th>p_value</th>\n",
       "      <th>corrected_p_value</th>\n",
       "      <th>below_p</th>\n",
       "      <th>below_corrected_p</th>\n",
       "      <th>-log10(p-value)</th>\n",
       "      <th>percentage_of_cells</th>\n",
       "      <th>seed</th>\n",
       "      <th>shuffle</th>\n",
       "    </tr>\n",
       "  </thead>\n",
       "  <tbody>\n",
       "    <tr>\n",
       "      <th>0</th>\n",
       "      <td>0.0</td>\n",
       "      <td>0.61</td>\n",
       "      <td>-1</td>\n",
       "      <td>0.650000</td>\n",
       "      <td>[0, 9, 18]</td>\n",
       "      <td>3.995696e-01</td>\n",
       "      <td>0.399570</td>\n",
       "      <td>False</td>\n",
       "      <td>False</td>\n",
       "      <td>0.398408</td>\n",
       "      <td>0.1</td>\n",
       "      <td>0</td>\n",
       "      <td>False</td>\n",
       "    </tr>\n",
       "    <tr>\n",
       "      <th>1</th>\n",
       "      <td>0.0</td>\n",
       "      <td>1.22</td>\n",
       "      <td>-1</td>\n",
       "      <td>0.861111</td>\n",
       "      <td>[1, 10, 19]</td>\n",
       "      <td>9.988090e-02</td>\n",
       "      <td>0.112366</td>\n",
       "      <td>False</td>\n",
       "      <td>False</td>\n",
       "      <td>0.949365</td>\n",
       "      <td>0.1</td>\n",
       "      <td>0</td>\n",
       "      <td>False</td>\n",
       "    </tr>\n",
       "    <tr>\n",
       "      <th>2</th>\n",
       "      <td>0.0</td>\n",
       "      <td>2.44</td>\n",
       "      <td>-1</td>\n",
       "      <td>1.000000</td>\n",
       "      <td>[2, 11, 20]</td>\n",
       "      <td>9.999990e-07</td>\n",
       "      <td>0.000001</td>\n",
       "      <td>True</td>\n",
       "      <td>True</td>\n",
       "      <td>5.890856</td>\n",
       "      <td>0.1</td>\n",
       "      <td>0</td>\n",
       "      <td>False</td>\n",
       "    </tr>\n",
       "    <tr>\n",
       "      <th>3</th>\n",
       "      <td>0.0</td>\n",
       "      <td>4.88</td>\n",
       "      <td>-1</td>\n",
       "      <td>1.000000</td>\n",
       "      <td>[3, 12, 21]</td>\n",
       "      <td>9.999990e-07</td>\n",
       "      <td>0.000001</td>\n",
       "      <td>True</td>\n",
       "      <td>True</td>\n",
       "      <td>5.890856</td>\n",
       "      <td>0.1</td>\n",
       "      <td>0</td>\n",
       "      <td>False</td>\n",
       "    </tr>\n",
       "    <tr>\n",
       "      <th>4</th>\n",
       "      <td>0.0</td>\n",
       "      <td>9.77</td>\n",
       "      <td>-1</td>\n",
       "      <td>1.000000</td>\n",
       "      <td>[4, 13, 22]</td>\n",
       "      <td>9.999990e-07</td>\n",
       "      <td>0.000001</td>\n",
       "      <td>True</td>\n",
       "      <td>True</td>\n",
       "      <td>5.890856</td>\n",
       "      <td>0.1</td>\n",
       "      <td>0</td>\n",
       "      <td>False</td>\n",
       "    </tr>\n",
       "  </tbody>\n",
       "</table>\n",
       "</div>"
      ],
      "text/plain": [
       "   Metadata_Time  Metadata_dose  Metadata_reference_index  \\\n",
       "0            0.0           0.61                        -1   \n",
       "1            0.0           1.22                        -1   \n",
       "2            0.0           2.44                        -1   \n",
       "3            0.0           4.88                        -1   \n",
       "4            0.0           9.77                        -1   \n",
       "\n",
       "   mean_average_precision      indices       p_value  corrected_p_value  \\\n",
       "0                0.650000   [0, 9, 18]  3.995696e-01           0.399570   \n",
       "1                0.861111  [1, 10, 19]  9.988090e-02           0.112366   \n",
       "2                1.000000  [2, 11, 20]  9.999990e-07           0.000001   \n",
       "3                1.000000  [3, 12, 21]  9.999990e-07           0.000001   \n",
       "4                1.000000  [4, 13, 22]  9.999990e-07           0.000001   \n",
       "\n",
       "   below_p  below_corrected_p  -log10(p-value)  percentage_of_cells  seed  \\\n",
       "0    False              False         0.398408                  0.1     0   \n",
       "1    False              False         0.949365                  0.1     0   \n",
       "2     True               True         5.890856                  0.1     0   \n",
       "3     True               True         5.890856                  0.1     0   \n",
       "4     True               True         5.890856                  0.1     0   \n",
       "\n",
       "   shuffle  \n",
       "0    False  \n",
       "1    False  \n",
       "2    False  \n",
       "3    False  \n",
       "4    False  "
      ]
     },
     "execution_count": 7,
     "metadata": {},
     "output_type": "execute_result"
    }
   ],
   "source": [
    "dict_of_map_dfs = run_mAP_across_time(\n",
    "    aggregate_df,\n",
    "    seed=set_seed,\n",
    "    time_column=\"Metadata_Time\",\n",
    "    reference_column_name=\"Metadata_dose\",\n",
    "    reference_group=aggregate_df[\"Metadata_dose\"].min(),\n",
    ")\n",
    "\n",
    "\n",
    "output_df = pd.concat(dict_of_map_dfs.values(), keys=dict_of_map_dfs.keys())\n",
    "output_df.reset_index(inplace=True)\n",
    "output_df.rename(columns={\"level_0\": \"Metadata_Time\"}, inplace=True)\n",
    "# add the percentage of cells to the keys\n",
    "output_df[\"percentage_of_cells\"] = percentage\n",
    "output_df[\"seed\"] = set_seed\n",
    "output_df[\"shuffle\"] = shuffle\n",
    "output_df.reset_index(drop=True, inplace=True)\n",
    "output_df.to_parquet(output_file)\n",
    "output_df.head()"
   ]
  }
 ],
 "metadata": {
  "kernelspec": {
   "display_name": "timelapse_map_env",
   "language": "python",
   "name": "python3"
  },
  "language_info": {
   "codemirror_mode": {
    "name": "ipython",
    "version": 3
   },
   "file_extension": ".py",
   "mimetype": "text/x-python",
   "name": "python",
   "nbconvert_exporter": "python",
   "pygments_lexer": "ipython3",
   "version": "3.11.11"
  }
 },
 "nbformat": 4,
 "nbformat_minor": 2
}
