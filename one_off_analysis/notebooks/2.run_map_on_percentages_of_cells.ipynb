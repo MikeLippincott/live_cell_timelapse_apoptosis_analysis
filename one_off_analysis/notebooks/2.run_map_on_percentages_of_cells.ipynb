{
    "cells": [
        {
            "cell_type": "code",
            "execution_count": 1,
            "metadata": {},
            "outputs": [],
            "source": [
                "import argparse\n",
                "import pathlib\n",
                "import random\n",
                "\n",
                "import numpy as np\n",
                "import pandas as pd\n",
                "from copairs import map\n",
                "from copairs.matching import assign_reference_index\n",
                "\n",
                "# check if in a jupyter notebook\n",
                "try:\n",
                "    cfg = get_ipython().config\n",
                "    in_notebook = True\n",
                "except NameError:\n",
                "    in_notebook = False\n",
                "import warnings\n",
                "\n",
                "import pycytominer.aggregate\n",
                "import tqdm\n",
                "\n",
                "# Suppress all RuntimeWarnings\n",
                "warnings.filterwarnings(\"ignore\", category=RuntimeWarning)\n",
                "\n",
                "#"
            ]
        },
        {
            "cell_type": "code",
            "execution_count": 2,
            "metadata": {},
            "outputs": [],
            "source": [
                "if not in_notebook:\n",
                "    # setup the argument parser\n",
                "    parser = argparse.ArgumentParser(\n",
                "        description=\"Generate a map for differing cell counts\"\n",
                "    )\n",
                "\n",
                "    parser.add_argument(\n",
                "        \"--percentage\", type=float, help=\"Percentage of wells to use for the map file\"\n",
                "    )\n",
                "    parser.add_argument(\"--seed\", type=int, help=\"Seed for the random number generator\")\n",
                "    parser.add_argument(\n",
                "        \"--shuffle\", action=\"store_true\", help=\"Shuffle the order of the wells\"\n",
                "    )\n",
                "    # parse the arguments\n",
                "    args = parser.parse_args()\n",
                "    percentage = args.percentage\n",
                "    set_seed = args.seed\n",
                "    shuffle = args.shuffle\n",
                "else:\n",
                "    percentage = 0.1\n",
                "    set_seed = 0\n",
                "    shuffle = False\n",
                "\n",
                "output_file = pathlib.Path(\n",
                "    f\"../results/mAP_cell_percentages/{percentage}_{set_seed}_{shuffle}.parquet\"\n",
                ")\n",
                "output_file.parent.mkdir(exist_ok=True, parents=True)"
            ]
        },
        {
            "cell_type": "code",
            "execution_count": 3,
            "metadata": {},
            "outputs": [],
            "source": [
                "def run_mAP_across_time(\n",
                "    df: pd.DataFrame,\n",
                "    seed: int = 0,\n",
                "):\n",
                "    \"\"\"\n",
                "    Run mAP across timepoints specifies and hardcoded columns for this data\n",
                "\n",
                "    Parameters\n",
                "    ----------\n",
                "    df : pd.DataFrame\n",
                "        An aggregated dataframe with metadata and features and temporal information\n",
                "\n",
                "    Returns\n",
                "    -------\n",
                "    dict\n",
                "        A dictionary of dataframes with the mAP results for each\n",
                "        timepoint.\n",
                "    \"\"\"\n",
                "    unique_timepoints = df.Metadata_Time.unique()\n",
                "    dict_of_map_dfs = {}\n",
                "    for timepoint in unique_timepoints:\n",
                "        single_time_df = df.loc[df.Metadata_Time == timepoint]\n",
                "        reference_col = \"Metadata_reference_index\"\n",
                "        df_activity = assign_reference_index(\n",
                "            single_time_df,\n",
                "            \"Metadata_treatment == 'DMSO CTL'\",\n",
                "            reference_col=reference_col,\n",
                "            default_value=-1,\n",
                "        )\n",
                "        pos_sameby = [\"Metadata_treatment\", reference_col]\n",
                "        pos_diffby = []\n",
                "        neg_sameby = []\n",
                "        neg_diffby = [\"Metadata_treatment\", reference_col]\n",
                "        metadata = df_activity.filter(regex=\"Metadata\")\n",
                "        profiles = df_activity.filter(regex=\"^(?!Metadata)\")\n",
                "        profiles.dropna(inplace=True)\n",
                "        metadata = metadata.loc[profiles.index]\n",
                "        profiles = profiles.values\n",
                "\n",
                "        activity_ap = map.average_precision(\n",
                "            metadata, profiles, pos_sameby, pos_diffby, neg_sameby, neg_diffby\n",
                "        )\n",
                "\n",
                "        activity_ap = activity_ap.query(\"Metadata_treatment != 'DMSO CTL'\")\n",
                "        activity_map = map.mean_average_precision(\n",
                "            activity_ap, pos_sameby, null_size=1000000, threshold=0.05, seed=seed\n",
                "        )\n",
                "        activity_map[\"-log10(p-value)\"] = -activity_map[\"corrected_p_value\"].apply(\n",
                "            np.log10\n",
                "        )\n",
                "        # flatten the multi-index columns to make it easier to work with\n",
                "        dict_of_map_dfs[timepoint] = activity_map\n",
                "    return dict_of_map_dfs"
            ]
        },
        {
            "cell_type": "code",
            "execution_count": 4,
            "metadata": {},
            "outputs": [],
            "source": [
                "sc_metadata_cols_to_drop = [\n",
                "    \"Metadata_ImageNumber\",\n",
                "    \"Metadata_Cells_Number_Object_Number\",\n",
                "    \"Metadata_Cytoplasm_Parent_Cells\",\n",
                "    \"Metadata_Cytoplasm_Parent_Nuclei\",\n",
                "    \"Metadata_ImageNumber_1\",\n",
                "    \"Metadata_ImageNumber_2\",\n",
                "    \"Metadata_ImageNumber_3\",\n",
                "    \"Metadata_Nuclei_Number_Object_Number\",\n",
                "    \"Metadata_Image_FileName_BF\",\n",
                "    \"Metadata_Image_FileName_CL488\",\n",
                "    \"Metadata_Image_FileName_CL561\",\n",
                "    \"Metadata_Image_FileName_DNA\",\n",
                "    \"Metadata_Image_FileName_GSDM\",\n",
                "    \"Metadata_Image_PathName_BF\",\n",
                "    \"Metadata_Image_PathName_CL488\",\n",
                "    \"Metadata_Image_PathName_CL561\",\n",
                "    \"Metadata_Image_PathName_DNA\",\n",
                "    \"Metadata_Image_PathName_GSDM\",\n",
                "    \"Metadata_Nuclei_Location_Center_X\",\n",
                "    \"Metadata_Nuclei_Location_Center_Y\",\n",
                "    \"Metadata_number_of_singlecells\",\n",
                "    \"Metadata_FOV\",\n",
                "]"
            ]
        },
        {
            "cell_type": "code",
            "execution_count": null,
            "metadata": {},
            "outputs": [
                {
                    "data": {
                        "text/html": [
                            "<div>\n",
                            "<style scoped>\n",
                            "    .dataframe tbody tr th:only-of-type {\n",
                            "        vertical-align: middle;\n",
                            "    }\n",
                            "\n",
                            "    .dataframe tbody tr th {\n",
                            "        vertical-align: top;\n",
                            "    }\n",
                            "\n",
                            "    .dataframe thead th {\n",
                            "        text-align: right;\n",
                            "    }\n",
                            "</style>\n",
                            "<table border=\"1\" class=\"dataframe\">\n",
                            "  <thead>\n",
                            "    <tr style=\"text-align: right;\">\n",
                            "      <th></th>\n",
                            "      <th>Metadata_treatment</th>\n",
                            "      <th>Metadata_Well</th>\n",
                            "      <th>Metadata_number_of_singlecells</th>\n",
                            "      <th>Metadata_FOV</th>\n",
                            "      <th>Metadata_treatment1</th>\n",
                            "      <th>Metadata_Time</th>\n",
                            "      <th>Metadata_treatment2</th>\n",
                            "      <th>Metadata_treatment1_dose</th>\n",
                            "      <th>Metadata_treatment1_unit</th>\n",
                            "      <th>Metadata_treatment2_dose</th>\n",
                            "      <th>...</th>\n",
                            "      <th>Nuclei_Texture_InfoMeas2_BF_3_03_256</th>\n",
                            "      <th>Nuclei_Texture_InverseDifferenceMoment_CL488_3_00_256</th>\n",
                            "      <th>Nuclei_Texture_InverseDifferenceMoment_CL561_3_01_256</th>\n",
                            "      <th>Nuclei_Texture_InverseDifferenceMoment_DNA_3_00_256</th>\n",
                            "      <th>Nuclei_Texture_InverseDifferenceMoment_GSDM_3_01_256</th>\n",
                            "      <th>Nuclei_Texture_SumAverage_BF_3_03_256</th>\n",
                            "      <th>Nuclei_Texture_SumAverage_CL488_3_01_256</th>\n",
                            "      <th>Nuclei_Texture_SumAverage_CL561_3_03_256</th>\n",
                            "      <th>Nuclei_Texture_SumAverage_GSDM_3_00_256</th>\n",
                            "      <th>Metadata_cells_per_well</th>\n",
                            "    </tr>\n",
                            "  </thead>\n",
                            "  <tbody>\n",
                            "    <tr>\n",
                            "      <th>0</th>\n",
                            "      <td>Media</td>\n",
                            "      <td>C04</td>\n",
                            "      <td>502</td>\n",
                            "      <td>0001</td>\n",
                            "      <td>Media</td>\n",
                            "      <td>00</td>\n",
                            "      <td>None</td>\n",
                            "      <td>None</td>\n",
                            "      <td>None</td>\n",
                            "      <td>None</td>\n",
                            "      <td>...</td>\n",
                            "      <td>-0.508520</td>\n",
                            "      <td>0.175213</td>\n",
                            "      <td>0.752187</td>\n",
                            "      <td>0.098034</td>\n",
                            "      <td>0.539390</td>\n",
                            "      <td>0.723292</td>\n",
                            "      <td>-0.103324</td>\n",
                            "      <td>0.235447</td>\n",
                            "      <td>-0.166432</td>\n",
                            "      <td>56443</td>\n",
                            "    </tr>\n",
                            "    <tr>\n",
                            "      <th>1</th>\n",
                            "      <td>Media</td>\n",
                            "      <td>C04</td>\n",
                            "      <td>502</td>\n",
                            "      <td>0001</td>\n",
                            "      <td>Media</td>\n",
                            "      <td>00</td>\n",
                            "      <td>None</td>\n",
                            "      <td>None</td>\n",
                            "      <td>None</td>\n",
                            "      <td>None</td>\n",
                            "      <td>...</td>\n",
                            "      <td>1.336084</td>\n",
                            "      <td>-2.123982</td>\n",
                            "      <td>-0.684702</td>\n",
                            "      <td>1.086309</td>\n",
                            "      <td>-1.168241</td>\n",
                            "      <td>1.152753</td>\n",
                            "      <td>4.695296</td>\n",
                            "      <td>2.018079</td>\n",
                            "      <td>-0.675315</td>\n",
                            "      <td>56443</td>\n",
                            "    </tr>\n",
                            "    <tr>\n",
                            "      <th>2</th>\n",
                            "      <td>Media</td>\n",
                            "      <td>C04</td>\n",
                            "      <td>474</td>\n",
                            "      <td>0002</td>\n",
                            "      <td>Media</td>\n",
                            "      <td>00</td>\n",
                            "      <td>None</td>\n",
                            "      <td>None</td>\n",
                            "      <td>None</td>\n",
                            "      <td>None</td>\n",
                            "      <td>...</td>\n",
                            "      <td>-1.051741</td>\n",
                            "      <td>0.936068</td>\n",
                            "      <td>-1.509714</td>\n",
                            "      <td>1.476585</td>\n",
                            "      <td>-1.168241</td>\n",
                            "      <td>-0.683012</td>\n",
                            "      <td>-0.383226</td>\n",
                            "      <td>-0.970753</td>\n",
                            "      <td>-0.675315</td>\n",
                            "      <td>56443</td>\n",
                            "    </tr>\n",
                            "    <tr>\n",
                            "      <th>3</th>\n",
                            "      <td>Media</td>\n",
                            "      <td>C04</td>\n",
                            "      <td>474</td>\n",
                            "      <td>0002</td>\n",
                            "      <td>Media</td>\n",
                            "      <td>00</td>\n",
                            "      <td>None</td>\n",
                            "      <td>None</td>\n",
                            "      <td>None</td>\n",
                            "      <td>None</td>\n",
                            "      <td>...</td>\n",
                            "      <td>-1.073423</td>\n",
                            "      <td>0.024511</td>\n",
                            "      <td>0.230210</td>\n",
                            "      <td>0.535240</td>\n",
                            "      <td>1.165398</td>\n",
                            "      <td>-1.397708</td>\n",
                            "      <td>-0.136373</td>\n",
                            "      <td>0.251703</td>\n",
                            "      <td>-0.235567</td>\n",
                            "      <td>56443</td>\n",
                            "    </tr>\n",
                            "    <tr>\n",
                            "      <th>4</th>\n",
                            "      <td>Media</td>\n",
                            "      <td>C04</td>\n",
                            "      <td>525</td>\n",
                            "      <td>0005</td>\n",
                            "      <td>Media</td>\n",
                            "      <td>00</td>\n",
                            "      <td>None</td>\n",
                            "      <td>None</td>\n",
                            "      <td>None</td>\n",
                            "      <td>None</td>\n",
                            "      <td>...</td>\n",
                            "      <td>1.489020</td>\n",
                            "      <td>-0.805110</td>\n",
                            "      <td>0.810185</td>\n",
                            "      <td>-0.158104</td>\n",
                            "      <td>1.165398</td>\n",
                            "      <td>1.827503</td>\n",
                            "      <td>0.222441</td>\n",
                            "      <td>0.186214</td>\n",
                            "      <td>-0.235567</td>\n",
                            "      <td>56443</td>\n",
                            "    </tr>\n",
                            "  </tbody>\n",
                            "</table>\n",
                            "<p>5 rows \u00d7 710 columns</p>\n",
                            "</div>"
                        ],
                        "text/plain": [
                            "  Metadata_treatment Metadata_Well  Metadata_number_of_singlecells  \\\n",
                            "0              Media           C04                             502   \n",
                            "1              Media           C04                             502   \n",
                            "2              Media           C04                             474   \n",
                            "3              Media           C04                             474   \n",
                            "4              Media           C04                             525   \n",
                            "\n",
                            "  Metadata_FOV Metadata_treatment1 Metadata_Time Metadata_treatment2  \\\n",
                            "0         0001               Media            00                None   \n",
                            "1         0001               Media            00                None   \n",
                            "2         0002               Media            00                None   \n",
                            "3         0002               Media            00                None   \n",
                            "4         0005               Media            00                None   \n",
                            "\n",
                            "  Metadata_treatment1_dose Metadata_treatment1_unit Metadata_treatment2_dose  \\\n",
                            "0                     None                     None                     None   \n",
                            "1                     None                     None                     None   \n",
                            "2                     None                     None                     None   \n",
                            "3                     None                     None                     None   \n",
                            "4                     None                     None                     None   \n",
                            "\n",
                            "   ... Nuclei_Texture_InfoMeas2_BF_3_03_256  \\\n",
                            "0  ...                            -0.508520   \n",
                            "1  ...                             1.336084   \n",
                            "2  ...                            -1.051741   \n",
                            "3  ...                            -1.073423   \n",
                            "4  ...                             1.489020   \n",
                            "\n",
                            "  Nuclei_Texture_InverseDifferenceMoment_CL488_3_00_256  \\\n",
                            "0                                           0.175213      \n",
                            "1                                          -2.123982      \n",
                            "2                                           0.936068      \n",
                            "3                                           0.024511      \n",
                            "4                                          -0.805110      \n",
                            "\n",
                            "   Nuclei_Texture_InverseDifferenceMoment_CL561_3_01_256  \\\n",
                            "0                                           0.752187       \n",
                            "1                                          -0.684702       \n",
                            "2                                          -1.509714       \n",
                            "3                                           0.230210       \n",
                            "4                                           0.810185       \n",
                            "\n",
                            "   Nuclei_Texture_InverseDifferenceMoment_DNA_3_00_256  \\\n",
                            "0                                           0.098034     \n",
                            "1                                           1.086309     \n",
                            "2                                           1.476585     \n",
                            "3                                           0.535240     \n",
                            "4                                          -0.158104     \n",
                            "\n",
                            "   Nuclei_Texture_InverseDifferenceMoment_GSDM_3_01_256  \\\n",
                            "0                                           0.539390      \n",
                            "1                                          -1.168241      \n",
                            "2                                          -1.168241      \n",
                            "3                                           1.165398      \n",
                            "4                                           1.165398      \n",
                            "\n",
                            "   Nuclei_Texture_SumAverage_BF_3_03_256  \\\n",
                            "0                               0.723292   \n",
                            "1                               1.152753   \n",
                            "2                              -0.683012   \n",
                            "3                              -1.397708   \n",
                            "4                               1.827503   \n",
                            "\n",
                            "   Nuclei_Texture_SumAverage_CL488_3_01_256  \\\n",
                            "0                                 -0.103324   \n",
                            "1                                  4.695296   \n",
                            "2                                 -0.383226   \n",
                            "3                                 -0.136373   \n",
                            "4                                  0.222441   \n",
                            "\n",
                            "   Nuclei_Texture_SumAverage_CL561_3_03_256  \\\n",
                            "0                                  0.235447   \n",
                            "1                                  2.018079   \n",
                            "2                                 -0.970753   \n",
                            "3                                  0.251703   \n",
                            "4                                  0.186214   \n",
                            "\n",
                            "   Nuclei_Texture_SumAverage_GSDM_3_00_256  Metadata_cells_per_well  \n",
                            "0                                -0.166432                    56443  \n",
                            "1                                -0.675315                    56443  \n",
                            "2                                -0.675315                    56443  \n",
                            "3                                -0.235567                    56443  \n",
                            "4                                -0.235567                    56443  \n",
                            "\n",
                            "[5 rows x 710 columns]"
                        ]
                    },
                    "execution_count": 5,
                    "metadata": {},
                    "output_type": "execute_result"
                }
            ],
            "source": [
                "data_file_path = pathlib.Path(\n",
                "    \"../../4.processing_profiled_features/data/preprocessed_data/live_cell_pyroptosis_wave1_sc_first_time_norm_fs.parquet\"\n",
                ").resolve(strict=True)\n",
                "df = pd.read_parquet(data_file_path)\n",
                "df.reset_index(drop=True, inplace=True)\n",
                "df = df[~df.Metadata_serum.str.contains(\"NuSerum\")]\n",
                "\n",
                "df.head()"
            ]
        },
        {
            "cell_type": "code",
            "execution_count": 6,
            "metadata": {},
            "outputs": [
                {
                    "name": "stderr",
                    "output_type": "stream",
                    "text": [
                        "/tmp/ipykernel_445590/2575350600.py:2: DeprecationWarning: DataFrameGroupBy.apply operated on the grouping columns. This behavior is deprecated, and in a future version of pandas the grouping columns will be excluded from the operation. Either pass `include_groups=False` to exclude the groupings or explicitly select the grouping columns after groupby to silence this warning.\n",
                        "  subset_df = df.groupby([\"Metadata_Time\", \"Metadata_treatment\"]).apply(\n"
                    ]
                },
                {
                    "data": {
                        "application/vnd.jupyter.widget-view+json": {
                            "model_id": "c886cbc87d134d07ba9d55081778b991",
                            "version_major": 2,
                            "version_minor": 0
                        },
                        "text/plain": [
                            "  0%|          | 0/1 [00:00<?, ?it/s]"
                        ]
                    },
                    "metadata": {},
                    "output_type": "display_data"
                },
                {
                    "data": {
                        "application/vnd.jupyter.widget-view+json": {
                            "model_id": "0149692cb4044cdda46f1b722fa3b309",
                            "version_major": 2,
                            "version_minor": 0
                        },
                        "text/plain": [
                            "  0%|          | 0/1 [00:00<?, ?it/s]"
                        ]
                    },
                    "metadata": {},
                    "output_type": "display_data"
                },
                {
                    "data": {
                        "application/vnd.jupyter.widget-view+json": {
                            "model_id": "49253b51f88b4434801d9a8f1e5ce40f",
                            "version_major": 2,
                            "version_minor": 0
                        },
                        "text/plain": [
                            "  0%|          | 0/1 [00:00<?, ?it/s]"
                        ]
                    },
                    "metadata": {},
                    "output_type": "display_data"
                },
                {
                    "data": {
                        "application/vnd.jupyter.widget-view+json": {
                            "model_id": "4d32452d58e7489dade474dab7320815",
                            "version_major": 2,
                            "version_minor": 0
                        },
                        "text/plain": [
                            "  0%|          | 0/22 [00:00<?, ?it/s]"
                        ]
                    },
                    "metadata": {},
                    "output_type": "display_data"
                },
                {
                    "data": {
                        "application/vnd.jupyter.widget-view+json": {
                            "model_id": "cb7e7eac3e3a41d9b5868c287fdc2703",
                            "version_major": 2,
                            "version_minor": 0
                        },
                        "text/plain": [
                            "  0%|          | 0/1 [00:00<?, ?it/s]"
                        ]
                    },
                    "metadata": {},
                    "output_type": "display_data"
                },
                {
                    "data": {
                        "application/vnd.jupyter.widget-view+json": {
                            "model_id": "5c9886e80acc4542be24dae061312d59",
                            "version_major": 2,
                            "version_minor": 0
                        },
                        "text/plain": [
                            "  0%|          | 0/1 [00:00<?, ?it/s]"
                        ]
                    },
                    "metadata": {},
                    "output_type": "display_data"
                },
                {
                    "data": {
                        "application/vnd.jupyter.widget-view+json": {
                            "model_id": "fbdebcdf02db4186b4f4c6bd59d805d8",
                            "version_major": 2,
                            "version_minor": 0
                        },
                        "text/plain": [
                            "  0%|          | 0/2 [00:00<?, ?it/s]"
                        ]
                    },
                    "metadata": {},
                    "output_type": "display_data"
                },
                {
                    "data": {
                        "application/vnd.jupyter.widget-view+json": {
                            "model_id": "02f1bf9cfcea45a6a385ebb0c7dc15b2",
                            "version_major": 2,
                            "version_minor": 0
                        },
                        "text/plain": [
                            "  0%|          | 0/22 [00:00<?, ?it/s]"
                        ]
                    },
                    "metadata": {},
                    "output_type": "display_data"
                },
                {
                    "data": {
                        "application/vnd.jupyter.widget-view+json": {
                            "model_id": "c0d2295e7731495690d0096b487c0f2a",
                            "version_major": 2,
                            "version_minor": 0
                        },
                        "text/plain": [
                            "  0%|          | 0/1 [00:00<?, ?it/s]"
                        ]
                    },
                    "metadata": {},
                    "output_type": "display_data"
                },
                {
                    "data": {
                        "application/vnd.jupyter.widget-view+json": {
                            "model_id": "8b0e10b23b264a2da0df68eba291c76e",
                            "version_major": 2,
                            "version_minor": 0
                        },
                        "text/plain": [
                            "  0%|          | 0/1 [00:00<?, ?it/s]"
                        ]
                    },
                    "metadata": {},
                    "output_type": "display_data"
                },
                {
                    "data": {
                        "application/vnd.jupyter.widget-view+json": {
                            "model_id": "c601c3125509436186ce17201e225480",
                            "version_major": 2,
                            "version_minor": 0
                        },
                        "text/plain": [
                            "  0%|          | 0/1 [00:00<?, ?it/s]"
                        ]
                    },
                    "metadata": {},
                    "output_type": "display_data"
                },
                {
                    "data": {
                        "application/vnd.jupyter.widget-view+json": {
                            "model_id": "266e5731e82f4f9687a1e295bb03f92b",
                            "version_major": 2,
                            "version_minor": 0
                        },
                        "text/plain": [
                            "  0%|          | 0/22 [00:00<?, ?it/s]"
                        ]
                    },
                    "metadata": {},
                    "output_type": "display_data"
                },
                {
                    "data": {
                        "application/vnd.jupyter.widget-view+json": {
                            "model_id": "3fd08a2acc7446c19b55b623562b913d",
                            "version_major": 2,
                            "version_minor": 0
                        },
                        "text/plain": [
                            "  0%|          | 0/1 [00:00<?, ?it/s]"
                        ]
                    },
                    "metadata": {},
                    "output_type": "display_data"
                },
                {
                    "data": {
                        "application/vnd.jupyter.widget-view+json": {
                            "model_id": "9cb5a470f6e0410c9aaf1601ebccf6c1",
                            "version_major": 2,
                            "version_minor": 0
                        },
                        "text/plain": [
                            "  0%|          | 0/1 [00:00<?, ?it/s]"
                        ]
                    },
                    "metadata": {},
                    "output_type": "display_data"
                },
                {
                    "data": {
                        "application/vnd.jupyter.widget-view+json": {
                            "model_id": "3e36d479c08242858d5bb1c407eb27dd",
                            "version_major": 2,
                            "version_minor": 0
                        },
                        "text/plain": [
                            "  0%|          | 0/1 [00:00<?, ?it/s]"
                        ]
                    },
                    "metadata": {},
                    "output_type": "display_data"
                },
                {
                    "data": {
                        "application/vnd.jupyter.widget-view+json": {
                            "model_id": "ca30a1a5d6fa46339b34cd00c06ff365",
                            "version_major": 2,
                            "version_minor": 0
                        },
                        "text/plain": [
                            "  0%|          | 0/22 [00:00<?, ?it/s]"
                        ]
                    },
                    "metadata": {},
                    "output_type": "display_data"
                },
                {
                    "data": {
                        "application/vnd.jupyter.widget-view+json": {
                            "model_id": "390b91fb9fcf482186ee798ed4e75bd8",
                            "version_major": 2,
                            "version_minor": 0
                        },
                        "text/plain": [
                            "  0%|          | 0/1 [00:00<?, ?it/s]"
                        ]
                    },
                    "metadata": {},
                    "output_type": "display_data"
                },
                {
                    "data": {
                        "application/vnd.jupyter.widget-view+json": {
                            "model_id": "5569dab08a324c0581414616b3356b7b",
                            "version_major": 2,
                            "version_minor": 0
                        },
                        "text/plain": [
                            "  0%|          | 0/1 [00:00<?, ?it/s]"
                        ]
                    },
                    "metadata": {},
                    "output_type": "display_data"
                },
                {
                    "data": {
                        "application/vnd.jupyter.widget-view+json": {
                            "model_id": "e855ddcdd7884f708fb0bebb531a142d",
                            "version_major": 2,
                            "version_minor": 0
                        },
                        "text/plain": [
                            "  0%|          | 0/2 [00:00<?, ?it/s]"
                        ]
                    },
                    "metadata": {},
                    "output_type": "display_data"
                },
                {
                    "data": {
                        "application/vnd.jupyter.widget-view+json": {
                            "model_id": "fac02ed4b16a4e3fa6eade0e877db1e9",
                            "version_major": 2,
                            "version_minor": 0
                        },
                        "text/plain": [
                            "  0%|          | 0/22 [00:00<?, ?it/s]"
                        ]
                    },
                    "metadata": {},
                    "output_type": "display_data"
                },
                {
                    "data": {
                        "application/vnd.jupyter.widget-view+json": {
                            "model_id": "6e6d5b8881104b3d8000a9f4896f5819",
                            "version_major": 2,
                            "version_minor": 0
                        },
                        "text/plain": [
                            "  0%|          | 0/1 [00:00<?, ?it/s]"
                        ]
                    },
                    "metadata": {},
                    "output_type": "display_data"
                },
                {
                    "data": {
                        "application/vnd.jupyter.widget-view+json": {
                            "model_id": "d44ee0b113f748f8a69010c62fa12564",
                            "version_major": 2,
                            "version_minor": 0
                        },
                        "text/plain": [
                            "  0%|          | 0/1 [00:00<?, ?it/s]"
                        ]
                    },
                    "metadata": {},
                    "output_type": "display_data"
                },
                {
                    "data": {
                        "application/vnd.jupyter.widget-view+json": {
                            "model_id": "37930ca9178840a9971249076ff72421",
                            "version_major": 2,
                            "version_minor": 0
                        },
                        "text/plain": [
                            "  0%|          | 0/1 [00:00<?, ?it/s]"
                        ]
                    },
                    "metadata": {},
                    "output_type": "display_data"
                },
                {
                    "data": {
                        "application/vnd.jupyter.widget-view+json": {
                            "model_id": "aaf262724d234200b912d7a0511f5b98",
                            "version_major": 2,
                            "version_minor": 0
                        },
                        "text/plain": [
                            "  0%|          | 0/21 [00:00<?, ?it/s]"
                        ]
                    },
                    "metadata": {},
                    "output_type": "display_data"
                },
                {
                    "data": {
                        "application/vnd.jupyter.widget-view+json": {
                            "model_id": "5f75c8f3a3bb4210bda1220559547c6c",
                            "version_major": 2,
                            "version_minor": 0
                        },
                        "text/plain": [
                            "  0%|          | 0/1 [00:00<?, ?it/s]"
                        ]
                    },
                    "metadata": {},
                    "output_type": "display_data"
                },
                {
                    "data": {
                        "application/vnd.jupyter.widget-view+json": {
                            "model_id": "d4f775af88254d4aae11d6b6fedf931b",
                            "version_major": 2,
                            "version_minor": 0
                        },
                        "text/plain": [
                            "  0%|          | 0/1 [00:00<?, ?it/s]"
                        ]
                    },
                    "metadata": {},
                    "output_type": "display_data"
                },
                {
                    "data": {
                        "application/vnd.jupyter.widget-view+json": {
                            "model_id": "d8f4a89c89084efbb277f0677842c5ba",
                            "version_major": 2,
                            "version_minor": 0
                        },
                        "text/plain": [
                            "  0%|          | 0/1 [00:00<?, ?it/s]"
                        ]
                    },
                    "metadata": {},
                    "output_type": "display_data"
                },
                {
                    "data": {
                        "application/vnd.jupyter.widget-view+json": {
                            "model_id": "f3293a2cffe64e16a9e24c7b92f735cb",
                            "version_major": 2,
                            "version_minor": 0
                        },
                        "text/plain": [
                            "  0%|          | 0/22 [00:00<?, ?it/s]"
                        ]
                    },
                    "metadata": {},
                    "output_type": "display_data"
                },
                {
                    "data": {
                        "application/vnd.jupyter.widget-view+json": {
                            "model_id": "384ab4744bf94bf48ab332cbb214f2ae",
                            "version_major": 2,
                            "version_minor": 0
                        },
                        "text/plain": [
                            "  0%|          | 0/1 [00:00<?, ?it/s]"
                        ]
                    },
                    "metadata": {},
                    "output_type": "display_data"
                },
                {
                    "data": {
                        "application/vnd.jupyter.widget-view+json": {
                            "model_id": "4f3e4e220ecc4c299662cbcac06d1a2b",
                            "version_major": 2,
                            "version_minor": 0
                        },
                        "text/plain": [
                            "  0%|          | 0/1 [00:00<?, ?it/s]"
                        ]
                    },
                    "metadata": {},
                    "output_type": "display_data"
                },
                {
                    "data": {
                        "application/vnd.jupyter.widget-view+json": {
                            "model_id": "bf023ac043e94fb0ac32eb340f4d0a62",
                            "version_major": 2,
                            "version_minor": 0
                        },
                        "text/plain": [
                            "  0%|          | 0/1 [00:00<?, ?it/s]"
                        ]
                    },
                    "metadata": {},
                    "output_type": "display_data"
                },
                {
                    "data": {
                        "application/vnd.jupyter.widget-view+json": {
                            "model_id": "f080940d83b342b998f7dbe816fbe413",
                            "version_major": 2,
                            "version_minor": 0
                        },
                        "text/plain": [
                            "  0%|          | 0/21 [00:00<?, ?it/s]"
                        ]
                    },
                    "metadata": {},
                    "output_type": "display_data"
                },
                {
                    "data": {
                        "application/vnd.jupyter.widget-view+json": {
                            "model_id": "0c821620ae714239aed1e998774c97a2",
                            "version_major": 2,
                            "version_minor": 0
                        },
                        "text/plain": [
                            "  0%|          | 0/1 [00:00<?, ?it/s]"
                        ]
                    },
                    "metadata": {},
                    "output_type": "display_data"
                },
                {
                    "data": {
                        "application/vnd.jupyter.widget-view+json": {
                            "model_id": "facf58160a7c410b934968e8796f22ff",
                            "version_major": 2,
                            "version_minor": 0
                        },
                        "text/plain": [
                            "  0%|          | 0/1 [00:00<?, ?it/s]"
                        ]
                    },
                    "metadata": {},
                    "output_type": "display_data"
                },
                {
                    "data": {
                        "application/vnd.jupyter.widget-view+json": {
                            "model_id": "320fed41996b4944929e854af6d26984",
                            "version_major": 2,
                            "version_minor": 0
                        },
                        "text/plain": [
                            "  0%|          | 0/2 [00:00<?, ?it/s]"
                        ]
                    },
                    "metadata": {},
                    "output_type": "display_data"
                },
                {
                    "data": {
                        "application/vnd.jupyter.widget-view+json": {
                            "model_id": "de5ad70b7ca74acf9a8ad5afb61bb523",
                            "version_major": 2,
                            "version_minor": 0
                        },
                        "text/plain": [
                            "  0%|          | 0/22 [00:00<?, ?it/s]"
                        ]
                    },
                    "metadata": {},
                    "output_type": "display_data"
                },
                {
                    "data": {
                        "application/vnd.jupyter.widget-view+json": {
                            "model_id": "8813cd503af0471cb27579b2ba280ed8",
                            "version_major": 2,
                            "version_minor": 0
                        },
                        "text/plain": [
                            "  0%|          | 0/1 [00:00<?, ?it/s]"
                        ]
                    },
                    "metadata": {},
                    "output_type": "display_data"
                },
                {
                    "data": {
                        "application/vnd.jupyter.widget-view+json": {
                            "model_id": "cac6e705cfd54510b2f01213b42dcabc",
                            "version_major": 2,
                            "version_minor": 0
                        },
                        "text/plain": [
                            "  0%|          | 0/1 [00:00<?, ?it/s]"
                        ]
                    },
                    "metadata": {},
                    "output_type": "display_data"
                },
                {
                    "data": {
                        "application/vnd.jupyter.widget-view+json": {
                            "model_id": "f409fbbec9b047269586209157e6776d",
                            "version_major": 2,
                            "version_minor": 0
                        },
                        "text/plain": [
                            "  0%|          | 0/2 [00:00<?, ?it/s]"
                        ]
                    },
                    "metadata": {},
                    "output_type": "display_data"
                },
                {
                    "data": {
                        "application/vnd.jupyter.widget-view+json": {
                            "model_id": "6b2e532888a5488ba7e6509c66eb7ff5",
                            "version_major": 2,
                            "version_minor": 0
                        },
                        "text/plain": [
                            "  0%|          | 0/22 [00:00<?, ?it/s]"
                        ]
                    },
                    "metadata": {},
                    "output_type": "display_data"
                },
                {
                    "data": {
                        "application/vnd.jupyter.widget-view+json": {
                            "model_id": "37d0a87c322d4137a26c08249da4da72",
                            "version_major": 2,
                            "version_minor": 0
                        },
                        "text/plain": [
                            "  0%|          | 0/1 [00:00<?, ?it/s]"
                        ]
                    },
                    "metadata": {},
                    "output_type": "display_data"
                },
                {
                    "data": {
                        "application/vnd.jupyter.widget-view+json": {
                            "model_id": "18a1809938e34ab1ae71861761742d05",
                            "version_major": 2,
                            "version_minor": 0
                        },
                        "text/plain": [
                            "  0%|          | 0/1 [00:00<?, ?it/s]"
                        ]
                    },
                    "metadata": {},
                    "output_type": "display_data"
                },
                {
                    "data": {
                        "application/vnd.jupyter.widget-view+json": {
                            "model_id": "0646e60e8dd242a092247883f65db0ba",
                            "version_major": 2,
                            "version_minor": 0
                        },
                        "text/plain": [
                            "  0%|          | 0/2 [00:00<?, ?it/s]"
                        ]
                    },
                    "metadata": {},
                    "output_type": "display_data"
                },
                {
                    "data": {
                        "application/vnd.jupyter.widget-view+json": {
                            "model_id": "4445b3de84274dfc8c3d72bea78a8fb6",
                            "version_major": 2,
                            "version_minor": 0
                        },
                        "text/plain": [
                            "  0%|          | 0/22 [00:00<?, ?it/s]"
                        ]
                    },
                    "metadata": {},
                    "output_type": "display_data"
                },
                {
                    "data": {
                        "application/vnd.jupyter.widget-view+json": {
                            "model_id": "ab5025755f05453d93db5e52150f7926",
                            "version_major": 2,
                            "version_minor": 0
                        },
                        "text/plain": [
                            "  0%|          | 0/1 [00:00<?, ?it/s]"
                        ]
                    },
                    "metadata": {},
                    "output_type": "display_data"
                },
                {
                    "data": {
                        "application/vnd.jupyter.widget-view+json": {
                            "model_id": "f04658cfe4ab486b8978a0cfc7d42432",
                            "version_major": 2,
                            "version_minor": 0
                        },
                        "text/plain": [
                            "  0%|          | 0/1 [00:00<?, ?it/s]"
                        ]
                    },
                    "metadata": {},
                    "output_type": "display_data"
                },
                {
                    "data": {
                        "application/vnd.jupyter.widget-view+json": {
                            "model_id": "682f2e7cd04643e384e6240ee63eacab",
                            "version_major": 2,
                            "version_minor": 0
                        },
                        "text/plain": [
                            "  0%|          | 0/2 [00:00<?, ?it/s]"
                        ]
                    },
                    "metadata": {},
                    "output_type": "display_data"
                },
                {
                    "data": {
                        "application/vnd.jupyter.widget-view+json": {
                            "model_id": "b97c438dae454284a11c1acdd4c514dd",
                            "version_major": 2,
                            "version_minor": 0
                        },
                        "text/plain": [
                            "  0%|          | 0/21 [00:00<?, ?it/s]"
                        ]
                    },
                    "metadata": {},
                    "output_type": "display_data"
                },
                {
                    "data": {
                        "application/vnd.jupyter.widget-view+json": {
                            "model_id": "5ec6eda646f440ca8d872dc2ccb30954",
                            "version_major": 2,
                            "version_minor": 0
                        },
                        "text/plain": [
                            "  0%|          | 0/1 [00:00<?, ?it/s]"
                        ]
                    },
                    "metadata": {},
                    "output_type": "display_data"
                },
                {
                    "data": {
                        "application/vnd.jupyter.widget-view+json": {
                            "model_id": "a3fcc6926d024d158a201d7d1d94809c",
                            "version_major": 2,
                            "version_minor": 0
                        },
                        "text/plain": [
                            "  0%|          | 0/1 [00:00<?, ?it/s]"
                        ]
                    },
                    "metadata": {},
                    "output_type": "display_data"
                },
                {
                    "data": {
                        "application/vnd.jupyter.widget-view+json": {
                            "model_id": "4d60f8bd038a46feaeaf17aa0de60151",
                            "version_major": 2,
                            "version_minor": 0
                        },
                        "text/plain": [
                            "  0%|          | 0/2 [00:00<?, ?it/s]"
                        ]
                    },
                    "metadata": {},
                    "output_type": "display_data"
                },
                {
                    "data": {
                        "application/vnd.jupyter.widget-view+json": {
                            "model_id": "ed11d9a75a4c40778c19765213acd5d0",
                            "version_major": 2,
                            "version_minor": 0
                        },
                        "text/plain": [
                            "  0%|          | 0/22 [00:00<?, ?it/s]"
                        ]
                    },
                    "metadata": {},
                    "output_type": "display_data"
                },
                {
                    "data": {
                        "application/vnd.jupyter.widget-view+json": {
                            "model_id": "4e4071e75e134665ad0cd4cb35121cd2",
                            "version_major": 2,
                            "version_minor": 0
                        },
                        "text/plain": [
                            "  0%|          | 0/1 [00:00<?, ?it/s]"
                        ]
                    },
                    "metadata": {},
                    "output_type": "display_data"
                },
                {
                    "data": {
                        "application/vnd.jupyter.widget-view+json": {
                            "model_id": "9496338a214d4e768f42e44680894f4b",
                            "version_major": 2,
                            "version_minor": 0
                        },
                        "text/plain": [
                            "  0%|          | 0/1 [00:00<?, ?it/s]"
                        ]
                    },
                    "metadata": {},
                    "output_type": "display_data"
                },
                {
                    "data": {
                        "application/vnd.jupyter.widget-view+json": {
                            "model_id": "4c2119b8e1a946f58f4e60005b0cef9a",
                            "version_major": 2,
                            "version_minor": 0
                        },
                        "text/plain": [
                            "  0%|          | 0/2 [00:00<?, ?it/s]"
                        ]
                    },
                    "metadata": {},
                    "output_type": "display_data"
                },
                {
                    "data": {
                        "application/vnd.jupyter.widget-view+json": {
                            "model_id": "1d24b40fadb842689683e5d038bb8f4d",
                            "version_major": 2,
                            "version_minor": 0
                        },
                        "text/plain": [
                            "  0%|          | 0/22 [00:00<?, ?it/s]"
                        ]
                    },
                    "metadata": {},
                    "output_type": "display_data"
                },
                {
                    "data": {
                        "application/vnd.jupyter.widget-view+json": {
                            "model_id": "bb0b56ee91f940dca660871c2f68994e",
                            "version_major": 2,
                            "version_minor": 0
                        },
                        "text/plain": [
                            "  0%|          | 0/1 [00:00<?, ?it/s]"
                        ]
                    },
                    "metadata": {},
                    "output_type": "display_data"
                },
                {
                    "data": {
                        "application/vnd.jupyter.widget-view+json": {
                            "model_id": "fb3dbb9916cc444a8807847dec8ec781",
                            "version_major": 2,
                            "version_minor": 0
                        },
                        "text/plain": [
                            "  0%|          | 0/1 [00:00<?, ?it/s]"
                        ]
                    },
                    "metadata": {},
                    "output_type": "display_data"
                },
                {
                    "data": {
                        "application/vnd.jupyter.widget-view+json": {
                            "model_id": "07930ed0326e42c7b29817d53412972f",
                            "version_major": 2,
                            "version_minor": 0
                        },
                        "text/plain": [
                            "  0%|          | 0/2 [00:00<?, ?it/s]"
                        ]
                    },
                    "metadata": {},
                    "output_type": "display_data"
                },
                {
                    "data": {
                        "application/vnd.jupyter.widget-view+json": {
                            "model_id": "03a27a72a70d483294ef8a7bceef011e",
                            "version_major": 2,
                            "version_minor": 0
                        },
                        "text/plain": [
                            "  0%|          | 0/22 [00:00<?, ?it/s]"
                        ]
                    },
                    "metadata": {},
                    "output_type": "display_data"
                },
                {
                    "data": {
                        "application/vnd.jupyter.widget-view+json": {
                            "model_id": "47ce8f2702724117b5535e508877d837",
                            "version_major": 2,
                            "version_minor": 0
                        },
                        "text/plain": [
                            "  0%|          | 0/1 [00:00<?, ?it/s]"
                        ]
                    },
                    "metadata": {},
                    "output_type": "display_data"
                },
                {
                    "data": {
                        "application/vnd.jupyter.widget-view+json": {
                            "model_id": "70aded56e8354e1b8e06ecd7912d23fd",
                            "version_major": 2,
                            "version_minor": 0
                        },
                        "text/plain": [
                            "  0%|          | 0/1 [00:00<?, ?it/s]"
                        ]
                    },
                    "metadata": {},
                    "output_type": "display_data"
                },
                {
                    "data": {
                        "application/vnd.jupyter.widget-view+json": {
                            "model_id": "c08e6e6418554a3f8e226621578fe238",
                            "version_major": 2,
                            "version_minor": 0
                        },
                        "text/plain": [
                            "  0%|          | 0/2 [00:00<?, ?it/s]"
                        ]
                    },
                    "metadata": {},
                    "output_type": "display_data"
                },
                {
                    "data": {
                        "application/vnd.jupyter.widget-view+json": {
                            "model_id": "586e8374b5e246c5ad0b833da2c76c68",
                            "version_major": 2,
                            "version_minor": 0
                        },
                        "text/plain": [
                            "  0%|          | 0/22 [00:00<?, ?it/s]"
                        ]
                    },
                    "metadata": {},
                    "output_type": "display_data"
                },
                {
                    "data": {
                        "application/vnd.jupyter.widget-view+json": {
                            "model_id": "3fa3f12583fb4b64b63be9806425d114",
                            "version_major": 2,
                            "version_minor": 0
                        },
                        "text/plain": [
                            "  0%|          | 0/1 [00:00<?, ?it/s]"
                        ]
                    },
                    "metadata": {},
                    "output_type": "display_data"
                },
                {
                    "data": {
                        "application/vnd.jupyter.widget-view+json": {
                            "model_id": "48461063bd9545dda57942cfad37eb2d",
                            "version_major": 2,
                            "version_minor": 0
                        },
                        "text/plain": [
                            "  0%|          | 0/1 [00:00<?, ?it/s]"
                        ]
                    },
                    "metadata": {},
                    "output_type": "display_data"
                },
                {
                    "data": {
                        "application/vnd.jupyter.widget-view+json": {
                            "model_id": "43bfc2fb7ff243efa90f1682e2835eca",
                            "version_major": 2,
                            "version_minor": 0
                        },
                        "text/plain": [
                            "  0%|          | 0/2 [00:00<?, ?it/s]"
                        ]
                    },
                    "metadata": {},
                    "output_type": "display_data"
                },
                {
                    "data": {
                        "application/vnd.jupyter.widget-view+json": {
                            "model_id": "99411f78da874c918cdc98036ace897d",
                            "version_major": 2,
                            "version_minor": 0
                        },
                        "text/plain": [
                            "  0%|          | 0/22 [00:00<?, ?it/s]"
                        ]
                    },
                    "metadata": {},
                    "output_type": "display_data"
                },
                {
                    "data": {
                        "application/vnd.jupyter.widget-view+json": {
                            "model_id": "a1e4f66d238947058b6528565cfe1a6b",
                            "version_major": 2,
                            "version_minor": 0
                        },
                        "text/plain": [
                            "  0%|          | 0/1 [00:00<?, ?it/s]"
                        ]
                    },
                    "metadata": {},
                    "output_type": "display_data"
                },
                {
                    "data": {
                        "application/vnd.jupyter.widget-view+json": {
                            "model_id": "d12ff838492b4a25af6254bf6e89e9f9",
                            "version_major": 2,
                            "version_minor": 0
                        },
                        "text/plain": [
                            "  0%|          | 0/1 [00:00<?, ?it/s]"
                        ]
                    },
                    "metadata": {},
                    "output_type": "display_data"
                },
                {
                    "data": {
                        "application/vnd.jupyter.widget-view+json": {
                            "model_id": "ad86cb8d0d044a70a8e96dcdb623bf84",
                            "version_major": 2,
                            "version_minor": 0
                        },
                        "text/plain": [
                            "  0%|          | 0/2 [00:00<?, ?it/s]"
                        ]
                    },
                    "metadata": {},
                    "output_type": "display_data"
                },
                {
                    "data": {
                        "application/vnd.jupyter.widget-view+json": {
                            "model_id": "9ae08fe720ba4e8dac9d918f9024e644",
                            "version_major": 2,
                            "version_minor": 0
                        },
                        "text/plain": [
                            "  0%|          | 0/22 [00:00<?, ?it/s]"
                        ]
                    },
                    "metadata": {},
                    "output_type": "display_data"
                },
                {
                    "data": {
                        "text/html": [
                            "<div>\n",
                            "<style scoped>\n",
                            "    .dataframe tbody tr th:only-of-type {\n",
                            "        vertical-align: middle;\n",
                            "    }\n",
                            "\n",
                            "    .dataframe tbody tr th {\n",
                            "        vertical-align: top;\n",
                            "    }\n",
                            "\n",
                            "    .dataframe thead th {\n",
                            "        text-align: right;\n",
                            "    }\n",
                            "</style>\n",
                            "<table border=\"1\" class=\"dataframe\">\n",
                            "  <thead>\n",
                            "    <tr style=\"text-align: right;\">\n",
                            "      <th></th>\n",
                            "      <th>Metadata_Time</th>\n",
                            "      <th>Metadata_treatment</th>\n",
                            "      <th>Metadata_reference_index</th>\n",
                            "      <th>mean_average_precision</th>\n",
                            "      <th>indices</th>\n",
                            "      <th>p_value</th>\n",
                            "      <th>corrected_p_value</th>\n",
                            "      <th>below_p</th>\n",
                            "      <th>below_corrected_p</th>\n",
                            "      <th>-log10(p-value)</th>\n",
                            "      <th>percentage_of_cells</th>\n",
                            "      <th>seed</th>\n",
                            "      <th>shuffle</th>\n",
                            "    </tr>\n",
                            "  </thead>\n",
                            "  <tbody>\n",
                            "    <tr>\n",
                            "      <th>0</th>\n",
                            "      <td>00</td>\n",
                            "      <td>Ab1-42 0.4 uM</td>\n",
                            "      <td>-1</td>\n",
                            "      <td>0.550000</td>\n",
                            "      <td>[0, 1, 2]</td>\n",
                            "      <td>0.499343</td>\n",
                            "      <td>0.499343</td>\n",
                            "      <td>False</td>\n",
                            "      <td>False</td>\n",
                            "      <td>0.301601</td>\n",
                            "      <td>0.1</td>\n",
                            "      <td>0</td>\n",
                            "      <td>False</td>\n",
                            "    </tr>\n",
                            "    <tr>\n",
                            "      <th>1</th>\n",
                            "      <td>00</td>\n",
                            "      <td>Ab1-42 10 uM</td>\n",
                            "      <td>-1</td>\n",
                            "      <td>0.716667</td>\n",
                            "      <td>[3, 4, 5]</td>\n",
                            "      <td>0.299861</td>\n",
                            "      <td>0.439796</td>\n",
                            "      <td>False</td>\n",
                            "      <td>False</td>\n",
                            "      <td>0.356749</td>\n",
                            "      <td>0.1</td>\n",
                            "      <td>0</td>\n",
                            "      <td>False</td>\n",
                            "    </tr>\n",
                            "    <tr>\n",
                            "      <th>2</th>\n",
                            "      <td>00</td>\n",
                            "      <td>Ab1-42 2 uM</td>\n",
                            "      <td>-1</td>\n",
                            "      <td>0.525000</td>\n",
                            "      <td>[6, 7, 8]</td>\n",
                            "      <td>0.499343</td>\n",
                            "      <td>0.499343</td>\n",
                            "      <td>False</td>\n",
                            "      <td>False</td>\n",
                            "      <td>0.301601</td>\n",
                            "      <td>0.1</td>\n",
                            "      <td>0</td>\n",
                            "      <td>False</td>\n",
                            "    </tr>\n",
                            "    <tr>\n",
                            "      <th>3</th>\n",
                            "      <td>00</td>\n",
                            "      <td>Flagellin 0.1 ug/ml</td>\n",
                            "      <td>-1</td>\n",
                            "      <td>0.500000</td>\n",
                            "      <td>[9, 10, 11]</td>\n",
                            "      <td>0.499343</td>\n",
                            "      <td>0.499343</td>\n",
                            "      <td>False</td>\n",
                            "      <td>False</td>\n",
                            "      <td>0.301601</td>\n",
                            "      <td>0.1</td>\n",
                            "      <td>0</td>\n",
                            "      <td>False</td>\n",
                            "    </tr>\n",
                            "    <tr>\n",
                            "      <th>4</th>\n",
                            "      <td>00</td>\n",
                            "      <td>Flagellin 1 ug/ml</td>\n",
                            "      <td>-1</td>\n",
                            "      <td>0.861111</td>\n",
                            "      <td>[12, 13, 14]</td>\n",
                            "      <td>0.099881</td>\n",
                            "      <td>0.274672</td>\n",
                            "      <td>False</td>\n",
                            "      <td>False</td>\n",
                            "      <td>0.561185</td>\n",
                            "      <td>0.1</td>\n",
                            "      <td>0</td>\n",
                            "      <td>False</td>\n",
                            "    </tr>\n",
                            "  </tbody>\n",
                            "</table>\n",
                            "</div>"
                        ],
                        "text/plain": [
                            "  Metadata_Time   Metadata_treatment  Metadata_reference_index  \\\n",
                            "0            00        Ab1-42 0.4 uM                        -1   \n",
                            "1            00         Ab1-42 10 uM                        -1   \n",
                            "2            00          Ab1-42 2 uM                        -1   \n",
                            "3            00  Flagellin 0.1 ug/ml                        -1   \n",
                            "4            00    Flagellin 1 ug/ml                        -1   \n",
                            "\n",
                            "   mean_average_precision       indices   p_value  corrected_p_value  below_p  \\\n",
                            "0                0.550000     [0, 1, 2]  0.499343           0.499343    False   \n",
                            "1                0.716667     [3, 4, 5]  0.299861           0.439796    False   \n",
                            "2                0.525000     [6, 7, 8]  0.499343           0.499343    False   \n",
                            "3                0.500000   [9, 10, 11]  0.499343           0.499343    False   \n",
                            "4                0.861111  [12, 13, 14]  0.099881           0.274672    False   \n",
                            "\n",
                            "   below_corrected_p  -log10(p-value)  percentage_of_cells  seed  shuffle  \n",
                            "0              False         0.301601                  0.1     0    False  \n",
                            "1              False         0.356749                  0.1     0    False  \n",
                            "2              False         0.301601                  0.1     0    False  \n",
                            "3              False         0.301601                  0.1     0    False  \n",
                            "4              False         0.561185                  0.1     0    False  "
                        ]
                    },
                    "execution_count": 6,
                    "metadata": {},
                    "output_type": "execute_result"
                }
            ],
            "source": [
                "random.seed(set_seed)\n",
                "subset_df = df.groupby([\"Metadata_Time\", \"Metadata_treatment\"]).apply(\n",
                "    lambda x: x.sample(frac=percentage, random_state=set_seed),\n",
                "    include_groups=True,\n",
                ")\n",
                "subset_df.reset_index(drop=True, inplace=True)\n",
                "if shuffle:\n",
                "    # permutate the data\n",
                "    for col in subset_df.columns:\n",
                "        subset_df[col] = np.random.permutation(subset_df[col])\n",
                "metadata_cols = [cols for cols in subset_df.columns if \"Metadata\" in cols]\n",
                "features_cols = [cols for cols in subset_df.columns if \"Metadata\" not in cols]\n",
                "features_cols = features_cols + [\"Metadata_number_of_singlecells\"]\n",
                "aggregate_df = pycytominer.aggregate(\n",
                "    population_df=subset_df,\n",
                "    strata=[\"Metadata_Well\", \"Metadata_Time\"],\n",
                "    features=features_cols,\n",
                "    operation=\"median\",\n",
                ")\n",
                "# Drop metadata columns\n",
                "metadata_cols = [x for x in metadata_cols if x not in sc_metadata_cols_to_drop]\n",
                "\n",
                "metadata_df = subset_df[metadata_cols]\n",
                "metadata_df = metadata_df.drop_duplicates()\n",
                "aggregate_df = pd.merge(\n",
                "    metadata_df, aggregate_df, on=[\"Metadata_Well\", \"Metadata_Time\"]\n",
                ")\n",
                "\n",
                "dict_of_map_dfs = run_mAP_across_time(aggregate_df, seed=set_seed)\n",
                "output_df = pd.concat(dict_of_map_dfs.values(), keys=dict_of_map_dfs.keys())\n",
                "output_df.reset_index(inplace=True)\n",
                "output_df.rename(columns={\"level_0\": \"Metadata_Time\"}, inplace=True)\n",
                "# add the percentage of cells to the keys\n",
                "output_df[\"percentage_of_cells\"] = percentage\n",
                "output_df[\"seed\"] = set_seed\n",
                "output_df[\"shuffle\"] = shuffle\n",
                "output_df.reset_index(drop=True, inplace=True)\n",
                "output_df.to_parquet(output_file)\n",
                "output_df.head()"
            ]
        }
    ],
    "metadata": {
        "kernelspec": {
            "display_name": "timelapse_map_env",
            "language": "python",
            "name": "python3"
        },
        "language_info": {
            "codemirror_mode": {
                "name": "ipython",
                "version": 3
            },
            "file_extension": ".py",
            "mimetype": "text/x-python",
            "name": "python",
            "nbconvert_exporter": "python",
            "pygments_lexer": "ipython3",
            "version": "3.11.11"
        }
    },
    "nbformat": 4,
    "nbformat_minor": 2
}
