{
 "cells": [
  {
   "cell_type": "code",
   "execution_count": 1,
   "metadata": {},
   "outputs": [],
   "source": [
    "import argparse\n",
    "import pathlib\n",
    "import random\n",
    "import sys\n",
    "\n",
    "import numpy as np\n",
    "import pandas as pd\n",
    "\n",
    "# check if in a jupyter notebook\n",
    "try:\n",
    "    cfg = get_ipython().config\n",
    "    in_notebook = True\n",
    "except NameError:\n",
    "    in_notebook = False\n",
    "import warnings\n",
    "\n",
    "import pycytominer.aggregate\n",
    "import tqdm\n",
    "\n",
    "# Suppress all RuntimeWarnings\n",
    "warnings.filterwarnings(\"ignore\", category=RuntimeWarning)\n",
    "\n",
    "\n",
    "sys.path.append(\"../utils\")\n",
    "from mAP_utils import run_mAP_across_time"
   ]
  },
  {
   "cell_type": "code",
   "execution_count": 2,
   "metadata": {},
   "outputs": [],
   "source": [
    "if not in_notebook:\n",
    "    # setup the argument parser\n",
    "    parser = argparse.ArgumentParser(\n",
    "        description=\"Generate a map for differing cell counts\"\n",
    "    )\n",
    "\n",
    "    parser.add_argument(\n",
    "        \"--percentage\", type=float, help=\"Percentage of wells to use for the map file\"\n",
    "    )\n",
    "    parser.add_argument(\"--seed\", type=int, help=\"Seed for the random number generator\")\n",
    "    parser.add_argument(\n",
    "        \"--shuffle\", action=\"store_true\", help=\"Shuffle the order of the wells\"\n",
    "    )\n",
    "    # parse the arguments\n",
    "    args = parser.parse_args()\n",
    "    percentage = args.percentage\n",
    "    set_seed = args.seed\n",
    "    shuffle = args.shuffle\n",
    "else:\n",
    "    percentage = 0.1\n",
    "    set_seed = 0\n",
    "    shuffle = False\n",
    "\n",
    "output_file = pathlib.Path(\n",
    "    f\"../results/mAP_cell_percentages/{percentage}_{set_seed}_{shuffle}.parquet\"\n",
    ")\n",
    "output_file.parent.mkdir(exist_ok=True, parents=True)"
   ]
  },
  {
   "cell_type": "code",
   "execution_count": 3,
   "metadata": {},
   "outputs": [
    {
     "data": {
      "text/html": [
       "<div>\n",
       "<style scoped>\n",
       "    .dataframe tbody tr th:only-of-type {\n",
       "        vertical-align: middle;\n",
       "    }\n",
       "\n",
       "    .dataframe tbody tr th {\n",
       "        vertical-align: top;\n",
       "    }\n",
       "\n",
       "    .dataframe thead th {\n",
       "        text-align: right;\n",
       "    }\n",
       "</style>\n",
       "<table border=\"1\" class=\"dataframe\">\n",
       "  <thead>\n",
       "    <tr style=\"text-align: right;\">\n",
       "      <th></th>\n",
       "      <th>Metadata_plate</th>\n",
       "      <th>Metadata_Well</th>\n",
       "      <th>Metadata_number_of_singlecells</th>\n",
       "      <th>Metadata_compound</th>\n",
       "      <th>Metadata_dose</th>\n",
       "      <th>Metadata_control</th>\n",
       "      <th>Metadata_ImageNumber</th>\n",
       "      <th>Metadata_FOV</th>\n",
       "      <th>Metadata_Time</th>\n",
       "      <th>Metadata_Cells_Number_Object_Number</th>\n",
       "      <th>...</th>\n",
       "      <th>Nuclei_Texture_DifferenceVariance_CL_488_1_3_00_256</th>\n",
       "      <th>Nuclei_Texture_DifferenceVariance_CL_488_2_3_01_256</th>\n",
       "      <th>Nuclei_Texture_DifferenceVariance_CL_561_3_02_256</th>\n",
       "      <th>Nuclei_Texture_InverseDifferenceMoment_CL_488_1_3_01_256</th>\n",
       "      <th>Nuclei_Texture_InverseDifferenceMoment_CL_561_3_01_256</th>\n",
       "      <th>Nuclei_Texture_InverseDifferenceMoment_DNA_3_00_256</th>\n",
       "      <th>Nuclei_Texture_SumAverage_CL_488_1_3_03_256</th>\n",
       "      <th>Nuclei_Texture_SumAverage_CL_488_2_3_03_256</th>\n",
       "      <th>Nuclei_Texture_SumAverage_CL_561_3_02_256</th>\n",
       "      <th>Nuclei_Texture_SumAverage_DNA_3_00_256</th>\n",
       "    </tr>\n",
       "  </thead>\n",
       "  <tbody>\n",
       "    <tr>\n",
       "      <th>0</th>\n",
       "      <td>1</td>\n",
       "      <td>D-02</td>\n",
       "      <td>192</td>\n",
       "      <td>Staurosporine</td>\n",
       "      <td>0.0</td>\n",
       "      <td>negative</td>\n",
       "      <td>1</td>\n",
       "      <td>0001</td>\n",
       "      <td>0.0</td>\n",
       "      <td>2</td>\n",
       "      <td>...</td>\n",
       "      <td>1.439092</td>\n",
       "      <td>0.891046</td>\n",
       "      <td>1.500406</td>\n",
       "      <td>0.587907</td>\n",
       "      <td>0.617193</td>\n",
       "      <td>-3.721488</td>\n",
       "      <td>-0.232102</td>\n",
       "      <td>0.381277</td>\n",
       "      <td>-0.044157</td>\n",
       "      <td>-3.411162</td>\n",
       "    </tr>\n",
       "    <tr>\n",
       "      <th>1</th>\n",
       "      <td>1</td>\n",
       "      <td>D-02</td>\n",
       "      <td>192</td>\n",
       "      <td>Staurosporine</td>\n",
       "      <td>0.0</td>\n",
       "      <td>negative</td>\n",
       "      <td>1</td>\n",
       "      <td>0001</td>\n",
       "      <td>0.0</td>\n",
       "      <td>23</td>\n",
       "      <td>...</td>\n",
       "      <td>-1.048757</td>\n",
       "      <td>0.629287</td>\n",
       "      <td>0.600013</td>\n",
       "      <td>-0.178073</td>\n",
       "      <td>0.464530</td>\n",
       "      <td>0.297776</td>\n",
       "      <td>0.356853</td>\n",
       "      <td>0.381277</td>\n",
       "      <td>0.040152</td>\n",
       "      <td>0.158581</td>\n",
       "    </tr>\n",
       "    <tr>\n",
       "      <th>2</th>\n",
       "      <td>1</td>\n",
       "      <td>D-02</td>\n",
       "      <td>192</td>\n",
       "      <td>Staurosporine</td>\n",
       "      <td>0.0</td>\n",
       "      <td>negative</td>\n",
       "      <td>1</td>\n",
       "      <td>0001</td>\n",
       "      <td>0.0</td>\n",
       "      <td>31</td>\n",
       "      <td>...</td>\n",
       "      <td>0.480107</td>\n",
       "      <td>0.891046</td>\n",
       "      <td>0.380827</td>\n",
       "      <td>0.448919</td>\n",
       "      <td>0.390155</td>\n",
       "      <td>0.297776</td>\n",
       "      <td>-0.232102</td>\n",
       "      <td>0.381277</td>\n",
       "      <td>0.078288</td>\n",
       "      <td>0.158581</td>\n",
       "    </tr>\n",
       "    <tr>\n",
       "      <th>3</th>\n",
       "      <td>1</td>\n",
       "      <td>D-02</td>\n",
       "      <td>192</td>\n",
       "      <td>Staurosporine</td>\n",
       "      <td>0.0</td>\n",
       "      <td>negative</td>\n",
       "      <td>1</td>\n",
       "      <td>0001</td>\n",
       "      <td>0.0</td>\n",
       "      <td>35</td>\n",
       "      <td>...</td>\n",
       "      <td>-0.616834</td>\n",
       "      <td>0.891046</td>\n",
       "      <td>0.863686</td>\n",
       "      <td>0.217271</td>\n",
       "      <td>0.565594</td>\n",
       "      <td>0.297776</td>\n",
       "      <td>-0.030175</td>\n",
       "      <td>0.381277</td>\n",
       "      <td>-0.002435</td>\n",
       "      <td>0.158581</td>\n",
       "    </tr>\n",
       "    <tr>\n",
       "      <th>4</th>\n",
       "      <td>1</td>\n",
       "      <td>D-02</td>\n",
       "      <td>192</td>\n",
       "      <td>Staurosporine</td>\n",
       "      <td>0.0</td>\n",
       "      <td>negative</td>\n",
       "      <td>1</td>\n",
       "      <td>0001</td>\n",
       "      <td>0.0</td>\n",
       "      <td>40</td>\n",
       "      <td>...</td>\n",
       "      <td>1.439092</td>\n",
       "      <td>-1.464788</td>\n",
       "      <td>-0.659766</td>\n",
       "      <td>0.587907</td>\n",
       "      <td>0.104220</td>\n",
       "      <td>0.297776</td>\n",
       "      <td>-0.232102</td>\n",
       "      <td>-1.424332</td>\n",
       "      <td>0.471232</td>\n",
       "      <td>0.158581</td>\n",
       "    </tr>\n",
       "  </tbody>\n",
       "</table>\n",
       "<p>5 rows × 847 columns</p>\n",
       "</div>"
      ],
      "text/plain": [
       "   Metadata_plate Metadata_Well  Metadata_number_of_singlecells  \\\n",
       "0               1          D-02                             192   \n",
       "1               1          D-02                             192   \n",
       "2               1          D-02                             192   \n",
       "3               1          D-02                             192   \n",
       "4               1          D-02                             192   \n",
       "\n",
       "  Metadata_compound  Metadata_dose Metadata_control  Metadata_ImageNumber  \\\n",
       "0     Staurosporine            0.0         negative                     1   \n",
       "1     Staurosporine            0.0         negative                     1   \n",
       "2     Staurosporine            0.0         negative                     1   \n",
       "3     Staurosporine            0.0         negative                     1   \n",
       "4     Staurosporine            0.0         negative                     1   \n",
       "\n",
       "  Metadata_FOV  Metadata_Time  Metadata_Cells_Number_Object_Number  ...  \\\n",
       "0         0001            0.0                                    2  ...   \n",
       "1         0001            0.0                                   23  ...   \n",
       "2         0001            0.0                                   31  ...   \n",
       "3         0001            0.0                                   35  ...   \n",
       "4         0001            0.0                                   40  ...   \n",
       "\n",
       "   Nuclei_Texture_DifferenceVariance_CL_488_1_3_00_256  \\\n",
       "0                                           1.439092     \n",
       "1                                          -1.048757     \n",
       "2                                           0.480107     \n",
       "3                                          -0.616834     \n",
       "4                                           1.439092     \n",
       "\n",
       "   Nuclei_Texture_DifferenceVariance_CL_488_2_3_01_256  \\\n",
       "0                                           0.891046     \n",
       "1                                           0.629287     \n",
       "2                                           0.891046     \n",
       "3                                           0.891046     \n",
       "4                                          -1.464788     \n",
       "\n",
       "   Nuclei_Texture_DifferenceVariance_CL_561_3_02_256  \\\n",
       "0                                           1.500406   \n",
       "1                                           0.600013   \n",
       "2                                           0.380827   \n",
       "3                                           0.863686   \n",
       "4                                          -0.659766   \n",
       "\n",
       "   Nuclei_Texture_InverseDifferenceMoment_CL_488_1_3_01_256  \\\n",
       "0                                           0.587907          \n",
       "1                                          -0.178073          \n",
       "2                                           0.448919          \n",
       "3                                           0.217271          \n",
       "4                                           0.587907          \n",
       "\n",
       "   Nuclei_Texture_InverseDifferenceMoment_CL_561_3_01_256  \\\n",
       "0                                           0.617193        \n",
       "1                                           0.464530        \n",
       "2                                           0.390155        \n",
       "3                                           0.565594        \n",
       "4                                           0.104220        \n",
       "\n",
       "   Nuclei_Texture_InverseDifferenceMoment_DNA_3_00_256  \\\n",
       "0                                          -3.721488     \n",
       "1                                           0.297776     \n",
       "2                                           0.297776     \n",
       "3                                           0.297776     \n",
       "4                                           0.297776     \n",
       "\n",
       "  Nuclei_Texture_SumAverage_CL_488_1_3_03_256  \\\n",
       "0                                   -0.232102   \n",
       "1                                    0.356853   \n",
       "2                                   -0.232102   \n",
       "3                                   -0.030175   \n",
       "4                                   -0.232102   \n",
       "\n",
       "  Nuclei_Texture_SumAverage_CL_488_2_3_03_256  \\\n",
       "0                                    0.381277   \n",
       "1                                    0.381277   \n",
       "2                                    0.381277   \n",
       "3                                    0.381277   \n",
       "4                                   -1.424332   \n",
       "\n",
       "  Nuclei_Texture_SumAverage_CL_561_3_02_256  \\\n",
       "0                                 -0.044157   \n",
       "1                                  0.040152   \n",
       "2                                  0.078288   \n",
       "3                                 -0.002435   \n",
       "4                                  0.471232   \n",
       "\n",
       "  Nuclei_Texture_SumAverage_DNA_3_00_256  \n",
       "0                              -3.411162  \n",
       "1                               0.158581  \n",
       "2                               0.158581  \n",
       "3                               0.158581  \n",
       "4                               0.158581  \n",
       "\n",
       "[5 rows x 847 columns]"
      ]
     },
     "execution_count": 3,
     "metadata": {},
     "output_type": "execute_result"
    }
   ],
   "source": [
    "data_file_path = pathlib.Path(\n",
    "    \"../../data/CP_feature_select/profiles/features_selected_profile.parquet\"\n",
    ").resolve(strict=True)\n",
    "df = pd.read_parquet(data_file_path)\n",
    "\n",
    "df.head()"
   ]
  },
  {
   "cell_type": "code",
   "execution_count": 4,
   "metadata": {},
   "outputs": [
    {
     "name": "stderr",
     "output_type": "stream",
     "text": [
      "/tmp/ipykernel_2151728/238729661.py:2: DeprecationWarning: DataFrameGroupBy.apply operated on the grouping columns. This behavior is deprecated, and in a future version of pandas the grouping columns will be excluded from the operation. Either pass `include_groups=False` to exclude the groupings or explicitly select the grouping columns after groupby to silence this warning.\n",
      "  subset_df = df.groupby([\"Metadata_Time\", \"Metadata_Well\"]).apply(\n"
     ]
    }
   ],
   "source": [
    "random.seed(set_seed)\n",
    "subset_df = df.groupby([\"Metadata_Time\", \"Metadata_Well\"]).apply(\n",
    "    lambda x: x.sample(frac=percentage, random_state=set_seed),\n",
    "    include_groups=True,\n",
    ")"
   ]
  },
  {
   "cell_type": "code",
   "execution_count": 5,
   "metadata": {},
   "outputs": [],
   "source": [
    "subset_df.reset_index(drop=True, inplace=True)\n",
    "if shuffle:\n",
    "    # permutate the data\n",
    "    for col in subset_df.columns:\n",
    "        if col == \"Metadata_Time\":\n",
    "            continue\n",
    "        if col == \"Metadata_dose\":\n",
    "            continue\n",
    "        subset_df[col] = np.random.permutation(subset_df[col])\n",
    "metadata_cols = [cols for cols in subset_df.columns if \"Metadata\" in cols]\n",
    "features_cols = [cols for cols in subset_df.columns if \"Metadata\" not in cols]\n",
    "features_cols = features_cols + [\"Metadata_number_of_singlecells\"]\n",
    "aggregate_df = pycytominer.aggregate(\n",
    "    population_df=subset_df,\n",
    "    strata=[\"Metadata_Well\", \"Metadata_Time\"],\n",
    "    features=features_cols,\n",
    "    operation=\"median\",\n",
    ")"
   ]
  },
  {
   "cell_type": "code",
   "execution_count": 6,
   "metadata": {},
   "outputs": [
    {
     "data": {
      "text/html": [
       "<div>\n",
       "<style scoped>\n",
       "    .dataframe tbody tr th:only-of-type {\n",
       "        vertical-align: middle;\n",
       "    }\n",
       "\n",
       "    .dataframe tbody tr th {\n",
       "        vertical-align: top;\n",
       "    }\n",
       "\n",
       "    .dataframe thead th {\n",
       "        text-align: right;\n",
       "    }\n",
       "</style>\n",
       "<table border=\"1\" class=\"dataframe\">\n",
       "  <thead>\n",
       "    <tr style=\"text-align: right;\">\n",
       "      <th></th>\n",
       "      <th>Metadata_plate</th>\n",
       "      <th>Metadata_Well</th>\n",
       "      <th>Metadata_number_of_singlecells_x</th>\n",
       "      <th>Metadata_compound</th>\n",
       "      <th>Metadata_dose</th>\n",
       "      <th>Metadata_control</th>\n",
       "      <th>Metadata_ImageNumber</th>\n",
       "      <th>Metadata_FOV</th>\n",
       "      <th>Metadata_Time</th>\n",
       "      <th>Metadata_Cells_Number_Object_Number</th>\n",
       "      <th>...</th>\n",
       "      <th>Nuclei_Texture_DifferenceVariance_CL_488_2_3_01_256</th>\n",
       "      <th>Nuclei_Texture_DifferenceVariance_CL_561_3_02_256</th>\n",
       "      <th>Nuclei_Texture_InverseDifferenceMoment_CL_488_1_3_01_256</th>\n",
       "      <th>Nuclei_Texture_InverseDifferenceMoment_CL_561_3_01_256</th>\n",
       "      <th>Nuclei_Texture_InverseDifferenceMoment_DNA_3_00_256</th>\n",
       "      <th>Nuclei_Texture_SumAverage_CL_488_1_3_03_256</th>\n",
       "      <th>Nuclei_Texture_SumAverage_CL_488_2_3_03_256</th>\n",
       "      <th>Nuclei_Texture_SumAverage_CL_561_3_02_256</th>\n",
       "      <th>Nuclei_Texture_SumAverage_DNA_3_00_256</th>\n",
       "      <th>Metadata_number_of_singlecells_y</th>\n",
       "    </tr>\n",
       "  </thead>\n",
       "  <tbody>\n",
       "    <tr>\n",
       "      <th>0</th>\n",
       "      <td>1</td>\n",
       "      <td>C-02</td>\n",
       "      <td>163</td>\n",
       "      <td>Staurosporine</td>\n",
       "      <td>0.00</td>\n",
       "      <td>negative</td>\n",
       "      <td>1</td>\n",
       "      <td>0004</td>\n",
       "      <td>0.0</td>\n",
       "      <td>50</td>\n",
       "      <td>...</td>\n",
       "      <td>0.212609</td>\n",
       "      <td>-0.375083</td>\n",
       "      <td>0.154952</td>\n",
       "      <td>0.171849</td>\n",
       "      <td>0.297776</td>\n",
       "      <td>-0.099287</td>\n",
       "      <td>0.381277</td>\n",
       "      <td>0.201143</td>\n",
       "      <td>0.158581</td>\n",
       "      <td>183.0</td>\n",
       "    </tr>\n",
       "    <tr>\n",
       "      <th>1</th>\n",
       "      <td>1</td>\n",
       "      <td>C-03</td>\n",
       "      <td>185</td>\n",
       "      <td>Staurosporine</td>\n",
       "      <td>0.61</td>\n",
       "      <td>test</td>\n",
       "      <td>1</td>\n",
       "      <td>0001</td>\n",
       "      <td>0.0</td>\n",
       "      <td>43</td>\n",
       "      <td>...</td>\n",
       "      <td>0.103955</td>\n",
       "      <td>0.409223</td>\n",
       "      <td>0.381574</td>\n",
       "      <td>0.455023</td>\n",
       "      <td>0.297776</td>\n",
       "      <td>-0.159184</td>\n",
       "      <td>0.381277</td>\n",
       "      <td>0.037473</td>\n",
       "      <td>0.158581</td>\n",
       "      <td>191.0</td>\n",
       "    </tr>\n",
       "    <tr>\n",
       "      <th>2</th>\n",
       "      <td>1</td>\n",
       "      <td>C-04</td>\n",
       "      <td>180</td>\n",
       "      <td>Staurosporine</td>\n",
       "      <td>1.22</td>\n",
       "      <td>test</td>\n",
       "      <td>1</td>\n",
       "      <td>0003</td>\n",
       "      <td>0.0</td>\n",
       "      <td>21</td>\n",
       "      <td>...</td>\n",
       "      <td>-0.210237</td>\n",
       "      <td>0.346267</td>\n",
       "      <td>0.157277</td>\n",
       "      <td>0.459976</td>\n",
       "      <td>0.297776</td>\n",
       "      <td>-0.213688</td>\n",
       "      <td>0.381277</td>\n",
       "      <td>0.011786</td>\n",
       "      <td>0.158581</td>\n",
       "      <td>180.0</td>\n",
       "    </tr>\n",
       "    <tr>\n",
       "      <th>3</th>\n",
       "      <td>1</td>\n",
       "      <td>C-05</td>\n",
       "      <td>187</td>\n",
       "      <td>Staurosporine</td>\n",
       "      <td>2.44</td>\n",
       "      <td>test</td>\n",
       "      <td>1</td>\n",
       "      <td>0002</td>\n",
       "      <td>0.0</td>\n",
       "      <td>86</td>\n",
       "      <td>...</td>\n",
       "      <td>-0.485484</td>\n",
       "      <td>0.703336</td>\n",
       "      <td>0.275076</td>\n",
       "      <td>0.524607</td>\n",
       "      <td>0.297776</td>\n",
       "      <td>-0.158529</td>\n",
       "      <td>0.381277</td>\n",
       "      <td>0.016623</td>\n",
       "      <td>0.158581</td>\n",
       "      <td>175.0</td>\n",
       "    </tr>\n",
       "    <tr>\n",
       "      <th>4</th>\n",
       "      <td>1</td>\n",
       "      <td>C-06</td>\n",
       "      <td>154</td>\n",
       "      <td>Staurosporine</td>\n",
       "      <td>4.88</td>\n",
       "      <td>test</td>\n",
       "      <td>1</td>\n",
       "      <td>0004</td>\n",
       "      <td>0.0</td>\n",
       "      <td>124</td>\n",
       "      <td>...</td>\n",
       "      <td>0.495685</td>\n",
       "      <td>0.457185</td>\n",
       "      <td>0.462031</td>\n",
       "      <td>0.491852</td>\n",
       "      <td>0.297776</td>\n",
       "      <td>-0.214945</td>\n",
       "      <td>0.381277</td>\n",
       "      <td>-0.006228</td>\n",
       "      <td>0.158581</td>\n",
       "      <td>169.0</td>\n",
       "    </tr>\n",
       "  </tbody>\n",
       "</table>\n",
       "<p>5 rows × 848 columns</p>\n",
       "</div>"
      ],
      "text/plain": [
       "   Metadata_plate Metadata_Well  Metadata_number_of_singlecells_x  \\\n",
       "0               1          C-02                               163   \n",
       "1               1          C-03                               185   \n",
       "2               1          C-04                               180   \n",
       "3               1          C-05                               187   \n",
       "4               1          C-06                               154   \n",
       "\n",
       "  Metadata_compound  Metadata_dose Metadata_control  Metadata_ImageNumber  \\\n",
       "0     Staurosporine           0.00         negative                     1   \n",
       "1     Staurosporine           0.61             test                     1   \n",
       "2     Staurosporine           1.22             test                     1   \n",
       "3     Staurosporine           2.44             test                     1   \n",
       "4     Staurosporine           4.88             test                     1   \n",
       "\n",
       "  Metadata_FOV  Metadata_Time  Metadata_Cells_Number_Object_Number  ...  \\\n",
       "0         0004            0.0                                   50  ...   \n",
       "1         0001            0.0                                   43  ...   \n",
       "2         0003            0.0                                   21  ...   \n",
       "3         0002            0.0                                   86  ...   \n",
       "4         0004            0.0                                  124  ...   \n",
       "\n",
       "   Nuclei_Texture_DifferenceVariance_CL_488_2_3_01_256  \\\n",
       "0                                           0.212609     \n",
       "1                                           0.103955     \n",
       "2                                          -0.210237     \n",
       "3                                          -0.485484     \n",
       "4                                           0.495685     \n",
       "\n",
       "   Nuclei_Texture_DifferenceVariance_CL_561_3_02_256  \\\n",
       "0                                          -0.375083   \n",
       "1                                           0.409223   \n",
       "2                                           0.346267   \n",
       "3                                           0.703336   \n",
       "4                                           0.457185   \n",
       "\n",
       "   Nuclei_Texture_InverseDifferenceMoment_CL_488_1_3_01_256  \\\n",
       "0                                           0.154952          \n",
       "1                                           0.381574          \n",
       "2                                           0.157277          \n",
       "3                                           0.275076          \n",
       "4                                           0.462031          \n",
       "\n",
       "   Nuclei_Texture_InverseDifferenceMoment_CL_561_3_01_256  \\\n",
       "0                                           0.171849        \n",
       "1                                           0.455023        \n",
       "2                                           0.459976        \n",
       "3                                           0.524607        \n",
       "4                                           0.491852        \n",
       "\n",
       "   Nuclei_Texture_InverseDifferenceMoment_DNA_3_00_256  \\\n",
       "0                                           0.297776     \n",
       "1                                           0.297776     \n",
       "2                                           0.297776     \n",
       "3                                           0.297776     \n",
       "4                                           0.297776     \n",
       "\n",
       "   Nuclei_Texture_SumAverage_CL_488_1_3_03_256  \\\n",
       "0                                    -0.099287   \n",
       "1                                    -0.159184   \n",
       "2                                    -0.213688   \n",
       "3                                    -0.158529   \n",
       "4                                    -0.214945   \n",
       "\n",
       "  Nuclei_Texture_SumAverage_CL_488_2_3_03_256  \\\n",
       "0                                    0.381277   \n",
       "1                                    0.381277   \n",
       "2                                    0.381277   \n",
       "3                                    0.381277   \n",
       "4                                    0.381277   \n",
       "\n",
       "  Nuclei_Texture_SumAverage_CL_561_3_02_256  \\\n",
       "0                                  0.201143   \n",
       "1                                  0.037473   \n",
       "2                                  0.011786   \n",
       "3                                  0.016623   \n",
       "4                                 -0.006228   \n",
       "\n",
       "  Nuclei_Texture_SumAverage_DNA_3_00_256 Metadata_number_of_singlecells_y  \n",
       "0                               0.158581                            183.0  \n",
       "1                               0.158581                            191.0  \n",
       "2                               0.158581                            180.0  \n",
       "3                               0.158581                            175.0  \n",
       "4                               0.158581                            169.0  \n",
       "\n",
       "[5 rows x 848 columns]"
      ]
     },
     "execution_count": 6,
     "metadata": {},
     "output_type": "execute_result"
    }
   ],
   "source": [
    "metadata_df = subset_df[metadata_cols]\n",
    "metadata_df = metadata_df.drop_duplicates(subset=[\"Metadata_Well\", \"Metadata_Time\"])\n",
    "metadata_df = metadata_df.reset_index(drop=True)\n",
    "aggregate_df = pd.merge(\n",
    "    metadata_df, aggregate_df, on=[\"Metadata_Well\", \"Metadata_Time\"]\n",
    ")\n",
    "aggregate_df.head()"
   ]
  },
  {
   "cell_type": "code",
   "execution_count": 7,
   "metadata": {},
   "outputs": [
    {
     "data": {
      "application/vnd.jupyter.widget-view+json": {
       "model_id": "aabb8cffc82b4854acaf8823f3a5a42c",
       "version_major": 2,
       "version_minor": 0
      },
      "text/plain": [
       "  0%|          | 0/1 [00:00<?, ?it/s]"
      ]
     },
     "metadata": {},
     "output_type": "display_data"
    },
    {
     "data": {
      "application/vnd.jupyter.widget-view+json": {
       "model_id": "0a9f20a86d5645e0892b6101472a1e18",
       "version_major": 2,
       "version_minor": 0
      },
      "text/plain": [
       "  0%|          | 0/1 [00:00<?, ?it/s]"
      ]
     },
     "metadata": {},
     "output_type": "display_data"
    },
    {
     "data": {
      "application/vnd.jupyter.widget-view+json": {
       "model_id": "ada1b4693fe940109c18cd15ad8ba4bd",
       "version_major": 2,
       "version_minor": 0
      },
      "text/plain": [
       "  0%|          | 0/1 [00:00<?, ?it/s]"
      ]
     },
     "metadata": {},
     "output_type": "display_data"
    },
    {
     "data": {
      "application/vnd.jupyter.widget-view+json": {
       "model_id": "5bed6816855d4708bb446b3c2b6e9298",
       "version_major": 2,
       "version_minor": 0
      },
      "text/plain": [
       "  0%|          | 0/9 [00:00<?, ?it/s]"
      ]
     },
     "metadata": {},
     "output_type": "display_data"
    },
    {
     "data": {
      "application/vnd.jupyter.widget-view+json": {
       "model_id": "eefc36ba38bb4543b4c5b55e49ed6b58",
       "version_major": 2,
       "version_minor": 0
      },
      "text/plain": [
       "  0%|          | 0/1 [00:00<?, ?it/s]"
      ]
     },
     "metadata": {},
     "output_type": "display_data"
    },
    {
     "data": {
      "application/vnd.jupyter.widget-view+json": {
       "model_id": "84b6f4bab69f48eab8d92839fedbfabc",
       "version_major": 2,
       "version_minor": 0
      },
      "text/plain": [
       "  0%|          | 0/1 [00:00<?, ?it/s]"
      ]
     },
     "metadata": {},
     "output_type": "display_data"
    },
    {
     "data": {
      "application/vnd.jupyter.widget-view+json": {
       "model_id": "098cdf254a5c422aa1cf09332fd5e156",
       "version_major": 2,
       "version_minor": 0
      },
      "text/plain": [
       "  0%|          | 0/1 [00:00<?, ?it/s]"
      ]
     },
     "metadata": {},
     "output_type": "display_data"
    },
    {
     "data": {
      "application/vnd.jupyter.widget-view+json": {
       "model_id": "07370cd2a8da4d528214ce691eb4d2da",
       "version_major": 2,
       "version_minor": 0
      },
      "text/plain": [
       "  0%|          | 0/9 [00:00<?, ?it/s]"
      ]
     },
     "metadata": {},
     "output_type": "display_data"
    },
    {
     "data": {
      "application/vnd.jupyter.widget-view+json": {
       "model_id": "45bfb6021e504dbb91ffb812fedb2fe9",
       "version_major": 2,
       "version_minor": 0
      },
      "text/plain": [
       "  0%|          | 0/1 [00:00<?, ?it/s]"
      ]
     },
     "metadata": {},
     "output_type": "display_data"
    },
    {
     "data": {
      "application/vnd.jupyter.widget-view+json": {
       "model_id": "d0dd862ad15145ef8f7a8a44b1a7fe26",
       "version_major": 2,
       "version_minor": 0
      },
      "text/plain": [
       "  0%|          | 0/1 [00:00<?, ?it/s]"
      ]
     },
     "metadata": {},
     "output_type": "display_data"
    },
    {
     "data": {
      "application/vnd.jupyter.widget-view+json": {
       "model_id": "31ec9d89cafc466590034be186548c27",
       "version_major": 2,
       "version_minor": 0
      },
      "text/plain": [
       "  0%|          | 0/1 [00:00<?, ?it/s]"
      ]
     },
     "metadata": {},
     "output_type": "display_data"
    },
    {
     "data": {
      "application/vnd.jupyter.widget-view+json": {
       "model_id": "f563464e3f614b4b90196c9ef4561bc9",
       "version_major": 2,
       "version_minor": 0
      },
      "text/plain": [
       "  0%|          | 0/9 [00:00<?, ?it/s]"
      ]
     },
     "metadata": {},
     "output_type": "display_data"
    },
    {
     "data": {
      "application/vnd.jupyter.widget-view+json": {
       "model_id": "e1862f858f144a77a35727f7b8990808",
       "version_major": 2,
       "version_minor": 0
      },
      "text/plain": [
       "  0%|          | 0/1 [00:00<?, ?it/s]"
      ]
     },
     "metadata": {},
     "output_type": "display_data"
    },
    {
     "data": {
      "application/vnd.jupyter.widget-view+json": {
       "model_id": "736974d289524dae91496fee942e157b",
       "version_major": 2,
       "version_minor": 0
      },
      "text/plain": [
       "  0%|          | 0/1 [00:00<?, ?it/s]"
      ]
     },
     "metadata": {},
     "output_type": "display_data"
    },
    {
     "data": {
      "application/vnd.jupyter.widget-view+json": {
       "model_id": "dc8bbd052d7345af99f945247396c3e5",
       "version_major": 2,
       "version_minor": 0
      },
      "text/plain": [
       "  0%|          | 0/1 [00:00<?, ?it/s]"
      ]
     },
     "metadata": {},
     "output_type": "display_data"
    },
    {
     "data": {
      "application/vnd.jupyter.widget-view+json": {
       "model_id": "71adf8fc0519457dbc2ff2882488cb6b",
       "version_major": 2,
       "version_minor": 0
      },
      "text/plain": [
       "  0%|          | 0/9 [00:00<?, ?it/s]"
      ]
     },
     "metadata": {},
     "output_type": "display_data"
    },
    {
     "data": {
      "application/vnd.jupyter.widget-view+json": {
       "model_id": "02515b150e3f4251bfded5b971b5034e",
       "version_major": 2,
       "version_minor": 0
      },
      "text/plain": [
       "  0%|          | 0/1 [00:00<?, ?it/s]"
      ]
     },
     "metadata": {},
     "output_type": "display_data"
    },
    {
     "data": {
      "application/vnd.jupyter.widget-view+json": {
       "model_id": "26ebe9f49af64ee69d02d1c647dfa89f",
       "version_major": 2,
       "version_minor": 0
      },
      "text/plain": [
       "  0%|          | 0/1 [00:00<?, ?it/s]"
      ]
     },
     "metadata": {},
     "output_type": "display_data"
    },
    {
     "data": {
      "application/vnd.jupyter.widget-view+json": {
       "model_id": "2af1feb4090c400898feb1e42a4cf2fc",
       "version_major": 2,
       "version_minor": 0
      },
      "text/plain": [
       "  0%|          | 0/1 [00:00<?, ?it/s]"
      ]
     },
     "metadata": {},
     "output_type": "display_data"
    },
    {
     "data": {
      "application/vnd.jupyter.widget-view+json": {
       "model_id": "8ae3998f6f064f38b6964338fbe96563",
       "version_major": 2,
       "version_minor": 0
      },
      "text/plain": [
       "  0%|          | 0/9 [00:00<?, ?it/s]"
      ]
     },
     "metadata": {},
     "output_type": "display_data"
    },
    {
     "data": {
      "application/vnd.jupyter.widget-view+json": {
       "model_id": "85e902e38cf74fd59fed79fcf3776a9a",
       "version_major": 2,
       "version_minor": 0
      },
      "text/plain": [
       "  0%|          | 0/1 [00:00<?, ?it/s]"
      ]
     },
     "metadata": {},
     "output_type": "display_data"
    },
    {
     "data": {
      "application/vnd.jupyter.widget-view+json": {
       "model_id": "34757c891aff43068e2dd2831bb45c64",
       "version_major": 2,
       "version_minor": 0
      },
      "text/plain": [
       "  0%|          | 0/1 [00:00<?, ?it/s]"
      ]
     },
     "metadata": {},
     "output_type": "display_data"
    },
    {
     "data": {
      "application/vnd.jupyter.widget-view+json": {
       "model_id": "b17526f5ddfd4702bc2888556d928dbd",
       "version_major": 2,
       "version_minor": 0
      },
      "text/plain": [
       "  0%|          | 0/1 [00:00<?, ?it/s]"
      ]
     },
     "metadata": {},
     "output_type": "display_data"
    },
    {
     "data": {
      "application/vnd.jupyter.widget-view+json": {
       "model_id": "37db3a791b0a41c080c2c5192f390103",
       "version_major": 2,
       "version_minor": 0
      },
      "text/plain": [
       "  0%|          | 0/9 [00:00<?, ?it/s]"
      ]
     },
     "metadata": {},
     "output_type": "display_data"
    },
    {
     "data": {
      "application/vnd.jupyter.widget-view+json": {
       "model_id": "d3fdb29a8d5a4ad593830c5d9766080d",
       "version_major": 2,
       "version_minor": 0
      },
      "text/plain": [
       "  0%|          | 0/1 [00:00<?, ?it/s]"
      ]
     },
     "metadata": {},
     "output_type": "display_data"
    },
    {
     "data": {
      "application/vnd.jupyter.widget-view+json": {
       "model_id": "328676900a7d407eaca257b311204891",
       "version_major": 2,
       "version_minor": 0
      },
      "text/plain": [
       "  0%|          | 0/1 [00:00<?, ?it/s]"
      ]
     },
     "metadata": {},
     "output_type": "display_data"
    },
    {
     "data": {
      "application/vnd.jupyter.widget-view+json": {
       "model_id": "35f592f61a7242ab87de3290047d21e9",
       "version_major": 2,
       "version_minor": 0
      },
      "text/plain": [
       "  0%|          | 0/1 [00:00<?, ?it/s]"
      ]
     },
     "metadata": {},
     "output_type": "display_data"
    },
    {
     "data": {
      "application/vnd.jupyter.widget-view+json": {
       "model_id": "87c0e3b3b8734ab4ba5565ac26cc1d53",
       "version_major": 2,
       "version_minor": 0
      },
      "text/plain": [
       "  0%|          | 0/9 [00:00<?, ?it/s]"
      ]
     },
     "metadata": {},
     "output_type": "display_data"
    },
    {
     "data": {
      "application/vnd.jupyter.widget-view+json": {
       "model_id": "90b4789383fe41bb90a19de4feeb0d60",
       "version_major": 2,
       "version_minor": 0
      },
      "text/plain": [
       "  0%|          | 0/1 [00:00<?, ?it/s]"
      ]
     },
     "metadata": {},
     "output_type": "display_data"
    },
    {
     "data": {
      "application/vnd.jupyter.widget-view+json": {
       "model_id": "4b6e7e7288334d08acc9e50eb5ca1868",
       "version_major": 2,
       "version_minor": 0
      },
      "text/plain": [
       "  0%|          | 0/1 [00:00<?, ?it/s]"
      ]
     },
     "metadata": {},
     "output_type": "display_data"
    },
    {
     "data": {
      "application/vnd.jupyter.widget-view+json": {
       "model_id": "04f3a442ba5344c18e77ff3441e468ea",
       "version_major": 2,
       "version_minor": 0
      },
      "text/plain": [
       "  0%|          | 0/1 [00:00<?, ?it/s]"
      ]
     },
     "metadata": {},
     "output_type": "display_data"
    },
    {
     "data": {
      "application/vnd.jupyter.widget-view+json": {
       "model_id": "20bfb1ce09b94fc98e6b616fe73892e5",
       "version_major": 2,
       "version_minor": 0
      },
      "text/plain": [
       "  0%|          | 0/9 [00:00<?, ?it/s]"
      ]
     },
     "metadata": {},
     "output_type": "display_data"
    },
    {
     "data": {
      "application/vnd.jupyter.widget-view+json": {
       "model_id": "a856447baa2c42d89bf6d2c304e3f656",
       "version_major": 2,
       "version_minor": 0
      },
      "text/plain": [
       "  0%|          | 0/1 [00:00<?, ?it/s]"
      ]
     },
     "metadata": {},
     "output_type": "display_data"
    },
    {
     "data": {
      "application/vnd.jupyter.widget-view+json": {
       "model_id": "5c3e1676981848db923421c1fac6eca6",
       "version_major": 2,
       "version_minor": 0
      },
      "text/plain": [
       "  0%|          | 0/1 [00:00<?, ?it/s]"
      ]
     },
     "metadata": {},
     "output_type": "display_data"
    },
    {
     "data": {
      "application/vnd.jupyter.widget-view+json": {
       "model_id": "f95dcd24797546f28762f63663ed6d23",
       "version_major": 2,
       "version_minor": 0
      },
      "text/plain": [
       "  0%|          | 0/1 [00:00<?, ?it/s]"
      ]
     },
     "metadata": {},
     "output_type": "display_data"
    },
    {
     "data": {
      "application/vnd.jupyter.widget-view+json": {
       "model_id": "f618a8c86ed84658905a53c9dc9388e6",
       "version_major": 2,
       "version_minor": 0
      },
      "text/plain": [
       "  0%|          | 0/9 [00:00<?, ?it/s]"
      ]
     },
     "metadata": {},
     "output_type": "display_data"
    },
    {
     "data": {
      "application/vnd.jupyter.widget-view+json": {
       "model_id": "286278fb7d3a4e60ac2c90244dacfed0",
       "version_major": 2,
       "version_minor": 0
      },
      "text/plain": [
       "  0%|          | 0/1 [00:00<?, ?it/s]"
      ]
     },
     "metadata": {},
     "output_type": "display_data"
    },
    {
     "data": {
      "application/vnd.jupyter.widget-view+json": {
       "model_id": "4a608ca0f716447c99ea3c29d93cb3b5",
       "version_major": 2,
       "version_minor": 0
      },
      "text/plain": [
       "  0%|          | 0/1 [00:00<?, ?it/s]"
      ]
     },
     "metadata": {},
     "output_type": "display_data"
    },
    {
     "data": {
      "application/vnd.jupyter.widget-view+json": {
       "model_id": "0baff1c318164f95bc84ae5f692641c0",
       "version_major": 2,
       "version_minor": 0
      },
      "text/plain": [
       "  0%|          | 0/1 [00:00<?, ?it/s]"
      ]
     },
     "metadata": {},
     "output_type": "display_data"
    },
    {
     "data": {
      "application/vnd.jupyter.widget-view+json": {
       "model_id": "738826c846b740ce9beffba0196d3060",
       "version_major": 2,
       "version_minor": 0
      },
      "text/plain": [
       "  0%|          | 0/9 [00:00<?, ?it/s]"
      ]
     },
     "metadata": {},
     "output_type": "display_data"
    },
    {
     "data": {
      "application/vnd.jupyter.widget-view+json": {
       "model_id": "0e018c1b567e43a1bef1759abe97f844",
       "version_major": 2,
       "version_minor": 0
      },
      "text/plain": [
       "  0%|          | 0/1 [00:00<?, ?it/s]"
      ]
     },
     "metadata": {},
     "output_type": "display_data"
    },
    {
     "data": {
      "application/vnd.jupyter.widget-view+json": {
       "model_id": "e0e7ebfea3944532a36b3316d1a96d90",
       "version_major": 2,
       "version_minor": 0
      },
      "text/plain": [
       "  0%|          | 0/1 [00:00<?, ?it/s]"
      ]
     },
     "metadata": {},
     "output_type": "display_data"
    },
    {
     "data": {
      "application/vnd.jupyter.widget-view+json": {
       "model_id": "a052c743dbee47d2a08bff767a8c868b",
       "version_major": 2,
       "version_minor": 0
      },
      "text/plain": [
       "  0%|          | 0/1 [00:00<?, ?it/s]"
      ]
     },
     "metadata": {},
     "output_type": "display_data"
    },
    {
     "data": {
      "application/vnd.jupyter.widget-view+json": {
       "model_id": "12757954b3f8423b94c71e7439cc41f8",
       "version_major": 2,
       "version_minor": 0
      },
      "text/plain": [
       "  0%|          | 0/9 [00:00<?, ?it/s]"
      ]
     },
     "metadata": {},
     "output_type": "display_data"
    },
    {
     "data": {
      "application/vnd.jupyter.widget-view+json": {
       "model_id": "91c37cabdf6a4f18a0ff00a55dbc983b",
       "version_major": 2,
       "version_minor": 0
      },
      "text/plain": [
       "  0%|          | 0/1 [00:00<?, ?it/s]"
      ]
     },
     "metadata": {},
     "output_type": "display_data"
    },
    {
     "data": {
      "application/vnd.jupyter.widget-view+json": {
       "model_id": "26adc637c85042b4b858ca4822b077be",
       "version_major": 2,
       "version_minor": 0
      },
      "text/plain": [
       "  0%|          | 0/1 [00:00<?, ?it/s]"
      ]
     },
     "metadata": {},
     "output_type": "display_data"
    },
    {
     "data": {
      "application/vnd.jupyter.widget-view+json": {
       "model_id": "175828fa20f048d5a14545153e9e63fa",
       "version_major": 2,
       "version_minor": 0
      },
      "text/plain": [
       "  0%|          | 0/1 [00:00<?, ?it/s]"
      ]
     },
     "metadata": {},
     "output_type": "display_data"
    },
    {
     "data": {
      "application/vnd.jupyter.widget-view+json": {
       "model_id": "7898bdc6fcc74a1985a1a076329e6648",
       "version_major": 2,
       "version_minor": 0
      },
      "text/plain": [
       "  0%|          | 0/9 [00:00<?, ?it/s]"
      ]
     },
     "metadata": {},
     "output_type": "display_data"
    },
    {
     "data": {
      "application/vnd.jupyter.widget-view+json": {
       "model_id": "c71d94ea102f405fae88d6bd4fadb668",
       "version_major": 2,
       "version_minor": 0
      },
      "text/plain": [
       "  0%|          | 0/1 [00:00<?, ?it/s]"
      ]
     },
     "metadata": {},
     "output_type": "display_data"
    },
    {
     "data": {
      "application/vnd.jupyter.widget-view+json": {
       "model_id": "f404142e0a19496ebeba93a328c71f5b",
       "version_major": 2,
       "version_minor": 0
      },
      "text/plain": [
       "  0%|          | 0/1 [00:00<?, ?it/s]"
      ]
     },
     "metadata": {},
     "output_type": "display_data"
    },
    {
     "data": {
      "application/vnd.jupyter.widget-view+json": {
       "model_id": "55ca2141164c4c66a57dc49bd2b190cf",
       "version_major": 2,
       "version_minor": 0
      },
      "text/plain": [
       "  0%|          | 0/1 [00:00<?, ?it/s]"
      ]
     },
     "metadata": {},
     "output_type": "display_data"
    },
    {
     "data": {
      "application/vnd.jupyter.widget-view+json": {
       "model_id": "efddeae8ff3044b6ad35ced8f4b8fb82",
       "version_major": 2,
       "version_minor": 0
      },
      "text/plain": [
       "  0%|          | 0/9 [00:00<?, ?it/s]"
      ]
     },
     "metadata": {},
     "output_type": "display_data"
    },
    {
     "data": {
      "text/html": [
       "<div>\n",
       "<style scoped>\n",
       "    .dataframe tbody tr th:only-of-type {\n",
       "        vertical-align: middle;\n",
       "    }\n",
       "\n",
       "    .dataframe tbody tr th {\n",
       "        vertical-align: top;\n",
       "    }\n",
       "\n",
       "    .dataframe thead th {\n",
       "        text-align: right;\n",
       "    }\n",
       "</style>\n",
       "<table border=\"1\" class=\"dataframe\">\n",
       "  <thead>\n",
       "    <tr style=\"text-align: right;\">\n",
       "      <th></th>\n",
       "      <th>Metadata_Time</th>\n",
       "      <th>Metadata_dose</th>\n",
       "      <th>Metadata_reference_index</th>\n",
       "      <th>mean_average_precision</th>\n",
       "      <th>indices</th>\n",
       "      <th>p_value</th>\n",
       "      <th>corrected_p_value</th>\n",
       "      <th>below_p</th>\n",
       "      <th>below_corrected_p</th>\n",
       "      <th>-log10(p-value)</th>\n",
       "      <th>percentage_of_cells</th>\n",
       "      <th>seed</th>\n",
       "      <th>shuffle</th>\n",
       "    </tr>\n",
       "  </thead>\n",
       "  <tbody>\n",
       "    <tr>\n",
       "      <th>0</th>\n",
       "      <td>0.0</td>\n",
       "      <td>0.61</td>\n",
       "      <td>-1</td>\n",
       "      <td>0.650000</td>\n",
       "      <td>[0, 9, 18]</td>\n",
       "      <td>3.995696e-01</td>\n",
       "      <td>0.399570</td>\n",
       "      <td>False</td>\n",
       "      <td>False</td>\n",
       "      <td>0.398408</td>\n",
       "      <td>0.1</td>\n",
       "      <td>0</td>\n",
       "      <td>False</td>\n",
       "    </tr>\n",
       "    <tr>\n",
       "      <th>1</th>\n",
       "      <td>0.0</td>\n",
       "      <td>1.22</td>\n",
       "      <td>-1</td>\n",
       "      <td>0.861111</td>\n",
       "      <td>[1, 10, 19]</td>\n",
       "      <td>9.988090e-02</td>\n",
       "      <td>0.112366</td>\n",
       "      <td>False</td>\n",
       "      <td>False</td>\n",
       "      <td>0.949365</td>\n",
       "      <td>0.1</td>\n",
       "      <td>0</td>\n",
       "      <td>False</td>\n",
       "    </tr>\n",
       "    <tr>\n",
       "      <th>2</th>\n",
       "      <td>0.0</td>\n",
       "      <td>2.44</td>\n",
       "      <td>-1</td>\n",
       "      <td>1.000000</td>\n",
       "      <td>[2, 11, 20]</td>\n",
       "      <td>9.999990e-07</td>\n",
       "      <td>0.000001</td>\n",
       "      <td>True</td>\n",
       "      <td>True</td>\n",
       "      <td>5.890856</td>\n",
       "      <td>0.1</td>\n",
       "      <td>0</td>\n",
       "      <td>False</td>\n",
       "    </tr>\n",
       "    <tr>\n",
       "      <th>3</th>\n",
       "      <td>0.0</td>\n",
       "      <td>4.88</td>\n",
       "      <td>-1</td>\n",
       "      <td>1.000000</td>\n",
       "      <td>[3, 12, 21]</td>\n",
       "      <td>9.999990e-07</td>\n",
       "      <td>0.000001</td>\n",
       "      <td>True</td>\n",
       "      <td>True</td>\n",
       "      <td>5.890856</td>\n",
       "      <td>0.1</td>\n",
       "      <td>0</td>\n",
       "      <td>False</td>\n",
       "    </tr>\n",
       "    <tr>\n",
       "      <th>4</th>\n",
       "      <td>0.0</td>\n",
       "      <td>9.77</td>\n",
       "      <td>-1</td>\n",
       "      <td>1.000000</td>\n",
       "      <td>[4, 13, 22]</td>\n",
       "      <td>9.999990e-07</td>\n",
       "      <td>0.000001</td>\n",
       "      <td>True</td>\n",
       "      <td>True</td>\n",
       "      <td>5.890856</td>\n",
       "      <td>0.1</td>\n",
       "      <td>0</td>\n",
       "      <td>False</td>\n",
       "    </tr>\n",
       "  </tbody>\n",
       "</table>\n",
       "</div>"
      ],
      "text/plain": [
       "   Metadata_Time  Metadata_dose  Metadata_reference_index  \\\n",
       "0            0.0           0.61                        -1   \n",
       "1            0.0           1.22                        -1   \n",
       "2            0.0           2.44                        -1   \n",
       "3            0.0           4.88                        -1   \n",
       "4            0.0           9.77                        -1   \n",
       "\n",
       "   mean_average_precision      indices       p_value  corrected_p_value  \\\n",
       "0                0.650000   [0, 9, 18]  3.995696e-01           0.399570   \n",
       "1                0.861111  [1, 10, 19]  9.988090e-02           0.112366   \n",
       "2                1.000000  [2, 11, 20]  9.999990e-07           0.000001   \n",
       "3                1.000000  [3, 12, 21]  9.999990e-07           0.000001   \n",
       "4                1.000000  [4, 13, 22]  9.999990e-07           0.000001   \n",
       "\n",
       "   below_p  below_corrected_p  -log10(p-value)  percentage_of_cells  seed  \\\n",
       "0    False              False         0.398408                  0.1     0   \n",
       "1    False              False         0.949365                  0.1     0   \n",
       "2     True               True         5.890856                  0.1     0   \n",
       "3     True               True         5.890856                  0.1     0   \n",
       "4     True               True         5.890856                  0.1     0   \n",
       "\n",
       "   shuffle  \n",
       "0    False  \n",
       "1    False  \n",
       "2    False  \n",
       "3    False  \n",
       "4    False  "
      ]
     },
     "execution_count": 7,
     "metadata": {},
     "output_type": "execute_result"
    }
   ],
   "source": [
    "dict_of_map_dfs = run_mAP_across_time(\n",
    "    aggregate_df,\n",
    "    seed=set_seed,\n",
    "    time_column=\"Metadata_Time\",\n",
    "    reference_column_name=\"Metadata_dose\",\n",
    "    reference_group=aggregate_df[\"Metadata_dose\"].min(),\n",
    ")\n",
    "\n",
    "\n",
    "output_df = pd.concat(dict_of_map_dfs.values(), keys=dict_of_map_dfs.keys())\n",
    "output_df.reset_index(inplace=True)\n",
    "output_df.rename(columns={\"level_0\": \"Metadata_Time\"}, inplace=True)\n",
    "# add the percentage of cells to the keys\n",
    "output_df[\"percentage_of_cells\"] = percentage\n",
    "output_df[\"seed\"] = set_seed\n",
    "output_df[\"shuffle\"] = shuffle\n",
    "output_df.reset_index(drop=True, inplace=True)\n",
    "output_df.to_parquet(output_file)\n",
    "output_df.head()"
   ]
  }
 ],
 "metadata": {
  "kernelspec": {
   "display_name": "timelapse_map_env",
   "language": "python",
   "name": "python3"
  },
  "language_info": {
   "codemirror_mode": {
    "name": "ipython",
    "version": 3
   },
   "file_extension": ".py",
   "mimetype": "text/x-python",
   "name": "python",
   "nbconvert_exporter": "python",
   "pygments_lexer": "ipython3",
   "version": "3.11.11"
  }
 },
 "nbformat": 4,
 "nbformat_minor": 2
}
