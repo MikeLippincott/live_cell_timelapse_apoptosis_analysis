{
 "cells": [
  {
   "cell_type": "code",
   "execution_count": 1,
   "metadata": {},
   "outputs": [],
   "source": [
    "import argparse\n",
    "import pathlib\n",
    "import random\n",
    "import sys\n",
    "\n",
    "import numpy as np\n",
    "import pandas as pd\n",
    "\n",
    "# check if in a jupyter notebook\n",
    "try:\n",
    "    cfg = get_ipython().config\n",
    "    in_notebook = True\n",
    "except NameError:\n",
    "    in_notebook = False\n",
    "import warnings\n",
    "\n",
    "import pycytominer.aggregate\n",
    "import tqdm\n",
    "\n",
    "# Suppress all RuntimeWarnings\n",
    "warnings.filterwarnings(\"ignore\", category=RuntimeWarning)\n",
    "\n",
    "\n",
    "sys.path.append(\"../utils\")\n",
    "from mAP_utils import run_mAP_across_time"
   ]
  },
  {
   "cell_type": "code",
   "execution_count": null,
   "metadata": {},
   "outputs": [],
   "source": [
    "if not in_notebook:\n",
    "    # setup the argument parser\n",
    "    parser = argparse.ArgumentParser(\n",
    "        description=\"Generate a map for differing cell counts\"\n",
    "    )\n",
    "\n",
    "    parser.add_argument(\n",
    "        \"--percentage\", type=float, help=\"Percentage of wells to use for the map file\"\n",
    "    )\n",
    "    parser.add_argument(\"--seed\", type=int, help=\"Seed for the random number generator\")\n",
    "    parser.add_argument(\n",
    "        \"--shuffle\", action=\"store_true\", help=\"Shuffle the order of the wells\"\n",
    "    )\n",
    "    # parse the arguments\n",
    "    args = parser.parse_args()\n",
    "    percentage = args.percentage\n",
    "    set_seed = args.seed\n",
    "    shuffle = args.shuffle\n",
    "else:\n",
    "    percentage = 0.1\n",
    "    set_seed = 0\n",
    "    shuffle = False\n",
    "\n",
    "output_file = pathlib.Path(\n",
    "    f\"../results/mAP_cell_percentages/{percentage}_{set_seed}_{shuffle}.parquet\"\n",
    ")\n",
    "output_file.parent.mkdir(exist_ok=True, parents=True)"
   ]
  },
  {
   "cell_type": "code",
   "execution_count": 3,
   "metadata": {},
   "outputs": [
    {
     "data": {
      "text/html": [
       "<div>\n",
       "<style scoped>\n",
       "    .dataframe tbody tr th:only-of-type {\n",
       "        vertical-align: middle;\n",
       "    }\n",
       "\n",
       "    .dataframe tbody tr th {\n",
       "        vertical-align: top;\n",
       "    }\n",
       "\n",
       "    .dataframe thead th {\n",
       "        text-align: right;\n",
       "    }\n",
       "</style>\n",
       "<table border=\"1\" class=\"dataframe\">\n",
       "  <thead>\n",
       "    <tr style=\"text-align: right;\">\n",
       "      <th></th>\n",
       "      <th>Metadata_plate</th>\n",
       "      <th>Metadata_Well</th>\n",
       "      <th>Metadata_number_of_singlecells</th>\n",
       "      <th>Metadata_compound</th>\n",
       "      <th>Metadata_dose</th>\n",
       "      <th>Metadata_control</th>\n",
       "      <th>Metadata_ImageNumber</th>\n",
       "      <th>Metadata_FOV</th>\n",
       "      <th>Metadata_Time</th>\n",
       "      <th>Metadata_Cells_Number_Object_Number</th>\n",
       "      <th>...</th>\n",
       "      <th>Nuclei_Texture_DifferenceVariance_CL_488_1_3_00_256</th>\n",
       "      <th>Nuclei_Texture_DifferenceVariance_CL_488_2_3_01_256</th>\n",
       "      <th>Nuclei_Texture_DifferenceVariance_CL_561_3_02_256</th>\n",
       "      <th>Nuclei_Texture_InverseDifferenceMoment_CL_488_1_3_01_256</th>\n",
       "      <th>Nuclei_Texture_InverseDifferenceMoment_CL_561_3_01_256</th>\n",
       "      <th>Nuclei_Texture_InverseDifferenceMoment_DNA_3_00_256</th>\n",
       "      <th>Nuclei_Texture_SumAverage_CL_488_1_3_03_256</th>\n",
       "      <th>Nuclei_Texture_SumAverage_CL_488_2_3_03_256</th>\n",
       "      <th>Nuclei_Texture_SumAverage_CL_561_3_02_256</th>\n",
       "      <th>Nuclei_Texture_SumAverage_DNA_3_00_256</th>\n",
       "    </tr>\n",
       "  </thead>\n",
       "  <tbody>\n",
       "    <tr>\n",
       "      <th>0</th>\n",
       "      <td>1</td>\n",
       "      <td>D-02</td>\n",
       "      <td>192</td>\n",
       "      <td>Staurosporine</td>\n",
       "      <td>0.0</td>\n",
       "      <td>negative</td>\n",
       "      <td>1</td>\n",
       "      <td>0001</td>\n",
       "      <td>0.0</td>\n",
       "      <td>2</td>\n",
       "      <td>...</td>\n",
       "      <td>1.439092</td>\n",
       "      <td>0.891046</td>\n",
       "      <td>1.500406</td>\n",
       "      <td>0.587907</td>\n",
       "      <td>0.617193</td>\n",
       "      <td>-3.721488</td>\n",
       "      <td>-0.232102</td>\n",
       "      <td>0.381277</td>\n",
       "      <td>-0.044157</td>\n",
       "      <td>-3.411162</td>\n",
       "    </tr>\n",
       "    <tr>\n",
       "      <th>1</th>\n",
       "      <td>1</td>\n",
       "      <td>D-02</td>\n",
       "      <td>192</td>\n",
       "      <td>Staurosporine</td>\n",
       "      <td>0.0</td>\n",
       "      <td>negative</td>\n",
       "      <td>1</td>\n",
       "      <td>0001</td>\n",
       "      <td>0.0</td>\n",
       "      <td>23</td>\n",
       "      <td>...</td>\n",
       "      <td>-1.048757</td>\n",
       "      <td>0.629287</td>\n",
       "      <td>0.600013</td>\n",
       "      <td>-0.178073</td>\n",
       "      <td>0.464530</td>\n",
       "      <td>0.297776</td>\n",
       "      <td>0.356853</td>\n",
       "      <td>0.381277</td>\n",
       "      <td>0.040152</td>\n",
       "      <td>0.158581</td>\n",
       "    </tr>\n",
       "    <tr>\n",
       "      <th>2</th>\n",
       "      <td>1</td>\n",
       "      <td>D-02</td>\n",
       "      <td>192</td>\n",
       "      <td>Staurosporine</td>\n",
       "      <td>0.0</td>\n",
       "      <td>negative</td>\n",
       "      <td>1</td>\n",
       "      <td>0001</td>\n",
       "      <td>0.0</td>\n",
       "      <td>31</td>\n",
       "      <td>...</td>\n",
       "      <td>0.480107</td>\n",
       "      <td>0.891046</td>\n",
       "      <td>0.380827</td>\n",
       "      <td>0.448919</td>\n",
       "      <td>0.390155</td>\n",
       "      <td>0.297776</td>\n",
       "      <td>-0.232102</td>\n",
       "      <td>0.381277</td>\n",
       "      <td>0.078288</td>\n",
       "      <td>0.158581</td>\n",
       "    </tr>\n",
       "    <tr>\n",
       "      <th>3</th>\n",
       "      <td>1</td>\n",
       "      <td>D-02</td>\n",
       "      <td>192</td>\n",
       "      <td>Staurosporine</td>\n",
       "      <td>0.0</td>\n",
       "      <td>negative</td>\n",
       "      <td>1</td>\n",
       "      <td>0001</td>\n",
       "      <td>0.0</td>\n",
       "      <td>35</td>\n",
       "      <td>...</td>\n",
       "      <td>-0.616834</td>\n",
       "      <td>0.891046</td>\n",
       "      <td>0.863686</td>\n",
       "      <td>0.217271</td>\n",
       "      <td>0.565594</td>\n",
       "      <td>0.297776</td>\n",
       "      <td>-0.030175</td>\n",
       "      <td>0.381277</td>\n",
       "      <td>-0.002435</td>\n",
       "      <td>0.158581</td>\n",
       "    </tr>\n",
       "    <tr>\n",
       "      <th>4</th>\n",
       "      <td>1</td>\n",
       "      <td>D-02</td>\n",
       "      <td>192</td>\n",
       "      <td>Staurosporine</td>\n",
       "      <td>0.0</td>\n",
       "      <td>negative</td>\n",
       "      <td>1</td>\n",
       "      <td>0001</td>\n",
       "      <td>0.0</td>\n",
       "      <td>40</td>\n",
       "      <td>...</td>\n",
       "      <td>1.439092</td>\n",
       "      <td>-1.464788</td>\n",
       "      <td>-0.659766</td>\n",
       "      <td>0.587907</td>\n",
       "      <td>0.104220</td>\n",
       "      <td>0.297776</td>\n",
       "      <td>-0.232102</td>\n",
       "      <td>-1.424332</td>\n",
       "      <td>0.471232</td>\n",
       "      <td>0.158581</td>\n",
       "    </tr>\n",
       "  </tbody>\n",
       "</table>\n",
       "<p>5 rows × 847 columns</p>\n",
       "</div>"
      ],
      "text/plain": [
       "   Metadata_plate Metadata_Well  Metadata_number_of_singlecells  \\\n",
       "0               1          D-02                             192   \n",
       "1               1          D-02                             192   \n",
       "2               1          D-02                             192   \n",
       "3               1          D-02                             192   \n",
       "4               1          D-02                             192   \n",
       "\n",
       "  Metadata_compound  Metadata_dose Metadata_control  Metadata_ImageNumber  \\\n",
       "0     Staurosporine            0.0         negative                     1   \n",
       "1     Staurosporine            0.0         negative                     1   \n",
       "2     Staurosporine            0.0         negative                     1   \n",
       "3     Staurosporine            0.0         negative                     1   \n",
       "4     Staurosporine            0.0         negative                     1   \n",
       "\n",
       "  Metadata_FOV  Metadata_Time  Metadata_Cells_Number_Object_Number  ...  \\\n",
       "0         0001            0.0                                    2  ...   \n",
       "1         0001            0.0                                   23  ...   \n",
       "2         0001            0.0                                   31  ...   \n",
       "3         0001            0.0                                   35  ...   \n",
       "4         0001            0.0                                   40  ...   \n",
       "\n",
       "   Nuclei_Texture_DifferenceVariance_CL_488_1_3_00_256  \\\n",
       "0                                           1.439092     \n",
       "1                                          -1.048757     \n",
       "2                                           0.480107     \n",
       "3                                          -0.616834     \n",
       "4                                           1.439092     \n",
       "\n",
       "   Nuclei_Texture_DifferenceVariance_CL_488_2_3_01_256  \\\n",
       "0                                           0.891046     \n",
       "1                                           0.629287     \n",
       "2                                           0.891046     \n",
       "3                                           0.891046     \n",
       "4                                          -1.464788     \n",
       "\n",
       "   Nuclei_Texture_DifferenceVariance_CL_561_3_02_256  \\\n",
       "0                                           1.500406   \n",
       "1                                           0.600013   \n",
       "2                                           0.380827   \n",
       "3                                           0.863686   \n",
       "4                                          -0.659766   \n",
       "\n",
       "   Nuclei_Texture_InverseDifferenceMoment_CL_488_1_3_01_256  \\\n",
       "0                                           0.587907          \n",
       "1                                          -0.178073          \n",
       "2                                           0.448919          \n",
       "3                                           0.217271          \n",
       "4                                           0.587907          \n",
       "\n",
       "   Nuclei_Texture_InverseDifferenceMoment_CL_561_3_01_256  \\\n",
       "0                                           0.617193        \n",
       "1                                           0.464530        \n",
       "2                                           0.390155        \n",
       "3                                           0.565594        \n",
       "4                                           0.104220        \n",
       "\n",
       "   Nuclei_Texture_InverseDifferenceMoment_DNA_3_00_256  \\\n",
       "0                                          -3.721488     \n",
       "1                                           0.297776     \n",
       "2                                           0.297776     \n",
       "3                                           0.297776     \n",
       "4                                           0.297776     \n",
       "\n",
       "  Nuclei_Texture_SumAverage_CL_488_1_3_03_256  \\\n",
       "0                                   -0.232102   \n",
       "1                                    0.356853   \n",
       "2                                   -0.232102   \n",
       "3                                   -0.030175   \n",
       "4                                   -0.232102   \n",
       "\n",
       "  Nuclei_Texture_SumAverage_CL_488_2_3_03_256  \\\n",
       "0                                    0.381277   \n",
       "1                                    0.381277   \n",
       "2                                    0.381277   \n",
       "3                                    0.381277   \n",
       "4                                   -1.424332   \n",
       "\n",
       "  Nuclei_Texture_SumAverage_CL_561_3_02_256  \\\n",
       "0                                 -0.044157   \n",
       "1                                  0.040152   \n",
       "2                                  0.078288   \n",
       "3                                 -0.002435   \n",
       "4                                  0.471232   \n",
       "\n",
       "  Nuclei_Texture_SumAverage_DNA_3_00_256  \n",
       "0                              -3.411162  \n",
       "1                               0.158581  \n",
       "2                               0.158581  \n",
       "3                               0.158581  \n",
       "4                               0.158581  \n",
       "\n",
       "[5 rows x 847 columns]"
      ]
     },
     "execution_count": 3,
     "metadata": {},
     "output_type": "execute_result"
    }
   ],
   "source": [
    "data_file_path = pathlib.Path(\n",
    "    \"../../data/CP_feature_select/profiles/features_selected_profile.parquet\"\n",
    ").resolve(strict=True)\n",
    "df = pd.read_parquet(data_file_path)\n",
    "\n",
    "df.head()"
   ]
  },
  {
   "cell_type": "code",
   "execution_count": 4,
   "metadata": {},
   "outputs": [
    {
     "name": "stderr",
     "output_type": "stream",
     "text": [
      "/tmp/ipykernel_2158220/238729661.py:2: DeprecationWarning: DataFrameGroupBy.apply operated on the grouping columns. This behavior is deprecated, and in a future version of pandas the grouping columns will be excluded from the operation. Either pass `include_groups=False` to exclude the groupings or explicitly select the grouping columns after groupby to silence this warning.\n",
      "  subset_df = df.groupby([\"Metadata_Time\", \"Metadata_Well\"]).apply(\n"
     ]
    }
   ],
   "source": [
    "random.seed(set_seed)\n",
    "subset_df = df.groupby([\"Metadata_Time\", \"Metadata_Well\"]).apply(\n",
    "    lambda x: x.sample(frac=percentage, random_state=set_seed),\n",
    "    include_groups=True,\n",
    ")"
   ]
  },
  {
   "cell_type": "code",
   "execution_count": 5,
   "metadata": {},
   "outputs": [
    {
     "name": "stderr",
     "output_type": "stream",
     "text": [
      "/home/lippincm/miniforge3/envs/timelapse_map_env/lib/python3.11/site-packages/pycytominer/aggregate.py:111: PerformanceWarning: DataFrame is highly fragmented.  This is usually the result of calling `frame.insert` many times, which has poor performance.  Consider joining all columns at once using pd.concat(axis=1) instead. To get a de-fragmented frame, use `newframe = frame.copy()`\n",
      "  population_df = population_df.median().reset_index()\n",
      "/home/lippincm/miniforge3/envs/timelapse_map_env/lib/python3.11/site-packages/pycytominer/aggregate.py:111: PerformanceWarning: DataFrame is highly fragmented.  This is usually the result of calling `frame.insert` many times, which has poor performance.  Consider joining all columns at once using pd.concat(axis=1) instead. To get a de-fragmented frame, use `newframe = frame.copy()`\n",
      "  population_df = population_df.median().reset_index()\n"
     ]
    }
   ],
   "source": [
    "subset_df.reset_index(drop=True, inplace=True)\n",
    "if shuffle:\n",
    "    # permutate the data\n",
    "    for col in subset_df.columns:\n",
    "        if col == \"Metadata_Time\":\n",
    "            continue\n",
    "        if col == \"Metadata_dose\":\n",
    "            continue\n",
    "        if col == \"Metadata_Well\":\n",
    "            continue\n",
    "        subset_df[col] = np.random.permutation(subset_df[col])\n",
    "metadata_cols = [cols for cols in subset_df.columns if \"Metadata\" in cols]\n",
    "features_cols = [cols for cols in subset_df.columns if \"Metadata\" not in cols]\n",
    "features_cols = features_cols + [\"Metadata_number_of_singlecells\"]\n",
    "aggregate_df = pycytominer.aggregate(\n",
    "    population_df=subset_df,\n",
    "    strata=[\"Metadata_Well\", \"Metadata_Time\"],\n",
    "    features=features_cols,\n",
    "    operation=\"median\",\n",
    ")"
   ]
  },
  {
   "cell_type": "code",
   "execution_count": 6,
   "metadata": {},
   "outputs": [
    {
     "data": {
      "text/html": [
       "<div>\n",
       "<style scoped>\n",
       "    .dataframe tbody tr th:only-of-type {\n",
       "        vertical-align: middle;\n",
       "    }\n",
       "\n",
       "    .dataframe tbody tr th {\n",
       "        vertical-align: top;\n",
       "    }\n",
       "\n",
       "    .dataframe thead th {\n",
       "        text-align: right;\n",
       "    }\n",
       "</style>\n",
       "<table border=\"1\" class=\"dataframe\">\n",
       "  <thead>\n",
       "    <tr style=\"text-align: right;\">\n",
       "      <th></th>\n",
       "      <th>Metadata_plate</th>\n",
       "      <th>Metadata_Well</th>\n",
       "      <th>Metadata_number_of_singlecells_x</th>\n",
       "      <th>Metadata_compound</th>\n",
       "      <th>Metadata_dose</th>\n",
       "      <th>Metadata_control</th>\n",
       "      <th>Metadata_ImageNumber</th>\n",
       "      <th>Metadata_FOV</th>\n",
       "      <th>Metadata_Time</th>\n",
       "      <th>Metadata_Cells_Number_Object_Number</th>\n",
       "      <th>...</th>\n",
       "      <th>Nuclei_Texture_DifferenceVariance_CL_488_2_3_01_256</th>\n",
       "      <th>Nuclei_Texture_DifferenceVariance_CL_561_3_02_256</th>\n",
       "      <th>Nuclei_Texture_InverseDifferenceMoment_CL_488_1_3_01_256</th>\n",
       "      <th>Nuclei_Texture_InverseDifferenceMoment_CL_561_3_01_256</th>\n",
       "      <th>Nuclei_Texture_InverseDifferenceMoment_DNA_3_00_256</th>\n",
       "      <th>Nuclei_Texture_SumAverage_CL_488_1_3_03_256</th>\n",
       "      <th>Nuclei_Texture_SumAverage_CL_488_2_3_03_256</th>\n",
       "      <th>Nuclei_Texture_SumAverage_CL_561_3_02_256</th>\n",
       "      <th>Nuclei_Texture_SumAverage_DNA_3_00_256</th>\n",
       "      <th>Metadata_number_of_singlecells_y</th>\n",
       "    </tr>\n",
       "  </thead>\n",
       "  <tbody>\n",
       "    <tr>\n",
       "      <th>0</th>\n",
       "      <td>1</td>\n",
       "      <td>C-02</td>\n",
       "      <td>201</td>\n",
       "      <td>Staurosporine</td>\n",
       "      <td>0.00</td>\n",
       "      <td>test</td>\n",
       "      <td>11</td>\n",
       "      <td>0001</td>\n",
       "      <td>0.0</td>\n",
       "      <td>50</td>\n",
       "      <td>...</td>\n",
       "      <td>0.088992</td>\n",
       "      <td>-0.721353</td>\n",
       "      <td>-0.220752</td>\n",
       "      <td>0.097002</td>\n",
       "      <td>0.297776</td>\n",
       "      <td>-0.152855</td>\n",
       "      <td>-1.424332</td>\n",
       "      <td>0.034072</td>\n",
       "      <td>0.158581</td>\n",
       "      <td>192.0</td>\n",
       "    </tr>\n",
       "    <tr>\n",
       "      <th>1</th>\n",
       "      <td>1</td>\n",
       "      <td>C-03</td>\n",
       "      <td>189</td>\n",
       "      <td>Staurosporine</td>\n",
       "      <td>0.61</td>\n",
       "      <td>test</td>\n",
       "      <td>11</td>\n",
       "      <td>0002</td>\n",
       "      <td>0.0</td>\n",
       "      <td>31</td>\n",
       "      <td>...</td>\n",
       "      <td>-1.464788</td>\n",
       "      <td>-0.064935</td>\n",
       "      <td>0.103997</td>\n",
       "      <td>0.268528</td>\n",
       "      <td>0.297776</td>\n",
       "      <td>-0.232102</td>\n",
       "      <td>0.381277</td>\n",
       "      <td>0.098650</td>\n",
       "      <td>0.158581</td>\n",
       "      <td>189.0</td>\n",
       "    </tr>\n",
       "    <tr>\n",
       "      <th>2</th>\n",
       "      <td>1</td>\n",
       "      <td>C-04</td>\n",
       "      <td>132</td>\n",
       "      <td>Staurosporine</td>\n",
       "      <td>1.22</td>\n",
       "      <td>positive</td>\n",
       "      <td>13</td>\n",
       "      <td>0003</td>\n",
       "      <td>0.0</td>\n",
       "      <td>47</td>\n",
       "      <td>...</td>\n",
       "      <td>-1.024244</td>\n",
       "      <td>-0.815722</td>\n",
       "      <td>0.239337</td>\n",
       "      <td>0.217239</td>\n",
       "      <td>0.297776</td>\n",
       "      <td>-0.232102</td>\n",
       "      <td>0.381277</td>\n",
       "      <td>0.146068</td>\n",
       "      <td>0.158581</td>\n",
       "      <td>195.0</td>\n",
       "    </tr>\n",
       "    <tr>\n",
       "      <th>3</th>\n",
       "      <td>1</td>\n",
       "      <td>C-05</td>\n",
       "      <td>197</td>\n",
       "      <td>Staurosporine</td>\n",
       "      <td>2.44</td>\n",
       "      <td>test</td>\n",
       "      <td>2</td>\n",
       "      <td>0001</td>\n",
       "      <td>0.0</td>\n",
       "      <td>35</td>\n",
       "      <td>...</td>\n",
       "      <td>-1.464788</td>\n",
       "      <td>-0.432720</td>\n",
       "      <td>0.183577</td>\n",
       "      <td>0.156433</td>\n",
       "      <td>0.297776</td>\n",
       "      <td>-0.186962</td>\n",
       "      <td>0.381277</td>\n",
       "      <td>0.031514</td>\n",
       "      <td>0.158581</td>\n",
       "      <td>192.0</td>\n",
       "    </tr>\n",
       "    <tr>\n",
       "      <th>4</th>\n",
       "      <td>1</td>\n",
       "      <td>C-06</td>\n",
       "      <td>97</td>\n",
       "      <td>Staurosporine</td>\n",
       "      <td>4.88</td>\n",
       "      <td>test</td>\n",
       "      <td>3</td>\n",
       "      <td>0001</td>\n",
       "      <td>0.0</td>\n",
       "      <td>153</td>\n",
       "      <td>...</td>\n",
       "      <td>-1.464788</td>\n",
       "      <td>-0.813846</td>\n",
       "      <td>-0.086482</td>\n",
       "      <td>0.304100</td>\n",
       "      <td>0.297776</td>\n",
       "      <td>-0.232102</td>\n",
       "      <td>-1.424332</td>\n",
       "      <td>0.177911</td>\n",
       "      <td>0.158581</td>\n",
       "      <td>186.0</td>\n",
       "    </tr>\n",
       "  </tbody>\n",
       "</table>\n",
       "<p>5 rows × 848 columns</p>\n",
       "</div>"
      ],
      "text/plain": [
       "   Metadata_plate Metadata_Well  Metadata_number_of_singlecells_x  \\\n",
       "0               1          C-02                               201   \n",
       "1               1          C-03                               189   \n",
       "2               1          C-04                               132   \n",
       "3               1          C-05                               197   \n",
       "4               1          C-06                                97   \n",
       "\n",
       "  Metadata_compound  Metadata_dose Metadata_control  Metadata_ImageNumber  \\\n",
       "0     Staurosporine           0.00             test                    11   \n",
       "1     Staurosporine           0.61             test                    11   \n",
       "2     Staurosporine           1.22         positive                    13   \n",
       "3     Staurosporine           2.44             test                     2   \n",
       "4     Staurosporine           4.88             test                     3   \n",
       "\n",
       "  Metadata_FOV  Metadata_Time  Metadata_Cells_Number_Object_Number  ...  \\\n",
       "0         0001            0.0                                   50  ...   \n",
       "1         0002            0.0                                   31  ...   \n",
       "2         0003            0.0                                   47  ...   \n",
       "3         0001            0.0                                   35  ...   \n",
       "4         0001            0.0                                  153  ...   \n",
       "\n",
       "   Nuclei_Texture_DifferenceVariance_CL_488_2_3_01_256  \\\n",
       "0                                           0.088992     \n",
       "1                                          -1.464788     \n",
       "2                                          -1.024244     \n",
       "3                                          -1.464788     \n",
       "4                                          -1.464788     \n",
       "\n",
       "   Nuclei_Texture_DifferenceVariance_CL_561_3_02_256  \\\n",
       "0                                          -0.721353   \n",
       "1                                          -0.064935   \n",
       "2                                          -0.815722   \n",
       "3                                          -0.432720   \n",
       "4                                          -0.813846   \n",
       "\n",
       "   Nuclei_Texture_InverseDifferenceMoment_CL_488_1_3_01_256  \\\n",
       "0                                          -0.220752          \n",
       "1                                           0.103997          \n",
       "2                                           0.239337          \n",
       "3                                           0.183577          \n",
       "4                                          -0.086482          \n",
       "\n",
       "   Nuclei_Texture_InverseDifferenceMoment_CL_561_3_01_256  \\\n",
       "0                                           0.097002        \n",
       "1                                           0.268528        \n",
       "2                                           0.217239        \n",
       "3                                           0.156433        \n",
       "4                                           0.304100        \n",
       "\n",
       "   Nuclei_Texture_InverseDifferenceMoment_DNA_3_00_256  \\\n",
       "0                                           0.297776     \n",
       "1                                           0.297776     \n",
       "2                                           0.297776     \n",
       "3                                           0.297776     \n",
       "4                                           0.297776     \n",
       "\n",
       "   Nuclei_Texture_SumAverage_CL_488_1_3_03_256  \\\n",
       "0                                    -0.152855   \n",
       "1                                    -0.232102   \n",
       "2                                    -0.232102   \n",
       "3                                    -0.186962   \n",
       "4                                    -0.232102   \n",
       "\n",
       "  Nuclei_Texture_SumAverage_CL_488_2_3_03_256  \\\n",
       "0                                   -1.424332   \n",
       "1                                    0.381277   \n",
       "2                                    0.381277   \n",
       "3                                    0.381277   \n",
       "4                                   -1.424332   \n",
       "\n",
       "  Nuclei_Texture_SumAverage_CL_561_3_02_256  \\\n",
       "0                                  0.034072   \n",
       "1                                  0.098650   \n",
       "2                                  0.146068   \n",
       "3                                  0.031514   \n",
       "4                                  0.177911   \n",
       "\n",
       "  Nuclei_Texture_SumAverage_DNA_3_00_256 Metadata_number_of_singlecells_y  \n",
       "0                               0.158581                            192.0  \n",
       "1                               0.158581                            189.0  \n",
       "2                               0.158581                            195.0  \n",
       "3                               0.158581                            192.0  \n",
       "4                               0.158581                            186.0  \n",
       "\n",
       "[5 rows x 848 columns]"
      ]
     },
     "execution_count": 6,
     "metadata": {},
     "output_type": "execute_result"
    }
   ],
   "source": [
    "metadata_df = subset_df[metadata_cols]\n",
    "metadata_df = metadata_df.drop_duplicates(subset=[\"Metadata_Well\", \"Metadata_Time\"])\n",
    "metadata_df = metadata_df.reset_index(drop=True)\n",
    "aggregate_df = pd.merge(\n",
    "    metadata_df, aggregate_df, on=[\"Metadata_Well\", \"Metadata_Time\"]\n",
    ")\n",
    "aggregate_df.head()"
   ]
  },
  {
   "cell_type": "code",
   "execution_count": 7,
   "metadata": {},
   "outputs": [
    {
     "data": {
      "application/vnd.jupyter.widget-view+json": {
       "model_id": "3458ae5b8d514e458391fa1cbe421830",
       "version_major": 2,
       "version_minor": 0
      },
      "text/plain": [
       "  0%|          | 0/1 [00:00<?, ?it/s]"
      ]
     },
     "metadata": {},
     "output_type": "display_data"
    },
    {
     "data": {
      "application/vnd.jupyter.widget-view+json": {
       "model_id": "c6dcae60377d4147a819279d6f52c3b6",
       "version_major": 2,
       "version_minor": 0
      },
      "text/plain": [
       "  0%|          | 0/1 [00:00<?, ?it/s]"
      ]
     },
     "metadata": {},
     "output_type": "display_data"
    },
    {
     "data": {
      "application/vnd.jupyter.widget-view+json": {
       "model_id": "224fcd33419645b2a189652eea48f1a6",
       "version_major": 2,
       "version_minor": 0
      },
      "text/plain": [
       "  0%|          | 0/1 [00:00<?, ?it/s]"
      ]
     },
     "metadata": {},
     "output_type": "display_data"
    },
    {
     "data": {
      "application/vnd.jupyter.widget-view+json": {
       "model_id": "ed51fe5125554631a064fb83e64d3228",
       "version_major": 2,
       "version_minor": 0
      },
      "text/plain": [
       "  0%|          | 0/9 [00:00<?, ?it/s]"
      ]
     },
     "metadata": {},
     "output_type": "display_data"
    },
    {
     "data": {
      "application/vnd.jupyter.widget-view+json": {
       "model_id": "313a241ee17d430ebf4e8f0c6c14aa37",
       "version_major": 2,
       "version_minor": 0
      },
      "text/plain": [
       "  0%|          | 0/1 [00:00<?, ?it/s]"
      ]
     },
     "metadata": {},
     "output_type": "display_data"
    },
    {
     "data": {
      "application/vnd.jupyter.widget-view+json": {
       "model_id": "655c3cbd783b4f2691ff8643ec115f5c",
       "version_major": 2,
       "version_minor": 0
      },
      "text/plain": [
       "  0%|          | 0/1 [00:00<?, ?it/s]"
      ]
     },
     "metadata": {},
     "output_type": "display_data"
    },
    {
     "data": {
      "application/vnd.jupyter.widget-view+json": {
       "model_id": "1b2e1cf16a714c2bbd9e3066bd784af8",
       "version_major": 2,
       "version_minor": 0
      },
      "text/plain": [
       "  0%|          | 0/1 [00:00<?, ?it/s]"
      ]
     },
     "metadata": {},
     "output_type": "display_data"
    },
    {
     "data": {
      "application/vnd.jupyter.widget-view+json": {
       "model_id": "e0c506c7f4ee4d749b3e1668ef484c9f",
       "version_major": 2,
       "version_minor": 0
      },
      "text/plain": [
       "  0%|          | 0/9 [00:00<?, ?it/s]"
      ]
     },
     "metadata": {},
     "output_type": "display_data"
    },
    {
     "data": {
      "application/vnd.jupyter.widget-view+json": {
       "model_id": "8084fcd654a44d25915a61b054ded818",
       "version_major": 2,
       "version_minor": 0
      },
      "text/plain": [
       "  0%|          | 0/1 [00:00<?, ?it/s]"
      ]
     },
     "metadata": {},
     "output_type": "display_data"
    },
    {
     "data": {
      "application/vnd.jupyter.widget-view+json": {
       "model_id": "c2400049db2244c495ac9a3d199be3e2",
       "version_major": 2,
       "version_minor": 0
      },
      "text/plain": [
       "  0%|          | 0/1 [00:00<?, ?it/s]"
      ]
     },
     "metadata": {},
     "output_type": "display_data"
    },
    {
     "data": {
      "application/vnd.jupyter.widget-view+json": {
       "model_id": "8a8cd0e073304e4788c1542da9988fbe",
       "version_major": 2,
       "version_minor": 0
      },
      "text/plain": [
       "  0%|          | 0/1 [00:00<?, ?it/s]"
      ]
     },
     "metadata": {},
     "output_type": "display_data"
    },
    {
     "data": {
      "application/vnd.jupyter.widget-view+json": {
       "model_id": "93792e0a77a3481cbb4bf74b4e532e48",
       "version_major": 2,
       "version_minor": 0
      },
      "text/plain": [
       "  0%|          | 0/9 [00:00<?, ?it/s]"
      ]
     },
     "metadata": {},
     "output_type": "display_data"
    },
    {
     "data": {
      "application/vnd.jupyter.widget-view+json": {
       "model_id": "69863cea721e49cf9f04c7956c42f4a9",
       "version_major": 2,
       "version_minor": 0
      },
      "text/plain": [
       "  0%|          | 0/1 [00:00<?, ?it/s]"
      ]
     },
     "metadata": {},
     "output_type": "display_data"
    },
    {
     "data": {
      "application/vnd.jupyter.widget-view+json": {
       "model_id": "59b65ff2372a49058e55125f8ba90118",
       "version_major": 2,
       "version_minor": 0
      },
      "text/plain": [
       "  0%|          | 0/1 [00:00<?, ?it/s]"
      ]
     },
     "metadata": {},
     "output_type": "display_data"
    },
    {
     "data": {
      "application/vnd.jupyter.widget-view+json": {
       "model_id": "8b0f445807344f558da69dfca624f92e",
       "version_major": 2,
       "version_minor": 0
      },
      "text/plain": [
       "  0%|          | 0/1 [00:00<?, ?it/s]"
      ]
     },
     "metadata": {},
     "output_type": "display_data"
    },
    {
     "data": {
      "application/vnd.jupyter.widget-view+json": {
       "model_id": "9a46f15292b243ec92d97c4fbfac91e8",
       "version_major": 2,
       "version_minor": 0
      },
      "text/plain": [
       "  0%|          | 0/9 [00:00<?, ?it/s]"
      ]
     },
     "metadata": {},
     "output_type": "display_data"
    },
    {
     "data": {
      "application/vnd.jupyter.widget-view+json": {
       "model_id": "e837c350497c4026ac442e36c8627cc2",
       "version_major": 2,
       "version_minor": 0
      },
      "text/plain": [
       "  0%|          | 0/1 [00:00<?, ?it/s]"
      ]
     },
     "metadata": {},
     "output_type": "display_data"
    },
    {
     "data": {
      "application/vnd.jupyter.widget-view+json": {
       "model_id": "4c970f4028844a47abb58bf574c90790",
       "version_major": 2,
       "version_minor": 0
      },
      "text/plain": [
       "  0%|          | 0/1 [00:00<?, ?it/s]"
      ]
     },
     "metadata": {},
     "output_type": "display_data"
    },
    {
     "data": {
      "application/vnd.jupyter.widget-view+json": {
       "model_id": "caaf5bf80999400aa3f29aeafacf9404",
       "version_major": 2,
       "version_minor": 0
      },
      "text/plain": [
       "  0%|          | 0/1 [00:00<?, ?it/s]"
      ]
     },
     "metadata": {},
     "output_type": "display_data"
    },
    {
     "data": {
      "application/vnd.jupyter.widget-view+json": {
       "model_id": "d42a424ff1bd4971bf03cdf687bad902",
       "version_major": 2,
       "version_minor": 0
      },
      "text/plain": [
       "  0%|          | 0/9 [00:00<?, ?it/s]"
      ]
     },
     "metadata": {},
     "output_type": "display_data"
    },
    {
     "data": {
      "application/vnd.jupyter.widget-view+json": {
       "model_id": "3c77cc2b01c44f7d80394a0d71f2ec09",
       "version_major": 2,
       "version_minor": 0
      },
      "text/plain": [
       "  0%|          | 0/1 [00:00<?, ?it/s]"
      ]
     },
     "metadata": {},
     "output_type": "display_data"
    },
    {
     "data": {
      "application/vnd.jupyter.widget-view+json": {
       "model_id": "263ae44e7129450e98c769ac579598b4",
       "version_major": 2,
       "version_minor": 0
      },
      "text/plain": [
       "  0%|          | 0/1 [00:00<?, ?it/s]"
      ]
     },
     "metadata": {},
     "output_type": "display_data"
    },
    {
     "data": {
      "application/vnd.jupyter.widget-view+json": {
       "model_id": "f553075dbdde4347bc54c73f67afbd9d",
       "version_major": 2,
       "version_minor": 0
      },
      "text/plain": [
       "  0%|          | 0/1 [00:00<?, ?it/s]"
      ]
     },
     "metadata": {},
     "output_type": "display_data"
    },
    {
     "data": {
      "application/vnd.jupyter.widget-view+json": {
       "model_id": "875e848da980420b84ae692557651be7",
       "version_major": 2,
       "version_minor": 0
      },
      "text/plain": [
       "  0%|          | 0/9 [00:00<?, ?it/s]"
      ]
     },
     "metadata": {},
     "output_type": "display_data"
    },
    {
     "data": {
      "application/vnd.jupyter.widget-view+json": {
       "model_id": "fe34e296e77f4a17b9c6cf593640717f",
       "version_major": 2,
       "version_minor": 0
      },
      "text/plain": [
       "  0%|          | 0/1 [00:00<?, ?it/s]"
      ]
     },
     "metadata": {},
     "output_type": "display_data"
    },
    {
     "data": {
      "application/vnd.jupyter.widget-view+json": {
       "model_id": "f4fa6638493644dfa31833400a68e0f6",
       "version_major": 2,
       "version_minor": 0
      },
      "text/plain": [
       "  0%|          | 0/1 [00:00<?, ?it/s]"
      ]
     },
     "metadata": {},
     "output_type": "display_data"
    },
    {
     "data": {
      "application/vnd.jupyter.widget-view+json": {
       "model_id": "e32b063b26e74644840024fa22207dc5",
       "version_major": 2,
       "version_minor": 0
      },
      "text/plain": [
       "  0%|          | 0/1 [00:00<?, ?it/s]"
      ]
     },
     "metadata": {},
     "output_type": "display_data"
    },
    {
     "data": {
      "application/vnd.jupyter.widget-view+json": {
       "model_id": "70004999c9f74b67bd469020bf514c6e",
       "version_major": 2,
       "version_minor": 0
      },
      "text/plain": [
       "  0%|          | 0/9 [00:00<?, ?it/s]"
      ]
     },
     "metadata": {},
     "output_type": "display_data"
    },
    {
     "data": {
      "application/vnd.jupyter.widget-view+json": {
       "model_id": "c4ec3a84c802474695e273fab832eb5c",
       "version_major": 2,
       "version_minor": 0
      },
      "text/plain": [
       "  0%|          | 0/1 [00:00<?, ?it/s]"
      ]
     },
     "metadata": {},
     "output_type": "display_data"
    },
    {
     "data": {
      "application/vnd.jupyter.widget-view+json": {
       "model_id": "0b13303d92134f4ea0912b13af161b1f",
       "version_major": 2,
       "version_minor": 0
      },
      "text/plain": [
       "  0%|          | 0/1 [00:00<?, ?it/s]"
      ]
     },
     "metadata": {},
     "output_type": "display_data"
    },
    {
     "data": {
      "application/vnd.jupyter.widget-view+json": {
       "model_id": "96d5fe943f044aeeb03b0756b7b96c25",
       "version_major": 2,
       "version_minor": 0
      },
      "text/plain": [
       "  0%|          | 0/1 [00:00<?, ?it/s]"
      ]
     },
     "metadata": {},
     "output_type": "display_data"
    },
    {
     "data": {
      "application/vnd.jupyter.widget-view+json": {
       "model_id": "4131c28f84154b94af7bda6b9c6f813e",
       "version_major": 2,
       "version_minor": 0
      },
      "text/plain": [
       "  0%|          | 0/9 [00:00<?, ?it/s]"
      ]
     },
     "metadata": {},
     "output_type": "display_data"
    },
    {
     "data": {
      "application/vnd.jupyter.widget-view+json": {
       "model_id": "9b7b50d0dbe3459d9d8daa028bbdce0a",
       "version_major": 2,
       "version_minor": 0
      },
      "text/plain": [
       "  0%|          | 0/1 [00:00<?, ?it/s]"
      ]
     },
     "metadata": {},
     "output_type": "display_data"
    },
    {
     "data": {
      "application/vnd.jupyter.widget-view+json": {
       "model_id": "7694b467b94244c6b8c03c0f7116852b",
       "version_major": 2,
       "version_minor": 0
      },
      "text/plain": [
       "  0%|          | 0/1 [00:00<?, ?it/s]"
      ]
     },
     "metadata": {},
     "output_type": "display_data"
    },
    {
     "data": {
      "application/vnd.jupyter.widget-view+json": {
       "model_id": "9d613ec3c1394aad991a2ab810fdec18",
       "version_major": 2,
       "version_minor": 0
      },
      "text/plain": [
       "  0%|          | 0/1 [00:00<?, ?it/s]"
      ]
     },
     "metadata": {},
     "output_type": "display_data"
    },
    {
     "data": {
      "application/vnd.jupyter.widget-view+json": {
       "model_id": "6106a277e739408fa2543863a1a6132a",
       "version_major": 2,
       "version_minor": 0
      },
      "text/plain": [
       "  0%|          | 0/9 [00:00<?, ?it/s]"
      ]
     },
     "metadata": {},
     "output_type": "display_data"
    },
    {
     "data": {
      "application/vnd.jupyter.widget-view+json": {
       "model_id": "dcb7c569379b4870816f9410813c3865",
       "version_major": 2,
       "version_minor": 0
      },
      "text/plain": [
       "  0%|          | 0/1 [00:00<?, ?it/s]"
      ]
     },
     "metadata": {},
     "output_type": "display_data"
    },
    {
     "data": {
      "application/vnd.jupyter.widget-view+json": {
       "model_id": "55ca60bbdc824ba3a9ef75af6f4a7c01",
       "version_major": 2,
       "version_minor": 0
      },
      "text/plain": [
       "  0%|          | 0/1 [00:00<?, ?it/s]"
      ]
     },
     "metadata": {},
     "output_type": "display_data"
    },
    {
     "data": {
      "application/vnd.jupyter.widget-view+json": {
       "model_id": "fdef6f6be7394f6aa845ba08d2bea8ca",
       "version_major": 2,
       "version_minor": 0
      },
      "text/plain": [
       "  0%|          | 0/1 [00:00<?, ?it/s]"
      ]
     },
     "metadata": {},
     "output_type": "display_data"
    },
    {
     "data": {
      "application/vnd.jupyter.widget-view+json": {
       "model_id": "3ce07f7f35534e83ade572a2e0eb787b",
       "version_major": 2,
       "version_minor": 0
      },
      "text/plain": [
       "  0%|          | 0/9 [00:00<?, ?it/s]"
      ]
     },
     "metadata": {},
     "output_type": "display_data"
    },
    {
     "data": {
      "application/vnd.jupyter.widget-view+json": {
       "model_id": "a80fbb652d3948498caeb23274f63b5b",
       "version_major": 2,
       "version_minor": 0
      },
      "text/plain": [
       "  0%|          | 0/1 [00:00<?, ?it/s]"
      ]
     },
     "metadata": {},
     "output_type": "display_data"
    },
    {
     "data": {
      "application/vnd.jupyter.widget-view+json": {
       "model_id": "2900a28bb8d747118c1cd8ac3e318ba4",
       "version_major": 2,
       "version_minor": 0
      },
      "text/plain": [
       "  0%|          | 0/1 [00:00<?, ?it/s]"
      ]
     },
     "metadata": {},
     "output_type": "display_data"
    },
    {
     "data": {
      "application/vnd.jupyter.widget-view+json": {
       "model_id": "3bd3d5d5670549239574d07beaea4d4f",
       "version_major": 2,
       "version_minor": 0
      },
      "text/plain": [
       "  0%|          | 0/1 [00:00<?, ?it/s]"
      ]
     },
     "metadata": {},
     "output_type": "display_data"
    },
    {
     "data": {
      "application/vnd.jupyter.widget-view+json": {
       "model_id": "c88d4d2da94b4d7093a91de425dffec5",
       "version_major": 2,
       "version_minor": 0
      },
      "text/plain": [
       "  0%|          | 0/9 [00:00<?, ?it/s]"
      ]
     },
     "metadata": {},
     "output_type": "display_data"
    },
    {
     "data": {
      "application/vnd.jupyter.widget-view+json": {
       "model_id": "c9dc15e209d24c8f870a1e3b09527c03",
       "version_major": 2,
       "version_minor": 0
      },
      "text/plain": [
       "  0%|          | 0/1 [00:00<?, ?it/s]"
      ]
     },
     "metadata": {},
     "output_type": "display_data"
    },
    {
     "data": {
      "application/vnd.jupyter.widget-view+json": {
       "model_id": "9f3e3076440248079eac3ac2f2930607",
       "version_major": 2,
       "version_minor": 0
      },
      "text/plain": [
       "  0%|          | 0/1 [00:00<?, ?it/s]"
      ]
     },
     "metadata": {},
     "output_type": "display_data"
    },
    {
     "data": {
      "application/vnd.jupyter.widget-view+json": {
       "model_id": "f0034cb4e46d4ff3986f028fd6f4b3a7",
       "version_major": 2,
       "version_minor": 0
      },
      "text/plain": [
       "  0%|          | 0/1 [00:00<?, ?it/s]"
      ]
     },
     "metadata": {},
     "output_type": "display_data"
    },
    {
     "data": {
      "application/vnd.jupyter.widget-view+json": {
       "model_id": "f1cd091ca33d40ae91de44da41e7af7c",
       "version_major": 2,
       "version_minor": 0
      },
      "text/plain": [
       "  0%|          | 0/9 [00:00<?, ?it/s]"
      ]
     },
     "metadata": {},
     "output_type": "display_data"
    },
    {
     "data": {
      "application/vnd.jupyter.widget-view+json": {
       "model_id": "97f0694e44ab43a5b255b9987a97fc26",
       "version_major": 2,
       "version_minor": 0
      },
      "text/plain": [
       "  0%|          | 0/1 [00:00<?, ?it/s]"
      ]
     },
     "metadata": {},
     "output_type": "display_data"
    },
    {
     "data": {
      "application/vnd.jupyter.widget-view+json": {
       "model_id": "e38cfe0f02fa49bda4776f6508813794",
       "version_major": 2,
       "version_minor": 0
      },
      "text/plain": [
       "  0%|          | 0/1 [00:00<?, ?it/s]"
      ]
     },
     "metadata": {},
     "output_type": "display_data"
    },
    {
     "data": {
      "application/vnd.jupyter.widget-view+json": {
       "model_id": "1f181dffe40c48d3b894fb958bc5860c",
       "version_major": 2,
       "version_minor": 0
      },
      "text/plain": [
       "  0%|          | 0/1 [00:00<?, ?it/s]"
      ]
     },
     "metadata": {},
     "output_type": "display_data"
    },
    {
     "data": {
      "application/vnd.jupyter.widget-view+json": {
       "model_id": "13aa017c46094b37a10597520d4feb9e",
       "version_major": 2,
       "version_minor": 0
      },
      "text/plain": [
       "  0%|          | 0/9 [00:00<?, ?it/s]"
      ]
     },
     "metadata": {},
     "output_type": "display_data"
    },
    {
     "data": {
      "text/html": [
       "<div>\n",
       "<style scoped>\n",
       "    .dataframe tbody tr th:only-of-type {\n",
       "        vertical-align: middle;\n",
       "    }\n",
       "\n",
       "    .dataframe tbody tr th {\n",
       "        vertical-align: top;\n",
       "    }\n",
       "\n",
       "    .dataframe thead th {\n",
       "        text-align: right;\n",
       "    }\n",
       "</style>\n",
       "<table border=\"1\" class=\"dataframe\">\n",
       "  <thead>\n",
       "    <tr style=\"text-align: right;\">\n",
       "      <th></th>\n",
       "      <th>Metadata_Time</th>\n",
       "      <th>Metadata_dose</th>\n",
       "      <th>Metadata_reference_index</th>\n",
       "      <th>mean_average_precision</th>\n",
       "      <th>indices</th>\n",
       "      <th>p_value</th>\n",
       "      <th>corrected_p_value</th>\n",
       "      <th>below_p</th>\n",
       "      <th>below_corrected_p</th>\n",
       "      <th>-log10(p-value)</th>\n",
       "      <th>percentage_of_cells</th>\n",
       "      <th>seed</th>\n",
       "      <th>shuffle</th>\n",
       "    </tr>\n",
       "  </thead>\n",
       "  <tbody>\n",
       "    <tr>\n",
       "      <th>0</th>\n",
       "      <td>0.0</td>\n",
       "      <td>0.61</td>\n",
       "      <td>-1</td>\n",
       "      <td>0.944444</td>\n",
       "      <td>[0, 9, 18]</td>\n",
       "      <td>9.988090e-02</td>\n",
       "      <td>0.099881</td>\n",
       "      <td>False</td>\n",
       "      <td>False</td>\n",
       "      <td>1.000518</td>\n",
       "      <td>0.1</td>\n",
       "      <td>0</td>\n",
       "      <td>True</td>\n",
       "    </tr>\n",
       "    <tr>\n",
       "      <th>1</th>\n",
       "      <td>0.0</td>\n",
       "      <td>1.22</td>\n",
       "      <td>-1</td>\n",
       "      <td>0.900000</td>\n",
       "      <td>[1, 10, 19]</td>\n",
       "      <td>9.988090e-02</td>\n",
       "      <td>0.099881</td>\n",
       "      <td>False</td>\n",
       "      <td>False</td>\n",
       "      <td>1.000518</td>\n",
       "      <td>0.1</td>\n",
       "      <td>0</td>\n",
       "      <td>True</td>\n",
       "    </tr>\n",
       "    <tr>\n",
       "      <th>2</th>\n",
       "      <td>0.0</td>\n",
       "      <td>2.44</td>\n",
       "      <td>-1</td>\n",
       "      <td>1.000000</td>\n",
       "      <td>[2, 11, 20]</td>\n",
       "      <td>9.999990e-07</td>\n",
       "      <td>0.000001</td>\n",
       "      <td>True</td>\n",
       "      <td>True</td>\n",
       "      <td>5.890856</td>\n",
       "      <td>0.1</td>\n",
       "      <td>0</td>\n",
       "      <td>True</td>\n",
       "    </tr>\n",
       "    <tr>\n",
       "      <th>3</th>\n",
       "      <td>0.0</td>\n",
       "      <td>4.88</td>\n",
       "      <td>-1</td>\n",
       "      <td>1.000000</td>\n",
       "      <td>[3, 12, 21]</td>\n",
       "      <td>9.999990e-07</td>\n",
       "      <td>0.000001</td>\n",
       "      <td>True</td>\n",
       "      <td>True</td>\n",
       "      <td>5.890856</td>\n",
       "      <td>0.1</td>\n",
       "      <td>0</td>\n",
       "      <td>True</td>\n",
       "    </tr>\n",
       "    <tr>\n",
       "      <th>4</th>\n",
       "      <td>0.0</td>\n",
       "      <td>9.77</td>\n",
       "      <td>-1</td>\n",
       "      <td>1.000000</td>\n",
       "      <td>[4, 13, 22]</td>\n",
       "      <td>9.999990e-07</td>\n",
       "      <td>0.000001</td>\n",
       "      <td>True</td>\n",
       "      <td>True</td>\n",
       "      <td>5.890856</td>\n",
       "      <td>0.1</td>\n",
       "      <td>0</td>\n",
       "      <td>True</td>\n",
       "    </tr>\n",
       "  </tbody>\n",
       "</table>\n",
       "</div>"
      ],
      "text/plain": [
       "   Metadata_Time  Metadata_dose  Metadata_reference_index  \\\n",
       "0            0.0           0.61                        -1   \n",
       "1            0.0           1.22                        -1   \n",
       "2            0.0           2.44                        -1   \n",
       "3            0.0           4.88                        -1   \n",
       "4            0.0           9.77                        -1   \n",
       "\n",
       "   mean_average_precision      indices       p_value  corrected_p_value  \\\n",
       "0                0.944444   [0, 9, 18]  9.988090e-02           0.099881   \n",
       "1                0.900000  [1, 10, 19]  9.988090e-02           0.099881   \n",
       "2                1.000000  [2, 11, 20]  9.999990e-07           0.000001   \n",
       "3                1.000000  [3, 12, 21]  9.999990e-07           0.000001   \n",
       "4                1.000000  [4, 13, 22]  9.999990e-07           0.000001   \n",
       "\n",
       "   below_p  below_corrected_p  -log10(p-value)  percentage_of_cells  seed  \\\n",
       "0    False              False         1.000518                  0.1     0   \n",
       "1    False              False         1.000518                  0.1     0   \n",
       "2     True               True         5.890856                  0.1     0   \n",
       "3     True               True         5.890856                  0.1     0   \n",
       "4     True               True         5.890856                  0.1     0   \n",
       "\n",
       "   shuffle  \n",
       "0     True  \n",
       "1     True  \n",
       "2     True  \n",
       "3     True  \n",
       "4     True  "
      ]
     },
     "execution_count": 7,
     "metadata": {},
     "output_type": "execute_result"
    }
   ],
   "source": [
    "dict_of_map_dfs = run_mAP_across_time(\n",
    "    aggregate_df,\n",
    "    seed=set_seed,\n",
    "    time_column=\"Metadata_Time\",\n",
    "    reference_column_name=\"Metadata_dose\",\n",
    "    reference_group=aggregate_df[\"Metadata_dose\"].min(),\n",
    ")\n",
    "\n",
    "\n",
    "output_df = pd.concat(dict_of_map_dfs.values(), keys=dict_of_map_dfs.keys())\n",
    "output_df.reset_index(inplace=True)\n",
    "output_df.rename(columns={\"level_0\": \"Metadata_Time\"}, inplace=True)\n",
    "# add the percentage of cells to the keys\n",
    "output_df[\"percentage_of_cells\"] = percentage\n",
    "output_df[\"seed\"] = set_seed\n",
    "output_df[\"shuffle\"] = shuffle\n",
    "output_df.reset_index(drop=True, inplace=True)\n",
    "output_df.to_parquet(output_file)\n",
    "output_df.head()"
   ]
  }
 ],
 "metadata": {
  "kernelspec": {
   "display_name": "timelapse_map_env",
   "language": "python",
   "name": "python3"
  },
  "language_info": {
   "codemirror_mode": {
    "name": "ipython",
    "version": 3
   },
   "file_extension": ".py",
   "mimetype": "text/x-python",
   "name": "python",
   "nbconvert_exporter": "python",
   "pygments_lexer": "ipython3",
   "version": "3.11.11"
  }
 },
 "nbformat": 4,
 "nbformat_minor": 2
}
