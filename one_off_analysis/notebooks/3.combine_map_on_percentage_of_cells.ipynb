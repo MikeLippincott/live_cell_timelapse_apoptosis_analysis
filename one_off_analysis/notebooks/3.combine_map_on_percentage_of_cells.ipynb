{
    "cells": [
        {
            "cell_type": "code",
            "execution_count": null,
            "metadata": {},
            "outputs": [],
            "source": [
                "import pathlib\n",
                "\n",
                "import pandas as pd"
            ]
        },
        {
            "cell_type": "code",
            "execution_count": null,
            "metadata": {},
            "outputs": [],
            "source": [
                "input_dir = pathlib.Path(\"../results/mAP_cell_percentages/\").resolve(strict=True)\n",
                "output_file = pathlib.Path(\"../results/mAP_cell_percentages.parquet\").resolve()\n",
                "# get a list of all files in the directory\n",
                "df = pd.concat([pd.read_parquet(file) for file in list(input_dir.glob(\"*\"))])\n",
                "df.to_parquet(output_file)\n",
                "df.head()"
            ]
        }
    ],
    "metadata": {
        "kernelspec": {
            "display_name": "timelapse_map_env",
            "language": "python",
            "name": "python3"
        },
        "language_info": {
            "codemirror_mode": {
                "name": "ipython",
                "version": 3
            },
            "file_extension": ".py",
            "mimetype": "text/x-python",
            "name": "python",
            "nbconvert_exporter": "python",
            "pygments_lexer": "ipython3",
            "version": "3.11.11"
        }
    },
    "nbformat": 4,
    "nbformat_minor": 2
}
