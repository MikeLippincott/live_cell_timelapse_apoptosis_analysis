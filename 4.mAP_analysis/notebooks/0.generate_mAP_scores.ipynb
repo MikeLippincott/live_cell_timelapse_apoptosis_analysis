{
 "cells": [
  {
   "cell_type": "code",
   "execution_count": 1,
   "metadata": {},
   "outputs": [],
   "source": [
    "import argparse\n",
    "import pathlib\n",
    "import random\n",
    "import warnings\n",
    "\n",
    "import numpy as np\n",
    "import pandas as pd\n",
    "from copairs import map\n",
    "from copairs.matching import assign_reference_index\n",
    "\n",
    "# suppress warnings\n",
    "warnings.filterwarnings(\"ignore\", category=RuntimeWarning)"
   ]
  },
  {
   "cell_type": "code",
   "execution_count": 2,
   "metadata": {},
   "outputs": [],
   "source": [
    "well_to_dose_path = pathlib.Path(\n",
    "    \"../../data/CP_scDINO_features/combined_CP_scDINO_norm_fs.parquet\"\n",
    ").resolve(strict=True)\n",
    "well_to_dose_df = pd.read_parquet(\n",
    "    well_to_dose_path, columns=[\"Metadata_Well\", \"Metadata_dose\"]\n",
    ")\n",
    "# drop duplicates\n",
    "well_to_dose_df = well_to_dose_df.drop_duplicates(\n",
    "    subset=[\"Metadata_Well\", \"Metadata_dose\"]\n",
    ")\n",
    "# make dict that maps well to dose\n",
    "well_to_dose = well_to_dose_df.set_index(\"Metadata_Well\")[\"Metadata_dose\"].to_dict()"
   ]
  },
  {
   "cell_type": "code",
   "execution_count": 3,
   "metadata": {},
   "outputs": [
    {
     "data": {
      "text/html": [
       "<div>\n",
       "<style scoped>\n",
       "    .dataframe tbody tr th:only-of-type {\n",
       "        vertical-align: middle;\n",
       "    }\n",
       "\n",
       "    .dataframe tbody tr th {\n",
       "        vertical-align: top;\n",
       "    }\n",
       "\n",
       "    .dataframe thead th {\n",
       "        text-align: right;\n",
       "    }\n",
       "</style>\n",
       "<table border=\"1\" class=\"dataframe\">\n",
       "  <thead>\n",
       "    <tr style=\"text-align: right;\">\n",
       "      <th></th>\n",
       "      <th>Metadata_dose</th>\n",
       "      <th>Metadata_Well</th>\n",
       "      <th>Metadata_Time</th>\n",
       "      <th>Cells_AreaShape_BoundingBoxArea_CP</th>\n",
       "      <th>Cells_AreaShape_Compactness_CP</th>\n",
       "      <th>Cells_AreaShape_Extent_CP</th>\n",
       "      <th>Cells_AreaShape_FormFactor_CP</th>\n",
       "      <th>Cells_AreaShape_MinorAxisLength_CP</th>\n",
       "      <th>Cells_AreaShape_Solidity_CP</th>\n",
       "      <th>Cells_AreaShape_Zernike_1_1_CP</th>\n",
       "      <th>...</th>\n",
       "      <th>channel_DNA_cls_feature_91_scDINO</th>\n",
       "      <th>channel_DNA_cls_feature_92_scDINO</th>\n",
       "      <th>channel_DNA_cls_feature_93_scDINO</th>\n",
       "      <th>channel_DNA_cls_feature_94_scDINO</th>\n",
       "      <th>channel_DNA_cls_feature_95_scDINO</th>\n",
       "      <th>channel_DNA_cls_feature_96_scDINO</th>\n",
       "      <th>channel_DNA_cls_feature_97_scDINO</th>\n",
       "      <th>channel_DNA_cls_feature_98_scDINO</th>\n",
       "      <th>channel_DNA_cls_feature_99_scDINO</th>\n",
       "      <th>channel_DNA_cls_feature_9_scDINO</th>\n",
       "    </tr>\n",
       "  </thead>\n",
       "  <tbody>\n",
       "    <tr>\n",
       "      <th>0</th>\n",
       "      <td>0.0</td>\n",
       "      <td>C-02</td>\n",
       "      <td>0.0</td>\n",
       "      <td>-0.291760</td>\n",
       "      <td>-0.312209</td>\n",
       "      <td>0.311346</td>\n",
       "      <td>0.138225</td>\n",
       "      <td>-0.253509</td>\n",
       "      <td>0.408095</td>\n",
       "      <td>-0.049747</td>\n",
       "      <td>...</td>\n",
       "      <td>0.208938</td>\n",
       "      <td>-0.073630</td>\n",
       "      <td>0.008897</td>\n",
       "      <td>-0.055376</td>\n",
       "      <td>0.131249</td>\n",
       "      <td>-0.053869</td>\n",
       "      <td>0.121860</td>\n",
       "      <td>0.006765</td>\n",
       "      <td>-0.151495</td>\n",
       "      <td>0.121353</td>\n",
       "    </tr>\n",
       "    <tr>\n",
       "      <th>1</th>\n",
       "      <td>0.0</td>\n",
       "      <td>C-02</td>\n",
       "      <td>1.0</td>\n",
       "      <td>-0.028198</td>\n",
       "      <td>-0.394414</td>\n",
       "      <td>0.313888</td>\n",
       "      <td>0.260440</td>\n",
       "      <td>0.312064</td>\n",
       "      <td>0.460261</td>\n",
       "      <td>-0.253127</td>\n",
       "      <td>...</td>\n",
       "      <td>-0.080875</td>\n",
       "      <td>0.047516</td>\n",
       "      <td>-0.007985</td>\n",
       "      <td>0.057872</td>\n",
       "      <td>-0.307675</td>\n",
       "      <td>0.226858</td>\n",
       "      <td>-0.097667</td>\n",
       "      <td>0.154435</td>\n",
       "      <td>0.009346</td>\n",
       "      <td>-0.100267</td>\n",
       "    </tr>\n",
       "    <tr>\n",
       "      <th>2</th>\n",
       "      <td>0.0</td>\n",
       "      <td>C-02</td>\n",
       "      <td>10.0</td>\n",
       "      <td>0.182481</td>\n",
       "      <td>-0.209134</td>\n",
       "      <td>0.137440</td>\n",
       "      <td>-0.006370</td>\n",
       "      <td>0.309906</td>\n",
       "      <td>0.357322</td>\n",
       "      <td>-0.434222</td>\n",
       "      <td>...</td>\n",
       "      <td>-0.104633</td>\n",
       "      <td>0.049896</td>\n",
       "      <td>0.155820</td>\n",
       "      <td>0.073132</td>\n",
       "      <td>-0.514341</td>\n",
       "      <td>0.125680</td>\n",
       "      <td>0.012130</td>\n",
       "      <td>0.206564</td>\n",
       "      <td>-0.001114</td>\n",
       "      <td>-0.069553</td>\n",
       "    </tr>\n",
       "    <tr>\n",
       "      <th>3</th>\n",
       "      <td>0.0</td>\n",
       "      <td>C-02</td>\n",
       "      <td>11.0</td>\n",
       "      <td>0.141672</td>\n",
       "      <td>-0.285466</td>\n",
       "      <td>0.255858</td>\n",
       "      <td>0.099816</td>\n",
       "      <td>0.399589</td>\n",
       "      <td>0.385191</td>\n",
       "      <td>-0.438585</td>\n",
       "      <td>...</td>\n",
       "      <td>-0.087787</td>\n",
       "      <td>-0.101442</td>\n",
       "      <td>0.275884</td>\n",
       "      <td>0.209213</td>\n",
       "      <td>-0.459635</td>\n",
       "      <td>0.113541</td>\n",
       "      <td>-0.091702</td>\n",
       "      <td>0.251352</td>\n",
       "      <td>0.081938</td>\n",
       "      <td>-0.135812</td>\n",
       "    </tr>\n",
       "    <tr>\n",
       "      <th>4</th>\n",
       "      <td>0.0</td>\n",
       "      <td>C-02</td>\n",
       "      <td>12.0</td>\n",
       "      <td>0.152554</td>\n",
       "      <td>-0.308668</td>\n",
       "      <td>0.294745</td>\n",
       "      <td>0.133101</td>\n",
       "      <td>0.450444</td>\n",
       "      <td>0.414189</td>\n",
       "      <td>-0.436021</td>\n",
       "      <td>...</td>\n",
       "      <td>0.009973</td>\n",
       "      <td>-0.036503</td>\n",
       "      <td>0.473306</td>\n",
       "      <td>0.311591</td>\n",
       "      <td>-0.641266</td>\n",
       "      <td>0.173728</td>\n",
       "      <td>0.024222</td>\n",
       "      <td>0.272495</td>\n",
       "      <td>0.057495</td>\n",
       "      <td>-0.097702</td>\n",
       "    </tr>\n",
       "  </tbody>\n",
       "</table>\n",
       "<p>5 rows × 2341 columns</p>\n",
       "</div>"
      ],
      "text/plain": [
       "  Metadata_dose Metadata_Well Metadata_Time  \\\n",
       "0           0.0          C-02           0.0   \n",
       "1           0.0          C-02           1.0   \n",
       "2           0.0          C-02          10.0   \n",
       "3           0.0          C-02          11.0   \n",
       "4           0.0          C-02          12.0   \n",
       "\n",
       "   Cells_AreaShape_BoundingBoxArea_CP  Cells_AreaShape_Compactness_CP  \\\n",
       "0                           -0.291760                       -0.312209   \n",
       "1                           -0.028198                       -0.394414   \n",
       "2                            0.182481                       -0.209134   \n",
       "3                            0.141672                       -0.285466   \n",
       "4                            0.152554                       -0.308668   \n",
       "\n",
       "   Cells_AreaShape_Extent_CP  Cells_AreaShape_FormFactor_CP  \\\n",
       "0                   0.311346                       0.138225   \n",
       "1                   0.313888                       0.260440   \n",
       "2                   0.137440                      -0.006370   \n",
       "3                   0.255858                       0.099816   \n",
       "4                   0.294745                       0.133101   \n",
       "\n",
       "   Cells_AreaShape_MinorAxisLength_CP  Cells_AreaShape_Solidity_CP  \\\n",
       "0                           -0.253509                     0.408095   \n",
       "1                            0.312064                     0.460261   \n",
       "2                            0.309906                     0.357322   \n",
       "3                            0.399589                     0.385191   \n",
       "4                            0.450444                     0.414189   \n",
       "\n",
       "   Cells_AreaShape_Zernike_1_1_CP  ...  channel_DNA_cls_feature_91_scDINO  \\\n",
       "0                       -0.049747  ...                           0.208938   \n",
       "1                       -0.253127  ...                          -0.080875   \n",
       "2                       -0.434222  ...                          -0.104633   \n",
       "3                       -0.438585  ...                          -0.087787   \n",
       "4                       -0.436021  ...                           0.009973   \n",
       "\n",
       "   channel_DNA_cls_feature_92_scDINO  channel_DNA_cls_feature_93_scDINO  \\\n",
       "0                          -0.073630                           0.008897   \n",
       "1                           0.047516                          -0.007985   \n",
       "2                           0.049896                           0.155820   \n",
       "3                          -0.101442                           0.275884   \n",
       "4                          -0.036503                           0.473306   \n",
       "\n",
       "   channel_DNA_cls_feature_94_scDINO  channel_DNA_cls_feature_95_scDINO  \\\n",
       "0                          -0.055376                           0.131249   \n",
       "1                           0.057872                          -0.307675   \n",
       "2                           0.073132                          -0.514341   \n",
       "3                           0.209213                          -0.459635   \n",
       "4                           0.311591                          -0.641266   \n",
       "\n",
       "   channel_DNA_cls_feature_96_scDINO  channel_DNA_cls_feature_97_scDINO  \\\n",
       "0                          -0.053869                           0.121860   \n",
       "1                           0.226858                          -0.097667   \n",
       "2                           0.125680                           0.012130   \n",
       "3                           0.113541                          -0.091702   \n",
       "4                           0.173728                           0.024222   \n",
       "\n",
       "   channel_DNA_cls_feature_98_scDINO  channel_DNA_cls_feature_99_scDINO  \\\n",
       "0                           0.006765                          -0.151495   \n",
       "1                           0.154435                           0.009346   \n",
       "2                           0.206564                          -0.001114   \n",
       "3                           0.251352                           0.081938   \n",
       "4                           0.272495                           0.057495   \n",
       "\n",
       "   channel_DNA_cls_feature_9_scDINO  \n",
       "0                          0.121353  \n",
       "1                         -0.100267  \n",
       "2                         -0.069553  \n",
       "3                         -0.135812  \n",
       "4                         -0.097702  \n",
       "\n",
       "[5 rows x 2341 columns]"
      ]
     },
     "execution_count": 3,
     "metadata": {},
     "output_type": "execute_result"
    }
   ],
   "source": [
    "CP_scDINO_profile_file_path = pathlib.Path(\n",
    "    \"../../data/CP_scDINO_features/combined_CP_scDINO_norm_fs_aggregated.parquet\"\n",
    ").resolve(strict=True)\n",
    "df = pd.read_parquet(CP_scDINO_profile_file_path)\n",
    "# map dose to well from well_to_dose dict\n",
    "df[\"dose\"] = df[\"Metadata_Well\"].map(well_to_dose)\n",
    "dose = df.pop(\"dose\")\n",
    "df.insert(0, \"Metadata_dose\", dose)\n",
    "df.head()"
   ]
  },
  {
   "cell_type": "code",
   "execution_count": 4,
   "metadata": {},
   "outputs": [],
   "source": [
    "metadata_columns = [x for x in df.columns if \"Metadata\" in x]\n",
    "scDINO_columns = [x for x in df.columns if \"scDINO\" in x]\n",
    "CP_columns = df.drop(columns=metadata_columns + scDINO_columns).columns\n",
    "CP_scDINO_columns = df.drop(metadata_columns, axis=1).columns\n",
    "\n",
    "feature_set_dict = {\n",
    "    # \"scDINO\": scDINO_columns,\n",
    "    # \"CP\": CP_columns,\n",
    "    \"CP_scDINO\": CP_scDINO_columns,\n",
    "}"
   ]
  },
  {
   "cell_type": "code",
   "execution_count": 5,
   "metadata": {},
   "outputs": [],
   "source": [
    "df[\"Metadata_Time\"] = df[\"Metadata_Time\"].astype(float)\n",
    "timepoints = df[\"Metadata_Time\"].unique().tolist()\n",
    "timepoints.sort()\n",
    "shuffle_options = [False, True]"
   ]
  },
  {
   "cell_type": "code",
   "execution_count": 6,
   "metadata": {},
   "outputs": [
    {
     "data": {
      "application/vnd.jupyter.widget-view+json": {
       "model_id": "01ea6b265e2a48cf9e3ca77063240a11",
       "version_major": 2,
       "version_minor": 0
      },
      "text/plain": [
       "  0%|          | 0/1 [00:00<?, ?it/s]"
      ]
     },
     "metadata": {},
     "output_type": "display_data"
    },
    {
     "data": {
      "application/vnd.jupyter.widget-view+json": {
       "model_id": "42c469cdeb8b4e1a831d9fe6c4b6c8cd",
       "version_major": 2,
       "version_minor": 0
      },
      "text/plain": [
       "  0%|          | 0/1 [00:00<?, ?it/s]"
      ]
     },
     "metadata": {},
     "output_type": "display_data"
    },
    {
     "data": {
      "application/vnd.jupyter.widget-view+json": {
       "model_id": "bd6ca8dc35214eddb1508fd24d49703f",
       "version_major": 2,
       "version_minor": 0
      },
      "text/plain": [
       "  0%|          | 0/1 [00:00<?, ?it/s]"
      ]
     },
     "metadata": {},
     "output_type": "display_data"
    },
    {
     "data": {
      "application/vnd.jupyter.widget-view+json": {
       "model_id": "d1e5f7540f7943da96283b9b31d4f8a4",
       "version_major": 2,
       "version_minor": 0
      },
      "text/plain": [
       "  0%|          | 0/9 [00:00<?, ?it/s]"
      ]
     },
     "metadata": {},
     "output_type": "display_data"
    },
    {
     "data": {
      "application/vnd.jupyter.widget-view+json": {
       "model_id": "ef66d72e32294b3784aeb4256cf592e1",
       "version_major": 2,
       "version_minor": 0
      },
      "text/plain": [
       "  0%|          | 0/1 [00:00<?, ?it/s]"
      ]
     },
     "metadata": {},
     "output_type": "display_data"
    },
    {
     "data": {
      "application/vnd.jupyter.widget-view+json": {
       "model_id": "b2f9fbe968a748f7aa74bc27f19fcb44",
       "version_major": 2,
       "version_minor": 0
      },
      "text/plain": [
       "  0%|          | 0/1 [00:00<?, ?it/s]"
      ]
     },
     "metadata": {},
     "output_type": "display_data"
    },
    {
     "data": {
      "application/vnd.jupyter.widget-view+json": {
       "model_id": "3a8ff3a6d72a443f9f5d2fb021bc6a26",
       "version_major": 2,
       "version_minor": 0
      },
      "text/plain": [
       "  0%|          | 0/1 [00:00<?, ?it/s]"
      ]
     },
     "metadata": {},
     "output_type": "display_data"
    },
    {
     "data": {
      "application/vnd.jupyter.widget-view+json": {
       "model_id": "c8552c96ec2c45d980b0581a2380f607",
       "version_major": 2,
       "version_minor": 0
      },
      "text/plain": [
       "  0%|          | 0/9 [00:00<?, ?it/s]"
      ]
     },
     "metadata": {},
     "output_type": "display_data"
    },
    {
     "data": {
      "application/vnd.jupyter.widget-view+json": {
       "model_id": "1f029cd3b3064e80bcc0421030c523f5",
       "version_major": 2,
       "version_minor": 0
      },
      "text/plain": [
       "  0%|          | 0/1 [00:00<?, ?it/s]"
      ]
     },
     "metadata": {},
     "output_type": "display_data"
    },
    {
     "data": {
      "application/vnd.jupyter.widget-view+json": {
       "model_id": "ffd98b30a247447794b9568fcb26b37a",
       "version_major": 2,
       "version_minor": 0
      },
      "text/plain": [
       "  0%|          | 0/1 [00:00<?, ?it/s]"
      ]
     },
     "metadata": {},
     "output_type": "display_data"
    },
    {
     "data": {
      "application/vnd.jupyter.widget-view+json": {
       "model_id": "98844e338f8d436cbecbac5cb33d7a01",
       "version_major": 2,
       "version_minor": 0
      },
      "text/plain": [
       "  0%|          | 0/1 [00:00<?, ?it/s]"
      ]
     },
     "metadata": {},
     "output_type": "display_data"
    },
    {
     "data": {
      "application/vnd.jupyter.widget-view+json": {
       "model_id": "93740605512f4c3c839ae51ba02f1478",
       "version_major": 2,
       "version_minor": 0
      },
      "text/plain": [
       "  0%|          | 0/9 [00:00<?, ?it/s]"
      ]
     },
     "metadata": {},
     "output_type": "display_data"
    },
    {
     "data": {
      "application/vnd.jupyter.widget-view+json": {
       "model_id": "5784d950e8e54b89b86df34105fd7d22",
       "version_major": 2,
       "version_minor": 0
      },
      "text/plain": [
       "  0%|          | 0/1 [00:00<?, ?it/s]"
      ]
     },
     "metadata": {},
     "output_type": "display_data"
    },
    {
     "data": {
      "application/vnd.jupyter.widget-view+json": {
       "model_id": "e0a907827ede4175acf9b807544c5f4a",
       "version_major": 2,
       "version_minor": 0
      },
      "text/plain": [
       "  0%|          | 0/1 [00:00<?, ?it/s]"
      ]
     },
     "metadata": {},
     "output_type": "display_data"
    },
    {
     "data": {
      "application/vnd.jupyter.widget-view+json": {
       "model_id": "32e1b964311445438ac427be192b24cb",
       "version_major": 2,
       "version_minor": 0
      },
      "text/plain": [
       "  0%|          | 0/1 [00:00<?, ?it/s]"
      ]
     },
     "metadata": {},
     "output_type": "display_data"
    },
    {
     "data": {
      "application/vnd.jupyter.widget-view+json": {
       "model_id": "948f3accef434193ba875faebfbc3a79",
       "version_major": 2,
       "version_minor": 0
      },
      "text/plain": [
       "  0%|          | 0/9 [00:00<?, ?it/s]"
      ]
     },
     "metadata": {},
     "output_type": "display_data"
    },
    {
     "data": {
      "application/vnd.jupyter.widget-view+json": {
       "model_id": "afc0c7c67e0e400883ec8e5ff7d547ce",
       "version_major": 2,
       "version_minor": 0
      },
      "text/plain": [
       "  0%|          | 0/1 [00:00<?, ?it/s]"
      ]
     },
     "metadata": {},
     "output_type": "display_data"
    },
    {
     "data": {
      "application/vnd.jupyter.widget-view+json": {
       "model_id": "5cb2e0c3cec141eb815b119f14db9690",
       "version_major": 2,
       "version_minor": 0
      },
      "text/plain": [
       "  0%|          | 0/1 [00:00<?, ?it/s]"
      ]
     },
     "metadata": {},
     "output_type": "display_data"
    },
    {
     "data": {
      "application/vnd.jupyter.widget-view+json": {
       "model_id": "7efa5cc7a8d44711b431904aa4c3033b",
       "version_major": 2,
       "version_minor": 0
      },
      "text/plain": [
       "  0%|          | 0/1 [00:00<?, ?it/s]"
      ]
     },
     "metadata": {},
     "output_type": "display_data"
    },
    {
     "data": {
      "application/vnd.jupyter.widget-view+json": {
       "model_id": "b9d25afd3db24a1c847fb74a72acbd96",
       "version_major": 2,
       "version_minor": 0
      },
      "text/plain": [
       "  0%|          | 0/9 [00:00<?, ?it/s]"
      ]
     },
     "metadata": {},
     "output_type": "display_data"
    },
    {
     "data": {
      "application/vnd.jupyter.widget-view+json": {
       "model_id": "9b1f7383a5b741d78da4e38f7f3fde8e",
       "version_major": 2,
       "version_minor": 0
      },
      "text/plain": [
       "  0%|          | 0/1 [00:00<?, ?it/s]"
      ]
     },
     "metadata": {},
     "output_type": "display_data"
    },
    {
     "data": {
      "application/vnd.jupyter.widget-view+json": {
       "model_id": "a81cde573dc84956b69c467a52189623",
       "version_major": 2,
       "version_minor": 0
      },
      "text/plain": [
       "  0%|          | 0/1 [00:00<?, ?it/s]"
      ]
     },
     "metadata": {},
     "output_type": "display_data"
    },
    {
     "data": {
      "application/vnd.jupyter.widget-view+json": {
       "model_id": "7a0b339c16dc4a1da8798f126daab273",
       "version_major": 2,
       "version_minor": 0
      },
      "text/plain": [
       "  0%|          | 0/1 [00:00<?, ?it/s]"
      ]
     },
     "metadata": {},
     "output_type": "display_data"
    },
    {
     "data": {
      "application/vnd.jupyter.widget-view+json": {
       "model_id": "e2a94f7654ca460c9edf89a3893ddb61",
       "version_major": 2,
       "version_minor": 0
      },
      "text/plain": [
       "  0%|          | 0/9 [00:00<?, ?it/s]"
      ]
     },
     "metadata": {},
     "output_type": "display_data"
    },
    {
     "data": {
      "application/vnd.jupyter.widget-view+json": {
       "model_id": "bf4d10d1062a4b6299ca5cd272720306",
       "version_major": 2,
       "version_minor": 0
      },
      "text/plain": [
       "  0%|          | 0/1 [00:00<?, ?it/s]"
      ]
     },
     "metadata": {},
     "output_type": "display_data"
    },
    {
     "data": {
      "application/vnd.jupyter.widget-view+json": {
       "model_id": "f99fc44c4da248279df599e03ec72803",
       "version_major": 2,
       "version_minor": 0
      },
      "text/plain": [
       "  0%|          | 0/1 [00:00<?, ?it/s]"
      ]
     },
     "metadata": {},
     "output_type": "display_data"
    },
    {
     "data": {
      "application/vnd.jupyter.widget-view+json": {
       "model_id": "1398e690d4624617af27929d882ccc98",
       "version_major": 2,
       "version_minor": 0
      },
      "text/plain": [
       "  0%|          | 0/1 [00:00<?, ?it/s]"
      ]
     },
     "metadata": {},
     "output_type": "display_data"
    },
    {
     "data": {
      "application/vnd.jupyter.widget-view+json": {
       "model_id": "649cb5423f0446ed84492bc917e491ad",
       "version_major": 2,
       "version_minor": 0
      },
      "text/plain": [
       "  0%|          | 0/9 [00:00<?, ?it/s]"
      ]
     },
     "metadata": {},
     "output_type": "display_data"
    },
    {
     "data": {
      "application/vnd.jupyter.widget-view+json": {
       "model_id": "09fe133bdedf490799fa1d7528768e0c",
       "version_major": 2,
       "version_minor": 0
      },
      "text/plain": [
       "  0%|          | 0/1 [00:00<?, ?it/s]"
      ]
     },
     "metadata": {},
     "output_type": "display_data"
    },
    {
     "data": {
      "application/vnd.jupyter.widget-view+json": {
       "model_id": "a1adccf93a91499d9336eb5fdf4f4db6",
       "version_major": 2,
       "version_minor": 0
      },
      "text/plain": [
       "  0%|          | 0/1 [00:00<?, ?it/s]"
      ]
     },
     "metadata": {},
     "output_type": "display_data"
    },
    {
     "data": {
      "application/vnd.jupyter.widget-view+json": {
       "model_id": "07b9ab7e3166437a82a6bc799eb9744e",
       "version_major": 2,
       "version_minor": 0
      },
      "text/plain": [
       "  0%|          | 0/1 [00:00<?, ?it/s]"
      ]
     },
     "metadata": {},
     "output_type": "display_data"
    },
    {
     "data": {
      "application/vnd.jupyter.widget-view+json": {
       "model_id": "e7adba47cce741ee8a042cafb5e8b08f",
       "version_major": 2,
       "version_minor": 0
      },
      "text/plain": [
       "  0%|          | 0/9 [00:00<?, ?it/s]"
      ]
     },
     "metadata": {},
     "output_type": "display_data"
    },
    {
     "data": {
      "application/vnd.jupyter.widget-view+json": {
       "model_id": "cc478eb9a2754c71b6b9db3e9e2360c1",
       "version_major": 2,
       "version_minor": 0
      },
      "text/plain": [
       "  0%|          | 0/1 [00:00<?, ?it/s]"
      ]
     },
     "metadata": {},
     "output_type": "display_data"
    },
    {
     "data": {
      "application/vnd.jupyter.widget-view+json": {
       "model_id": "f207523418d3498e80dd1a35c09b0247",
       "version_major": 2,
       "version_minor": 0
      },
      "text/plain": [
       "  0%|          | 0/1 [00:00<?, ?it/s]"
      ]
     },
     "metadata": {},
     "output_type": "display_data"
    },
    {
     "data": {
      "application/vnd.jupyter.widget-view+json": {
       "model_id": "4acbdfe56a6f4f10aea9c5514b4cef46",
       "version_major": 2,
       "version_minor": 0
      },
      "text/plain": [
       "  0%|          | 0/1 [00:00<?, ?it/s]"
      ]
     },
     "metadata": {},
     "output_type": "display_data"
    },
    {
     "data": {
      "application/vnd.jupyter.widget-view+json": {
       "model_id": "097cc7d9b1e741d1a2de8a0beb3f158e",
       "version_major": 2,
       "version_minor": 0
      },
      "text/plain": [
       "  0%|          | 0/9 [00:00<?, ?it/s]"
      ]
     },
     "metadata": {},
     "output_type": "display_data"
    },
    {
     "data": {
      "application/vnd.jupyter.widget-view+json": {
       "model_id": "ccac4bd456b04df8af36333defcbd8e3",
       "version_major": 2,
       "version_minor": 0
      },
      "text/plain": [
       "  0%|          | 0/1 [00:00<?, ?it/s]"
      ]
     },
     "metadata": {},
     "output_type": "display_data"
    },
    {
     "data": {
      "application/vnd.jupyter.widget-view+json": {
       "model_id": "5ebc838a5b574bd3b64155f4c0063d08",
       "version_major": 2,
       "version_minor": 0
      },
      "text/plain": [
       "  0%|          | 0/1 [00:00<?, ?it/s]"
      ]
     },
     "metadata": {},
     "output_type": "display_data"
    },
    {
     "data": {
      "application/vnd.jupyter.widget-view+json": {
       "model_id": "bca635a24f7f4ee2bb82e6aeba58a6d9",
       "version_major": 2,
       "version_minor": 0
      },
      "text/plain": [
       "  0%|          | 0/1 [00:00<?, ?it/s]"
      ]
     },
     "metadata": {},
     "output_type": "display_data"
    },
    {
     "data": {
      "application/vnd.jupyter.widget-view+json": {
       "model_id": "853e90ff498c4a2382704378a3aac90b",
       "version_major": 2,
       "version_minor": 0
      },
      "text/plain": [
       "  0%|          | 0/9 [00:00<?, ?it/s]"
      ]
     },
     "metadata": {},
     "output_type": "display_data"
    },
    {
     "data": {
      "application/vnd.jupyter.widget-view+json": {
       "model_id": "f4c57fa4a0cf47deadc4b054a2fab8e5",
       "version_major": 2,
       "version_minor": 0
      },
      "text/plain": [
       "  0%|          | 0/1 [00:00<?, ?it/s]"
      ]
     },
     "metadata": {},
     "output_type": "display_data"
    },
    {
     "data": {
      "application/vnd.jupyter.widget-view+json": {
       "model_id": "974d029759504b17a9431f40683c916a",
       "version_major": 2,
       "version_minor": 0
      },
      "text/plain": [
       "  0%|          | 0/1 [00:00<?, ?it/s]"
      ]
     },
     "metadata": {},
     "output_type": "display_data"
    },
    {
     "data": {
      "application/vnd.jupyter.widget-view+json": {
       "model_id": "67c06cc87c2f434799ce3a75d00a0314",
       "version_major": 2,
       "version_minor": 0
      },
      "text/plain": [
       "  0%|          | 0/1 [00:00<?, ?it/s]"
      ]
     },
     "metadata": {},
     "output_type": "display_data"
    },
    {
     "data": {
      "application/vnd.jupyter.widget-view+json": {
       "model_id": "5bd23909436a4eb5900e80fabb96a5a3",
       "version_major": 2,
       "version_minor": 0
      },
      "text/plain": [
       "  0%|          | 0/9 [00:00<?, ?it/s]"
      ]
     },
     "metadata": {},
     "output_type": "display_data"
    },
    {
     "data": {
      "application/vnd.jupyter.widget-view+json": {
       "model_id": "ea4bcdbddd2149ac896c384d02f70c08",
       "version_major": 2,
       "version_minor": 0
      },
      "text/plain": [
       "  0%|          | 0/1 [00:00<?, ?it/s]"
      ]
     },
     "metadata": {},
     "output_type": "display_data"
    },
    {
     "data": {
      "application/vnd.jupyter.widget-view+json": {
       "model_id": "cc6e4827a2ce4977986a4f5266e53d1c",
       "version_major": 2,
       "version_minor": 0
      },
      "text/plain": [
       "  0%|          | 0/1 [00:00<?, ?it/s]"
      ]
     },
     "metadata": {},
     "output_type": "display_data"
    },
    {
     "data": {
      "application/vnd.jupyter.widget-view+json": {
       "model_id": "39d17fc6d68b48fd8cf18bffdce833bf",
       "version_major": 2,
       "version_minor": 0
      },
      "text/plain": [
       "  0%|          | 0/1 [00:00<?, ?it/s]"
      ]
     },
     "metadata": {},
     "output_type": "display_data"
    },
    {
     "data": {
      "application/vnd.jupyter.widget-view+json": {
       "model_id": "d056de9e8abe4aca99cf757115683dbf",
       "version_major": 2,
       "version_minor": 0
      },
      "text/plain": [
       "  0%|          | 0/9 [00:00<?, ?it/s]"
      ]
     },
     "metadata": {},
     "output_type": "display_data"
    },
    {
     "data": {
      "application/vnd.jupyter.widget-view+json": {
       "model_id": "758dd19faecd4b7ca31534d2ea24816b",
       "version_major": 2,
       "version_minor": 0
      },
      "text/plain": [
       "  0%|          | 0/1 [00:00<?, ?it/s]"
      ]
     },
     "metadata": {},
     "output_type": "display_data"
    },
    {
     "data": {
      "application/vnd.jupyter.widget-view+json": {
       "model_id": "c43394a31d9e41c7b80eb86683a83570",
       "version_major": 2,
       "version_minor": 0
      },
      "text/plain": [
       "  0%|          | 0/1 [00:00<?, ?it/s]"
      ]
     },
     "metadata": {},
     "output_type": "display_data"
    },
    {
     "data": {
      "application/vnd.jupyter.widget-view+json": {
       "model_id": "aaab6ceab9a04762aa0a591192a16150",
       "version_major": 2,
       "version_minor": 0
      },
      "text/plain": [
       "  0%|          | 0/1 [00:00<?, ?it/s]"
      ]
     },
     "metadata": {},
     "output_type": "display_data"
    },
    {
     "data": {
      "application/vnd.jupyter.widget-view+json": {
       "model_id": "5d5fa91f790d437786566c87d45a5127",
       "version_major": 2,
       "version_minor": 0
      },
      "text/plain": [
       "  0%|          | 0/9 [00:00<?, ?it/s]"
      ]
     },
     "metadata": {},
     "output_type": "display_data"
    },
    {
     "data": {
      "application/vnd.jupyter.widget-view+json": {
       "model_id": "e50dd408e0c34a5da6cd1172a2b47196",
       "version_major": 2,
       "version_minor": 0
      },
      "text/plain": [
       "  0%|          | 0/1 [00:00<?, ?it/s]"
      ]
     },
     "metadata": {},
     "output_type": "display_data"
    },
    {
     "data": {
      "application/vnd.jupyter.widget-view+json": {
       "model_id": "8291f858a8ed4e06a928b20fe57c3fcc",
       "version_major": 2,
       "version_minor": 0
      },
      "text/plain": [
       "  0%|          | 0/1 [00:00<?, ?it/s]"
      ]
     },
     "metadata": {},
     "output_type": "display_data"
    },
    {
     "data": {
      "application/vnd.jupyter.widget-view+json": {
       "model_id": "d94d0c8f152d4fef83f9f9be8f69e595",
       "version_major": 2,
       "version_minor": 0
      },
      "text/plain": [
       "  0%|          | 0/4 [00:00<?, ?it/s]"
      ]
     },
     "metadata": {},
     "output_type": "display_data"
    },
    {
     "data": {
      "application/vnd.jupyter.widget-view+json": {
       "model_id": "0b287cdd2e0044fd8538c3b83ea76dfe",
       "version_major": 2,
       "version_minor": 0
      },
      "text/plain": [
       "  0%|          | 0/6 [00:00<?, ?it/s]"
      ]
     },
     "metadata": {},
     "output_type": "display_data"
    },
    {
     "data": {
      "application/vnd.jupyter.widget-view+json": {
       "model_id": "c3aae54b7aee44fdb0c0674ea013287d",
       "version_major": 2,
       "version_minor": 0
      },
      "text/plain": [
       "  0%|          | 0/1 [00:00<?, ?it/s]"
      ]
     },
     "metadata": {},
     "output_type": "display_data"
    },
    {
     "data": {
      "application/vnd.jupyter.widget-view+json": {
       "model_id": "a0c0da1bb5ce406393d5b1e6286ffa11",
       "version_major": 2,
       "version_minor": 0
      },
      "text/plain": [
       "  0%|          | 0/1 [00:00<?, ?it/s]"
      ]
     },
     "metadata": {},
     "output_type": "display_data"
    },
    {
     "data": {
      "application/vnd.jupyter.widget-view+json": {
       "model_id": "3b4ea1e073ff442aaab4e5fa7ce4eb90",
       "version_major": 2,
       "version_minor": 0
      },
      "text/plain": [
       "  0%|          | 0/4 [00:00<?, ?it/s]"
      ]
     },
     "metadata": {},
     "output_type": "display_data"
    },
    {
     "data": {
      "application/vnd.jupyter.widget-view+json": {
       "model_id": "8bac3b7901b24ba58eb54827b6cb7d18",
       "version_major": 2,
       "version_minor": 0
      },
      "text/plain": [
       "  0%|          | 0/9 [00:00<?, ?it/s]"
      ]
     },
     "metadata": {},
     "output_type": "display_data"
    },
    {
     "data": {
      "application/vnd.jupyter.widget-view+json": {
       "model_id": "e91b4e3490a143eba0f4768d1f7dd2db",
       "version_major": 2,
       "version_minor": 0
      },
      "text/plain": [
       "  0%|          | 0/1 [00:00<?, ?it/s]"
      ]
     },
     "metadata": {},
     "output_type": "display_data"
    },
    {
     "data": {
      "application/vnd.jupyter.widget-view+json": {
       "model_id": "cb230997bf28450783b7c0efdc107693",
       "version_major": 2,
       "version_minor": 0
      },
      "text/plain": [
       "  0%|          | 0/1 [00:00<?, ?it/s]"
      ]
     },
     "metadata": {},
     "output_type": "display_data"
    },
    {
     "data": {
      "application/vnd.jupyter.widget-view+json": {
       "model_id": "f82603379fb94ae5a8ae39a7c7d945f3",
       "version_major": 2,
       "version_minor": 0
      },
      "text/plain": [
       "  0%|          | 0/3 [00:00<?, ?it/s]"
      ]
     },
     "metadata": {},
     "output_type": "display_data"
    },
    {
     "data": {
      "application/vnd.jupyter.widget-view+json": {
       "model_id": "2a8a90a9fb69407dab78dcb19f2f5515",
       "version_major": 2,
       "version_minor": 0
      },
      "text/plain": [
       "  0%|          | 0/8 [00:00<?, ?it/s]"
      ]
     },
     "metadata": {},
     "output_type": "display_data"
    },
    {
     "data": {
      "application/vnd.jupyter.widget-view+json": {
       "model_id": "13f77d1f51d74d0a84cfdc3fe002f6b7",
       "version_major": 2,
       "version_minor": 0
      },
      "text/plain": [
       "  0%|          | 0/1 [00:00<?, ?it/s]"
      ]
     },
     "metadata": {},
     "output_type": "display_data"
    },
    {
     "data": {
      "application/vnd.jupyter.widget-view+json": {
       "model_id": "02b0449f01f2444984988bba1902a35d",
       "version_major": 2,
       "version_minor": 0
      },
      "text/plain": [
       "  0%|          | 0/1 [00:00<?, ?it/s]"
      ]
     },
     "metadata": {},
     "output_type": "display_data"
    },
    {
     "data": {
      "application/vnd.jupyter.widget-view+json": {
       "model_id": "b6a687423a7a44fa91a7c6bd36871a65",
       "version_major": 2,
       "version_minor": 0
      },
      "text/plain": [
       "  0%|          | 0/4 [00:00<?, ?it/s]"
      ]
     },
     "metadata": {},
     "output_type": "display_data"
    },
    {
     "data": {
      "application/vnd.jupyter.widget-view+json": {
       "model_id": "73c37af916384a0fb505b59228871c0c",
       "version_major": 2,
       "version_minor": 0
      },
      "text/plain": [
       "  0%|          | 0/8 [00:00<?, ?it/s]"
      ]
     },
     "metadata": {},
     "output_type": "display_data"
    },
    {
     "data": {
      "application/vnd.jupyter.widget-view+json": {
       "model_id": "d8b99818bf0d4d14b69560f4ec246b6e",
       "version_major": 2,
       "version_minor": 0
      },
      "text/plain": [
       "  0%|          | 0/1 [00:00<?, ?it/s]"
      ]
     },
     "metadata": {},
     "output_type": "display_data"
    },
    {
     "data": {
      "application/vnd.jupyter.widget-view+json": {
       "model_id": "c57d906ff8a04776b9ed4120b91c18bb",
       "version_major": 2,
       "version_minor": 0
      },
      "text/plain": [
       "  0%|          | 0/1 [00:00<?, ?it/s]"
      ]
     },
     "metadata": {},
     "output_type": "display_data"
    },
    {
     "data": {
      "application/vnd.jupyter.widget-view+json": {
       "model_id": "c75b3440ac314676a8df8e39be7c3805",
       "version_major": 2,
       "version_minor": 0
      },
      "text/plain": [
       "  0%|          | 0/4 [00:00<?, ?it/s]"
      ]
     },
     "metadata": {},
     "output_type": "display_data"
    },
    {
     "data": {
      "application/vnd.jupyter.widget-view+json": {
       "model_id": "c8eca7021bab42c6bf8ea0cc6a58c5d5",
       "version_major": 2,
       "version_minor": 0
      },
      "text/plain": [
       "  0%|          | 0/9 [00:00<?, ?it/s]"
      ]
     },
     "metadata": {},
     "output_type": "display_data"
    },
    {
     "data": {
      "application/vnd.jupyter.widget-view+json": {
       "model_id": "4bba50ee824d4431990f9a855d69e16b",
       "version_major": 2,
       "version_minor": 0
      },
      "text/plain": [
       "  0%|          | 0/1 [00:00<?, ?it/s]"
      ]
     },
     "metadata": {},
     "output_type": "display_data"
    },
    {
     "data": {
      "application/vnd.jupyter.widget-view+json": {
       "model_id": "df00117ef86d4051ac387ec5b03fbc78",
       "version_major": 2,
       "version_minor": 0
      },
      "text/plain": [
       "  0%|          | 0/1 [00:00<?, ?it/s]"
      ]
     },
     "metadata": {},
     "output_type": "display_data"
    },
    {
     "data": {
      "application/vnd.jupyter.widget-view+json": {
       "model_id": "c9c171a3644b4e0e83735d6adc207f46",
       "version_major": 2,
       "version_minor": 0
      },
      "text/plain": [
       "  0%|          | 0/3 [00:00<?, ?it/s]"
      ]
     },
     "metadata": {},
     "output_type": "display_data"
    },
    {
     "data": {
      "application/vnd.jupyter.widget-view+json": {
       "model_id": "a85123018c064881b1fe2b7ae266a620",
       "version_major": 2,
       "version_minor": 0
      },
      "text/plain": [
       "  0%|          | 0/7 [00:00<?, ?it/s]"
      ]
     },
     "metadata": {},
     "output_type": "display_data"
    },
    {
     "data": {
      "application/vnd.jupyter.widget-view+json": {
       "model_id": "df609900684441b4ad09ee31ac82aeb6",
       "version_major": 2,
       "version_minor": 0
      },
      "text/plain": [
       "  0%|          | 0/1 [00:00<?, ?it/s]"
      ]
     },
     "metadata": {},
     "output_type": "display_data"
    },
    {
     "data": {
      "application/vnd.jupyter.widget-view+json": {
       "model_id": "6cb3a33aeb554c56873657d84ac1ac50",
       "version_major": 2,
       "version_minor": 0
      },
      "text/plain": [
       "  0%|          | 0/1 [00:00<?, ?it/s]"
      ]
     },
     "metadata": {},
     "output_type": "display_data"
    },
    {
     "data": {
      "application/vnd.jupyter.widget-view+json": {
       "model_id": "2c21872da6aa4bb68dc4625268fc600c",
       "version_major": 2,
       "version_minor": 0
      },
      "text/plain": [
       "  0%|          | 0/5 [00:00<?, ?it/s]"
      ]
     },
     "metadata": {},
     "output_type": "display_data"
    },
    {
     "data": {
      "application/vnd.jupyter.widget-view+json": {
       "model_id": "1d737da399314e5e87576ea370a6f3ce",
       "version_major": 2,
       "version_minor": 0
      },
      "text/plain": [
       "  0%|          | 0/8 [00:00<?, ?it/s]"
      ]
     },
     "metadata": {},
     "output_type": "display_data"
    },
    {
     "data": {
      "application/vnd.jupyter.widget-view+json": {
       "model_id": "eac5a40a35dc4338a86c3dd112c3045c",
       "version_major": 2,
       "version_minor": 0
      },
      "text/plain": [
       "  0%|          | 0/1 [00:00<?, ?it/s]"
      ]
     },
     "metadata": {},
     "output_type": "display_data"
    },
    {
     "data": {
      "application/vnd.jupyter.widget-view+json": {
       "model_id": "410a18226661497090f343cc444de5f7",
       "version_major": 2,
       "version_minor": 0
      },
      "text/plain": [
       "  0%|          | 0/1 [00:00<?, ?it/s]"
      ]
     },
     "metadata": {},
     "output_type": "display_data"
    },
    {
     "data": {
      "application/vnd.jupyter.widget-view+json": {
       "model_id": "989dabd921c147f282fe848d1e419b25",
       "version_major": 2,
       "version_minor": 0
      },
      "text/plain": [
       "  0%|          | 0/4 [00:00<?, ?it/s]"
      ]
     },
     "metadata": {},
     "output_type": "display_data"
    },
    {
     "data": {
      "application/vnd.jupyter.widget-view+json": {
       "model_id": "ea994b9f314c4b8a91b2971aefc10b78",
       "version_major": 2,
       "version_minor": 0
      },
      "text/plain": [
       "  0%|          | 0/7 [00:00<?, ?it/s]"
      ]
     },
     "metadata": {},
     "output_type": "display_data"
    },
    {
     "data": {
      "application/vnd.jupyter.widget-view+json": {
       "model_id": "376933e08a394734aee16fb650a4e101",
       "version_major": 2,
       "version_minor": 0
      },
      "text/plain": [
       "  0%|          | 0/1 [00:00<?, ?it/s]"
      ]
     },
     "metadata": {},
     "output_type": "display_data"
    },
    {
     "data": {
      "application/vnd.jupyter.widget-view+json": {
       "model_id": "66e5834563aa452aa03f8e56929bdad0",
       "version_major": 2,
       "version_minor": 0
      },
      "text/plain": [
       "  0%|          | 0/1 [00:00<?, ?it/s]"
      ]
     },
     "metadata": {},
     "output_type": "display_data"
    },
    {
     "data": {
      "application/vnd.jupyter.widget-view+json": {
       "model_id": "c709867f97184561931f1aef16753390",
       "version_major": 2,
       "version_minor": 0
      },
      "text/plain": [
       "  0%|          | 0/4 [00:00<?, ?it/s]"
      ]
     },
     "metadata": {},
     "output_type": "display_data"
    },
    {
     "data": {
      "application/vnd.jupyter.widget-view+json": {
       "model_id": "a324f16f4afc438a8822abce302d302a",
       "version_major": 2,
       "version_minor": 0
      },
      "text/plain": [
       "  0%|          | 0/5 [00:00<?, ?it/s]"
      ]
     },
     "metadata": {},
     "output_type": "display_data"
    },
    {
     "data": {
      "application/vnd.jupyter.widget-view+json": {
       "model_id": "f1a4a7d241564d43be40b01df1a61fbf",
       "version_major": 2,
       "version_minor": 0
      },
      "text/plain": [
       "  0%|          | 0/1 [00:00<?, ?it/s]"
      ]
     },
     "metadata": {},
     "output_type": "display_data"
    },
    {
     "data": {
      "application/vnd.jupyter.widget-view+json": {
       "model_id": "70a0d854f6b3452bb954c6c596eefa0c",
       "version_major": 2,
       "version_minor": 0
      },
      "text/plain": [
       "  0%|          | 0/1 [00:00<?, ?it/s]"
      ]
     },
     "metadata": {},
     "output_type": "display_data"
    },
    {
     "data": {
      "application/vnd.jupyter.widget-view+json": {
       "model_id": "f1239ffe4bb44e9f86d741cd163260a9",
       "version_major": 2,
       "version_minor": 0
      },
      "text/plain": [
       "  0%|          | 0/4 [00:00<?, ?it/s]"
      ]
     },
     "metadata": {},
     "output_type": "display_data"
    },
    {
     "data": {
      "application/vnd.jupyter.widget-view+json": {
       "model_id": "86f03f0332784f2eae56357bf78e338d",
       "version_major": 2,
       "version_minor": 0
      },
      "text/plain": [
       "  0%|          | 0/8 [00:00<?, ?it/s]"
      ]
     },
     "metadata": {},
     "output_type": "display_data"
    },
    {
     "data": {
      "application/vnd.jupyter.widget-view+json": {
       "model_id": "af2aed2694b34f35acbebfbd87ebdfec",
       "version_major": 2,
       "version_minor": 0
      },
      "text/plain": [
       "  0%|          | 0/1 [00:00<?, ?it/s]"
      ]
     },
     "metadata": {},
     "output_type": "display_data"
    },
    {
     "data": {
      "application/vnd.jupyter.widget-view+json": {
       "model_id": "78cf5e1bf915456cba8bb6b23aecccc1",
       "version_major": 2,
       "version_minor": 0
      },
      "text/plain": [
       "  0%|          | 0/1 [00:00<?, ?it/s]"
      ]
     },
     "metadata": {},
     "output_type": "display_data"
    },
    {
     "data": {
      "application/vnd.jupyter.widget-view+json": {
       "model_id": "2abd7a83060a474e893a575969cfbbaf",
       "version_major": 2,
       "version_minor": 0
      },
      "text/plain": [
       "  0%|          | 0/4 [00:00<?, ?it/s]"
      ]
     },
     "metadata": {},
     "output_type": "display_data"
    },
    {
     "data": {
      "application/vnd.jupyter.widget-view+json": {
       "model_id": "de4ee263300f4782a8a9505a55ebf841",
       "version_major": 2,
       "version_minor": 0
      },
      "text/plain": [
       "  0%|          | 0/7 [00:00<?, ?it/s]"
      ]
     },
     "metadata": {},
     "output_type": "display_data"
    },
    {
     "data": {
      "application/vnd.jupyter.widget-view+json": {
       "model_id": "606c93cc1c834366aad39d821b79b17a",
       "version_major": 2,
       "version_minor": 0
      },
      "text/plain": [
       "  0%|          | 0/1 [00:00<?, ?it/s]"
      ]
     },
     "metadata": {},
     "output_type": "display_data"
    },
    {
     "data": {
      "application/vnd.jupyter.widget-view+json": {
       "model_id": "2fe7f1e82e354a09be123d93074287aa",
       "version_major": 2,
       "version_minor": 0
      },
      "text/plain": [
       "  0%|          | 0/1 [00:00<?, ?it/s]"
      ]
     },
     "metadata": {},
     "output_type": "display_data"
    },
    {
     "data": {
      "application/vnd.jupyter.widget-view+json": {
       "model_id": "10fe4cc637b046db993e685443d223a7",
       "version_major": 2,
       "version_minor": 0
      },
      "text/plain": [
       "  0%|          | 0/4 [00:00<?, ?it/s]"
      ]
     },
     "metadata": {},
     "output_type": "display_data"
    },
    {
     "data": {
      "application/vnd.jupyter.widget-view+json": {
       "model_id": "1d388da0409a49da94c6c9b135578db4",
       "version_major": 2,
       "version_minor": 0
      },
      "text/plain": [
       "  0%|          | 0/6 [00:00<?, ?it/s]"
      ]
     },
     "metadata": {},
     "output_type": "display_data"
    },
    {
     "data": {
      "application/vnd.jupyter.widget-view+json": {
       "model_id": "6c6396259f334bfda23740e8835c6a5d",
       "version_major": 2,
       "version_minor": 0
      },
      "text/plain": [
       "  0%|          | 0/1 [00:00<?, ?it/s]"
      ]
     },
     "metadata": {},
     "output_type": "display_data"
    },
    {
     "data": {
      "application/vnd.jupyter.widget-view+json": {
       "model_id": "8559501ed0d54e318b60016a0911d387",
       "version_major": 2,
       "version_minor": 0
      },
      "text/plain": [
       "  0%|          | 0/1 [00:00<?, ?it/s]"
      ]
     },
     "metadata": {},
     "output_type": "display_data"
    },
    {
     "data": {
      "application/vnd.jupyter.widget-view+json": {
       "model_id": "5635299d78724f5baafaa560e3045618",
       "version_major": 2,
       "version_minor": 0
      },
      "text/plain": [
       "  0%|          | 0/4 [00:00<?, ?it/s]"
      ]
     },
     "metadata": {},
     "output_type": "display_data"
    },
    {
     "data": {
      "application/vnd.jupyter.widget-view+json": {
       "model_id": "9066838e2a884b2ea34b8ec0bc8680cd",
       "version_major": 2,
       "version_minor": 0
      },
      "text/plain": [
       "  0%|          | 0/8 [00:00<?, ?it/s]"
      ]
     },
     "metadata": {},
     "output_type": "display_data"
    }
   ],
   "source": [
    "# This loops through the CP, scDIONO, and CP_scDINO feature sets and calculates the mean average precision for each timepoint\n",
    "for shuffle in shuffle_options:\n",
    "\n",
    "    for feature_set_name, feature_set in feature_set_dict.items():\n",
    "        feature_subset_df = pd.concat([df[feature_set], df[metadata_columns]], axis=1)\n",
    "\n",
    "        list_of_maps = []\n",
    "        # calculate the mean average precision for each timepoint\n",
    "        # and each shuffle option\n",
    "        for timepoint in timepoints:\n",
    "            if shuffle:\n",
    "                random.seed(0)\n",
    "                # permutate the data\n",
    "                for col in feature_subset_df.columns:\n",
    "                    if col != \"Metadata_dose\":\n",
    "                        feature_subset_df[col] = np.random.permutation(\n",
    "                            feature_subset_df[col]\n",
    "                        )\n",
    "\n",
    "            time_subset_df = feature_subset_df[\n",
    "                feature_subset_df[\"Metadata_Time\"] == timepoint\n",
    "            ]\n",
    "            reference_col = \"Metadata_reference_index\"\n",
    "            df_activity = assign_reference_index(\n",
    "                time_subset_df,\n",
    "                \"Metadata_dose == '0.0'\",\n",
    "                reference_col=reference_col,\n",
    "                default_value=-1,\n",
    "            )\n",
    "            pos_sameby = [\"Metadata_dose\", reference_col]\n",
    "            pos_diffby = []\n",
    "            neg_sameby = []\n",
    "            neg_diffby = [\"Metadata_dose\", reference_col]\n",
    "            metadata = df_activity.filter(regex=\"Metadata\")\n",
    "            profiles = df_activity.filter(regex=\"^(?!Metadata)\").values\n",
    "            # suppress the warning\n",
    "            activity_ap = map.average_precision(\n",
    "                metadata, profiles, pos_sameby, pos_diffby, neg_sameby, neg_diffby\n",
    "            )\n",
    "\n",
    "            activity_ap = activity_ap.query(\"Metadata_dose != '0.0'\")\n",
    "            activity_map = map.mean_average_precision(\n",
    "                activity_ap, pos_sameby, null_size=1000000, threshold=0.05, seed=0\n",
    "            )\n",
    "            activity_map.reset_index(drop=True, inplace=True)\n",
    "            activity_map.insert(\n",
    "                0,\n",
    "                \"Metadata_Time\",\n",
    "                timepoint,\n",
    "            )\n",
    "            if shuffle:\n",
    "                activity_map.insert(\n",
    "                    1,\n",
    "                    \"Shuffle\",\n",
    "                    \"True\",\n",
    "                )\n",
    "            else:\n",
    "                activity_map.insert(\n",
    "                    1,\n",
    "                    \"Shuffle\",\n",
    "                    \"False\",\n",
    "                )\n",
    "            list_of_maps.append(activity_map)\n",
    "\n",
    "    final_mAP_df = pd.concat(list_of_maps, ignore_index=True)\n",
    "    # save the final dataframe to a parquet file\n",
    "    final_mAP_path = pathlib.Path(\n",
    "        f\"../data/mAP/mAP_scores_{feature_set_name}.parquet\"\n",
    "    ).resolve()\n",
    "    final_mAP_path.parent.mkdir(parents=True, exist_ok=True)\n",
    "    final_mAP_df.to_parquet(\n",
    "        final_mAP_path,\n",
    "        index=False,\n",
    "    )"
   ]
  }
 ],
 "metadata": {
  "kernelspec": {
   "display_name": "timelapse_analaysis_env",
   "language": "python",
   "name": "python3"
  },
  "language_info": {
   "codemirror_mode": {
    "name": "ipython",
    "version": 3
   },
   "file_extension": ".py",
   "mimetype": "text/x-python",
   "name": "python",
   "nbconvert_exporter": "python",
   "pygments_lexer": "ipython3",
   "version": "3.11.11"
  }
 },
 "nbformat": 4,
 "nbformat_minor": 2
}
