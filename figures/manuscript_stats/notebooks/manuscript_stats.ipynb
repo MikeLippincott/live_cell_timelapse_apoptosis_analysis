{
 "cells": [
  {
   "cell_type": "code",
   "execution_count": 1,
   "id": "0ba0f363",
   "metadata": {},
   "outputs": [],
   "source": [
    "import pathlib\n",
    "\n",
    "import pandas as pd"
   ]
  },
  {
   "cell_type": "code",
   "execution_count": 2,
   "id": "8603727f",
   "metadata": {},
   "outputs": [],
   "source": [
    "norm_profile_path = pathlib.Path(\n",
    "    \"../../../data/CP_scDINO_features/combined_CP_scDINO_norm.parquet\"\n",
    ")\n",
    "fs_profile_path = pathlib.Path(\n",
    "    \"../../../data/CP_scDINO_features/combined_CP_scDINO_norm_fs.parquet\"\n",
    ")\n",
    "norm_df = pd.read_parquet(norm_profile_path)\n",
    "\n",
    "df = pd.read_parquet(fs_profile_path)\n",
    "df.insert(\n",
    "    0,\n",
    "    \"Metadata_sc_ID\",\n",
    "    df[\"Metadata_Well\"]\n",
    "    + \"_\"\n",
    "    + df[\"Metadata_FOV\"].astype(str)\n",
    "    + \"_\"\n",
    "    + df[\"Metadata_track_id\"].astype(str),\n",
    ")"
   ]
  },
  {
   "cell_type": "code",
   "execution_count": 3,
   "id": "8617d551",
   "metadata": {},
   "outputs": [],
   "source": [
    "norm_metadata_cols = [col for col in norm_df.columns if \"Metadata\" in col]\n",
    "fs_metadata_cols = [col for col in df.columns if \"Metadata\" in col]\n",
    "norm_features_df = norm_df.drop(columns=norm_metadata_cols)\n",
    "fs_features_df = df.drop(columns=fs_metadata_cols)"
   ]
  },
  {
   "cell_type": "code",
   "execution_count": 4,
   "id": "87cae777",
   "metadata": {},
   "outputs": [],
   "source": [
    "norm_scDINO_features = [col for col in norm_features_df.columns if \"scDINO\" in col]\n",
    "norm_CP_features = [col for col in norm_features_df.columns if \"scDINO\" not in col]\n",
    "fs_scDINO_features = [col for col in fs_features_df.columns if \"scDINO\" in col]\n",
    "fs_CP_features = [col for col in fs_features_df.columns if \"scDINO\" not in col]"
   ]
  },
  {
   "cell_type": "code",
   "execution_count": 5,
   "id": "720a24cf",
   "metadata": {},
   "outputs": [],
   "source": [
    "unique_cell_observations = df[\"Metadata_sc_ID\"].nunique()\n",
    "total_cell_observations = df.shape[0]"
   ]
  },
  {
   "cell_type": "code",
   "execution_count": 6,
   "id": "0ad95ef2",
   "metadata": {},
   "outputs": [
    {
     "name": "stdout",
     "output_type": "stream",
     "text": [
      "Total number of features in normalized data (combined): 3837\n",
      "Total number of features in normalized data (scDINO only): 1536\n",
      "Total number of features in normalized data (CellProfiler only): 2301\n",
      "Total number of features in feature selected data (combined): 2336\n",
      "Total number of features in feature selected data (scDINO only): 1536\n",
      "Total number of features in feature selected data (CellProfiler only): 800\n",
      "Number of unique cells observed: 20677\n",
      "Number of total cell observations 188065\n"
     ]
    }
   ],
   "source": [
    "print(\n",
    "    f\"Total number of features in normalized data (combined): {norm_features_df.shape[1]}\"\n",
    ")\n",
    "print(\n",
    "    f\"Total number of features in normalized data (scDINO only): {len(norm_scDINO_features)}\"\n",
    ")\n",
    "print(\n",
    "    f\"Total number of features in normalized data (CellProfiler only): {len(norm_CP_features)}\"\n",
    ")\n",
    "print(\n",
    "    f\"Total number of features in feature selected data (combined): {fs_features_df.shape[1]}\"\n",
    ")\n",
    "print(\n",
    "    f\"Total number of features in feature selected data (scDINO only): {len(fs_scDINO_features)}\"\n",
    ")\n",
    "print(\n",
    "    f\"Total number of features in feature selected data (CellProfiler only): {len(fs_CP_features)}\"\n",
    ")\n",
    "print(f\"Number of unique cells observed: {unique_cell_observations}\")\n",
    "print(f\"Number of total cell observations {total_cell_observations}\")"
   ]
  }
 ],
 "metadata": {
  "kernelspec": {
   "display_name": "timelapse_analysis_env",
   "language": "python",
   "name": "python3"
  },
  "language_info": {
   "codemirror_mode": {
    "name": "ipython",
    "version": 3
   },
   "file_extension": ".py",
   "mimetype": "text/x-python",
   "name": "python",
   "nbconvert_exporter": "python",
   "pygments_lexer": "ipython3",
   "version": "3.11.12"
  }
 },
 "nbformat": 4,
 "nbformat_minor": 5
}
