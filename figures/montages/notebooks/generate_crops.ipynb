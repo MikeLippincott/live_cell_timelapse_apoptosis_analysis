{
 "cells": [
  {
   "cell_type": "code",
   "execution_count": 1,
   "id": "32f83812",
   "metadata": {},
   "outputs": [],
   "source": [
    "import pathlib\n",
    "from typing import List, Tuple\n",
    "\n",
    "import pandas as pd\n",
    "import tifffile\n",
    "\n",
    "try:\n",
    "    cfg = get_ipython().config\n",
    "    in_notebook = True\n",
    "except NameError:\n",
    "    in_notebook = False\n",
    "if in_notebook:\n",
    "    from tqdm.notebook import tqdm\n",
    "else:\n",
    "    from tqdm import tqdm"
   ]
  },
  {
   "cell_type": "code",
   "execution_count": 2,
   "id": "54790a21",
   "metadata": {},
   "outputs": [],
   "source": [
    "radius = 75  # pixels to expand around centroid for crop"
   ]
  },
  {
   "cell_type": "code",
   "execution_count": null,
   "id": "333330e1",
   "metadata": {},
   "outputs": [],
   "source": [
    "def crop_image(\n",
    "    image_input_path: pathlib.Path,\n",
    "    image_output_path: pathlib.Path,\n",
    "    x_center: int,\n",
    "    y_center: int,\n",
    "    radius: int = 50,\n",
    ") -> Tuple[int, int, int]:\n",
    "    \"\"\"\n",
    "    Crop a square region from a larger image centered at (x_center, y_center) with given radius.\n",
    "\n",
    "    Parameters\n",
    "    ----------\n",
    "    image_input_path : pathlib.Path\n",
    "        The image to crop from as a path\n",
    "    image_output_path : pathlib.Path\n",
    "        The path to save the cropped image\n",
    "    x_center : int\n",
    "        The x-coordinate of the center of the crop\n",
    "    y_center : int\n",
    "        The y-coordinate of the center of the crop\n",
    "    radius : int, optional\n",
    "        The radius of the crop. Note this is radius from the x,y center.\n",
    "        Also not a true radius but you get the point, by default 50\n",
    "\n",
    "    Returns\n",
    "    -------\n",
    "    Tuple[int, int, int]\n",
    "        A tuple of (omitted_count, successful_count, total_count)\n",
    "        This indicates whether the crop was successful or omitted due to being an edge case.\n",
    "    \"\"\"\n",
    "    omitted_count, successful_count, total_count = 0, 0, 1\n",
    "    image = tifffile.imread(image_input_path)\n",
    "\n",
    "    image_crop = image[\n",
    "        y_center - radius : y_center + radius, x_center - radius : x_center + radius\n",
    "    ]\n",
    "\n",
    "    # check if crop is an edge case\n",
    "    # Where edge case is cells that are too close to the edge of the image to crop\n",
    "    # This ensures that all crops are the same dimensions and can be used in the model\n",
    "    if image_crop.shape[0] < radius * 2 or image_crop.shape[1] < radius * 2:\n",
    "        omitted_count = 1\n",
    "        return (omitted_count, successful_count, total_count)\n",
    "\n",
    "    image_output_path.parent.mkdir(parents=True, exist_ok=True)\n",
    "\n",
    "    tifffile.imwrite(image_output_path, image_crop)\n",
    "    successful_count = 1\n",
    "    return (omitted_count, successful_count, total_count)"
   ]
  },
  {
   "cell_type": "code",
   "execution_count": 4,
   "id": "2e40083e",
   "metadata": {},
   "outputs": [],
   "source": [
    "single_cell_profiles = pathlib.Path(\n",
    "    \"../../data/CP_scDINO_features/combined_CP_scDINO_norm_fs.parquet\"\n",
    ").resolve(strict=True)"
   ]
  },
  {
   "cell_type": "code",
   "execution_count": 5,
   "id": "95b2b69c",
   "metadata": {},
   "outputs": [],
   "source": [
    "input_file_parent_path = pathlib.Path(\n",
    "    \"/home/lippincm/4TB_A/live_cell_timelapse_apoptosis/\"\n",
    ").resolve(strict=True)\n",
    "output_crop_parent_path = pathlib.Path(\"../../data/single_cell_crops/\").resolve()\n",
    "output_crop_parent_path.mkdir(parents=True, exist_ok=True)"
   ]
  },
  {
   "cell_type": "code",
   "execution_count": 6,
   "id": "7daf2d80",
   "metadata": {},
   "outputs": [],
   "source": [
    "df = pd.read_parquet(single_cell_profiles)\n",
    "df[\"Metadata_Image_FileName_CL_488_1_crop\"] = (\n",
    "    str(output_crop_parent_path)\n",
    "    + \"/\"\n",
    "    + df[\"Metadata_Image_FileName_CL_488_1\"].str.replace(\".tif\", \"\")\n",
    "    + \"_crop_\"\n",
    "    + df[\"Metadata_Nuclei_Number_Object_Number\"].astype(str)\n",
    "    + \"_\"\n",
    "    + df.index.astype(str)\n",
    "    + \".tiff\"\n",
    ")\n",
    "df[\"Metadata_Image_FileName_CL_488_2_crop\"] = (\n",
    "    str(output_crop_parent_path)\n",
    "    + \"/\"\n",
    "    + df[\"Metadata_Image_FileName_CL_488_2\"].str.replace(\".tif\", \"\")\n",
    "    + \"_crop_\"\n",
    "    + df[\"Metadata_Nuclei_Number_Object_Number\"].astype(str)\n",
    "    + \"_\"\n",
    "    + df.index.astype(str)\n",
    "    + \".tiff\"\n",
    ")\n",
    "df[\"Metadata_Image_FileName_CL_561_crop\"] = (\n",
    "    str(output_crop_parent_path)\n",
    "    + \"/\"\n",
    "    + df[\"Metadata_Image_FileName_CL_561\"].str.replace(\".tif\", \"\")\n",
    "    + \"_crop_\"\n",
    "    + df[\"Metadata_Nuclei_Number_Object_Number\"].astype(str)\n",
    "    + \"_\"\n",
    "    + df.index.astype(str)\n",
    "    + \".tiff\"\n",
    ")\n",
    "df[\"Metadata_Image_FileName_DNA_crop\"] = (\n",
    "    str(output_crop_parent_path)\n",
    "    + \"/\"\n",
    "    + df[\"Metadata_Image_FileName_DNA\"].str.replace(\".tif\", \"\")\n",
    "    + \"_crop_\"\n",
    "    + df[\"Metadata_Nuclei_Number_Object_Number\"].astype(str)\n",
    "    + \"_\"\n",
    "    + df.index.astype(str)\n",
    "    + \".tiff\"\n",
    ")\n",
    "df[\"Metadata_parent_path\"] = df[\"Metadata_Image_PathName_CL_488_2\"].apply(\n",
    "    lambda x: f\"{input_file_parent_path}{x.split('live_cell_timelapse_apoptosis')[1]}\"\n",
    ")\n",
    "df.to_parquet(single_cell_profiles, index=False)"
   ]
  },
  {
   "cell_type": "code",
   "execution_count": 7,
   "id": "e7544d17",
   "metadata": {},
   "outputs": [
    {
     "data": {
      "application/vnd.jupyter.widget-view+json": {
       "model_id": "e80e03b10c72431b85af517405222c0a",
       "version_major": 2,
       "version_minor": 0
      },
      "text/plain": [
       "Generating crops...:   0%|          | 0/188065 [00:00<?, ?it/s]"
      ]
     },
     "metadata": {},
     "output_type": "display_data"
    }
   ],
   "source": [
    "omitted_count, successful_count, total_count = 0, 0, 0\n",
    "for index in tqdm(df.index, desc=\"Generating crops...\", total=len(df)):\n",
    "\n",
    "    o1, s1, t1 = crop_image(\n",
    "        image_input_path=pathlib.Path(\n",
    "            f\"{df['Metadata_parent_path'][index]}/{df['Metadata_Image_FileName_CL_488_1'][index]}\"\n",
    "        ),\n",
    "        image_output_path=pathlib.Path(\n",
    "            f\"{df['Metadata_Image_FileName_CL_488_1_crop'][index]}\"\n",
    "        ),\n",
    "        x_center=df[\"Metadata_x\"][index].astype(int),\n",
    "        y_center=df[\"Metadata_y\"][index].astype(int),\n",
    "        radius=radius,\n",
    "    )\n",
    "    o2, s2, t2 = crop_image(\n",
    "        image_input_path=pathlib.Path(\n",
    "            f\"{df['Metadata_parent_path'][index]}/{df['Metadata_Image_FileName_CL_488_2'][index]}\"\n",
    "        ),\n",
    "        image_output_path=pathlib.Path(\n",
    "            f\"{df['Metadata_Image_FileName_CL_488_2_crop'][index]}\"\n",
    "        ),\n",
    "        x_center=df[\"Metadata_x\"][index].astype(int),\n",
    "        y_center=df[\"Metadata_y\"][index].astype(int),\n",
    "        radius=radius,\n",
    "    )\n",
    "    o3, s3, t3 = crop_image(\n",
    "        image_input_path=pathlib.Path(\n",
    "            f\"{df['Metadata_parent_path'][index]}/{df['Metadata_Image_FileName_DNA'][index]}\"\n",
    "        ),\n",
    "        image_output_path=pathlib.Path(\n",
    "            f\"{df['Metadata_Image_FileName_DNA_crop'][index]}\"\n",
    "        ),\n",
    "        x_center=df[\"Metadata_x\"][index].astype(int),\n",
    "        y_center=df[\"Metadata_y\"][index].astype(int),\n",
    "        radius=radius,\n",
    "    )\n",
    "    o4, s4, t4 = crop_image(\n",
    "        image_input_path=pathlib.Path(\n",
    "            f\"{df['Metadata_parent_path'][index]}/{df['Metadata_Image_FileName_CL_561'][index]}\"\n",
    "        ),\n",
    "        image_output_path=pathlib.Path(\n",
    "            f\"{df['Metadata_Image_FileName_CL_561_crop'][index]}\"\n",
    "        ),\n",
    "        x_center=df[\"Metadata_x\"][index].astype(int),\n",
    "        y_center=df[\"Metadata_y\"][index].astype(int),\n",
    "        radius=radius,\n",
    "    )\n",
    "    omitted_count += o1 + o2 + o3 + o4\n",
    "    successful_count += s1 + s2 + s3 + s4\n",
    "    total_count += t1 + t2 + t3 + t4"
   ]
  },
  {
   "cell_type": "code",
   "execution_count": 8,
   "id": "a3b1d7bc",
   "metadata": {},
   "outputs": [
    {
     "name": "stdout",
     "output_type": "stream",
     "text": [
      "Omitted 41020 crops. Successfully created 711240 crops out of 752260 total crops.\n"
     ]
    }
   ],
   "source": [
    "print(\n",
    "    f\"Omitted {omitted_count} crops. Successfully created {successful_count} crops out of {total_count} total crops.\"\n",
    ")"
   ]
  }
 ],
 "metadata": {
  "kernelspec": {
   "display_name": "timelapse_analaysis_env",
   "language": "python",
   "name": "python3"
  },
  "language_info": {
   "codemirror_mode": {
    "name": "ipython",
    "version": 3
   },
   "file_extension": ".py",
   "mimetype": "text/x-python",
   "name": "python",
   "nbconvert_exporter": "python",
   "pygments_lexer": "ipython3",
   "version": "3.11.11"
  }
 },
 "nbformat": 4,
 "nbformat_minor": 5
}
