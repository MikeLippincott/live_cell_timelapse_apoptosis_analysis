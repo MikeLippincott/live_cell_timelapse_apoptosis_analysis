{
 "cells": [
  {
   "cell_type": "code",
   "execution_count": 1,
   "id": "2cc187eb",
   "metadata": {},
   "outputs": [],
   "source": [
    "import argparse\n",
    "import pathlib\n",
    "from typing import List, Tuple\n",
    "\n",
    "import numpy as np\n",
    "import pandas as pd\n",
    "import PIL\n",
    "import tifffile\n",
    "from PIL import Image, ImageDraw, ImageEnhance, ImageFont  # import ImageEnhance\n",
    "\n",
    "try:\n",
    "    cfg = get_ipython().config\n",
    "    in_notebook = True\n",
    "except NameError:\n",
    "    in_notebook = False\n",
    "if in_notebook:\n",
    "    from tqdm.notebook import tqdm\n",
    "else:\n",
    "    from tqdm import tqdm"
   ]
  },
  {
   "cell_type": "code",
   "execution_count": null,
   "id": "db4fcd5b",
   "metadata": {},
   "outputs": [],
   "source": [
    "# set the arg parser\n",
    "parser = argparse.ArgumentParser(description=\"UMAP on a matrix\")\n",
    "\n",
    "parser.add_argument(\n",
    "    \"--composite_or_single_channel\",\n",
    "    type=str,\n",
    "    default=\"False\",\n",
    "    help=\"Whether to use composite images (True) or single channel images (False)\",\n",
    "    choices=[\"True\", \"False\"],\n",
    ")\n",
    "\n",
    "# get the args\n",
    "args = parser.parse_args()\n",
    "\n",
    "# set data mode to either \"CP\" or \"scDINO\" or \"combined\" or \"terminal\"\n",
    "composite_or_single_channel = args.composite_or_single_channel\n",
    "print(f\"composite_or_single_channel: {composite_or_single_channel}\")\n",
    "if composite_or_single_channel == \"True\":\n",
    "    composite = True\n",
    "    pseudo_color = False\n",
    "else:\n",
    "    composite = False\n",
    "    pseudo_color = True\n",
    "print(f\"composite: {composite}, pseudo_color: {pseudo_color}\")"
   ]
  },
  {
   "cell_type": "markdown",
   "id": "e8d5a708",
   "metadata": {},
   "source": [
    "## Functions"
   ]
  },
  {
   "cell_type": "code",
   "execution_count": null,
   "id": "edb65ff9",
   "metadata": {},
   "outputs": [],
   "source": [
    "def normalize_image(image: np.ndarray) -> np.ndarray:\n",
    "    \"\"\"\n",
    "    Normalize the image to the range [0, 255] and convert to uint8.\n",
    "\n",
    "    Parameters\n",
    "    ----------\n",
    "    image : np.ndarray\n",
    "        Input image to be normalized.\n",
    "\n",
    "    Returns\n",
    "    -------\n",
    "    np.ndarray\n",
    "        Normalized image in uint8 format.\n",
    "    \"\"\"\n",
    "    image = image.astype(np.float32)\n",
    "    image -= image.min()\n",
    "    try:\n",
    "        image /= image.max()\n",
    "    except ZeroDivisionError:\n",
    "        raise ValueError(\"Maximum value of the image is zero, cannot normalize.\")\n",
    "    image *= 255.0\n",
    "    return image.astype(np.uint8)\n",
    "\n",
    "\n",
    "# make the composite images\n",
    "def make_composite_image(\n",
    "    image1_path: pathlib.Path,  # yellow\n",
    "    image2_path: pathlib.Path,  # green\n",
    "    image3_path: pathlib.Path,  # red\n",
    "    image4_path: pathlib.Path,  # blue\n",
    ") -> PIL.Image.Image:\n",
    "    \"\"\"\n",
    "    Create a composite image from four input images.\n",
    "\n",
    "    Parameters\n",
    "    ----------\n",
    "    image1_path : pathlib.Path\n",
    "        Path to the first image (488_1).\n",
    "    image2_path : pathlib.Path\n",
    "        Path to the second image (488_2).\n",
    "    image3_path : pathlib.Path\n",
    "        Path to the third image (561).\n",
    "    image4_path : pathlib.Path\n",
    "        Path to the fourth image (DNA).\n",
    "\n",
    "    Returns\n",
    "    -------\n",
    "    PIL.Image.Image\n",
    "        Composite image in CYMK format. Where the channels are:\n",
    "        - C: DNA (blue)\n",
    "        - M: 488_1 (magenta) + 488_2 (magenta)\n",
    "        - Y: 561 (yellow)\n",
    "        - K: Not used\"\"\"\n",
    "    # Load the images\n",
    "    image1 = tifffile.imread(image1_path)\n",
    "    image2 = tifffile.imread(image2_path)\n",
    "    image3 = tifffile.imread(image3_path)\n",
    "    image4 = tifffile.imread(image4_path)\n",
    "\n",
    "    # Normalize the images to the range [0, 255]\n",
    "    image1 = normalize_image(image1)  # 488_1\n",
    "    image2 = normalize_image(image2)  # 488_2\n",
    "    image3 = normalize_image(image3)  # 561\n",
    "    image4 = normalize_image(image4)  # DNA\n",
    "    # merge 488_1 and 488_2 into a single green channel by taking the max\n",
    "    image1 = np.maximum(image1, image2)\n",
    "    # make a cyan, magenta, yellow composite\n",
    "    # cyan = green + blue\n",
    "    # magenta = red + blue\n",
    "    # yellow = red + green\n",
    "    # composite = max(cyan, magenta, yellow)\n",
    "    cyan = np.zeros((image1.shape[0], image1.shape[1], 3), dtype=np.uint8)\n",
    "    cyan[..., 1] = image4  # green\n",
    "    cyan[..., 2] = image4  # blue\n",
    "    magenta = np.zeros((image1.shape[0], image1.shape[1], 3), dtype=np.uint8)\n",
    "    magenta[..., 0] = image1  # red\n",
    "    magenta[..., 2] = image1  # blue\n",
    "    yellow = np.zeros((image1.shape[0], image1.shape[1], 3), dtype=np.uint8)\n",
    "    yellow[..., 0] = image3  # red\n",
    "    yellow[..., 1] = image3  # green\n",
    "    composite = np.maximum(cyan, np.maximum(magenta, yellow))\n",
    "    # Convert to PIL Image for enhancement\n",
    "    composite = Image.fromarray(composite)\n",
    "    enhancer = ImageEnhance.Contrast(composite)\n",
    "    composite = enhancer.enhance(2)  # Increase contrast\n",
    "    enhancer = ImageEnhance.Brightness(composite)\n",
    "    return composite\n",
    "\n",
    "\n",
    "def make_pseudo_color_image(\n",
    "    image1_path: pathlib.Path,  # yellow\n",
    "    image2_path: pathlib.Path,  # green\n",
    "    image3_path: pathlib.Path,  # red\n",
    "    image4_path: pathlib.Path,  # blue\n",
    ") -> PIL.Image.Image:\n",
    "    \"\"\"\n",
    "    Create multiple pseudo-colored images from four input images.\n",
    "\n",
    "    Parameters\n",
    "    ----------\n",
    "    image1_path : pathlib.Path\n",
    "        Path to the first image (488_1).\n",
    "    image2_path : pathlib.Path\n",
    "        Path to the second image (488_2).\n",
    "    image3_path : pathlib.Path\n",
    "        Path to the third image (561).\n",
    "    image4_path : pathlib.Path\n",
    "        Path to the fourth image (DNA).\n",
    "\n",
    "    Returns\n",
    "    -------\n",
    "    PIL.Image.Image\n",
    "        pseudo color image. Where the channels are:\n",
    "        - DNA (cyan)\n",
    "        - 488_1 (magenta)\n",
    "        - 561 (yellow)\n",
    "        - 488_2 (green)\n",
    "    \"\"\"\n",
    "    # Load the images\n",
    "    image1 = tifffile.imread(image1_path)\n",
    "    image2 = tifffile.imread(image2_path)\n",
    "    image3 = tifffile.imread(image3_path)\n",
    "    image4 = tifffile.imread(image4_path)\n",
    "\n",
    "    # Normalize the images to the range [0, 255]\n",
    "    image1 = normalize_image(image1)  # 488_1\n",
    "    image2 = normalize_image(image2)  # 488_2\n",
    "    image3 = normalize_image(image3)  # 561\n",
    "    image4 = normalize_image(image4)  # DNA\n",
    "    # make a cyan, magenta, yellow composite\n",
    "    # cyan = green + blue\n",
    "    # magenta = red + blue\n",
    "    # yellow = red + green\n",
    "    # composite = max(cyan, magenta, yellow)\n",
    "    cyan = np.zeros((image1.shape[0], image1.shape[1], 3), dtype=np.uint8)\n",
    "    cyan[..., 1] = image4  # green\n",
    "    cyan[..., 2] = image4  # blue\n",
    "    magenta = np.zeros((image1.shape[0], image1.shape[1], 3), dtype=np.uint8)\n",
    "    magenta[..., 0] = image1  # red\n",
    "    magenta[..., 2] = image1  # blue\n",
    "    yellow = np.zeros((image1.shape[0], image1.shape[1], 3), dtype=np.uint8)\n",
    "    yellow[..., 0] = image3  # red\n",
    "    yellow[..., 1] = image3  # green\n",
    "    green = np.zeros((image1.shape[0], image1.shape[1], 3), dtype=np.uint8)\n",
    "    green[..., 1] = image2  # green\n",
    "    return cyan, magenta, yellow, green\n",
    "\n",
    "\n",
    "# scale the images up for better visualization\n",
    "def scale_image(image: PIL.Image.Image, scale_factor: int = 4) -> PIL.Image.Image:\n",
    "    \"\"\"\n",
    "    Scale the image by a given factor using nearest neighbor interpolation.\n",
    "\n",
    "    Parameters\n",
    "    ----------\n",
    "    image : PIL.Image.Image\n",
    "        Input image to be scaled.\n",
    "    scale_factor : int, optional\n",
    "        Scaling factor, by default 4\n",
    "\n",
    "    Returns\n",
    "    -------\n",
    "    PIL.Image.Image\n",
    "        Scaled image for better visualization.\n",
    "    \"\"\"\n",
    "\n",
    "    width, height = image.size\n",
    "    new_size = (int(width * scale_factor), int(height * scale_factor))\n",
    "    return image.resize(new_size, Image.NEAREST)\n",
    "\n",
    "\n",
    "def generate_image_panel_whole_image(\n",
    "    df: pd.DataFrame,\n",
    "    input_file_parent_path: pathlib.Path,\n",
    "    composite: bool = True,\n",
    "    pseudo_color: bool = False,\n",
    ") -> pd.DataFrame:\n",
    "    \"\"\"\n",
    "    Generate a DataFrame containing composite images for a specific cell over time.\n",
    "\n",
    "\n",
    "    Parameters\n",
    "    ----------\n",
    "    df : pd.DataFrame\n",
    "        Image-based profile DataFrame.\n",
    "        Each df should contain only one well_fov.\n",
    "    composite : bool, optional\n",
    "        Whether to generate composite images, by default True.\n",
    "    pseudo_color : bool, optional\n",
    "        Whether to generate pseudo-colored images, by default False.\n",
    "\n",
    "    Returns\n",
    "    -------\n",
    "    pd.DataFrame\n",
    "        DataFrame with columns: single_cell_id, well_fov, composite, time, dose.\n",
    "    \"\"\"\n",
    "    # check that composite and pseudo_color are not both True or both False\n",
    "    if composite == pseudo_color:\n",
    "        raise ValueError(\"composite and pseudo_color cannot be both True or both False\")\n",
    "\n",
    "    df = df.sort_values(\"Metadata_Time\")\n",
    "\n",
    "    well_fov = df[\"Metadata_Well_FOV\"].unique()[0]\n",
    "    image1_path = pathlib.Path(\n",
    "        input_file_parent_path / df[\"Metadata_Image_FileName_CL_488_1\"].values[0]\n",
    "    ).resolve(strict=True)\n",
    "    image2_path = pathlib.Path(\n",
    "        input_file_parent_path / df[\"Metadata_Image_FileName_CL_488_2\"].values[0]\n",
    "    ).resolve(strict=True)\n",
    "    image3_path = pathlib.Path(\n",
    "        input_file_parent_path / df[\"Metadata_Image_FileName_CL_561\"].values[0]\n",
    "    ).resolve(strict=True)\n",
    "    image4_path = pathlib.Path(\n",
    "        input_file_parent_path / df[\"Metadata_Image_FileName_DNA\"].values[0]\n",
    "    ).resolve(strict=True)\n",
    "    if composite:\n",
    "        output_dict = {\n",
    "            \"well_fov\": [],\n",
    "            \"composite\": [],\n",
    "            \"time\": [],\n",
    "            \"dose\": [],\n",
    "        }\n",
    "        composite_image = scale_image(\n",
    "            make_composite_image(\n",
    "                image1_path=image1_path,\n",
    "                image2_path=image2_path,\n",
    "                image3_path=image3_path,\n",
    "                image4_path=image4_path,\n",
    "            )\n",
    "        )\n",
    "\n",
    "        output_dict[\"well_fov\"].append(df[\"Metadata_Well_FOV\"].values[0])\n",
    "        output_dict[\"composite\"].append(composite_image)\n",
    "        output_dict[\"time\"].append(df[\"Metadata_Time\"].values[0])\n",
    "        output_dict[\"dose\"].append(df[\"Metadata_dose\"].values[0])\n",
    "    if pseudo_color:\n",
    "        output_dict = {\n",
    "            \"well_fov\": [],\n",
    "            \"cyan\": [],\n",
    "            \"magenta\": [],\n",
    "            \"yellow\": [],\n",
    "            \"green\": [],\n",
    "            \"time\": [],\n",
    "            \"dose\": [],\n",
    "        }\n",
    "        cyan, magenta, yellow, green = make_pseudo_color_image(\n",
    "            image1_path=image1_path,\n",
    "            image2_path=image2_path,\n",
    "            image3_path=image3_path,\n",
    "            image4_path=image4_path,\n",
    "        )\n",
    "        cyan = scale_image(Image.fromarray(cyan))\n",
    "        magenta = scale_image(Image.fromarray(magenta))\n",
    "        yellow = scale_image(Image.fromarray(yellow))\n",
    "        green = scale_image(Image.fromarray(green))\n",
    "\n",
    "        enhancer = ImageEnhance.Contrast(cyan)\n",
    "        cyan = enhancer.enhance(25)  # Increase contrast\n",
    "        enhancer = ImageEnhance.Contrast(magenta)\n",
    "        magenta = enhancer.enhance(25)  # Increase contrast\n",
    "        enhancer = ImageEnhance.Contrast(yellow)\n",
    "        yellow = enhancer.enhance(25)  # Increase contrast\n",
    "        enhancer = ImageEnhance.Contrast(green)\n",
    "        green = enhancer.enhance(25)  # Increase contrast\n",
    "\n",
    "        output_dict[\"well_fov\"].append(df[\"Metadata_Well_FOV\"].values[0])\n",
    "        output_dict[\"cyan\"].append(cyan)\n",
    "        output_dict[\"magenta\"].append(magenta)\n",
    "        output_dict[\"yellow\"].append(yellow)\n",
    "        output_dict[\"green\"].append(green)\n",
    "        output_dict[\"time\"].append(df[\"Metadata_Time\"].values[0])\n",
    "        output_dict[\"dose\"].append(df[\"Metadata_dose\"].values[0])\n",
    "    output_df = pd.DataFrame(output_dict)\n",
    "    return output_df"
   ]
  },
  {
   "cell_type": "markdown",
   "id": "22d8d001",
   "metadata": {},
   "source": [
    "## Load data and get pseudo colored images"
   ]
  },
  {
   "cell_type": "code",
   "execution_count": 4,
   "id": "faf6bee0",
   "metadata": {},
   "outputs": [
    {
     "data": {
      "text/html": [
       "<div>\n",
       "<style scoped>\n",
       "    .dataframe tbody tr th:only-of-type {\n",
       "        vertical-align: middle;\n",
       "    }\n",
       "\n",
       "    .dataframe tbody tr th {\n",
       "        vertical-align: top;\n",
       "    }\n",
       "\n",
       "    .dataframe thead th {\n",
       "        text-align: right;\n",
       "    }\n",
       "</style>\n",
       "<table border=\"1\" class=\"dataframe\">\n",
       "  <thead>\n",
       "    <tr style=\"text-align: right;\">\n",
       "      <th></th>\n",
       "      <th>Metadata_plate</th>\n",
       "      <th>Metadata_Well</th>\n",
       "      <th>Metadata_number_of_singlecells</th>\n",
       "      <th>Metadata_compound</th>\n",
       "      <th>Metadata_dose</th>\n",
       "      <th>Metadata_control</th>\n",
       "      <th>Metadata_ImageNumber</th>\n",
       "      <th>Metadata_FOV</th>\n",
       "      <th>Metadata_Time</th>\n",
       "      <th>Metadata_Cells_Number_Object_Number</th>\n",
       "      <th>...</th>\n",
       "      <th>channel_DNA_cls_feature_97_scDINO</th>\n",
       "      <th>channel_DNA_cls_feature_98_scDINO</th>\n",
       "      <th>channel_DNA_cls_feature_99_scDINO</th>\n",
       "      <th>channel_DNA_cls_feature_9_scDINO</th>\n",
       "      <th>Metadata_Image_FileName_CL_488_1_crop</th>\n",
       "      <th>Metadata_Image_FileName_CL_488_2_crop</th>\n",
       "      <th>Metadata_Image_FileName_CL_561_crop</th>\n",
       "      <th>Metadata_Image_FileName_DNA_crop</th>\n",
       "      <th>Metadata_parent_path</th>\n",
       "      <th>Metadata_Well_FOV</th>\n",
       "    </tr>\n",
       "  </thead>\n",
       "  <tbody>\n",
       "    <tr>\n",
       "      <th>0</th>\n",
       "      <td>1</td>\n",
       "      <td>C-09</td>\n",
       "      <td>168</td>\n",
       "      <td>Staurosporine</td>\n",
       "      <td>39.06</td>\n",
       "      <td>positive</td>\n",
       "      <td>1</td>\n",
       "      <td>0002</td>\n",
       "      <td>0</td>\n",
       "      <td>7</td>\n",
       "      <td>...</td>\n",
       "      <td>0.980376</td>\n",
       "      <td>-0.123520</td>\n",
       "      <td>2.401852</td>\n",
       "      <td>1.516202</td>\n",
       "      <td>/home/lippincm/4TB_A/live_cell_timelapse_apopt...</td>\n",
       "      <td>/home/lippincm/4TB_A/live_cell_timelapse_apopt...</td>\n",
       "      <td>/home/lippincm/4TB_A/live_cell_timelapse_apopt...</td>\n",
       "      <td>/home/lippincm/4TB_A/live_cell_timelapse_apopt...</td>\n",
       "      <td>/home/lippincm/4TB_A/live_cell_timelapse_apopt...</td>\n",
       "      <td>C-09_F0002</td>\n",
       "    </tr>\n",
       "    <tr>\n",
       "      <th>1</th>\n",
       "      <td>1</td>\n",
       "      <td>C-09</td>\n",
       "      <td>168</td>\n",
       "      <td>Staurosporine</td>\n",
       "      <td>39.06</td>\n",
       "      <td>positive</td>\n",
       "      <td>1</td>\n",
       "      <td>0002</td>\n",
       "      <td>0</td>\n",
       "      <td>9</td>\n",
       "      <td>...</td>\n",
       "      <td>2.407552</td>\n",
       "      <td>-0.835988</td>\n",
       "      <td>-0.264486</td>\n",
       "      <td>0.153676</td>\n",
       "      <td>/home/lippincm/4TB_A/live_cell_timelapse_apopt...</td>\n",
       "      <td>/home/lippincm/4TB_A/live_cell_timelapse_apopt...</td>\n",
       "      <td>/home/lippincm/4TB_A/live_cell_timelapse_apopt...</td>\n",
       "      <td>/home/lippincm/4TB_A/live_cell_timelapse_apopt...</td>\n",
       "      <td>/home/lippincm/4TB_A/live_cell_timelapse_apopt...</td>\n",
       "      <td>C-09_F0002</td>\n",
       "    </tr>\n",
       "    <tr>\n",
       "      <th>2</th>\n",
       "      <td>1</td>\n",
       "      <td>C-09</td>\n",
       "      <td>168</td>\n",
       "      <td>Staurosporine</td>\n",
       "      <td>39.06</td>\n",
       "      <td>positive</td>\n",
       "      <td>1</td>\n",
       "      <td>0002</td>\n",
       "      <td>0</td>\n",
       "      <td>10</td>\n",
       "      <td>...</td>\n",
       "      <td>1.048282</td>\n",
       "      <td>-0.359857</td>\n",
       "      <td>0.659583</td>\n",
       "      <td>0.537619</td>\n",
       "      <td>/home/lippincm/4TB_A/live_cell_timelapse_apopt...</td>\n",
       "      <td>/home/lippincm/4TB_A/live_cell_timelapse_apopt...</td>\n",
       "      <td>/home/lippincm/4TB_A/live_cell_timelapse_apopt...</td>\n",
       "      <td>/home/lippincm/4TB_A/live_cell_timelapse_apopt...</td>\n",
       "      <td>/home/lippincm/4TB_A/live_cell_timelapse_apopt...</td>\n",
       "      <td>C-09_F0002</td>\n",
       "    </tr>\n",
       "    <tr>\n",
       "      <th>3</th>\n",
       "      <td>1</td>\n",
       "      <td>C-09</td>\n",
       "      <td>168</td>\n",
       "      <td>Staurosporine</td>\n",
       "      <td>39.06</td>\n",
       "      <td>positive</td>\n",
       "      <td>1</td>\n",
       "      <td>0002</td>\n",
       "      <td>0</td>\n",
       "      <td>11</td>\n",
       "      <td>...</td>\n",
       "      <td>-0.285477</td>\n",
       "      <td>0.211796</td>\n",
       "      <td>0.443178</td>\n",
       "      <td>1.129714</td>\n",
       "      <td>/home/lippincm/4TB_A/live_cell_timelapse_apopt...</td>\n",
       "      <td>/home/lippincm/4TB_A/live_cell_timelapse_apopt...</td>\n",
       "      <td>/home/lippincm/4TB_A/live_cell_timelapse_apopt...</td>\n",
       "      <td>/home/lippincm/4TB_A/live_cell_timelapse_apopt...</td>\n",
       "      <td>/home/lippincm/4TB_A/live_cell_timelapse_apopt...</td>\n",
       "      <td>C-09_F0002</td>\n",
       "    </tr>\n",
       "    <tr>\n",
       "      <th>4</th>\n",
       "      <td>1</td>\n",
       "      <td>C-09</td>\n",
       "      <td>168</td>\n",
       "      <td>Staurosporine</td>\n",
       "      <td>39.06</td>\n",
       "      <td>positive</td>\n",
       "      <td>1</td>\n",
       "      <td>0002</td>\n",
       "      <td>0</td>\n",
       "      <td>12</td>\n",
       "      <td>...</td>\n",
       "      <td>-1.693796</td>\n",
       "      <td>-1.694061</td>\n",
       "      <td>-0.228990</td>\n",
       "      <td>0.648714</td>\n",
       "      <td>/home/lippincm/4TB_A/live_cell_timelapse_apopt...</td>\n",
       "      <td>/home/lippincm/4TB_A/live_cell_timelapse_apopt...</td>\n",
       "      <td>/home/lippincm/4TB_A/live_cell_timelapse_apopt...</td>\n",
       "      <td>/home/lippincm/4TB_A/live_cell_timelapse_apopt...</td>\n",
       "      <td>/home/lippincm/4TB_A/live_cell_timelapse_apopt...</td>\n",
       "      <td>C-09_F0002</td>\n",
       "    </tr>\n",
       "  </tbody>\n",
       "</table>\n",
       "<p>5 rows × 2379 columns</p>\n",
       "</div>"
      ],
      "text/plain": [
       "   Metadata_plate Metadata_Well  Metadata_number_of_singlecells  \\\n",
       "0               1          C-09                             168   \n",
       "1               1          C-09                             168   \n",
       "2               1          C-09                             168   \n",
       "3               1          C-09                             168   \n",
       "4               1          C-09                             168   \n",
       "\n",
       "  Metadata_compound Metadata_dose Metadata_control Metadata_ImageNumber  \\\n",
       "0     Staurosporine         39.06         positive                    1   \n",
       "1     Staurosporine         39.06         positive                    1   \n",
       "2     Staurosporine         39.06         positive                    1   \n",
       "3     Staurosporine         39.06         positive                    1   \n",
       "4     Staurosporine         39.06         positive                    1   \n",
       "\n",
       "  Metadata_FOV  Metadata_Time  Metadata_Cells_Number_Object_Number  ...  \\\n",
       "0         0002              0                                    7  ...   \n",
       "1         0002              0                                    9  ...   \n",
       "2         0002              0                                   10  ...   \n",
       "3         0002              0                                   11  ...   \n",
       "4         0002              0                                   12  ...   \n",
       "\n",
       "   channel_DNA_cls_feature_97_scDINO  channel_DNA_cls_feature_98_scDINO  \\\n",
       "0                           0.980376                          -0.123520   \n",
       "1                           2.407552                          -0.835988   \n",
       "2                           1.048282                          -0.359857   \n",
       "3                          -0.285477                           0.211796   \n",
       "4                          -1.693796                          -1.694061   \n",
       "\n",
       "   channel_DNA_cls_feature_99_scDINO  channel_DNA_cls_feature_9_scDINO  \\\n",
       "0                           2.401852                          1.516202   \n",
       "1                          -0.264486                          0.153676   \n",
       "2                           0.659583                          0.537619   \n",
       "3                           0.443178                          1.129714   \n",
       "4                          -0.228990                          0.648714   \n",
       "\n",
       "               Metadata_Image_FileName_CL_488_1_crop  \\\n",
       "0  /home/lippincm/4TB_A/live_cell_timelapse_apopt...   \n",
       "1  /home/lippincm/4TB_A/live_cell_timelapse_apopt...   \n",
       "2  /home/lippincm/4TB_A/live_cell_timelapse_apopt...   \n",
       "3  /home/lippincm/4TB_A/live_cell_timelapse_apopt...   \n",
       "4  /home/lippincm/4TB_A/live_cell_timelapse_apopt...   \n",
       "\n",
       "               Metadata_Image_FileName_CL_488_2_crop  \\\n",
       "0  /home/lippincm/4TB_A/live_cell_timelapse_apopt...   \n",
       "1  /home/lippincm/4TB_A/live_cell_timelapse_apopt...   \n",
       "2  /home/lippincm/4TB_A/live_cell_timelapse_apopt...   \n",
       "3  /home/lippincm/4TB_A/live_cell_timelapse_apopt...   \n",
       "4  /home/lippincm/4TB_A/live_cell_timelapse_apopt...   \n",
       "\n",
       "                 Metadata_Image_FileName_CL_561_crop  \\\n",
       "0  /home/lippincm/4TB_A/live_cell_timelapse_apopt...   \n",
       "1  /home/lippincm/4TB_A/live_cell_timelapse_apopt...   \n",
       "2  /home/lippincm/4TB_A/live_cell_timelapse_apopt...   \n",
       "3  /home/lippincm/4TB_A/live_cell_timelapse_apopt...   \n",
       "4  /home/lippincm/4TB_A/live_cell_timelapse_apopt...   \n",
       "\n",
       "                    Metadata_Image_FileName_DNA_crop  \\\n",
       "0  /home/lippincm/4TB_A/live_cell_timelapse_apopt...   \n",
       "1  /home/lippincm/4TB_A/live_cell_timelapse_apopt...   \n",
       "2  /home/lippincm/4TB_A/live_cell_timelapse_apopt...   \n",
       "3  /home/lippincm/4TB_A/live_cell_timelapse_apopt...   \n",
       "4  /home/lippincm/4TB_A/live_cell_timelapse_apopt...   \n",
       "\n",
       "                                Metadata_parent_path Metadata_Well_FOV  \n",
       "0  /home/lippincm/4TB_A/live_cell_timelapse_apopt...        C-09_F0002  \n",
       "1  /home/lippincm/4TB_A/live_cell_timelapse_apopt...        C-09_F0002  \n",
       "2  /home/lippincm/4TB_A/live_cell_timelapse_apopt...        C-09_F0002  \n",
       "3  /home/lippincm/4TB_A/live_cell_timelapse_apopt...        C-09_F0002  \n",
       "4  /home/lippincm/4TB_A/live_cell_timelapse_apopt...        C-09_F0002  \n",
       "\n",
       "[5 rows x 2379 columns]"
      ]
     },
     "execution_count": 4,
     "metadata": {},
     "output_type": "execute_result"
    }
   ],
   "source": [
    "single_cell_profiles = pathlib.Path(\n",
    "    \"../../../data/CP_scDINO_features/combined_CP_scDINO_norm_fs.parquet\"\n",
    ").resolve(strict=True)\n",
    "df = pd.read_parquet(single_cell_profiles)\n",
    "df[\"Metadata_Well_FOV\"] = df[\"Metadata_Well\"] + \"_F\" + df[\"Metadata_FOV\"]\n",
    "df[\"Metadata_Time\"] = df[\"Metadata_Time\"].astype(float).astype(int)\n",
    "df[\"Metadata_Time\"].sort_values()\n",
    "df.head()"
   ]
  },
  {
   "cell_type": "code",
   "execution_count": null,
   "id": "07ed736a",
   "metadata": {},
   "outputs": [
    {
     "data": {
      "application/vnd.jupyter.widget-view+json": {
       "model_id": "69c78cce90064f4b9f1a901e9914de49",
       "version_major": 2,
       "version_minor": 0
      },
      "text/plain": [
       "Processing well_fov:   0%|          | 0/120 [00:00<?, ? well_fov/s]"
      ]
     },
     "metadata": {},
     "output_type": "display_data"
    },
    {
     "data": {
      "application/vnd.jupyter.widget-view+json": {
       "model_id": "f90d1c99409e450092a9547bb7666e10",
       "version_major": 2,
       "version_minor": 0
      },
      "text/plain": [
       "Processing timepoint:   0%|          | 0/13 [00:00<?, ? timepoint/s]"
      ]
     },
     "metadata": {},
     "output_type": "display_data"
    },
    {
     "data": {
      "application/vnd.jupyter.widget-view+json": {
       "model_id": "e1f65bf46dee4f89a4c8df5691e139ea",
       "version_major": 2,
       "version_minor": 0
      },
      "text/plain": [
       "Processing timepoint:   0%|          | 0/13 [00:00<?, ? timepoint/s]"
      ]
     },
     "metadata": {},
     "output_type": "display_data"
    },
    {
     "data": {
      "application/vnd.jupyter.widget-view+json": {
       "model_id": "3301c5ed26f748adb4f1a690779c45b4",
       "version_major": 2,
       "version_minor": 0
      },
      "text/plain": [
       "Processing timepoint:   0%|          | 0/13 [00:00<?, ? timepoint/s]"
      ]
     },
     "metadata": {},
     "output_type": "display_data"
    },
    {
     "data": {
      "application/vnd.jupyter.widget-view+json": {
       "model_id": "04fedba3ecc846e2ab8f40347e1cf721",
       "version_major": 2,
       "version_minor": 0
      },
      "text/plain": [
       "Processing timepoint:   0%|          | 0/13 [00:00<?, ? timepoint/s]"
      ]
     },
     "metadata": {},
     "output_type": "display_data"
    },
    {
     "data": {
      "application/vnd.jupyter.widget-view+json": {
       "model_id": "81d362b7320841eba7d4e450c4e7e092",
       "version_major": 2,
       "version_minor": 0
      },
      "text/plain": [
       "Processing timepoint:   0%|          | 0/13 [00:00<?, ? timepoint/s]"
      ]
     },
     "metadata": {},
     "output_type": "display_data"
    },
    {
     "data": {
      "application/vnd.jupyter.widget-view+json": {
       "model_id": "3c79258f7d144efc84b3bb68e53e7110",
       "version_major": 2,
       "version_minor": 0
      },
      "text/plain": [
       "Processing timepoint:   0%|          | 0/13 [00:00<?, ? timepoint/s]"
      ]
     },
     "metadata": {},
     "output_type": "display_data"
    },
    {
     "data": {
      "application/vnd.jupyter.widget-view+json": {
       "model_id": "6b5534e1a03d4584a0d284a20166d18e",
       "version_major": 2,
       "version_minor": 0
      },
      "text/plain": [
       "Processing timepoint:   0%|          | 0/13 [00:00<?, ? timepoint/s]"
      ]
     },
     "metadata": {},
     "output_type": "display_data"
    },
    {
     "data": {
      "application/vnd.jupyter.widget-view+json": {
       "model_id": "9d37e59fe80b4e01be8b6bff9c34c15d",
       "version_major": 2,
       "version_minor": 0
      },
      "text/plain": [
       "Processing timepoint:   0%|          | 0/13 [00:00<?, ? timepoint/s]"
      ]
     },
     "metadata": {},
     "output_type": "display_data"
    },
    {
     "data": {
      "application/vnd.jupyter.widget-view+json": {
       "model_id": "338d152422064afcbb90d474fba1f332",
       "version_major": 2,
       "version_minor": 0
      },
      "text/plain": [
       "Processing timepoint:   0%|          | 0/13 [00:00<?, ? timepoint/s]"
      ]
     },
     "metadata": {},
     "output_type": "display_data"
    },
    {
     "data": {
      "application/vnd.jupyter.widget-view+json": {
       "model_id": "9709c112d01f4edb904c3f1665ba80ee",
       "version_major": 2,
       "version_minor": 0
      },
      "text/plain": [
       "Processing timepoint:   0%|          | 0/13 [00:00<?, ? timepoint/s]"
      ]
     },
     "metadata": {},
     "output_type": "display_data"
    },
    {
     "data": {
      "application/vnd.jupyter.widget-view+json": {
       "model_id": "4316129f616d4f3fb3d011a3d717645c",
       "version_major": 2,
       "version_minor": 0
      },
      "text/plain": [
       "Processing timepoint:   0%|          | 0/13 [00:00<?, ? timepoint/s]"
      ]
     },
     "metadata": {},
     "output_type": "display_data"
    },
    {
     "data": {
      "application/vnd.jupyter.widget-view+json": {
       "model_id": "ca985364a8cd4cd9b02ee54258259d2c",
       "version_major": 2,
       "version_minor": 0
      },
      "text/plain": [
       "Processing timepoint:   0%|          | 0/13 [00:00<?, ? timepoint/s]"
      ]
     },
     "metadata": {},
     "output_type": "display_data"
    },
    {
     "data": {
      "application/vnd.jupyter.widget-view+json": {
       "model_id": "e7f754101e834b1589e3966f3315ff25",
       "version_major": 2,
       "version_minor": 0
      },
      "text/plain": [
       "Processing timepoint:   0%|          | 0/13 [00:00<?, ? timepoint/s]"
      ]
     },
     "metadata": {},
     "output_type": "display_data"
    },
    {
     "data": {
      "application/vnd.jupyter.widget-view+json": {
       "model_id": "316747f5fd2d4eb68b0a3012056db4a8",
       "version_major": 2,
       "version_minor": 0
      },
      "text/plain": [
       "Processing timepoint:   0%|          | 0/13 [00:00<?, ? timepoint/s]"
      ]
     },
     "metadata": {},
     "output_type": "display_data"
    },
    {
     "data": {
      "application/vnd.jupyter.widget-view+json": {
       "model_id": "ba29c3c4554645c2a44d339f8e8c1f73",
       "version_major": 2,
       "version_minor": 0
      },
      "text/plain": [
       "Processing timepoint:   0%|          | 0/13 [00:00<?, ? timepoint/s]"
      ]
     },
     "metadata": {},
     "output_type": "display_data"
    },
    {
     "data": {
      "application/vnd.jupyter.widget-view+json": {
       "model_id": "2d328c7aab0d4ac1bf7bf2f35700cbd5",
       "version_major": 2,
       "version_minor": 0
      },
      "text/plain": [
       "Processing timepoint:   0%|          | 0/13 [00:00<?, ? timepoint/s]"
      ]
     },
     "metadata": {},
     "output_type": "display_data"
    },
    {
     "data": {
      "application/vnd.jupyter.widget-view+json": {
       "model_id": "38c7b742389e481d96311c5d8961987d",
       "version_major": 2,
       "version_minor": 0
      },
      "text/plain": [
       "Processing timepoint:   0%|          | 0/13 [00:00<?, ? timepoint/s]"
      ]
     },
     "metadata": {},
     "output_type": "display_data"
    },
    {
     "data": {
      "application/vnd.jupyter.widget-view+json": {
       "model_id": "32e862ce59954fcc809c8da33c63f13d",
       "version_major": 2,
       "version_minor": 0
      },
      "text/plain": [
       "Processing timepoint:   0%|          | 0/13 [00:00<?, ? timepoint/s]"
      ]
     },
     "metadata": {},
     "output_type": "display_data"
    },
    {
     "data": {
      "application/vnd.jupyter.widget-view+json": {
       "model_id": "f11f0667861549078400db013eb4b99a",
       "version_major": 2,
       "version_minor": 0
      },
      "text/plain": [
       "Processing timepoint:   0%|          | 0/13 [00:00<?, ? timepoint/s]"
      ]
     },
     "metadata": {},
     "output_type": "display_data"
    },
    {
     "data": {
      "application/vnd.jupyter.widget-view+json": {
       "model_id": "d9bd6fddb82f4d7f86c21feabdc1311a",
       "version_major": 2,
       "version_minor": 0
      },
      "text/plain": [
       "Processing timepoint:   0%|          | 0/13 [00:00<?, ? timepoint/s]"
      ]
     },
     "metadata": {},
     "output_type": "display_data"
    },
    {
     "data": {
      "application/vnd.jupyter.widget-view+json": {
       "model_id": "bf41ae4b8ca94874947747531f0451e9",
       "version_major": 2,
       "version_minor": 0
      },
      "text/plain": [
       "Processing timepoint:   0%|          | 0/13 [00:00<?, ? timepoint/s]"
      ]
     },
     "metadata": {},
     "output_type": "display_data"
    },
    {
     "data": {
      "application/vnd.jupyter.widget-view+json": {
       "model_id": "b10dde8c8e1f422c87a53452270031a0",
       "version_major": 2,
       "version_minor": 0
      },
      "text/plain": [
       "Processing timepoint:   0%|          | 0/13 [00:00<?, ? timepoint/s]"
      ]
     },
     "metadata": {},
     "output_type": "display_data"
    },
    {
     "data": {
      "application/vnd.jupyter.widget-view+json": {
       "model_id": "56476a5250db43b6a39963ae82907bd1",
       "version_major": 2,
       "version_minor": 0
      },
      "text/plain": [
       "Processing timepoint:   0%|          | 0/13 [00:00<?, ? timepoint/s]"
      ]
     },
     "metadata": {},
     "output_type": "display_data"
    },
    {
     "data": {
      "application/vnd.jupyter.widget-view+json": {
       "model_id": "53b544ae0f2345549ac68f261135755f",
       "version_major": 2,
       "version_minor": 0
      },
      "text/plain": [
       "Processing timepoint:   0%|          | 0/13 [00:00<?, ? timepoint/s]"
      ]
     },
     "metadata": {},
     "output_type": "display_data"
    },
    {
     "data": {
      "application/vnd.jupyter.widget-view+json": {
       "model_id": "d834d56708574805bf709a212757a088",
       "version_major": 2,
       "version_minor": 0
      },
      "text/plain": [
       "Processing timepoint:   0%|          | 0/13 [00:00<?, ? timepoint/s]"
      ]
     },
     "metadata": {},
     "output_type": "display_data"
    },
    {
     "data": {
      "application/vnd.jupyter.widget-view+json": {
       "model_id": "ac75d0f5b4b34adbb89c00472ce658af",
       "version_major": 2,
       "version_minor": 0
      },
      "text/plain": [
       "Processing timepoint:   0%|          | 0/13 [00:00<?, ? timepoint/s]"
      ]
     },
     "metadata": {},
     "output_type": "display_data"
    },
    {
     "data": {
      "application/vnd.jupyter.widget-view+json": {
       "model_id": "7513acd4d53e45ebac347ab778beaaac",
       "version_major": 2,
       "version_minor": 0
      },
      "text/plain": [
       "Processing timepoint:   0%|          | 0/13 [00:00<?, ? timepoint/s]"
      ]
     },
     "metadata": {},
     "output_type": "display_data"
    },
    {
     "data": {
      "application/vnd.jupyter.widget-view+json": {
       "model_id": "cc7423bf561c4dd883d7e13f15da6515",
       "version_major": 2,
       "version_minor": 0
      },
      "text/plain": [
       "Processing timepoint:   0%|          | 0/13 [00:00<?, ? timepoint/s]"
      ]
     },
     "metadata": {},
     "output_type": "display_data"
    },
    {
     "data": {
      "application/vnd.jupyter.widget-view+json": {
       "model_id": "bdb8e3741f994a118d6253ef41fdedc4",
       "version_major": 2,
       "version_minor": 0
      },
      "text/plain": [
       "Processing timepoint:   0%|          | 0/13 [00:00<?, ? timepoint/s]"
      ]
     },
     "metadata": {},
     "output_type": "display_data"
    },
    {
     "data": {
      "application/vnd.jupyter.widget-view+json": {
       "model_id": "de480db1d6204cf082b9980838f2da04",
       "version_major": 2,
       "version_minor": 0
      },
      "text/plain": [
       "Processing timepoint:   0%|          | 0/13 [00:00<?, ? timepoint/s]"
      ]
     },
     "metadata": {},
     "output_type": "display_data"
    },
    {
     "data": {
      "application/vnd.jupyter.widget-view+json": {
       "model_id": "232cf3a7e0964aa6b355a98d78167fb5",
       "version_major": 2,
       "version_minor": 0
      },
      "text/plain": [
       "Processing timepoint:   0%|          | 0/13 [00:00<?, ? timepoint/s]"
      ]
     },
     "metadata": {},
     "output_type": "display_data"
    },
    {
     "data": {
      "application/vnd.jupyter.widget-view+json": {
       "model_id": "064539bea55a44b884e902a0474739b7",
       "version_major": 2,
       "version_minor": 0
      },
      "text/plain": [
       "Processing timepoint:   0%|          | 0/13 [00:00<?, ? timepoint/s]"
      ]
     },
     "metadata": {},
     "output_type": "display_data"
    },
    {
     "data": {
      "application/vnd.jupyter.widget-view+json": {
       "model_id": "eb78ab610f2a41cfae0b4454aface678",
       "version_major": 2,
       "version_minor": 0
      },
      "text/plain": [
       "Processing timepoint:   0%|          | 0/13 [00:00<?, ? timepoint/s]"
      ]
     },
     "metadata": {},
     "output_type": "display_data"
    },
    {
     "data": {
      "application/vnd.jupyter.widget-view+json": {
       "model_id": "13a3640a0b7c45bc96d061f201194c99",
       "version_major": 2,
       "version_minor": 0
      },
      "text/plain": [
       "Processing timepoint:   0%|          | 0/13 [00:00<?, ? timepoint/s]"
      ]
     },
     "metadata": {},
     "output_type": "display_data"
    },
    {
     "data": {
      "application/vnd.jupyter.widget-view+json": {
       "model_id": "a2b178116a6d4e82a79a0ed1454a42e5",
       "version_major": 2,
       "version_minor": 0
      },
      "text/plain": [
       "Processing timepoint:   0%|          | 0/13 [00:00<?, ? timepoint/s]"
      ]
     },
     "metadata": {},
     "output_type": "display_data"
    },
    {
     "data": {
      "application/vnd.jupyter.widget-view+json": {
       "model_id": "4c885c64a66743d7a9a1b8b3a4519640",
       "version_major": 2,
       "version_minor": 0
      },
      "text/plain": [
       "Processing timepoint:   0%|          | 0/13 [00:00<?, ? timepoint/s]"
      ]
     },
     "metadata": {},
     "output_type": "display_data"
    },
    {
     "data": {
      "application/vnd.jupyter.widget-view+json": {
       "model_id": "98f3d6f23e50452d9f3cf64e3220251d",
       "version_major": 2,
       "version_minor": 0
      },
      "text/plain": [
       "Processing timepoint:   0%|          | 0/13 [00:00<?, ? timepoint/s]"
      ]
     },
     "metadata": {},
     "output_type": "display_data"
    },
    {
     "data": {
      "application/vnd.jupyter.widget-view+json": {
       "model_id": "002da04b9a94421fb2e9f60b2634eb54",
       "version_major": 2,
       "version_minor": 0
      },
      "text/plain": [
       "Processing timepoint:   0%|          | 0/13 [00:00<?, ? timepoint/s]"
      ]
     },
     "metadata": {},
     "output_type": "display_data"
    },
    {
     "data": {
      "application/vnd.jupyter.widget-view+json": {
       "model_id": "dd19ffd453e34118b6f45b0c67b0a488",
       "version_major": 2,
       "version_minor": 0
      },
      "text/plain": [
       "Processing timepoint:   0%|          | 0/13 [00:00<?, ? timepoint/s]"
      ]
     },
     "metadata": {},
     "output_type": "display_data"
    },
    {
     "data": {
      "application/vnd.jupyter.widget-view+json": {
       "model_id": "40667675716b4f508a268ecaed3c2faf",
       "version_major": 2,
       "version_minor": 0
      },
      "text/plain": [
       "Processing timepoint:   0%|          | 0/13 [00:00<?, ? timepoint/s]"
      ]
     },
     "metadata": {},
     "output_type": "display_data"
    },
    {
     "data": {
      "application/vnd.jupyter.widget-view+json": {
       "model_id": "2436bda72b69478e90e229e6718d3f52",
       "version_major": 2,
       "version_minor": 0
      },
      "text/plain": [
       "Processing timepoint:   0%|          | 0/13 [00:00<?, ? timepoint/s]"
      ]
     },
     "metadata": {},
     "output_type": "display_data"
    },
    {
     "data": {
      "application/vnd.jupyter.widget-view+json": {
       "model_id": "0efca29a905a4e88a001cab05bf3ecd8",
       "version_major": 2,
       "version_minor": 0
      },
      "text/plain": [
       "Processing timepoint:   0%|          | 0/13 [00:00<?, ? timepoint/s]"
      ]
     },
     "metadata": {},
     "output_type": "display_data"
    },
    {
     "data": {
      "application/vnd.jupyter.widget-view+json": {
       "model_id": "e83bbbdafc3746528e8e867e0e01b165",
       "version_major": 2,
       "version_minor": 0
      },
      "text/plain": [
       "Processing timepoint:   0%|          | 0/13 [00:00<?, ? timepoint/s]"
      ]
     },
     "metadata": {},
     "output_type": "display_data"
    },
    {
     "data": {
      "application/vnd.jupyter.widget-view+json": {
       "model_id": "c84c45a2c2ed41a68160511922a220bd",
       "version_major": 2,
       "version_minor": 0
      },
      "text/plain": [
       "Processing timepoint:   0%|          | 0/13 [00:00<?, ? timepoint/s]"
      ]
     },
     "metadata": {},
     "output_type": "display_data"
    },
    {
     "data": {
      "application/vnd.jupyter.widget-view+json": {
       "model_id": "e2f95c4ed0234c38b841be09fd95cd84",
       "version_major": 2,
       "version_minor": 0
      },
      "text/plain": [
       "Processing timepoint:   0%|          | 0/13 [00:00<?, ? timepoint/s]"
      ]
     },
     "metadata": {},
     "output_type": "display_data"
    },
    {
     "data": {
      "application/vnd.jupyter.widget-view+json": {
       "model_id": "3bdbd5cc4247428592ef3f61880505c7",
       "version_major": 2,
       "version_minor": 0
      },
      "text/plain": [
       "Processing timepoint:   0%|          | 0/13 [00:00<?, ? timepoint/s]"
      ]
     },
     "metadata": {},
     "output_type": "display_data"
    },
    {
     "data": {
      "application/vnd.jupyter.widget-view+json": {
       "model_id": "ede86e85257040d8a725ada270965fa4",
       "version_major": 2,
       "version_minor": 0
      },
      "text/plain": [
       "Processing timepoint:   0%|          | 0/13 [00:00<?, ? timepoint/s]"
      ]
     },
     "metadata": {},
     "output_type": "display_data"
    },
    {
     "data": {
      "application/vnd.jupyter.widget-view+json": {
       "model_id": "93ed3499fcad4a70b8e34c711e86cf32",
       "version_major": 2,
       "version_minor": 0
      },
      "text/plain": [
       "Processing timepoint:   0%|          | 0/13 [00:00<?, ? timepoint/s]"
      ]
     },
     "metadata": {},
     "output_type": "display_data"
    },
    {
     "data": {
      "application/vnd.jupyter.widget-view+json": {
       "model_id": "eefa345433dc41dba7ceb75bc8a5dae4",
       "version_major": 2,
       "version_minor": 0
      },
      "text/plain": [
       "Processing timepoint:   0%|          | 0/13 [00:00<?, ? timepoint/s]"
      ]
     },
     "metadata": {},
     "output_type": "display_data"
    },
    {
     "data": {
      "application/vnd.jupyter.widget-view+json": {
       "model_id": "cc4930d99bd94a438a12ba31b72c7c27",
       "version_major": 2,
       "version_minor": 0
      },
      "text/plain": [
       "Processing timepoint:   0%|          | 0/13 [00:00<?, ? timepoint/s]"
      ]
     },
     "metadata": {},
     "output_type": "display_data"
    },
    {
     "data": {
      "application/vnd.jupyter.widget-view+json": {
       "model_id": "0b24b713171443f483b1e8bdf7fc78eb",
       "version_major": 2,
       "version_minor": 0
      },
      "text/plain": [
       "Processing timepoint:   0%|          | 0/13 [00:00<?, ? timepoint/s]"
      ]
     },
     "metadata": {},
     "output_type": "display_data"
    },
    {
     "data": {
      "application/vnd.jupyter.widget-view+json": {
       "model_id": "c37abd60897d4dbebedb805f8ba99df2",
       "version_major": 2,
       "version_minor": 0
      },
      "text/plain": [
       "Processing timepoint:   0%|          | 0/13 [00:00<?, ? timepoint/s]"
      ]
     },
     "metadata": {},
     "output_type": "display_data"
    },
    {
     "data": {
      "application/vnd.jupyter.widget-view+json": {
       "model_id": "92891767b05440c4bc955867fc9ac370",
       "version_major": 2,
       "version_minor": 0
      },
      "text/plain": [
       "Processing timepoint:   0%|          | 0/13 [00:00<?, ? timepoint/s]"
      ]
     },
     "metadata": {},
     "output_type": "display_data"
    },
    {
     "data": {
      "application/vnd.jupyter.widget-view+json": {
       "model_id": "76a7ac0f703a47e6a8901dbadd474262",
       "version_major": 2,
       "version_minor": 0
      },
      "text/plain": [
       "Processing timepoint:   0%|          | 0/13 [00:00<?, ? timepoint/s]"
      ]
     },
     "metadata": {},
     "output_type": "display_data"
    },
    {
     "data": {
      "application/vnd.jupyter.widget-view+json": {
       "model_id": "2a95937e31134ad788485c6f82c43957",
       "version_major": 2,
       "version_minor": 0
      },
      "text/plain": [
       "Processing timepoint:   0%|          | 0/13 [00:00<?, ? timepoint/s]"
      ]
     },
     "metadata": {},
     "output_type": "display_data"
    },
    {
     "data": {
      "application/vnd.jupyter.widget-view+json": {
       "model_id": "ac2c323a73654dfbbe9c28fef69788da",
       "version_major": 2,
       "version_minor": 0
      },
      "text/plain": [
       "Processing timepoint:   0%|          | 0/13 [00:00<?, ? timepoint/s]"
      ]
     },
     "metadata": {},
     "output_type": "display_data"
    },
    {
     "data": {
      "application/vnd.jupyter.widget-view+json": {
       "model_id": "daf2cbe549c842748cbbc805910428a6",
       "version_major": 2,
       "version_minor": 0
      },
      "text/plain": [
       "Processing timepoint:   0%|          | 0/13 [00:00<?, ? timepoint/s]"
      ]
     },
     "metadata": {},
     "output_type": "display_data"
    },
    {
     "data": {
      "application/vnd.jupyter.widget-view+json": {
       "model_id": "81ea567214074e26adabf01ef42a3ee6",
       "version_major": 2,
       "version_minor": 0
      },
      "text/plain": [
       "Processing timepoint:   0%|          | 0/13 [00:00<?, ? timepoint/s]"
      ]
     },
     "metadata": {},
     "output_type": "display_data"
    },
    {
     "data": {
      "application/vnd.jupyter.widget-view+json": {
       "model_id": "73a17a01585d493596cf3fb4a6ac995e",
       "version_major": 2,
       "version_minor": 0
      },
      "text/plain": [
       "Processing timepoint:   0%|          | 0/13 [00:00<?, ? timepoint/s]"
      ]
     },
     "metadata": {},
     "output_type": "display_data"
    },
    {
     "data": {
      "application/vnd.jupyter.widget-view+json": {
       "model_id": "56ad6fba3fb44df1b8a2bc941845eb64",
       "version_major": 2,
       "version_minor": 0
      },
      "text/plain": [
       "Processing timepoint:   0%|          | 0/13 [00:00<?, ? timepoint/s]"
      ]
     },
     "metadata": {},
     "output_type": "display_data"
    },
    {
     "data": {
      "application/vnd.jupyter.widget-view+json": {
       "model_id": "7e7b9079a49346f380e2e8d2d78d3f5d",
       "version_major": 2,
       "version_minor": 0
      },
      "text/plain": [
       "Processing timepoint:   0%|          | 0/13 [00:00<?, ? timepoint/s]"
      ]
     },
     "metadata": {},
     "output_type": "display_data"
    },
    {
     "data": {
      "application/vnd.jupyter.widget-view+json": {
       "model_id": "7407c231a0fe4355a5997eaf1cd72db1",
       "version_major": 2,
       "version_minor": 0
      },
      "text/plain": [
       "Processing timepoint:   0%|          | 0/13 [00:00<?, ? timepoint/s]"
      ]
     },
     "metadata": {},
     "output_type": "display_data"
    },
    {
     "data": {
      "application/vnd.jupyter.widget-view+json": {
       "model_id": "de6f444720334982a998a5400117e2ed",
       "version_major": 2,
       "version_minor": 0
      },
      "text/plain": [
       "Processing timepoint:   0%|          | 0/13 [00:00<?, ? timepoint/s]"
      ]
     },
     "metadata": {},
     "output_type": "display_data"
    },
    {
     "data": {
      "application/vnd.jupyter.widget-view+json": {
       "model_id": "457b293605e04b7ab5cdb023718f7f2a",
       "version_major": 2,
       "version_minor": 0
      },
      "text/plain": [
       "Processing timepoint:   0%|          | 0/13 [00:00<?, ? timepoint/s]"
      ]
     },
     "metadata": {},
     "output_type": "display_data"
    },
    {
     "data": {
      "application/vnd.jupyter.widget-view+json": {
       "model_id": "6d661060b2d54c24be208becf955a97f",
       "version_major": 2,
       "version_minor": 0
      },
      "text/plain": [
       "Processing timepoint:   0%|          | 0/13 [00:00<?, ? timepoint/s]"
      ]
     },
     "metadata": {},
     "output_type": "display_data"
    },
    {
     "data": {
      "application/vnd.jupyter.widget-view+json": {
       "model_id": "289d56c89ae3401ab990c6b595b5820e",
       "version_major": 2,
       "version_minor": 0
      },
      "text/plain": [
       "Processing timepoint:   0%|          | 0/13 [00:00<?, ? timepoint/s]"
      ]
     },
     "metadata": {},
     "output_type": "display_data"
    },
    {
     "data": {
      "application/vnd.jupyter.widget-view+json": {
       "model_id": "5ceae91acad6497d91f62122a60e3e85",
       "version_major": 2,
       "version_minor": 0
      },
      "text/plain": [
       "Processing timepoint:   0%|          | 0/13 [00:00<?, ? timepoint/s]"
      ]
     },
     "metadata": {},
     "output_type": "display_data"
    },
    {
     "data": {
      "application/vnd.jupyter.widget-view+json": {
       "model_id": "2c48cefba6fc4626a93a1a492492cb92",
       "version_major": 2,
       "version_minor": 0
      },
      "text/plain": [
       "Processing timepoint:   0%|          | 0/13 [00:00<?, ? timepoint/s]"
      ]
     },
     "metadata": {},
     "output_type": "display_data"
    },
    {
     "data": {
      "application/vnd.jupyter.widget-view+json": {
       "model_id": "5adc3ceafeb34795af84eba06dbced48",
       "version_major": 2,
       "version_minor": 0
      },
      "text/plain": [
       "Processing timepoint:   0%|          | 0/13 [00:00<?, ? timepoint/s]"
      ]
     },
     "metadata": {},
     "output_type": "display_data"
    },
    {
     "data": {
      "application/vnd.jupyter.widget-view+json": {
       "model_id": "30f5855e6481445496162073db38cff7",
       "version_major": 2,
       "version_minor": 0
      },
      "text/plain": [
       "Processing timepoint:   0%|          | 0/13 [00:00<?, ? timepoint/s]"
      ]
     },
     "metadata": {},
     "output_type": "display_data"
    },
    {
     "data": {
      "application/vnd.jupyter.widget-view+json": {
       "model_id": "c33f1d910862436da09b70a68f860323",
       "version_major": 2,
       "version_minor": 0
      },
      "text/plain": [
       "Processing timepoint:   0%|          | 0/13 [00:00<?, ? timepoint/s]"
      ]
     },
     "metadata": {},
     "output_type": "display_data"
    },
    {
     "data": {
      "application/vnd.jupyter.widget-view+json": {
       "model_id": "b3c874a010da415d98572f88a2a94113",
       "version_major": 2,
       "version_minor": 0
      },
      "text/plain": [
       "Processing timepoint:   0%|          | 0/13 [00:00<?, ? timepoint/s]"
      ]
     },
     "metadata": {},
     "output_type": "display_data"
    },
    {
     "data": {
      "application/vnd.jupyter.widget-view+json": {
       "model_id": "0b431471d2a4483789cc7603a594b6ac",
       "version_major": 2,
       "version_minor": 0
      },
      "text/plain": [
       "Processing timepoint:   0%|          | 0/13 [00:00<?, ? timepoint/s]"
      ]
     },
     "metadata": {},
     "output_type": "display_data"
    },
    {
     "data": {
      "application/vnd.jupyter.widget-view+json": {
       "model_id": "f10ce65838774df6b23bfb22b3fa07df",
       "version_major": 2,
       "version_minor": 0
      },
      "text/plain": [
       "Processing timepoint:   0%|          | 0/13 [00:00<?, ? timepoint/s]"
      ]
     },
     "metadata": {},
     "output_type": "display_data"
    },
    {
     "data": {
      "application/vnd.jupyter.widget-view+json": {
       "model_id": "851115cb8c6246cf8920594e8d8994ce",
       "version_major": 2,
       "version_minor": 0
      },
      "text/plain": [
       "Processing timepoint:   0%|          | 0/13 [00:00<?, ? timepoint/s]"
      ]
     },
     "metadata": {},
     "output_type": "display_data"
    },
    {
     "data": {
      "application/vnd.jupyter.widget-view+json": {
       "model_id": "4ce5be44db9a44d5ad0914e56c2babed",
       "version_major": 2,
       "version_minor": 0
      },
      "text/plain": [
       "Processing timepoint:   0%|          | 0/13 [00:00<?, ? timepoint/s]"
      ]
     },
     "metadata": {},
     "output_type": "display_data"
    },
    {
     "data": {
      "application/vnd.jupyter.widget-view+json": {
       "model_id": "39564cc1c0ce4857afdd4a1e981a59cf",
       "version_major": 2,
       "version_minor": 0
      },
      "text/plain": [
       "Processing timepoint:   0%|          | 0/13 [00:00<?, ? timepoint/s]"
      ]
     },
     "metadata": {},
     "output_type": "display_data"
    },
    {
     "data": {
      "application/vnd.jupyter.widget-view+json": {
       "model_id": "9c885c8f862a4a638da6b43a7523e004",
       "version_major": 2,
       "version_minor": 0
      },
      "text/plain": [
       "Processing timepoint:   0%|          | 0/13 [00:00<?, ? timepoint/s]"
      ]
     },
     "metadata": {},
     "output_type": "display_data"
    },
    {
     "data": {
      "application/vnd.jupyter.widget-view+json": {
       "model_id": "8aee600908c641edb259290dcc4b63ab",
       "version_major": 2,
       "version_minor": 0
      },
      "text/plain": [
       "Processing timepoint:   0%|          | 0/13 [00:00<?, ? timepoint/s]"
      ]
     },
     "metadata": {},
     "output_type": "display_data"
    },
    {
     "data": {
      "application/vnd.jupyter.widget-view+json": {
       "model_id": "1fd82ab4d4c5438caba9cefb2a66a00f",
       "version_major": 2,
       "version_minor": 0
      },
      "text/plain": [
       "Processing timepoint:   0%|          | 0/13 [00:00<?, ? timepoint/s]"
      ]
     },
     "metadata": {},
     "output_type": "display_data"
    },
    {
     "data": {
      "application/vnd.jupyter.widget-view+json": {
       "model_id": "6aabd021632448c992b48c3351cc1383",
       "version_major": 2,
       "version_minor": 0
      },
      "text/plain": [
       "Processing timepoint:   0%|          | 0/13 [00:00<?, ? timepoint/s]"
      ]
     },
     "metadata": {},
     "output_type": "display_data"
    },
    {
     "data": {
      "application/vnd.jupyter.widget-view+json": {
       "model_id": "c45d86351077454ba5086aeb5eacd8ac",
       "version_major": 2,
       "version_minor": 0
      },
      "text/plain": [
       "Processing timepoint:   0%|          | 0/13 [00:00<?, ? timepoint/s]"
      ]
     },
     "metadata": {},
     "output_type": "display_data"
    },
    {
     "data": {
      "application/vnd.jupyter.widget-view+json": {
       "model_id": "b1e1a70e20c3482ca54a9ebe4cd6082c",
       "version_major": 2,
       "version_minor": 0
      },
      "text/plain": [
       "Processing timepoint:   0%|          | 0/13 [00:00<?, ? timepoint/s]"
      ]
     },
     "metadata": {},
     "output_type": "display_data"
    },
    {
     "data": {
      "application/vnd.jupyter.widget-view+json": {
       "model_id": "4f2ff7f64f91444d824855de387b68e7",
       "version_major": 2,
       "version_minor": 0
      },
      "text/plain": [
       "Processing timepoint:   0%|          | 0/13 [00:00<?, ? timepoint/s]"
      ]
     },
     "metadata": {},
     "output_type": "display_data"
    },
    {
     "data": {
      "application/vnd.jupyter.widget-view+json": {
       "model_id": "6e246250afab475b91a8f93cb59b0bf4",
       "version_major": 2,
       "version_minor": 0
      },
      "text/plain": [
       "Processing timepoint:   0%|          | 0/13 [00:00<?, ? timepoint/s]"
      ]
     },
     "metadata": {},
     "output_type": "display_data"
    },
    {
     "data": {
      "application/vnd.jupyter.widget-view+json": {
       "model_id": "eeebf32123704929b10532e03fb0f356",
       "version_major": 2,
       "version_minor": 0
      },
      "text/plain": [
       "Processing timepoint:   0%|          | 0/13 [00:00<?, ? timepoint/s]"
      ]
     },
     "metadata": {},
     "output_type": "display_data"
    },
    {
     "data": {
      "application/vnd.jupyter.widget-view+json": {
       "model_id": "6e3879f696aa4af59c15bf81cba652dc",
       "version_major": 2,
       "version_minor": 0
      },
      "text/plain": [
       "Processing timepoint:   0%|          | 0/13 [00:00<?, ? timepoint/s]"
      ]
     },
     "metadata": {},
     "output_type": "display_data"
    },
    {
     "data": {
      "application/vnd.jupyter.widget-view+json": {
       "model_id": "844df70edc2a4d0183c5b2954aff42a5",
       "version_major": 2,
       "version_minor": 0
      },
      "text/plain": [
       "Processing timepoint:   0%|          | 0/13 [00:00<?, ? timepoint/s]"
      ]
     },
     "metadata": {},
     "output_type": "display_data"
    },
    {
     "data": {
      "application/vnd.jupyter.widget-view+json": {
       "model_id": "39f0237e85b844e7a695322125a38c38",
       "version_major": 2,
       "version_minor": 0
      },
      "text/plain": [
       "Processing timepoint:   0%|          | 0/13 [00:00<?, ? timepoint/s]"
      ]
     },
     "metadata": {},
     "output_type": "display_data"
    },
    {
     "data": {
      "application/vnd.jupyter.widget-view+json": {
       "model_id": "4e1e602b78d14e8187d8b9c171f23c25",
       "version_major": 2,
       "version_minor": 0
      },
      "text/plain": [
       "Processing timepoint:   0%|          | 0/13 [00:00<?, ? timepoint/s]"
      ]
     },
     "metadata": {},
     "output_type": "display_data"
    },
    {
     "data": {
      "application/vnd.jupyter.widget-view+json": {
       "model_id": "f4f1a8149b1b4a8c93cd5cf8cac6d976",
       "version_major": 2,
       "version_minor": 0
      },
      "text/plain": [
       "Processing timepoint:   0%|          | 0/13 [00:00<?, ? timepoint/s]"
      ]
     },
     "metadata": {},
     "output_type": "display_data"
    },
    {
     "data": {
      "application/vnd.jupyter.widget-view+json": {
       "model_id": "8696cefaa1754a0287be467547a7d984",
       "version_major": 2,
       "version_minor": 0
      },
      "text/plain": [
       "Processing timepoint:   0%|          | 0/13 [00:00<?, ? timepoint/s]"
      ]
     },
     "metadata": {},
     "output_type": "display_data"
    },
    {
     "data": {
      "application/vnd.jupyter.widget-view+json": {
       "model_id": "aeb99b0840f7455eb88dd2353755ecdc",
       "version_major": 2,
       "version_minor": 0
      },
      "text/plain": [
       "Processing timepoint:   0%|          | 0/13 [00:00<?, ? timepoint/s]"
      ]
     },
     "metadata": {},
     "output_type": "display_data"
    },
    {
     "data": {
      "application/vnd.jupyter.widget-view+json": {
       "model_id": "d15fbe172c194b1ea7268d393e62233e",
       "version_major": 2,
       "version_minor": 0
      },
      "text/plain": [
       "Processing timepoint:   0%|          | 0/13 [00:00<?, ? timepoint/s]"
      ]
     },
     "metadata": {},
     "output_type": "display_data"
    },
    {
     "data": {
      "application/vnd.jupyter.widget-view+json": {
       "model_id": "d00b16d8599a425092c8af2d43eb48dc",
       "version_major": 2,
       "version_minor": 0
      },
      "text/plain": [
       "Processing timepoint:   0%|          | 0/13 [00:00<?, ? timepoint/s]"
      ]
     },
     "metadata": {},
     "output_type": "display_data"
    },
    {
     "data": {
      "application/vnd.jupyter.widget-view+json": {
       "model_id": "abf194aae6434ba9a0f3af58f03a5be3",
       "version_major": 2,
       "version_minor": 0
      },
      "text/plain": [
       "Processing timepoint:   0%|          | 0/13 [00:00<?, ? timepoint/s]"
      ]
     },
     "metadata": {},
     "output_type": "display_data"
    },
    {
     "data": {
      "application/vnd.jupyter.widget-view+json": {
       "model_id": "38700297a3f447cf9585c14888eedd0c",
       "version_major": 2,
       "version_minor": 0
      },
      "text/plain": [
       "Processing timepoint:   0%|          | 0/13 [00:00<?, ? timepoint/s]"
      ]
     },
     "metadata": {},
     "output_type": "display_data"
    },
    {
     "data": {
      "application/vnd.jupyter.widget-view+json": {
       "model_id": "8ae5d9fff6f34a18b085063303dd3001",
       "version_major": 2,
       "version_minor": 0
      },
      "text/plain": [
       "Processing timepoint:   0%|          | 0/13 [00:00<?, ? timepoint/s]"
      ]
     },
     "metadata": {},
     "output_type": "display_data"
    },
    {
     "data": {
      "application/vnd.jupyter.widget-view+json": {
       "model_id": "a8cf6c4cd4314de982ed7842a1637cd3",
       "version_major": 2,
       "version_minor": 0
      },
      "text/plain": [
       "Processing timepoint:   0%|          | 0/13 [00:00<?, ? timepoint/s]"
      ]
     },
     "metadata": {},
     "output_type": "display_data"
    },
    {
     "data": {
      "application/vnd.jupyter.widget-view+json": {
       "model_id": "cb96489f6b8044408ba96848323ca126",
       "version_major": 2,
       "version_minor": 0
      },
      "text/plain": [
       "Processing timepoint:   0%|          | 0/13 [00:00<?, ? timepoint/s]"
      ]
     },
     "metadata": {},
     "output_type": "display_data"
    },
    {
     "data": {
      "application/vnd.jupyter.widget-view+json": {
       "model_id": "6928a7b0e5cc4cbfbf1ebcba4b701d64",
       "version_major": 2,
       "version_minor": 0
      },
      "text/plain": [
       "Processing timepoint:   0%|          | 0/13 [00:00<?, ? timepoint/s]"
      ]
     },
     "metadata": {},
     "output_type": "display_data"
    },
    {
     "data": {
      "application/vnd.jupyter.widget-view+json": {
       "model_id": "9a7d85ea8ed94b3d841d98072f969d9b",
       "version_major": 2,
       "version_minor": 0
      },
      "text/plain": [
       "Processing timepoint:   0%|          | 0/13 [00:00<?, ? timepoint/s]"
      ]
     },
     "metadata": {},
     "output_type": "display_data"
    },
    {
     "data": {
      "application/vnd.jupyter.widget-view+json": {
       "model_id": "aebceed5223e46eaa78daeff866a94bb",
       "version_major": 2,
       "version_minor": 0
      },
      "text/plain": [
       "Processing timepoint:   0%|          | 0/13 [00:00<?, ? timepoint/s]"
      ]
     },
     "metadata": {},
     "output_type": "display_data"
    },
    {
     "data": {
      "application/vnd.jupyter.widget-view+json": {
       "model_id": "f744146428f046f49c47c6a8a2e32432",
       "version_major": 2,
       "version_minor": 0
      },
      "text/plain": [
       "Processing timepoint:   0%|          | 0/13 [00:00<?, ? timepoint/s]"
      ]
     },
     "metadata": {},
     "output_type": "display_data"
    },
    {
     "data": {
      "application/vnd.jupyter.widget-view+json": {
       "model_id": "ed7b35e1752a4a70b8e88e3ac4e4c791",
       "version_major": 2,
       "version_minor": 0
      },
      "text/plain": [
       "Processing timepoint:   0%|          | 0/13 [00:00<?, ? timepoint/s]"
      ]
     },
     "metadata": {},
     "output_type": "display_data"
    },
    {
     "data": {
      "application/vnd.jupyter.widget-view+json": {
       "model_id": "7c0d1aa6623543c3bc86653b1554df11",
       "version_major": 2,
       "version_minor": 0
      },
      "text/plain": [
       "Processing timepoint:   0%|          | 0/13 [00:00<?, ? timepoint/s]"
      ]
     },
     "metadata": {},
     "output_type": "display_data"
    },
    {
     "data": {
      "application/vnd.jupyter.widget-view+json": {
       "model_id": "dafe498484884f60bd9220f50729b3c7",
       "version_major": 2,
       "version_minor": 0
      },
      "text/plain": [
       "Processing timepoint:   0%|          | 0/13 [00:00<?, ? timepoint/s]"
      ]
     },
     "metadata": {},
     "output_type": "display_data"
    },
    {
     "data": {
      "application/vnd.jupyter.widget-view+json": {
       "model_id": "caa4141090de473b9c6134d987a016eb",
       "version_major": 2,
       "version_minor": 0
      },
      "text/plain": [
       "Processing timepoint:   0%|          | 0/13 [00:00<?, ? timepoint/s]"
      ]
     },
     "metadata": {},
     "output_type": "display_data"
    },
    {
     "data": {
      "application/vnd.jupyter.widget-view+json": {
       "model_id": "792051c996474723aa0cfc5a9eca21e2",
       "version_major": 2,
       "version_minor": 0
      },
      "text/plain": [
       "Processing timepoint:   0%|          | 0/13 [00:00<?, ? timepoint/s]"
      ]
     },
     "metadata": {},
     "output_type": "display_data"
    },
    {
     "data": {
      "application/vnd.jupyter.widget-view+json": {
       "model_id": "ac01dfe821414635b89d902ca99ae850",
       "version_major": 2,
       "version_minor": 0
      },
      "text/plain": [
       "Processing timepoint:   0%|          | 0/13 [00:00<?, ? timepoint/s]"
      ]
     },
     "metadata": {},
     "output_type": "display_data"
    },
    {
     "data": {
      "application/vnd.jupyter.widget-view+json": {
       "model_id": "08da46adea12481d83a12e5e9156bbc2",
       "version_major": 2,
       "version_minor": 0
      },
      "text/plain": [
       "Processing timepoint:   0%|          | 0/13 [00:00<?, ? timepoint/s]"
      ]
     },
     "metadata": {},
     "output_type": "display_data"
    },
    {
     "data": {
      "application/vnd.jupyter.widget-view+json": {
       "model_id": "27fafa246c6f4fffafe0114525f86b58",
       "version_major": 2,
       "version_minor": 0
      },
      "text/plain": [
       "Processing timepoint:   0%|          | 0/13 [00:00<?, ? timepoint/s]"
      ]
     },
     "metadata": {},
     "output_type": "display_data"
    },
    {
     "data": {
      "application/vnd.jupyter.widget-view+json": {
       "model_id": "b7745a38835148ea998b9560402bb5c4",
       "version_major": 2,
       "version_minor": 0
      },
      "text/plain": [
       "Processing timepoint:   0%|          | 0/13 [00:00<?, ? timepoint/s]"
      ]
     },
     "metadata": {},
     "output_type": "display_data"
    },
    {
     "data": {
      "application/vnd.jupyter.widget-view+json": {
       "model_id": "f198638b7ebe4fb893d94a5cf723dd2f",
       "version_major": 2,
       "version_minor": 0
      },
      "text/plain": [
       "Processing timepoint:   0%|          | 0/13 [00:00<?, ? timepoint/s]"
      ]
     },
     "metadata": {},
     "output_type": "display_data"
    },
    {
     "data": {
      "application/vnd.jupyter.widget-view+json": {
       "model_id": "d90de80afbe349cc8de585dcf0447f24",
       "version_major": 2,
       "version_minor": 0
      },
      "text/plain": [
       "Processing timepoint:   0%|          | 0/13 [00:00<?, ? timepoint/s]"
      ]
     },
     "metadata": {},
     "output_type": "display_data"
    },
    {
     "data": {
      "application/vnd.jupyter.widget-view+json": {
       "model_id": "014008fbfd7142c0a0d9c0ccaacffb7a",
       "version_major": 2,
       "version_minor": 0
      },
      "text/plain": [
       "Processing timepoint:   0%|          | 0/13 [00:00<?, ? timepoint/s]"
      ]
     },
     "metadata": {},
     "output_type": "display_data"
    },
    {
     "data": {
      "application/vnd.jupyter.widget-view+json": {
       "model_id": "edaae85199704d27ad0b99b7a8e9ea13",
       "version_major": 2,
       "version_minor": 0
      },
      "text/plain": [
       "Processing timepoint:   0%|          | 0/13 [00:00<?, ? timepoint/s]"
      ]
     },
     "metadata": {},
     "output_type": "display_data"
    },
    {
     "data": {
      "application/vnd.jupyter.widget-view+json": {
       "model_id": "17c47639033a4046954c7a68d00ea0bf",
       "version_major": 2,
       "version_minor": 0
      },
      "text/plain": [
       "Processing timepoint:   0%|          | 0/13 [00:00<?, ? timepoint/s]"
      ]
     },
     "metadata": {},
     "output_type": "display_data"
    },
    {
     "data": {
      "application/vnd.jupyter.widget-view+json": {
       "model_id": "3afa5a8501244395bbacf9f5abbbe3d4",
       "version_major": 2,
       "version_minor": 0
      },
      "text/plain": [
       "Processing timepoint:   0%|          | 0/13 [00:00<?, ? timepoint/s]"
      ]
     },
     "metadata": {},
     "output_type": "display_data"
    },
    {
     "data": {
      "application/vnd.jupyter.widget-view+json": {
       "model_id": "c080b27e820040bfa579183ce3cc4c30",
       "version_major": 2,
       "version_minor": 0
      },
      "text/plain": [
       "Processing timepoint:   0%|          | 0/13 [00:00<?, ? timepoint/s]"
      ]
     },
     "metadata": {},
     "output_type": "display_data"
    },
    {
     "name": "stdout",
     "output_type": "stream",
     "text": [
      "Total images processed: 6240\n",
      "Total images written: 6240\n",
      "Total images already existing: 0\n"
     ]
    }
   ],
   "source": [
    "list_of_dfs = []\n",
    "# check if both are false or true, only one can be true\n",
    "if not (composite ^ pseudo_color):\n",
    "    raise ValueError(\"Either composite or pseudo_color must be True, but not both.\")\n",
    "total = 0\n",
    "written = 0\n",
    "existsing = 0\n",
    "for well_fov in tqdm(\n",
    "    df[\"Metadata_Well_FOV\"].unique(),\n",
    "    desc=\"Processing well_fov\",\n",
    "    unit=\" well_fov\",\n",
    "    leave=False,\n",
    "):\n",
    "    tmp_df = df.loc[(df[\"Metadata_Well_FOV\"] == well_fov)]\n",
    "    input_file_parent_path = pathlib.Path(\n",
    "        \"/home/lippincm/4TB_A/live_cell_timelapse_apoptosis/\"\n",
    "        \"2.cellprofiler_ic_processing/illum_directory/timelapse/\"\n",
    "        f\"20231017ChromaLive_6hr_4ch_MaxIP_{well_fov}\"\n",
    "    ).resolve(strict=True)\n",
    "    for timepoint in tqdm(\n",
    "        tmp_df[\"Metadata_Time\"].unique(),\n",
    "        desc=\"Processing timepoint\",\n",
    "        unit=\" timepoint\",\n",
    "        leave=False,\n",
    "    ):\n",
    "\n",
    "        tmp_time_df = tmp_df.loc[tmp_df[\"Metadata_Time\"] == timepoint].copy()\n",
    "        tmp_time_df = tmp_time_df.drop_duplicates(\n",
    "            subset=[\"Metadata_Well_FOV\"]\n",
    "        )  # Remove inplace=True\n",
    "        output_df = generate_image_panel_whole_image(\n",
    "            df=tmp_time_df,\n",
    "            input_file_parent_path=input_file_parent_path,\n",
    "            composite=composite,\n",
    "            pseudo_color=pseudo_color,\n",
    "        )\n",
    "        if composite:\n",
    "            image = output_df[\"composite\"][0]\n",
    "            # save path\n",
    "            output_save_path = pathlib.Path(\n",
    "                f\"../data/whole_image_composite_images/{well_fov}_{timepoint:03d}_composite.png\"\n",
    "            )\n",
    "            output_save_path.parent.mkdir(parents=True, exist_ok=True)\n",
    "            total += 1\n",
    "            if not output_save_path.exists():\n",
    "                image.save(output_save_path)\n",
    "                written += 1\n",
    "            else:\n",
    "                existsing += 1\n",
    "        if pseudo_color:\n",
    "            cyan, magenta, yellow, green = (\n",
    "                output_df[\"cyan\"][0],\n",
    "                output_df[\"magenta\"][0],\n",
    "                output_df[\"yellow\"][0],\n",
    "                output_df[\"green\"][0],\n",
    "            )\n",
    "            # save path\n",
    "            output_save_path = pathlib.Path(\n",
    "                f\"../data/whole_image_pseudocolor_images/{well_fov}_{timepoint:03d}_cyan.png\"\n",
    "            )\n",
    "            total += 4\n",
    "            output_save_path.parent.mkdir(parents=True, exist_ok=True)\n",
    "            if not output_save_path.exists():\n",
    "                cyan.save(output_save_path)\n",
    "                written += 1\n",
    "            else:\n",
    "                existsing += 1\n",
    "            output_save_path = pathlib.Path(\n",
    "                f\"../data/whole_image_pseudocolor_images/{well_fov}_{timepoint:03d}_magenta.png\"\n",
    "            )\n",
    "            if not output_save_path.exists():\n",
    "                magenta.save(output_save_path)\n",
    "                written += 1\n",
    "            else:\n",
    "                existsing += 1\n",
    "            output_save_path = pathlib.Path(\n",
    "                f\"../data/whole_image_pseudocolor_images/{well_fov}_{timepoint:03d}_yellow.png\"\n",
    "            )\n",
    "            if not output_save_path.exists():\n",
    "                yellow.save(output_save_path)\n",
    "                written += 1\n",
    "            else:\n",
    "                existsing += 1\n",
    "            output_save_path = pathlib.Path(\n",
    "                f\"../data/whole_image_pseudocolor_images/{well_fov}_{timepoint:03d}_green.png\"\n",
    "            )\n",
    "            if not output_save_path.exists():\n",
    "                green.save(output_save_path)\n",
    "                written += 1\n",
    "            else:\n",
    "                existsing += 1\n",
    "print(f\"Total images processed: {total}\")\n",
    "print(f\"Total images written: {written}\")\n",
    "print(f\"Total images already existing: {existsing}\")"
   ]
  }
 ],
 "metadata": {
  "kernelspec": {
   "display_name": "timelapse_analaysis_env",
   "language": "python",
   "name": "python3"
  },
  "language_info": {
   "codemirror_mode": {
    "name": "ipython",
    "version": 3
   },
   "file_extension": ".py",
   "mimetype": "text/x-python",
   "name": "python",
   "nbconvert_exporter": "python",
   "pygments_lexer": "ipython3",
   "version": "3.11.11"
  }
 },
 "nbformat": 4,
 "nbformat_minor": 5
}
